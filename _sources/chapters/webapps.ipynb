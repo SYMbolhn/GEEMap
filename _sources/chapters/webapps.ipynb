{
 "cells": [
  {
   "cell_type": "markdown",
   "id": "0dce1332",
   "metadata": {},
   "source": [
    "# Interactive Web Apps"
   ]
  },
  {
   "cell_type": "markdown",
   "id": "aa295898",
   "metadata": {},
   "source": [
    "## Ngrok"
   ]
  },
  {
   "cell_type": "markdown",
   "id": "ed59ea85",
   "metadata": {},
   "source": [
    "## Heroku"
   ]
  },
  {
   "cell_type": "markdown",
   "id": "4e312f2c",
   "metadata": {},
   "source": [
    "## Timelapse"
   ]
  },
  {
   "cell_type": "markdown",
   "id": "c5e97693",
   "metadata": {},
   "source": [
    "## Water App"
   ]
  },
  {
   "cell_type": "code",
   "execution_count": null,
   "id": "a53ad5f7",
   "metadata": {},
   "outputs": [],
   "source": []
  }
 ],
 "metadata": {
  "kernelspec": {
   "display_name": "Python 3",
   "language": "python",
   "name": "python3"
  },
  "language_info": {
   "codemirror_mode": {
    "name": "ipython",
    "version": 3
   },
   "file_extension": ".py",
   "mimetype": "text/x-python",
   "name": "python",
   "nbconvert_exporter": "python",
   "pygments_lexer": "ipython3",
   "version": "3.8.8"
  }
 },
 "nbformat": 4,
 "nbformat_minor": 5
}
