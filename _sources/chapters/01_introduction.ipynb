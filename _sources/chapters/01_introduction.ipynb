{
 "cells": [
  {
   "cell_type": "markdown",
   "id": "b7d24ef3",
   "metadata": {},
   "source": [
    "# Introducing GEE and Geemap\n",
    "\n",
    "## Introduction\n",
    "\n",
    "## What is Geospatial Data Science\n",
    "\n",
    "## What is Google Earth Engine\n",
    "\n",
    "## What is geemap\n",
    "\n",
    "## Installing geemap\n",
    "\n",
    "### Installing with conda\n",
    "\n",
    "```bash\n",
    "conda create -n gee python\n",
    "conda activate gee\n",
    "conda install -c conda-forge geemap\n",
    "```\n",
    "\n",
    "```bash\n",
    "conda install -c conda-forge mamba\n",
    "mamba install -c conda-forge pygis\n",
    "```\n",
    "\n",
    "### Installing with pip\n",
    "\n",
    "```bash\n",
    "pip install geemap\n",
    "```\n",
    "\n",
    "### Installing from source\n",
    "\n",
    "```bash\n",
    "git clone https://github.com/giswqs/geemap\n",
    "cd geemap\n",
    "pip install .\n",
    "```\n",
    "\n",
    "```bash\n",
    "pip install git+https://github.com/giswqs/geemap\n",
    "```\n",
    "\n",
    "### Upgrading geemap\n",
    "\n",
    "```bash\n",
    "pip install -U geemap\n",
    "```\n",
    "\n",
    "```bash\n",
    "conda update -c conda-forge geemap\n",
    "```"
   ]
  },
  {
   "cell_type": "code",
   "execution_count": null,
   "id": "08e258eb",
   "metadata": {},
   "outputs": [],
   "source": [
    "import geemap\n",
    "geemap.update_package()"
   ]
  },
  {
   "cell_type": "markdown",
   "id": "307ca1a0",
   "metadata": {},
   "source": [
    "### Using Docker\n",
    "\n",
    "## Creating a Jupyter notebook\n",
    "\n",
    "```bash\n",
    "conda activate gee\n",
    "```\n",
    "\n",
    "```bash\n",
    "jupyter lab\n",
    "```\n",
    "\n",
    "## Earth Engine authentication"
   ]
  },
  {
   "cell_type": "code",
   "execution_count": null,
   "id": "1af319c4",
   "metadata": {},
   "outputs": [],
   "source": [
    "import ee\n",
    "ee.Authenticate()"
   ]
  },
  {
   "cell_type": "code",
   "execution_count": null,
   "id": "60731348",
   "metadata": {},
   "outputs": [],
   "source": [
    "ee.Initialize()"
   ]
  },
  {
   "cell_type": "markdown",
   "id": "7aa228a4",
   "metadata": {},
   "source": [
    "## Using geemap with Google Colab\n",
    "\n",
    "```bash\n",
    "!pip install geemap\n",
    "```"
   ]
  },
  {
   "cell_type": "code",
   "execution_count": null,
   "id": "2270bb18",
   "metadata": {},
   "outputs": [],
   "source": [
    "import geemap\n",
    "Map = geemap.Map()\n",
    "Map"
   ]
  },
  {
   "cell_type": "markdown",
   "id": "7cf2ac09",
   "metadata": {},
   "source": [
    "## Using geemap with a VPN"
   ]
  },
  {
   "cell_type": "code",
   "execution_count": null,
   "id": "8e28a31b",
   "metadata": {},
   "outputs": [],
   "source": [
    "import geemap\n",
    "geemap.set_proxy(port=your-port-number)\n",
    "Map = geemap.Map()\n",
    "Map"
   ]
  },
  {
   "cell_type": "markdown",
   "id": "e25fd944",
   "metadata": {},
   "source": [
    "## Key features of geemap\n",
    "\n",
    "## Useful resources\n",
    "\n",
    "## Summary"
   ]
  }
 ],
 "metadata": {
  "jupytext": {
   "text_representation": {
    "extension": ".md",
    "format_name": "myst",
    "format_version": 0.13,
    "jupytext_version": "1.11.5"
   }
  },
  "kernelspec": {
   "display_name": "Python 3",
   "language": "python",
   "name": "python3"
  },
  "source_map": [
   12,
   67,
   70,
   86,
   91,
   93,
   101,
   105,
   109,
   114
  ]
 },
 "nbformat": 4,
 "nbformat_minor": 5
}