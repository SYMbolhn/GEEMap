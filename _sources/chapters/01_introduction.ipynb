{
 "cells": [
  {
   "cell_type": "markdown",
   "id": "604c3bc2",
   "metadata": {},
   "source": [
    "# Introducing GEE and Geemap\n",
    "\n",
    "```{contents}\n",
    ":local:\n",
    ":depth: 2\n",
    "```"
   ]
  },
  {
   "cell_type": "markdown",
   "id": "00577034",
   "metadata": {},
   "source": [
    "## Introduction\n",
    "\n",
    "## What is Geospatial Data Science"
   ]
  },
  {
   "cell_type": "markdown",
   "id": "ce89354b",
   "metadata": {},
   "source": [
    "## What is Google Earth Engine\n",
    "\n",
    "## What is geemap\n",
    "\n",
    "## Installing geemap\n",
    "\n",
    "### Installing with conda\n",
    "\n",
    "```bash\n",
    "conda create -n gee python\n",
    "conda activate gee\n",
    "conda install -c conda-forge geemap\n",
    "```\n",
    "\n",
    "```bash\n",
    "conda install -c conda-forge mamba\n",
    "mamba install -c conda-forge pygis\n",
    "```\n",
    "\n",
    "### Installing with pip\n",
    "\n",
    "```bash\n",
    "pip install geemap\n",
    "```\n",
    "\n",
    "### Installing from source\n",
    "\n",
    "```bash\n",
    "git clone https://github.com/giswqs/geemap\n",
    "cd geemap\n",
    "pip install .\n",
    "```\n",
    "\n",
    "```bash\n",
    "pip install git+https://github.com/giswqs/geemap\n",
    "```\n",
    "\n",
    "### Upgrading geemap\n",
    "\n",
    "```bash\n",
    "pip install -U geemap\n",
    "```\n",
    "\n",
    "```bash\n",
    "conda update -c conda-forge geemap\n",
    "```"
   ]
  },
  {
   "cell_type": "code",
   "execution_count": null,
   "id": "c09478cd",
   "metadata": {},
   "outputs": [],
   "source": [
    "import geemap\n",
    "geemap.update_package()"
   ]
  },
  {
   "cell_type": "markdown",
   "id": "0ffc31ae",
   "metadata": {},
   "source": [
    "### Using Docker"
   ]
  },
  {
   "cell_type": "markdown",
   "id": "0ca69b15",
   "metadata": {},
   "source": [
    "## Creating a Jupyter notebook\n",
    "\n",
    "```bash\n",
    "conda activate gee\n",
    "```\n",
    "\n",
    "```bash\n",
    "jupyter lab\n",
    "```"
   ]
  },
  {
   "cell_type": "markdown",
   "id": "a58b8893",
   "metadata": {},
   "source": [
    "## Earth Engine authentication"
   ]
  },
  {
   "cell_type": "code",
   "execution_count": null,
   "id": "b13c6e3e",
   "metadata": {},
   "outputs": [],
   "source": [
    "import ee\n",
    "ee.Authenticate()"
   ]
  },
  {
   "cell_type": "code",
   "execution_count": null,
   "id": "bbe04e1f",
   "metadata": {},
   "outputs": [],
   "source": [
    "ee.Initialize()"
   ]
  },
  {
   "cell_type": "markdown",
   "id": "405d0e27",
   "metadata": {},
   "source": [
    "## Using Google Colab\n",
    "\n",
    "Click the **Open in Colab** button below to open this notebook in Google Colab:\n",
    "\n",
    "[![Open in Colab](https://colab.research.google.com/assets/colab-badge.svg)](https://colab.research.google.com/github/giswqs/geebook/blob/master/chapters/01_introduction.ipynb)\n",
    "\n",
    "```bash\n",
    "!pip install geemap\n",
    "```"
   ]
  },
  {
   "cell_type": "code",
   "execution_count": null,
   "id": "3b90661d",
   "metadata": {},
   "outputs": [],
   "source": [
    "import geemap\n",
    "Map = geemap.Map()\n",
    "Map"
   ]
  },
  {
   "cell_type": "markdown",
   "id": "bb90c30a",
   "metadata": {},
   "source": [
    "## Using geemap with a VPN"
   ]
  },
  {
   "cell_type": "code",
   "execution_count": null,
   "id": "bae17a54",
   "metadata": {},
   "outputs": [],
   "source": [
    "import geemap\n",
    "geemap.set_proxy(port=your-port-number)\n",
    "Map = geemap.Map()\n",
    "Map"
   ]
  },
  {
   "cell_type": "markdown",
   "id": "4c9f68c7",
   "metadata": {},
   "source": [
    "## Key features of geemap"
   ]
  },
  {
   "cell_type": "markdown",
   "id": "4433e50d",
   "metadata": {},
   "source": [
    "## Useful resources"
   ]
  },
  {
   "cell_type": "markdown",
   "id": "064eced8",
   "metadata": {},
   "source": [
    "## Summary"
   ]
  }
 ],
 "metadata": {
  "jupytext": {
   "text_representation": {
    "extension": ".md",
    "format_name": "myst",
    "format_version": 0.13,
    "jupytext_version": "1.11.5"
   }
  },
  "kernelspec": {
   "display_name": "Python 3",
   "language": "python",
   "name": "python3"
  },
  "source_map": [
   12,
   21,
   27,
   76,
   79,
   83,
   95,
   99,
   104,
   106,
   118,
   124,
   128,
   135,
   139,
   143
  ]
 },
 "nbformat": 4,
 "nbformat_minor": 5
}