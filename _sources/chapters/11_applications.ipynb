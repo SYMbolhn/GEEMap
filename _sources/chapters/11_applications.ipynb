{
 "cells": [
  {
   "cell_type": "markdown",
   "id": "aea31134",
   "metadata": {},
   "source": [
    "# Earth Engine Applications\n",
    "\n",
    "```{contents}\n",
    ":local:\n",
    ":depth: 2\n",
    "```\n",
    "\n",
    "## Introduction\n",
    "\n",
    "## Technical requirements\n",
    "\n",
    "```bash\n",
    "conda install -n base mamba -c conda-forge\n",
    "mamba create -n gee -c conda-forge geemap pygis\n",
    "```\n",
    "\n",
    "```bash\n",
    "conda activate gee\n",
    "jupyter lab\n",
    "```"
   ]
  },
  {
   "cell_type": "code",
   "execution_count": null,
   "id": "60da2131",
   "metadata": {},
   "outputs": [],
   "source": [
    "# %pip install pygis"
   ]
  },
  {
   "cell_type": "code",
   "execution_count": null,
   "id": "fea8344b",
   "metadata": {},
   "outputs": [],
   "source": [
    "import ee\n",
    "import geemap"
   ]
  },
  {
   "cell_type": "code",
   "execution_count": null,
   "id": "63282132",
   "metadata": {},
   "outputs": [],
   "source": [
    "geemap.ee_initialize()"
   ]
  },
  {
   "cell_type": "markdown",
   "id": "20f87f66",
   "metadata": {},
   "source": [
    "## Analyzing surface water dynamics\n",
    "\n",
    "### Surface water occurrence"
   ]
  },
  {
   "cell_type": "code",
   "execution_count": null,
   "id": "e5ea7b35",
   "metadata": {},
   "outputs": [],
   "source": [
    "dataset = ee.Image('JRC/GSW1_4/GlobalSurfaceWater')\n",
    "dataset.bandNames()"
   ]
  },
  {
   "cell_type": "code",
   "execution_count": null,
   "id": "25f0a898",
   "metadata": {},
   "outputs": [],
   "source": [
    "Map = geemap.Map()\n",
    "Map.add_basemap('HYBRID')\n",
    "Map"
   ]
  },
  {
   "cell_type": "code",
   "execution_count": null,
   "id": "bfa41cce",
   "metadata": {},
   "outputs": [],
   "source": [
    "image = dataset.select(['occurrence'])\n",
    "region = Map.user_roi # Draw a polygon on the map\n",
    "if region is None:\n",
    "    region = ee.Geometry.BBox(-99.957, 46.8947, -99.278, 47.1531)\n",
    "vis_params = {'min': 0.0, 'max': 100.0, 'palette': ['ffffff', 'ffbbbb', '0000ff']}\n",
    "Map.addLayer(image, vis_params, 'Occurrence')\n",
    "Map.addLayer(region, {}, 'ROI', True, 0.5)\n",
    "Map.centerObject(region)\n",
    "Map.add_colorbar(vis_params, label='Water occurrence (%)', layer_name='Occurrence')"
   ]
  },
  {
   "cell_type": "code",
   "execution_count": null,
   "id": "899485ff",
   "metadata": {},
   "outputs": [],
   "source": [
    "df = geemap.image_histogram(\n",
    "    image,\n",
    "    region,\n",
    "    scale=30,\n",
    "    return_df=True,\n",
    ")\n",
    "df"
   ]
  },
  {
   "cell_type": "code",
   "execution_count": null,
   "id": "65f61a8a",
   "metadata": {},
   "outputs": [],
   "source": [
    "hist = geemap.image_histogram(\n",
    "    image,\n",
    "    region,\n",
    "    scale=30,\n",
    "    x_label='Water Occurrence (%)',\n",
    "    y_label='Pixel Count',\n",
    "    title='Surface Water Occurrence',\n",
    "    layout_args={'title': dict(x=0.5)},\n",
    "    return_df=False,\n",
    ")\n",
    "hist"
   ]
  },
  {
   "cell_type": "code",
   "execution_count": null,
   "id": "f7f29802",
   "metadata": {},
   "outputs": [],
   "source": [
    "# !pip install -U kaleido"
   ]
  },
  {
   "cell_type": "code",
   "execution_count": null,
   "id": "caeed281",
   "metadata": {},
   "outputs": [],
   "source": [
    "hist.update_layout(\n",
    "    autosize=False,\n",
    "    width=800,\n",
    "    height=400,\n",
    "    margin=dict(l=30, r=20, b=10, t=50, pad=4)\n",
    ")\n",
    "hist.write_image('water_occurrence.jpg', scale=2)"
   ]
  },
  {
   "cell_type": "markdown",
   "id": "341c9868",
   "metadata": {},
   "source": [
    "### Surface water monthly history"
   ]
  },
  {
   "cell_type": "code",
   "execution_count": null,
   "id": "37255ebe",
   "metadata": {},
   "outputs": [],
   "source": [
    "dataset = ee.ImageCollection('JRC/GSW1_4/MonthlyHistory')\n",
    "dataset.size()"
   ]
  },
  {
   "cell_type": "code",
   "execution_count": null,
   "id": "e00ae74c",
   "metadata": {},
   "outputs": [],
   "source": [
    "dataset.aggregate_array(\"system:index\")"
   ]
  },
  {
   "cell_type": "code",
   "execution_count": null,
   "id": "5a8c27b3",
   "metadata": {},
   "outputs": [],
   "source": [
    "Map = geemap.Map()\n",
    "Map"
   ]
  },
  {
   "cell_type": "code",
   "execution_count": null,
   "id": "47eea162",
   "metadata": {},
   "outputs": [],
   "source": [
    "image = dataset.filterDate('2020-08-01', '2020-09-01').first()\n",
    "region = Map.user_roi # Draw a polygon on the map\n",
    "if region is None:\n",
    "    region = ee.Geometry.BBox(-99.957, 46.8947, -99.278, 47.1531)\n",
    "vis_params = {'min': 0.0, 'max': 2.0, 'palette': ['ffffff', 'fffcb8', '0905ff']}\n",
    "\n",
    "Map.addLayer(image, vis_params, 'Water')\n",
    "Map.addLayer(region, {}, 'ROI', True, 0.5)\n",
    "Map.centerObject(region)"
   ]
  },
  {
   "cell_type": "code",
   "execution_count": null,
   "id": "4b389d10",
   "metadata": {},
   "outputs": [],
   "source": [
    "geemap.jrc_hist_monthly_history(\n",
    "    region=region, scale=30, frequency='month', denominator=1e4, y_label='Area (ha)'\n",
    ")"
   ]
  },
  {
   "cell_type": "code",
   "execution_count": null,
   "id": "6651787d",
   "metadata": {},
   "outputs": [],
   "source": [
    "geemap.jrc_hist_monthly_history(\n",
    "    region=region,\n",
    "    start_month=6,\n",
    "    end_month=9,\n",
    "    scale=30,\n",
    "    frequency='month',\n",
    "    denominator=1e4,\n",
    "    y_label='Area (ha)',\n",
    ")"
   ]
  },
  {
   "cell_type": "code",
   "execution_count": null,
   "id": "bfd886e9",
   "metadata": {},
   "outputs": [],
   "source": [
    "geemap.jrc_hist_monthly_history(\n",
    "    region=region,\n",
    "    start_month=6,\n",
    "    end_month=9,\n",
    "    scale=30,\n",
    "    frequency='year',\n",
    "    reducer='mean',\n",
    "    denominator=1e4,\n",
    "    y_label='Area (ha)',\n",
    ")"
   ]
  },
  {
   "cell_type": "code",
   "execution_count": null,
   "id": "006c7fdd",
   "metadata": {},
   "outputs": [],
   "source": [
    "geemap.jrc_hist_monthly_history(\n",
    "    region=region,\n",
    "    start_month=6,\n",
    "    end_month=9,\n",
    "    scale=30,\n",
    "    frequency='year',\n",
    "    reducer='max',\n",
    "    denominator=1e4,\n",
    "    y_label='Area (ha)',\n",
    ")"
   ]
  },
  {
   "cell_type": "markdown",
   "id": "e10975a3",
   "metadata": {},
   "source": [
    "## Mapping flood extents\n",
    "\n",
    "### Create an interactive map"
   ]
  },
  {
   "cell_type": "code",
   "execution_count": null,
   "id": "1611d9ff",
   "metadata": {},
   "outputs": [],
   "source": [
    "Map = geemap.Map(center=[29.3055, 68.9062], zoom=6)\n",
    "Map"
   ]
  },
  {
   "cell_type": "markdown",
   "id": "4f601611",
   "metadata": {},
   "source": [
    "### Search datasets"
   ]
  },
  {
   "cell_type": "code",
   "execution_count": null,
   "id": "7f2ee1fc",
   "metadata": {},
   "outputs": [],
   "source": [
    "country_name = 'Pakistan'\n",
    "pre_flood_start_date = '2021-08-01'\n",
    "pre_flood_end_date = '2021-09-30'\n",
    "flood_start_date = '2022-08-01'\n",
    "flood_end_date = '2022-09-30'"
   ]
  },
  {
   "cell_type": "markdown",
   "id": "ef3416de",
   "metadata": {},
   "source": [
    "### Visualize datasets"
   ]
  },
  {
   "cell_type": "code",
   "execution_count": null,
   "id": "84d3b1e6",
   "metadata": {},
   "outputs": [],
   "source": [
    "country = ee.FeatureCollection('USDOS/LSIB_SIMPLE/2017').filter(\n",
    "    ee.Filter.eq('country_na', country_name)\n",
    ")\n",
    "style = {'color': 'black', 'fillColor': '00000000'}\n",
    "Map.addLayer(country.style(**style), {}, country_name)\n",
    "Map.centerObject(country)\n",
    "Map"
   ]
  },
  {
   "cell_type": "markdown",
   "id": "4b874d36",
   "metadata": {},
   "source": [
    "### Create Landsat composites"
   ]
  },
  {
   "cell_type": "code",
   "execution_count": null,
   "id": "8c403717",
   "metadata": {},
   "outputs": [],
   "source": [
    "landsat_col_2021 = (\n",
    "    ee.ImageCollection('LANDSAT/LC08/C02/T1')\n",
    "    .filterDate(pre_flood_start_date, pre_flood_end_date)\n",
    "    .filterBounds(country)\n",
    ")\n",
    "landsat_2021 = ee.Algorithms.Landsat.simpleComposite(landsat_col_2021).clipToCollection(\n",
    "    country\n",
    ")\n",
    "vis_params = {'bands': ['B6', 'B5', 'B4'], 'max': 128}\n",
    "Map.addLayer(landsat_2021, vis_params, 'Landsat 2021')"
   ]
  },
  {
   "cell_type": "code",
   "execution_count": null,
   "id": "0fce927e",
   "metadata": {},
   "outputs": [],
   "source": [
    "landsat_col_2022 = (\n",
    "    ee.ImageCollection('LANDSAT/LC08/C02/T1')\n",
    "    .filterDate(flood_start_date, flood_end_date)\n",
    "    .filterBounds(country)\n",
    ")\n",
    "landsat_2022 = ee.Algorithms.Landsat.simpleComposite(landsat_col_2022).clipToCollection(\n",
    "    country\n",
    ")\n",
    "Map.addLayer(landsat_2022, vis_params, 'Landsat 2022')\n",
    "Map.centerObject(country)\n",
    "Map"
   ]
  },
  {
   "cell_type": "markdown",
   "id": "367f876f",
   "metadata": {},
   "source": [
    "### Compare Landsat composites side by side"
   ]
  },
  {
   "cell_type": "code",
   "execution_count": null,
   "id": "ca555dcf",
   "metadata": {},
   "outputs": [],
   "source": [
    "Map = geemap.Map()\n",
    "Map.setCenter(68.4338, 26.4213, 7)\n",
    "\n",
    "left_layer = geemap.ee_tile_layer(\n",
    "    landsat_2021, vis_params, 'Landsat 2021'\n",
    "   )\n",
    "right_layer = geemap.ee_tile_layer(\n",
    "    landsat_2022, vis_params, 'Landsat 2022'\n",
    ")\n",
    "\n",
    "Map.split_map(\n",
    "    left_layer, right_layer, left_label='Landsat 2021', right_label='Landsat 2022'\n",
    ")\n",
    "Map.addLayer(country.style(**style), {}, country_name)\n",
    "Map"
   ]
  },
  {
   "cell_type": "markdown",
   "id": "5b1dec74",
   "metadata": {},
   "source": [
    "### Compute Normalized Difference Water Index (NDWI)"
   ]
  },
  {
   "cell_type": "code",
   "execution_count": null,
   "id": "00b0b27e",
   "metadata": {},
   "outputs": [],
   "source": [
    "ndwi_2021 = landsat_2021.normalizedDifference(['B3', 'B5']).rename('NDWI')\n",
    "ndwi_2022 = landsat_2022.normalizedDifference(['B3', 'B5']).rename('NDWI')"
   ]
  },
  {
   "cell_type": "code",
   "execution_count": null,
   "id": "1e0194f5",
   "metadata": {},
   "outputs": [],
   "source": [
    "Map = geemap.Map()\n",
    "Map.setCenter(68.4338, 26.4213, 7)\n",
    "ndwi_vis = {'min': -1, 'max': 1, 'palette': 'ndwi'}\n",
    "\n",
    "left_layer = geemap.ee_tile_layer(ndwi_2021, ndwi_vis, 'NDWI 2021')\n",
    "right_layer = geemap.ee_tile_layer(ndwi_2022, ndwi_vis, 'NDWI 2022')\n",
    "\n",
    "Map.split_map(left_layer, right_layer, left_label='NDWI 2021', right_label='NDWI 2022')\n",
    "Map.addLayer(country.style(**style), {}, country_name)\n",
    "Map"
   ]
  },
  {
   "cell_type": "markdown",
   "id": "68935dc1",
   "metadata": {},
   "source": [
    "### Extract Landsat water extent"
   ]
  },
  {
   "cell_type": "code",
   "execution_count": null,
   "id": "d6e6ad80",
   "metadata": {},
   "outputs": [],
   "source": [
    "threshold = 0.1\n",
    "water_2021 = ndwi_2021.gt(threshold).selfMask()\n",
    "water_2022 = ndwi_2022.gt(threshold).selfMask()"
   ]
  },
  {
   "cell_type": "code",
   "execution_count": null,
   "id": "35148e88",
   "metadata": {},
   "outputs": [],
   "source": [
    "Map = geemap.Map()\n",
    "Map.setCenter(68.4338, 26.4213, 7)\n",
    "\n",
    "Map.addLayer(landsat_2021, vis_params, 'Landsat 2021', False)\n",
    "Map.addLayer(landsat_2022, vis_params, 'Landsat 2022', False)\n",
    "\n",
    "left_layer = geemap.ee_tile_layer(\n",
    "    water_2021, {'palette': 'blue'}, 'Water 2021'\n",
    ")\n",
    "right_layer = geemap.ee_tile_layer(\n",
    "    water_2022, {'palette': 'red'}, 'Water 2022'\n",
    ")\n",
    "\n",
    "Map.split_map(\n",
    "    left_layer, right_layer, left_label='Water 2021', right_label='Water 2022'\n",
    ")\n",
    "Map.addLayer(country.style(**style), {}, country_name)\n",
    "Map"
   ]
  },
  {
   "cell_type": "markdown",
   "id": "f45d2cba",
   "metadata": {},
   "source": [
    "### Extract Landsat flood extent"
   ]
  },
  {
   "cell_type": "code",
   "execution_count": null,
   "id": "60b67914",
   "metadata": {},
   "outputs": [],
   "source": [
    "flood_extent = water_2022.unmask().subtract(water_2021.unmask()).gt(0).selfMask()"
   ]
  },
  {
   "cell_type": "code",
   "execution_count": null,
   "id": "6360db19",
   "metadata": {},
   "outputs": [],
   "source": [
    "Map = geemap.Map()\n",
    "Map.setCenter(68.4338, 26.4213, 7)\n",
    "\n",
    "Map.addLayer(landsat_2021, vis_params, 'Landsat 2021', False)\n",
    "Map.addLayer(landsat_2022, vis_params, 'Landsat 2022', False)\n",
    "\n",
    "left_layer = geemap.ee_tile_layer(\n",
    "    water_2021, {'palette': 'blue'}, 'Water 2021'\n",
    ")\n",
    "right_layer = geemap.ee_tile_layer(\n",
    "    water_2022, {'palette': 'red'}, 'Water 2022'\n",
    ")\n",
    "\n",
    "Map.split_map(\n",
    "    left_layer, right_layer, left_label='Water 2021', right_label='Water 2022'\n",
    ")\n",
    "\n",
    "Map.addLayer(flood_extent, {'palette': 'cyan'}, 'Flood Extent')\n",
    "Map.addLayer(country.style(**style), {}, country_name)\n",
    "Map"
   ]
  },
  {
   "cell_type": "markdown",
   "id": "6d97806f",
   "metadata": {},
   "source": [
    "### Calculate Landsat flood area"
   ]
  },
  {
   "cell_type": "code",
   "execution_count": null,
   "id": "2bf9092e",
   "metadata": {},
   "outputs": [],
   "source": [
    "area_2021 = geemap.zonal_stats(\n",
    "    water_2021, country, scale=1000, statistics_type='SUM', return_fc=True\n",
    ")\n",
    "geemap.ee_to_df(area_2021)"
   ]
  },
  {
   "cell_type": "code",
   "execution_count": null,
   "id": "e7e9b742",
   "metadata": {},
   "outputs": [],
   "source": [
    "area_2022 = geemap.zonal_stats(\n",
    "    water_2022, country, scale=1000, statistics_type='SUM', return_fc=True\n",
    ")\n",
    "geemap.ee_to_df(area_2022)"
   ]
  },
  {
   "cell_type": "code",
   "execution_count": null,
   "id": "bc6a9b4f",
   "metadata": {},
   "outputs": [],
   "source": [
    "flood_area = geemap.zonal_stats(\n",
    "    flood_extent, country, scale=1000, statistics_type='SUM', return_fc=True\n",
    ")\n",
    "geemap.ee_to_df(flood_area)"
   ]
  },
  {
   "cell_type": "markdown",
   "id": "ddfc9bb8",
   "metadata": {},
   "source": [
    "### Create Sentinel-1 SAR composites"
   ]
  },
  {
   "cell_type": "code",
   "execution_count": null,
   "id": "f5255306",
   "metadata": {},
   "outputs": [],
   "source": [
    "s1_col_2021 = (\n",
    "    ee.ImageCollection('COPERNICUS/S1_GRD')\n",
    "    .filter(ee.Filter.listContains('transmitterReceiverPolarisation', 'VV'))\n",
    "    .filter(ee.Filter.eq('instrumentMode', 'IW'))\n",
    "    .filter(ee.Filter.eq('orbitProperties_pass', 'ASCENDING'))\n",
    "    .filterDate(pre_flood_start_date, pre_flood_end_date)\n",
    "    .filterBounds(country)\n",
    "    .select('VV')\n",
    ")\n",
    "s1_col_2021"
   ]
  },
  {
   "cell_type": "code",
   "execution_count": null,
   "id": "9dde5fde",
   "metadata": {},
   "outputs": [],
   "source": [
    "s1_col_2022 = (\n",
    "    ee.ImageCollection('COPERNICUS/S1_GRD')\n",
    "    .filter(ee.Filter.listContains('transmitterReceiverPolarisation', 'VV'))\n",
    "    .filter(ee.Filter.eq('instrumentMode', 'IW'))\n",
    "    .filter(ee.Filter.eq('orbitProperties_pass', 'ASCENDING'))\n",
    "    .filterDate(flood_start_date, flood_end_date)\n",
    "    .filterBounds(country)\n",
    "    .select('VV')\n",
    ")\n",
    "s1_col_2022"
   ]
  },
  {
   "cell_type": "code",
   "execution_count": null,
   "id": "c9fbaed0",
   "metadata": {},
   "outputs": [],
   "source": [
    "Map = geemap.Map()\n",
    "Map.add_basemap('HYBRID')\n",
    "sar_2021 = s1_col_2021.reduce(ee.Reducer.percentile([20])).clipToCollection(country)\n",
    "sar_2022 = s1_col_2022.reduce(ee.Reducer.percentile([20])).clipToCollection(country)\n",
    "Map.addLayer(sar_2021, {'min': -25, 'max': -5}, 'SAR 2021')\n",
    "Map.addLayer(sar_2022, {'min': -25, 'max': -5}, 'SAR 2022')\n",
    "Map.centerObject(country)\n",
    "Map"
   ]
  },
  {
   "cell_type": "markdown",
   "id": "9a9db8cc",
   "metadata": {},
   "source": [
    "### Apply speckle filtering"
   ]
  },
  {
   "cell_type": "code",
   "execution_count": null,
   "id": "ab8b3ff1",
   "metadata": {},
   "outputs": [],
   "source": [
    "col_2021 = s1_col_2021.map(lambda img: img.focal_median(100, 'circle', 'meters'))\n",
    "col_2022 = s1_col_2022.map(lambda img: img.focal_median(100, 'circle', 'meters'))\n",
    "\n",
    "Map = geemap.Map()\n",
    "Map.add_basemap('HYBRID')\n",
    "sar_2021 = col_2021.reduce(ee.Reducer.percentile([20])).clipToCollection(country)\n",
    "sar_2022 = col_2022.reduce(ee.Reducer.percentile([20])).clipToCollection(country)\n",
    "Map.addLayer(sar_2021, {'min': -25, 'max': -5}, 'SAR 2021')\n",
    "Map.addLayer(sar_2022, {'min': -25, 'max': -5}, 'SAR 2022')\n",
    "Map.centerObject(country)\n",
    "Map"
   ]
  },
  {
   "cell_type": "markdown",
   "id": "a0c424e3",
   "metadata": {},
   "source": [
    "### Compare Sentinel-1 SAR composites side by side"
   ]
  },
  {
   "cell_type": "code",
   "execution_count": null,
   "id": "ae5a76a0",
   "metadata": {},
   "outputs": [],
   "source": [
    "Map = geemap.Map()\n",
    "Map.setCenter(68.4338, 26.4213, 7)\n",
    "\n",
    "left_layer = geemap.ee_tile_layer(sar_2021, {'min': -25, 'max': -5}, 'SAR 2021')\n",
    "right_layer = geemap.ee_tile_layer(sar_2022, {'min': -25, 'max': -5}, 'SAR 2022')\n",
    "\n",
    "Map.split_map(\n",
    "    left_layer, right_layer, left_label='Sentinel-1 2021', right_label='Sentinel-1 2022'\n",
    ")\n",
    "Map.addLayer(country.style(**style), {}, country_name)\n",
    "Map"
   ]
  },
  {
   "cell_type": "markdown",
   "id": "20defc59",
   "metadata": {},
   "source": [
    "### Extract SAR water extent"
   ]
  },
  {
   "cell_type": "code",
   "execution_count": null,
   "id": "e2be43b4",
   "metadata": {},
   "outputs": [],
   "source": [
    "threshold = -18\n",
    "water_2021 = sar_2021.lt(threshold)\n",
    "water_2022 = sar_2022.lt(threshold)"
   ]
  },
  {
   "cell_type": "code",
   "execution_count": null,
   "id": "afd5e542",
   "metadata": {},
   "outputs": [],
   "source": [
    "Map = geemap.Map()\n",
    "Map.setCenter(68.4338, 26.4213, 7)\n",
    "\n",
    "Map.addLayer(sar_2021, {'min': -25, 'max': -5}, 'SAR 2021')\n",
    "Map.addLayer(sar_2022, {'min': -25, 'max': -5}, 'SAR 2022')\n",
    "\n",
    "left_layer = geemap.ee_tile_layer(\n",
    "    water_2021.selfMask(), {'palette': 'blue'}, 'Water 2021'\n",
    ")\n",
    "right_layer = geemap.ee_tile_layer(\n",
    "    water_2022.selfMask(), {'palette': 'red'}, 'Water 2022'\n",
    ")\n",
    "\n",
    "Map.split_map(\n",
    "    left_layer, right_layer, left_label='Water 2021', right_label='Water 2022'\n",
    ")\n",
    "Map.addLayer(country.style(**style), {}, country_name)\n",
    "Map"
   ]
  },
  {
   "cell_type": "markdown",
   "id": "24308aa5",
   "metadata": {},
   "source": [
    "### Extract SAR flood extent"
   ]
  },
  {
   "cell_type": "code",
   "execution_count": null,
   "id": "1c5530c6",
   "metadata": {},
   "outputs": [],
   "source": [
    "flood_extent = water_2022.unmask().subtract(water_2021.unmask()).gt(0).selfMask()"
   ]
  },
  {
   "cell_type": "code",
   "execution_count": null,
   "id": "2d62b26b",
   "metadata": {},
   "outputs": [],
   "source": [
    "Map = geemap.Map()\n",
    "Map.setCenter(68.4338, 26.4213, 7)\n",
    "\n",
    "Map.addLayer(sar_2021, {'min': -25, 'max': -5}, 'SAR 2021')\n",
    "Map.addLayer(sar_2022, {'min': -25, 'max': -5}, 'SAR 2022')\n",
    "\n",
    "left_layer = geemap.ee_tile_layer(\n",
    "    water_2021, {'palette': 'blue'}, 'Water 2021'\n",
    ")\n",
    "right_layer = geemap.ee_tile_layer(\n",
    "    water_2022, {'palette': 'red'}, 'Water 2022'\n",
    ")\n",
    "\n",
    "Map.split_map(\n",
    "    left_layer, right_layer, left_label='Water 2021', right_label='Water 2022'\n",
    ")\n",
    "\n",
    "Map.addLayer(flood_extent, {'palette': 'cyan'}, 'Flood Extent')\n",
    "Map.addLayer(country.style(**style), {}, country_name)\n",
    "Map"
   ]
  },
  {
   "cell_type": "markdown",
   "id": "316e8f7e",
   "metadata": {},
   "source": [
    "### Calculate SAR flood area"
   ]
  },
  {
   "cell_type": "code",
   "execution_count": null,
   "id": "073373ed",
   "metadata": {},
   "outputs": [],
   "source": [
    "area_2021 = geemap.zonal_stats(\n",
    "    water_2021, country, scale=1000, statistics_type='SUM', return_fc=True\n",
    ")\n",
    "geemap.ee_to_df(area_2021)"
   ]
  },
  {
   "cell_type": "code",
   "execution_count": null,
   "id": "9f1aa198",
   "metadata": {},
   "outputs": [],
   "source": [
    "area_2022 = geemap.zonal_stats(\n",
    "    water_2022, country, scale=1000, statistics_type='SUM', return_fc=True\n",
    ")\n",
    "geemap.ee_to_df(area_2022)"
   ]
  },
  {
   "cell_type": "code",
   "execution_count": null,
   "id": "3d437269",
   "metadata": {},
   "outputs": [],
   "source": [
    "flood_area = geemap.zonal_stats(\n",
    "    flood_extent, country, scale=1000, statistics_type='SUM', return_fc=True\n",
    ")\n",
    "geemap.ee_to_df(flood_area)"
   ]
  },
  {
   "cell_type": "markdown",
   "id": "644a27bd",
   "metadata": {},
   "source": [
    "## Forest cover change analysis\n",
    "\n",
    "### Forest cover mapping"
   ]
  },
  {
   "cell_type": "code",
   "execution_count": null,
   "id": "97ed16f3",
   "metadata": {},
   "outputs": [],
   "source": [
    "dataset = ee.Image('UMD/hansen/global_forest_change_2021_v1_9')\n",
    "dataset.bandNames()"
   ]
  },
  {
   "cell_type": "code",
   "execution_count": null,
   "id": "fa909bd0",
   "metadata": {},
   "outputs": [],
   "source": [
    "Map = geemap.Map()\n",
    "first_bands = ['first_b50', 'first_b40', 'first_b30']\n",
    "first_image = dataset.select(first_bands)\n",
    "Map.addLayer(first_image, {'bands': first_bands, 'gamma': 1.5}, 'Year 2000 Bands 5/4/3')"
   ]
  },
  {
   "cell_type": "code",
   "execution_count": null,
   "id": "9031088d",
   "metadata": {},
   "outputs": [],
   "source": [
    "last_bands = ['last_b50', 'last_b40', 'last_b30']\n",
    "last_image = dataset.select(last_bands)\n",
    "Map.addLayer(last_image, {'bands': last_bands, 'gamma': 1.5}, 'Year 2021 Bands 5/4/3')"
   ]
  },
  {
   "cell_type": "code",
   "execution_count": null,
   "id": "2072551c",
   "metadata": {},
   "outputs": [],
   "source": [
    "treecover = dataset.select(['treecover2000'])\n",
    "treeCoverVisParam = {'min': 0, 'max': 100, 'palette': ['black', 'green']}\n",
    "name = 'Tree cover (%)'\n",
    "Map.addLayer(treecover, treeCoverVisParam, name)\n",
    "Map.add_colorbar(treeCoverVisParam, label=name, layer_name=name)\n",
    "Map"
   ]
  },
  {
   "cell_type": "code",
   "execution_count": null,
   "id": "26d5f31e",
   "metadata": {},
   "outputs": [],
   "source": [
    "threshold = 10\n",
    "treecover_bin = treecover.gte(threshold).selfMask()\n",
    "treeVisParam = {'palette': ['green']}\n",
    "Map.addLayer(treecover_bin, treeVisParam, 'Tree cover bin')"
   ]
  },
  {
   "cell_type": "markdown",
   "id": "4656b76f",
   "metadata": {},
   "source": [
    "### Forest loss and gain mapping"
   ]
  },
  {
   "cell_type": "code",
   "execution_count": null,
   "id": "496963e7",
   "metadata": {},
   "outputs": [],
   "source": [
    "Map = geemap.Map()\n",
    "treeloss_year = dataset.select(['lossyear'])\n",
    "treeLossVisParam = {'min': 0, 'max': 21, 'palette': ['yellow', 'red']}\n",
    "layer_name = 'Tree loss year'\n",
    "Map.addLayer(treeloss_year, treeLossVisParam, layer_name)\n",
    "Map.add_colorbar(treeLossVisParam, label=layer_name, layer_name=layer_name)\n",
    "Map"
   ]
  },
  {
   "cell_type": "code",
   "execution_count": null,
   "id": "96a652b6",
   "metadata": {},
   "outputs": [],
   "source": [
    "treeloss = dataset.select(['loss']).selfMask()\n",
    "treegain = dataset.select(['gain']).selfMask()\n",
    "Map.addLayer(treeloss, {'palette': 'red'}, 'Tree loss')\n",
    "Map.addLayer(treegain, {'palette': 'yellow'}, 'Tree gain')\n",
    "Map"
   ]
  },
  {
   "cell_type": "markdown",
   "id": "fad60950",
   "metadata": {},
   "source": [
    "### Zonal statistics by country"
   ]
  },
  {
   "cell_type": "code",
   "execution_count": null,
   "id": "36f06b43",
   "metadata": {},
   "outputs": [],
   "source": [
    "Map = geemap.Map()\n",
    "countries = ee.FeatureCollection(geemap.examples.get_ee_path('countries'))\n",
    "style = {'color': '#000000ff', 'fillColor': '#00000000'}\n",
    "Map.addLayer(countries.style(**style), {}, 'Countries')\n",
    "Map"
   ]
  },
  {
   "cell_type": "code",
   "execution_count": null,
   "id": "ade990fe",
   "metadata": {},
   "outputs": [],
   "source": [
    "geemap.zonal_stats_by_group(\n",
    "    treecover_bin,\n",
    "    countries,\n",
    "    'forest_cover.csv',\n",
    "    statistics_type='SUM',\n",
    "    denominator=1e6,\n",
    "    scale=1000,\n",
    ")"
   ]
  },
  {
   "cell_type": "code",
   "execution_count": null,
   "id": "0fc41a9b",
   "metadata": {},
   "outputs": [],
   "source": [
    "geemap.pie_chart(\n",
    "    'forest_cover.csv', names='NAME', values='Class_sum', max_rows=20, height=400\n",
    ")"
   ]
  },
  {
   "cell_type": "code",
   "execution_count": null,
   "id": "eef5ef54",
   "metadata": {},
   "outputs": [],
   "source": [
    "geemap.bar_chart(\n",
    "    'forest_cover.csv',\n",
    "    x='NAME',\n",
    "    y='Class_sum',\n",
    "    max_rows=20,\n",
    "    x_label='Country',\n",
    "    y_label='Forest area (km2)',\n",
    ")"
   ]
  },
  {
   "cell_type": "code",
   "execution_count": null,
   "id": "cd0ea518",
   "metadata": {},
   "outputs": [],
   "source": [
    "geemap.zonal_stats_by_group(\n",
    "    treeloss,\n",
    "    countries,\n",
    "    'treeloss.csv',\n",
    "    statistics_type='SUM',\n",
    "    denominator=1e6,\n",
    "    scale=1000,\n",
    ")"
   ]
  },
  {
   "cell_type": "code",
   "execution_count": null,
   "id": "179a0c6c",
   "metadata": {},
   "outputs": [],
   "source": [
    "geemap.pie_chart(\n",
    "    'treeloss.csv', names='NAME', values='Class_sum', max_rows=20, height=600\n",
    ")"
   ]
  },
  {
   "cell_type": "code",
   "execution_count": null,
   "id": "ead2bd98",
   "metadata": {},
   "outputs": [],
   "source": [
    "geemap.bar_chart(\n",
    "    'treeloss.csv',\n",
    "    x='NAME',\n",
    "    y='Class_sum',\n",
    "    max_rows=20,\n",
    "    x_label='Country',\n",
    "    y_label='Forest loss area (km2)',\n",
    ")"
   ]
  },
  {
   "cell_type": "markdown",
   "id": "45afd2c1",
   "metadata": {},
   "source": [
    "## Global land cover mapping\n",
    "\n",
    "### Dynamic World"
   ]
  },
  {
   "cell_type": "code",
   "execution_count": null,
   "id": "85bd8e7f",
   "metadata": {},
   "outputs": [],
   "source": [
    "Map = geemap.Map()\n",
    "region = ee.Geometry.BBox(-89.7088, 42.9006, -89.0647, 43.2167)\n",
    "start_date = '2021-01-01'\n",
    "end_date = '2022-01-01'\n",
    "\n",
    "image = geemap.dynamic_world_s2(region, start_date, end_date, clip=True)\n",
    "vis_params = {'bands': ['B4', 'B3', 'B2'], 'min': 0, 'max': 3000}\n",
    "Map.addLayer(image, vis_params, 'Sentinel-2 image')\n",
    "\n",
    "landcover = geemap.dynamic_world(\n",
    "    region, start_date, end_date, return_type='hillshade', clip=True\n",
    ")\n",
    "Map.addLayer(landcover, {}, 'Land Cover')\n",
    "\n",
    "Map.add_legend(\n",
    "    title=\"Dynamic World Land Cover\",\n",
    "    builtin_legend='Dynamic_World',\n",
    "    layer_name='Land Cover',\n",
    ")\n",
    "Map.centerObject(region, 13)\n",
    "Map"
   ]
  },
  {
   "cell_type": "code",
   "execution_count": null,
   "id": "8bfd9de8",
   "metadata": {},
   "outputs": [],
   "source": [
    "classes = geemap.dynamic_world(\n",
    "    region, start_date, end_date, return_type='class', clip=True\n",
    ")\n",
    "vis_params = {\n",
    "    \"min\": 0,\n",
    "    \"max\": 8,\n",
    "    \"palette\": [\n",
    "        \"#419BDF\",\n",
    "        \"#397D49\",\n",
    "        \"#88B053\",\n",
    "        \"#7A87C6\",\n",
    "        \"#E49635\",\n",
    "        \"#DFC35A\",\n",
    "        \"#C4281B\",\n",
    "        \"#A59B8F\",\n",
    "        \"#B39FE1\",\n",
    "    ],\n",
    "}\n",
    "Map.addLayer(classes, vis_params, 'Class')"
   ]
  },
  {
   "cell_type": "code",
   "execution_count": null,
   "id": "12821b04",
   "metadata": {},
   "outputs": [],
   "source": [
    "probability = geemap.dynamic_world(\n",
    "    region, start_date, end_date, return_type='visualize', clip=True\n",
    ")\n",
    "Map.addLayer(probability, {}, 'Visualize')"
   ]
  },
  {
   "cell_type": "code",
   "execution_count": null,
   "id": "72b40ecc",
   "metadata": {},
   "outputs": [],
   "source": [
    "probability = geemap.dynamic_world(\n",
    "    region, start_date, end_date, return_type='probability', clip=True\n",
    ")\n",
    "Map.addLayer(probability, {}, 'Probability')"
   ]
  },
  {
   "cell_type": "code",
   "execution_count": null,
   "id": "c0778e4a",
   "metadata": {},
   "outputs": [],
   "source": [
    "df = geemap.image_area_by_group(classes, region=region, scale=10, denominator=1e6)\n",
    "df"
   ]
  },
  {
   "cell_type": "code",
   "execution_count": null,
   "id": "2ddc9a5d",
   "metadata": {},
   "outputs": [],
   "source": [
    "Map = geemap.Map()\n",
    "region = ee.Geometry.BBox(-89.7088, 42.9006, -89.0647, 43.2167)\n",
    "start_date = '2017-01-01'\n",
    "end_date = '2022-12-31'\n",
    "images = geemap.dynamic_world_timeseries(\n",
    "    region, start_date, end_date, frequency='year', return_type=\"hillshade\"\n",
    ")\n",
    "Map.ts_inspector(images, date_format='YYYY')\n",
    "Map.add_legend(title=\"Dynamic World Land Cover\", builtin_legend='Dynamic_World')\n",
    "Map.centerObject(region)\n",
    "Map"
   ]
  },
  {
   "cell_type": "markdown",
   "id": "5020d0cd",
   "metadata": {},
   "source": [
    "### ESA WorldCover"
   ]
  },
  {
   "cell_type": "code",
   "execution_count": null,
   "id": "f951dd1c",
   "metadata": {},
   "outputs": [],
   "source": [
    "Map = geemap.Map()\n",
    "esa_2020 = ee.ImageCollection(\"ESA/WorldCover/v100\").first()\n",
    "esa_2021 = ee.ImageCollection(\"ESA/WorldCover/v200\").first()\n",
    "Map.addLayer(esa_2020, {'bands': ['Map']}, 'ESA 2020')\n",
    "Map.addLayer(esa_2021, {'bands': ['Map']}, 'ESA 2021')\n",
    "Map.add_legend(builtin_legend='ESA_WorldCover', title='ESA Land Cover')\n",
    "Map"
   ]
  },
  {
   "cell_type": "code",
   "execution_count": null,
   "id": "542a5652",
   "metadata": {},
   "outputs": [],
   "source": [
    "df = geemap.image_area_by_group(\n",
    "    esa_2021, scale=1000, denominator=1e6, decimal_places=4, verbose=True\n",
    ")\n",
    "df"
   ]
  },
  {
   "cell_type": "code",
   "execution_count": null,
   "id": "ded7a7f5",
   "metadata": {},
   "outputs": [],
   "source": [
    "df.to_csv('esa_2021.csv')"
   ]
  },
  {
   "cell_type": "code",
   "execution_count": null,
   "id": "2e15b99f",
   "metadata": {},
   "outputs": [],
   "source": [
    "Map = geemap.Map(center=[-88.9088, 43.0006], zoom=12)\n",
    "# Create Dynamic World Land Cover 2021\n",
    "region = ee.Geometry.BBox(-179, -89, 179, 89)\n",
    "start_date = '2021-01-01'\n",
    "end_date = '2022-01-01'\n",
    "dw_2021 = geemap.dynamic_world(region, start_date, end_date, return_type='hillshade')\n",
    "# Create ESA WorldCover 2021\n",
    "esa_2021 = ee.ImageCollection(\"ESA/WorldCover/v200\").first()\n",
    "# Create a split map\n",
    "left_layer = geemap.ee_tile_layer(esa_2021, {'bands': ['Map']}, \"ESA 2021\")\n",
    "right_layer = geemap.ee_tile_layer(dw_2021, {}, \"Dynamic World 2021\")\n",
    "Map.split_map(left_layer, right_layer)\n",
    "# Add legends\n",
    "Map.add_legend(\n",
    "    title=\"ESA WorldCover\", builtin_legend='ESA_WorldCover', position='bottomleft'\n",
    ")\n",
    "Map.add_legend(\n",
    "    title=\"Dynamic World Land Cover\",\n",
    "    builtin_legend='Dynamic_World',\n",
    "    position='bottomright',\n",
    ")\n",
    "Map"
   ]
  },
  {
   "cell_type": "markdown",
   "id": "23e2fe8f",
   "metadata": {},
   "source": [
    "### Esri global land cover"
   ]
  },
  {
   "cell_type": "code",
   "execution_count": null,
   "id": "26a43a09",
   "metadata": {},
   "outputs": [],
   "source": [
    "def esri_annual_land_cover(year):\n",
    "    collection = ee.ImageCollection('projects/sat-io/open-datasets/landcover/ESRI_Global-LULC_10m_TS')\n",
    "    start_date = ee.Date.fromYMD(year, 1, 1)\n",
    "    end_date = start_date.advance(1, 'year')\n",
    "    image = collection.filterDate(start_date, end_date).mosaic()\n",
    "    return image.set('system:time_start', start_date.millis())"
   ]
  },
  {
   "cell_type": "code",
   "execution_count": null,
   "id": "7c2abe13",
   "metadata": {},
   "outputs": [],
   "source": [
    "start_year = 2017\n",
    "end_year = 2021\n",
    "years = ee.List.sequence(start_year, end_year)\n",
    "images = ee.ImageCollection(years.map(esri_annual_land_cover))\n",
    "images"
   ]
  },
  {
   "cell_type": "code",
   "execution_count": null,
   "id": "3eb96ce1",
   "metadata": {},
   "outputs": [],
   "source": [
    "palette = [\n",
    "    \"#1A5BAB\",\n",
    "    \"#358221\",\n",
    "    \"#000000\",\n",
    "    \"#87D19E\",\n",
    "    \"#FFDB5C\",\n",
    "    \"#000000\",\n",
    "    \"#ED022A\",\n",
    "    \"#EDE9E4\",\n",
    "    \"#F2FAFF\",\n",
    "    \"#C8C8C8\",\n",
    "    \"#C6AD8D\",\n",
    "  ]\n",
    "vis_params = {\"min\": 1, \"max\": 11, \"palette\": palette}"
   ]
  },
  {
   "cell_type": "code",
   "execution_count": null,
   "id": "12caa19e",
   "metadata": {},
   "outputs": [],
   "source": [
    "Map = geemap.Map()\n",
    "Map.ts_inspector(images, left_vis=vis_params, date_format='YYYY')\n",
    "Map.add_legend(title=\"Esri Land Cover\", builtin_legend='ESRI_LandCover')\n",
    "Map"
   ]
  },
  {
   "cell_type": "code",
   "execution_count": null,
   "id": "99fba93a",
   "metadata": {},
   "outputs": [],
   "source": [
    "Map = geemap.Map(center=[43.0006, -88.9088], zoom=12)\n",
    "# Create Dynamic World Land Cover 2021\n",
    "dw_2021 = geemap.dynamic_world(region, start_date, end_date, return_type='hillshade')\n",
    "# Create Esri Global Land Cover 2021\n",
    "esri_2021 = esri_annual_land_cover(2021)\n",
    "# Create a split map\n",
    "left_layer = geemap.ee_tile_layer(esri_2021, vis_params, \"Esri 2021\")\n",
    "right_layer = geemap.ee_tile_layer(dw_2021, {}, \"Dynamic World 2021\")\n",
    "Map.split_map(left_layer, right_layer)\n",
    "# Add legends\n",
    "Map.add_legend(\n",
    "    title=\"Esri Land Cover\", builtin_legend='ESRI_LandCover', position='bottomleft'\n",
    ")\n",
    "Map.add_legend(\n",
    "    title=\"Dynamic World Land Cover\",\n",
    "    builtin_legend='Dynamic_World',\n",
    "    position='bottomright',\n",
    ")\n",
    "Map"
   ]
  },
  {
   "cell_type": "markdown",
   "id": "ef0bd1d4",
   "metadata": {},
   "source": [
    "## Summary"
   ]
  }
 ],
 "metadata": {
  "jupytext": {
   "text_representation": {
    "extension": ".md",
    "format_name": "myst",
    "format_version": 0.13,
    "jupytext_version": "1.14.4"
   }
  },
  "kernelspec": {
   "display_name": "Python 3 (ipykernel)",
   "language": "python",
   "name": "python3"
  },
  "source_map": [
   12,
   35,
   39,
   44,
   46,
   52,
   57,
   63,
   75,
   85,
   99,
   103,
   111,
   115,
   120,
   124,
   129,
   141,
   147,
   159,
   172,
   183,
   189,
   192,
   196,
   202,
   206,
   214,
   218,
   231,
   243,
   247,
   263,
   267,
   272,
   283,
   287,
   293,
   312,
   316,
   320,
   341,
   345,
   352,
   359,
   366,
   370,
   383,
   396,
   405,
   409,
   421,
   425,
   437,
   441,
   447,
   466,
   470,
   474,
   495,
   499,
   506,
   513,
   518,
   524,
   529,
   536,
   542,
   551,
   556,
   560,
   570,
   576,
   580,
   588,
   599,
   605,
   616,
   627,
   633,
   642,
   648,
   672,
   694,
   701,
   708,
   713,
   725,
   729,
   739,
   746,
   750,
   773,
   777,
   786,
   794,
   811,
   818,
   838
  ]
 },
 "nbformat": 4,
 "nbformat_minor": 5
}