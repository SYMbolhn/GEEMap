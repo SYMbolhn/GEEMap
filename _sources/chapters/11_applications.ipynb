{
 "cells": [
  {
   "cell_type": "markdown",
   "id": "21e4a264",
   "metadata": {},
   "source": [
    "# Earth Engine Applications\n",
    "\n",
    "```{contents}\n",
    ":local:\n",
    ":depth: 2\n",
    "```\n",
    "\n",
    "## Introduction\n",
    "\n",
    "## Technical requirements\n",
    "\n",
    "```bash\n",
    "conda create -n gee python\n",
    "conda activate gee\n",
    "conda install -c conda-forge mamba\n",
    "mamba install -c conda-forge geemap pygis\n",
    "```\n",
    "\n",
    "```bash\n",
    "jupyter lab\n",
    "```\n",
    "\n",
    "[![Open in Colab](https://colab.research.google.com/assets/colab-badge.svg)](https://colab.research.google.com/github/giswqs/geebook/blob/master/chapters/11_applications.ipynb)"
   ]
  },
  {
   "cell_type": "code",
   "execution_count": null,
   "id": "573b7ac6",
   "metadata": {},
   "outputs": [],
   "source": [
    "# pip install pygis"
   ]
  },
  {
   "cell_type": "code",
   "execution_count": null,
   "id": "0add6c13",
   "metadata": {},
   "outputs": [],
   "source": [
    "import ee\n",
    "import geemap"
   ]
  },
  {
   "cell_type": "code",
   "execution_count": null,
   "id": "300e751a",
   "metadata": {},
   "outputs": [],
   "source": [
    "geemap.ee_initialize()"
   ]
  },
  {
   "cell_type": "markdown",
   "id": "1ddc1789",
   "metadata": {},
   "source": [
    "## Analyzing surface water dynamics\n",
    "\n",
    "### Surface water occurrence"
   ]
  },
  {
   "cell_type": "code",
   "execution_count": null,
   "id": "d313ce9a",
   "metadata": {},
   "outputs": [],
   "source": [
    "dataset = ee.Image('JRC/GSW1_4/GlobalSurfaceWater')\n",
    "dataset.bandNames()"
   ]
  },
  {
   "cell_type": "code",
   "execution_count": null,
   "id": "5e250c15",
   "metadata": {},
   "outputs": [],
   "source": [
    "Map = geemap.Map()\n",
    "Map.add_basemap('HYBRID')\n",
    "Map"
   ]
  },
  {
   "cell_type": "code",
   "execution_count": null,
   "id": "700c6594",
   "metadata": {},
   "outputs": [],
   "source": [
    "\n",
    "image = dataset.select(['occurrence'])\n",
    "region = Map.user_roi # Draw a polygon on the map\n",
    "if region is None:\n",
    "    region = ee.Geometry.BBox(-99.957, 46.8947, -99.278, 47.1531)\n",
    "vis_params = {'min': 0.0, 'max': 100.0, 'palette': ['ffffff', 'ffbbbb', '0000ff']}\n",
    "Map.addLayer(image, vis_params, 'Occurrence')\n",
    "Map.addLayer(region, {}, 'ROI', True, 0.5)\n",
    "Map.centerObject(region)\n",
    "Map.add_colorbar(vis_params, label='Water occurrence (%)', layer_name='Occurrence')"
   ]
  },
  {
   "cell_type": "code",
   "execution_count": null,
   "id": "2ac4f16d",
   "metadata": {},
   "outputs": [],
   "source": [
    "\n",
    "df = geemap.image_histogram(\n",
    "    image,\n",
    "    region,\n",
    "    scale=30,\n",
    "    return_df=True,\n",
    ")\n",
    "df"
   ]
  },
  {
   "cell_type": "code",
   "execution_count": null,
   "id": "cc280b60",
   "metadata": {},
   "outputs": [],
   "source": [
    "hist = geemap.image_histogram(\n",
    "    image,\n",
    "    region,\n",
    "    scale=30,\n",
    "    x_label='Water Occurrence (%)',\n",
    "    y_label='Pixel Count',\n",
    "    title='Surface Water Occurrence',\n",
    "    layout_args={'title': dict(x=0.5)},\n",
    "    return_df=False,\n",
    ")\n",
    "hist"
   ]
  },
  {
   "cell_type": "code",
   "execution_count": null,
   "id": "cedffa85",
   "metadata": {},
   "outputs": [],
   "source": [
    "# !pip install -U kaleido"
   ]
  },
  {
   "cell_type": "code",
   "execution_count": null,
   "id": "25c9894d",
   "metadata": {},
   "outputs": [],
   "source": [
    "hist.update_layout(\n",
    "    autosize=False,\n",
    "    width=800,\n",
    "    height=400,\n",
    "    margin=dict(l=30, r=20, b=10, t=50, pad=4)\n",
    ")\n",
    "hist.write_image('water_occurrence.jpg', scale=2)"
   ]
  },
  {
   "cell_type": "markdown",
   "id": "929b04b1",
   "metadata": {},
   "source": [
    "### Surface water monthly history"
   ]
  },
  {
   "cell_type": "code",
   "execution_count": null,
   "id": "bfeaa34b",
   "metadata": {},
   "outputs": [],
   "source": [
    "dataset = ee.ImageCollection('JRC/GSW1_4/MonthlyHistory')\n",
    "dataset.size()"
   ]
  },
  {
   "cell_type": "code",
   "execution_count": null,
   "id": "56df9527",
   "metadata": {},
   "outputs": [],
   "source": [
    "dataset.aggregate_array(\"system:index\")"
   ]
  },
  {
   "cell_type": "code",
   "execution_count": null,
   "id": "5a981bcf",
   "metadata": {},
   "outputs": [],
   "source": [
    "Map = geemap.Map()\n",
    "Map"
   ]
  },
  {
   "cell_type": "code",
   "execution_count": null,
   "id": "c9c0bf4f",
   "metadata": {},
   "outputs": [],
   "source": [
    "image = dataset.filterDate('2020-08-01', '2020-09-01').first()\n",
    "region = Map.user_roi # Draw a polygon on the map\n",
    "if region is None:\n",
    "    region = ee.Geometry.BBox(-99.957, 46.8947, -99.278, 47.1531)\n",
    "vis_params = {'min': 0.0, 'max': 2.0, 'palette': ['ffffff', 'fffcb8', '0905ff']}\n",
    "\n",
    "Map.addLayer(image, vis_params, 'Water')\n",
    "Map.addLayer(region, {}, 'ROI', True, 0.5)\n",
    "Map.centerObject(region)"
   ]
  },
  {
   "cell_type": "code",
   "execution_count": null,
   "id": "63d3c7fe",
   "metadata": {},
   "outputs": [],
   "source": [
    "geemap.jrc_hist_monthly_history(\n",
    "    region=region, scale=30, frequency='month', denominator=1e4, y_label='Area (ha)'\n",
    ")"
   ]
  },
  {
   "cell_type": "code",
   "execution_count": null,
   "id": "712fccbf",
   "metadata": {},
   "outputs": [],
   "source": [
    "geemap.jrc_hist_monthly_history(\n",
    "    region=region,\n",
    "    start_month=6,\n",
    "    end_month=9,\n",
    "    scale=30,\n",
    "    frequency='month',\n",
    "    denominator=1e4,\n",
    "    y_label='Area (ha)',\n",
    ")"
   ]
  },
  {
   "cell_type": "code",
   "execution_count": null,
   "id": "63585501",
   "metadata": {},
   "outputs": [],
   "source": [
    "geemap.jrc_hist_monthly_history(\n",
    "    region=region,\n",
    "    start_month=6,\n",
    "    end_month=9,\n",
    "    scale=30,\n",
    "    frequency='year',\n",
    "    reducer='mean',\n",
    "    denominator=1e4,\n",
    "    y_label='Area (ha)',\n",
    ")"
   ]
  },
  {
   "cell_type": "code",
   "execution_count": null,
   "id": "4b7ab5c8",
   "metadata": {},
   "outputs": [],
   "source": [
    "geemap.jrc_hist_monthly_history(\n",
    "    region=region,\n",
    "    start_month=6,\n",
    "    end_month=9,\n",
    "    scale=30,\n",
    "    frequency='year',\n",
    "    reducer='max',\n",
    "    denominator=1e4,\n",
    "    y_label='Area (ha)',\n",
    ")"
   ]
  },
  {
   "cell_type": "markdown",
   "id": "03e53c18",
   "metadata": {},
   "source": [
    "## Forest cover change analysis"
   ]
  },
  {
   "cell_type": "code",
   "execution_count": null,
   "id": "1f801968",
   "metadata": {},
   "outputs": [],
   "source": [
    "Map = geemap.Map()\n",
    "Map.add_basemap('HYBRID')\n",
    "Map"
   ]
  },
  {
   "cell_type": "code",
   "execution_count": null,
   "id": "2ac65a2d",
   "metadata": {},
   "outputs": [],
   "source": [
    "dataset = ee.Image('UMD/hansen/global_forest_change_2021_v1_9')"
   ]
  },
  {
   "cell_type": "code",
   "execution_count": null,
   "id": "c5e7bae4",
   "metadata": {},
   "outputs": [],
   "source": [
    "dataset.bandNames().getInfo()"
   ]
  },
  {
   "cell_type": "code",
   "execution_count": null,
   "id": "d6a94106",
   "metadata": {},
   "outputs": [],
   "source": [
    "first_bands = ['first_b50', 'first_b40', 'first_b30']\n",
    "first_image = dataset.select(first_bands)\n",
    "Map.addLayer(first_image, {'bands': first_bands, 'gamma': 1.5}, 'Year 2000 Bands 5/4/3')"
   ]
  },
  {
   "cell_type": "code",
   "execution_count": null,
   "id": "9de90213",
   "metadata": {},
   "outputs": [],
   "source": [
    "last_bands = ['last_b50', 'last_b40', 'last_b30']\n",
    "last_image = dataset.select(last_bands)\n",
    "Map.addLayer(last_image, {'bands': last_bands, 'gamma': 1.5}, 'Year 2021 Bands 5/4/3')"
   ]
  },
  {
   "cell_type": "code",
   "execution_count": null,
   "id": "e1a065e7",
   "metadata": {},
   "outputs": [],
   "source": [
    "treecover = dataset.select(['treecover2000'])\n",
    "\n",
    "treeCoverVisParam = {'min': 0, 'max': 100, 'palette': ['black', 'green']}\n",
    "\n",
    "name1 = 'Tree cover (%)'\n",
    "Map.addLayer(treecover, treeCoverVisParam, name1)\n",
    "Map.add_colorbar(treeCoverVisParam, label=name1, layer_name=name1)\n",
    "Map"
   ]
  },
  {
   "cell_type": "code",
   "execution_count": null,
   "id": "01b9c4bd",
   "metadata": {},
   "outputs": [],
   "source": [
    "threshold = 10\n",
    "treecover_bin = treecover.gte(threshold).selfMask()\n",
    "treeVisParam = {'palette': ['green']}\n",
    "Map.addLayer(treecover_bin, treeVisParam, 'Tree cover bin')"
   ]
  },
  {
   "cell_type": "code",
   "execution_count": null,
   "id": "21ec51f8",
   "metadata": {},
   "outputs": [],
   "source": [
    "treeloss_year = dataset.select(['lossyear'])\n",
    "\n",
    "treeLossVisParam = {'min': 0, 'max': 21, 'palette': ['yellow', 'red']}\n",
    "\n",
    "layer_name = 'Tree loss year'\n",
    "Map.addLayer(treeloss_year, treeLossVisParam, layer_name)\n",
    "Map.add_colorbar(treeLossVisParam, label=layer_name, layer_name=layer_name)"
   ]
  },
  {
   "cell_type": "code",
   "execution_count": null,
   "id": "746195f5",
   "metadata": {},
   "outputs": [],
   "source": [
    "treeloss = dataset.select(['loss']).selfMask()\n",
    "Map.addLayer(treeloss, {'palette': 'red'}, 'Tree loss')\n",
    "Map"
   ]
  },
  {
   "cell_type": "code",
   "execution_count": null,
   "id": "b1bcf04c",
   "metadata": {},
   "outputs": [],
   "source": [
    "treegain = dataset.select(['gain']).selfMask()\n",
    "Map.addLayer(treegain, {'palette': 'yellow'}, 'Tree gain')\n",
    "Map"
   ]
  },
  {
   "cell_type": "code",
   "execution_count": null,
   "id": "9243752d",
   "metadata": {},
   "outputs": [],
   "source": [
    "countries = ee.FeatureCollection(geemap.examples.get_ee_path('countries'))"
   ]
  },
  {
   "cell_type": "code",
   "execution_count": null,
   "id": "e59bdc43",
   "metadata": {},
   "outputs": [],
   "source": [
    "geemap.ee_to_df(countries)"
   ]
  },
  {
   "cell_type": "code",
   "execution_count": null,
   "id": "27f8bc64",
   "metadata": {},
   "outputs": [],
   "source": [
    "style = {'color': '#ffff0088', 'fillColor': '#00000000'}\n",
    "Map.addLayer(countries.style(**style), {}, 'Countries')"
   ]
  },
  {
   "cell_type": "code",
   "execution_count": null,
   "id": "474c3d01",
   "metadata": {},
   "outputs": [],
   "source": [
    "geemap.zonal_stats_by_group(\n",
    "    treecover_bin,\n",
    "    countries,\n",
    "    'forest_cover.csv',\n",
    "    statistics_type='SUM',\n",
    "    denominator=1e6,\n",
    "    scale=1000,\n",
    ")"
   ]
  },
  {
   "cell_type": "code",
   "execution_count": null,
   "id": "ff25f346",
   "metadata": {},
   "outputs": [],
   "source": [
    "geemap.pie_chart(\n",
    "    'forest_cover.csv', names='NAME', values='Class_sum', max_rows=20, height=600\n",
    ")"
   ]
  },
  {
   "cell_type": "code",
   "execution_count": null,
   "id": "4f979554",
   "metadata": {},
   "outputs": [],
   "source": [
    "geemap.bar_chart(\n",
    "    'forest_cover.csv',\n",
    "    x='NAME',\n",
    "    y='Class_sum',\n",
    "    max_rows=20,\n",
    "    x_label='Country',\n",
    "    y_label='Forest area (km2)',\n",
    ")"
   ]
  },
  {
   "cell_type": "code",
   "execution_count": null,
   "id": "a08f7c20",
   "metadata": {},
   "outputs": [],
   "source": [
    "geemap.zonal_stats_by_group(\n",
    "    treeloss,\n",
    "    countries,\n",
    "    'treeloss.csv',\n",
    "    statistics_type='SUM',\n",
    "    denominator=1e6,\n",
    "    scale=1000,\n",
    ")"
   ]
  },
  {
   "cell_type": "code",
   "execution_count": null,
   "id": "520a06f5",
   "metadata": {},
   "outputs": [],
   "source": [
    "geemap.pie_chart(\n",
    "    'treeloss.csv', names='NAME', values='Class_sum', max_rows=20, height=600\n",
    ")"
   ]
  },
  {
   "cell_type": "code",
   "execution_count": null,
   "id": "eb6edc38",
   "metadata": {},
   "outputs": [],
   "source": [
    "geemap.bar_chart(\n",
    "    'treeloss.csv',\n",
    "    x='NAME',\n",
    "    y='Class_sum',\n",
    "    max_rows=20,\n",
    "    x_label='Country',\n",
    "    y_label='Forest loss area (km2)',\n",
    ")"
   ]
  },
  {
   "cell_type": "markdown",
   "id": "85dace54",
   "metadata": {},
   "source": [
    "## Land cover change analysis"
   ]
  },
  {
   "cell_type": "code",
   "execution_count": null,
   "id": "d5267e6f",
   "metadata": {},
   "outputs": [],
   "source": [
    "Map = geemap.Map()\n",
    "dataset = ee.ImageCollection(\"ESA/WorldCover/v100\").first()\n",
    "Map.addLayer(dataset, {'bands': ['Map']}, 'ESA Land Cover')\n",
    "Map.add_legend(builtin_legend='ESA_WorldCover')\n",
    "Map"
   ]
  },
  {
   "cell_type": "code",
   "execution_count": null,
   "id": "9432c2ac",
   "metadata": {},
   "outputs": [],
   "source": [
    "df = geemap.image_area_by_group(\n",
    "    dataset, scale=1000, denominator=1e6, decimal_places=4, verbose=True\n",
    ")\n",
    "df"
   ]
  },
  {
   "cell_type": "code",
   "execution_count": null,
   "id": "f0f99c66",
   "metadata": {},
   "outputs": [],
   "source": [
    "df.to_csv('esa_area.csv')"
   ]
  },
  {
   "cell_type": "code",
   "execution_count": null,
   "id": "d64a6b05",
   "metadata": {},
   "outputs": [],
   "source": [
    "Map = geemap.Map(center=[40, -100], zoom=4)\n",
    "Map.add_basemap('HYBRID')\n",
    "\n",
    "nlcd = ee.Image('USGS/NLCD_RELEASES/2019_REL/NLCD/2019')\n",
    "landcover = nlcd.select('landcover')\n",
    "\n",
    "Map.addLayer(landcover, {}, 'NLCD Land Cover 2019')\n",
    "Map.add_legend(\n",
    "    title=\"NLCD Land Cover Classification\", builtin_legend='NLCD', height='465px'\n",
    ")\n",
    "Map"
   ]
  },
  {
   "cell_type": "code",
   "execution_count": null,
   "id": "44011a67",
   "metadata": {},
   "outputs": [],
   "source": [
    "df = geemap.image_area_by_group(\n",
    "    landcover, scale=1000, denominator=1e6, decimal_places=4, verbose=True\n",
    ")\n",
    "df"
   ]
  },
  {
   "cell_type": "code",
   "execution_count": null,
   "id": "df8a7742",
   "metadata": {},
   "outputs": [],
   "source": [
    "df.to_csv('nlcd_area.csv')"
   ]
  },
  {
   "cell_type": "markdown",
   "id": "37f29f8c",
   "metadata": {},
   "source": [
    "## Water app"
   ]
  },
  {
   "cell_type": "code",
   "execution_count": null,
   "id": "b83f8c8b",
   "metadata": {},
   "outputs": [],
   "source": [
    "col = ee.FeatureCollection(geemap.examples.get_ee_path('countries'))"
   ]
  },
  {
   "cell_type": "code",
   "execution_count": null,
   "id": "ae085275",
   "metadata": {},
   "outputs": [],
   "source": [
    "geemap.examples.get_ee_path('countries')"
   ]
  },
  {
   "cell_type": "code",
   "execution_count": null,
   "id": "d9042ee4",
   "metadata": {},
   "outputs": [],
   "source": [
    "col.size().getInfo()"
   ]
  },
  {
   "cell_type": "code",
   "execution_count": null,
   "id": "a5c6f1cc",
   "metadata": {},
   "outputs": [],
   "source": [
    "# Check geemap installation\n",
    "import subprocess\n",
    "\n",
    "try:\n",
    "    import geemap\n",
    "except ImportError:\n",
    "    print('geemap package is not installed. Installing ...')\n",
    "    subprocess.check_call([\"python\", '-m', 'pip', 'install', 'geemap'])"
   ]
  },
  {
   "cell_type": "code",
   "execution_count": null,
   "id": "b6c0e493",
   "metadata": {},
   "outputs": [],
   "source": [
    "# Import libraries\n",
    "import os\n",
    "import ee\n",
    "import geemap\n",
    "import ipywidgets as widgets\n",
    "from bqplot import pyplot as plt\n",
    "from ipyleaflet import WidgetControl"
   ]
  },
  {
   "cell_type": "code",
   "execution_count": null,
   "id": "901da6c8",
   "metadata": {},
   "outputs": [],
   "source": [
    "# Create an interactive map\n",
    "Map = geemap.Map(center=[40, -100], zoom=4, add_google_map=False)\n",
    "Map.add_basemap('HYBRID')\n",
    "Map.add_basemap('ROADMAP')\n",
    "\n",
    "# Add Earth Engine data\n",
    "fc = ee.FeatureCollection('TIGER/2018/Counties')\n",
    "Map.addLayer(fc, {}, 'US Counties')\n",
    "\n",
    "states = ee.FeatureCollection('TIGER/2018/States')\n",
    "# Map.addLayer(states, {}, 'US States')\n",
    "\n",
    "Map"
   ]
  },
  {
   "cell_type": "code",
   "execution_count": null,
   "id": "bba3276a",
   "metadata": {},
   "outputs": [],
   "source": [
    "# Designe interactive widgets\n",
    "\n",
    "style = {'description_width': 'initial'}\n",
    "\n",
    "output_widget = widgets.Output(layout={'border': '1px solid black'})\n",
    "output_control = WidgetControl(widget=output_widget, position='bottomright')\n",
    "Map.add_control(output_control)\n",
    "\n",
    "admin1_widget = widgets.Text(\n",
    "    description='State:', value='Tennessee', width=200, style=style\n",
    ")\n",
    "\n",
    "admin2_widget = widgets.Text(\n",
    "    description='County:', value='Knox', width=300, style=style\n",
    ")\n",
    "\n",
    "aoi_widget = widgets.Checkbox(\n",
    "    value=False, description='Use user-drawn AOI', style=style\n",
    ")\n",
    "\n",
    "download_widget = widgets.Checkbox(\n",
    "    value=False, description='Download chart data', style=style\n",
    ")\n",
    "\n",
    "\n",
    "def aoi_change(change):\n",
    "    Map.layers = Map.layers[:4]\n",
    "    Map.user_roi = None\n",
    "    Map.user_rois = None\n",
    "    Map.draw_count = 0\n",
    "    admin1_widget.value = ''\n",
    "    admin2_widget.value = ''\n",
    "    output_widget.clear_output()\n",
    "\n",
    "\n",
    "aoi_widget.observe(aoi_change, names='value')\n",
    "\n",
    "band_combo = widgets.Dropdown(\n",
    "    description='Band combo:',\n",
    "    options=[\n",
    "        'Red/Green/Blue',\n",
    "        'NIR/Red/Green',\n",
    "        'SWIR2/SWIR1/NIR',\n",
    "        'NIR/SWIR1/Red',\n",
    "        'SWIR2/NIR/Red',\n",
    "        'SWIR2/SWIR1/Red',\n",
    "        'SWIR1/NIR/Blue',\n",
    "        'NIR/SWIR1/Blue',\n",
    "        'SWIR2/NIR/Green',\n",
    "        'SWIR1/NIR/Red',\n",
    "    ],\n",
    "    value='NIR/Red/Green',\n",
    "    style=style,\n",
    ")\n",
    "\n",
    "year_widget = widgets.IntSlider(\n",
    "    min=1984, max=2020, value=2010, description='Selected year:', width=400, style=style\n",
    ")\n",
    "\n",
    "fmask_widget = widgets.Checkbox(\n",
    "    value=True, description='Apply fmask(remove cloud, shadow, snow)', style=style\n",
    ")\n",
    "\n",
    "\n",
    "# Normalized Satellite Indices: https://www.usna.edu/Users/oceano/pguth/md_help/html/norm_sat.htm\n",
    "\n",
    "nd_options = [\n",
    "    'Vegetation Index (NDVI)',\n",
    "    'Water Index (NDWI)',\n",
    "    'Modified Water Index (MNDWI)',\n",
    "    'Snow Index (NDSI)',\n",
    "    'Soil Index (NDSI)',\n",
    "    'Burn Ratio (NBR)',\n",
    "    'Customized',\n",
    "]\n",
    "nd_indices = widgets.Dropdown(\n",
    "    options=nd_options,\n",
    "    value='Modified Water Index (MNDWI)',\n",
    "    description='Normalized Difference Index:',\n",
    "    style=style,\n",
    ")\n",
    "\n",
    "first_band = widgets.Dropdown(\n",
    "    description='1st band:',\n",
    "    options=['Blue', 'Green', 'Red', 'NIR', 'SWIR1', 'SWIR2'],\n",
    "    value='Green',\n",
    "    style=style,\n",
    ")\n",
    "\n",
    "second_band = widgets.Dropdown(\n",
    "    description='2nd band:',\n",
    "    options=['Blue', 'Green', 'Red', 'NIR', 'SWIR1', 'SWIR2'],\n",
    "    value='SWIR1',\n",
    "    style=style,\n",
    ")\n",
    "\n",
    "nd_threshold = widgets.FloatSlider(\n",
    "    value=0,\n",
    "    min=-1,\n",
    "    max=1,\n",
    "    step=0.01,\n",
    "    description='Threshold:',\n",
    "    orientation='horizontal',\n",
    "    style=style,\n",
    ")\n",
    "\n",
    "nd_color = widgets.ColorPicker(\n",
    "    concise=False, description='Color:', value='blue', style=style\n",
    ")\n",
    "\n",
    "\n",
    "def nd_index_change(change):\n",
    "    if nd_indices.value == 'Vegetation Index (NDVI)':\n",
    "        first_band.value = 'NIR'\n",
    "        second_band.value = 'Red'\n",
    "    elif nd_indices.value == 'Water Index (NDWI)':\n",
    "        first_band.value = 'NIR'\n",
    "        second_band.value = 'SWIR1'\n",
    "    elif nd_indices.value == 'Modified Water Index (MNDWI)':\n",
    "        first_band.value = 'Green'\n",
    "        second_band.value = 'SWIR1'\n",
    "    elif nd_indices.value == 'Snow Index (NDSI)':\n",
    "        first_band.value = 'Green'\n",
    "        second_band.value = 'SWIR1'\n",
    "    elif nd_indices.value == 'Soil Index (NDSI)':\n",
    "        first_band.value = 'SWIR1'\n",
    "        second_band.value = 'NIR'\n",
    "    elif nd_indices.value == 'Burn Ratio (NBR)':\n",
    "        first_band.value = 'NIR'\n",
    "        second_band.value = 'SWIR2'\n",
    "    elif nd_indices.value == 'Customized':\n",
    "        first_band.value = None\n",
    "        second_band.value = None\n",
    "\n",
    "\n",
    "nd_indices.observe(nd_index_change, names='value')\n",
    "\n",
    "submit = widgets.Button(\n",
    "    description='Submit', button_style='primary', tooltip='Click me', style=style\n",
    ")\n",
    "\n",
    "full_widget = widgets.VBox(\n",
    "    [\n",
    "        widgets.HBox([admin1_widget, admin2_widget, aoi_widget, download_widget]),\n",
    "        widgets.HBox([band_combo, year_widget, fmask_widget]),\n",
    "        widgets.HBox([nd_indices, first_band, second_band, nd_threshold, nd_color]),\n",
    "        submit,\n",
    "    ]\n",
    ")\n",
    "\n",
    "full_widget"
   ]
  },
  {
   "cell_type": "code",
   "execution_count": null,
   "id": "95181cc7",
   "metadata": {},
   "outputs": [],
   "source": [
    "# Capture user interaction with the map\n",
    "\n",
    "\n",
    "def handle_interaction(**kwargs):\n",
    "    latlon = kwargs.get('coordinates')\n",
    "    if kwargs.get('type') == 'click' and not aoi_widget.value:\n",
    "        Map.default_style = {'cursor': 'wait'}\n",
    "        xy = ee.Geometry.Point(latlon[::-1])\n",
    "        selected_fc = fc.filterBounds(xy)\n",
    "\n",
    "        with output_widget:\n",
    "            output_widget.clear_output()\n",
    "\n",
    "            try:\n",
    "                feature = selected_fc.first()\n",
    "                admin2_id = feature.get('NAME').getInfo()\n",
    "                statefp = feature.get('STATEFP')\n",
    "                admin1_fc = ee.Feature(\n",
    "                    states.filter(ee.Filter.eq('STATEFP', statefp)).first()\n",
    "                )\n",
    "                admin1_id = admin1_fc.get('NAME').getInfo()\n",
    "                admin1_widget.value = admin1_id\n",
    "                admin2_widget.value = admin2_id\n",
    "                Map.layers = Map.layers[:4]\n",
    "                geom = selected_fc.geometry()\n",
    "                layer_name = admin1_id + '-' + admin2_id\n",
    "                Map.addLayer(\n",
    "                    ee.Image().paint(geom, 0, 2), {'palette': 'red'}, layer_name\n",
    "                )\n",
    "                print(layer_name)\n",
    "            except:\n",
    "                print('No feature could be found')\n",
    "                Map.layers = Map.layers[:4]\n",
    "\n",
    "        Map.default_style = {'cursor': 'pointer'}\n",
    "    else:\n",
    "        Map.draw_count = 0\n",
    "\n",
    "\n",
    "Map.on_interaction(handle_interaction)"
   ]
  },
  {
   "cell_type": "code",
   "execution_count": null,
   "id": "f08485a7",
   "metadata": {},
   "outputs": [],
   "source": [
    "# Click event handler\n",
    "\n",
    "\n",
    "def submit_clicked(b):\n",
    "\n",
    "    with output_widget:\n",
    "        output_widget.clear_output()\n",
    "        print('Computing...')\n",
    "        Map.default_style = {'cursor': 'wait'}\n",
    "\n",
    "        try:\n",
    "            admin1_id = admin1_widget.value\n",
    "            admin2_id = admin2_widget.value\n",
    "            band1 = first_band.value\n",
    "            band2 = second_band.value\n",
    "            selected_year = year_widget.value\n",
    "            threshold = nd_threshold.value\n",
    "            bands = band_combo.value.split('/')\n",
    "            apply_fmask = fmask_widget.value\n",
    "            palette = nd_color.value\n",
    "            use_aoi = aoi_widget.value\n",
    "            download = download_widget.value\n",
    "\n",
    "            if use_aoi:\n",
    "                if Map.user_roi is not None:\n",
    "                    roi = Map.user_roi\n",
    "                    layer_name = 'User drawn AOI'\n",
    "                    geom = roi\n",
    "                else:\n",
    "                    output_widget.clear_output()\n",
    "                    print('No user AOI could be found.')\n",
    "                    return\n",
    "            else:\n",
    "\n",
    "                statefp = ee.Feature(\n",
    "                    states.filter(ee.Filter.eq('NAME', admin1_id)).first()\n",
    "                ).get('STATEFP')\n",
    "                roi = fc.filter(\n",
    "                    ee.Filter.And(\n",
    "                        ee.Filter.eq('NAME', admin2_id),\n",
    "                        ee.Filter.eq('STATEFP', statefp),\n",
    "                    )\n",
    "                )\n",
    "                layer_name = admin1_id + '-' + admin2_id\n",
    "                geom = roi.geometry()\n",
    "\n",
    "            Map.layers = Map.layers[:4]\n",
    "            Map.addLayer(ee.Image().paint(geom, 0, 2), {'palette': 'red'}, layer_name)\n",
    "\n",
    "            images = geemap.landsat_timeseries(\n",
    "                roi=roi,\n",
    "                start_year=1984,\n",
    "                end_year=2020,\n",
    "                start_date='01-01',\n",
    "                end_date='12-31',\n",
    "                apply_fmask=apply_fmask,\n",
    "            )\n",
    "            nd_images = images.map(lambda img: img.normalizedDifference([band1, band2]))\n",
    "            result_images = nd_images.map(lambda img: img.gt(threshold))\n",
    "\n",
    "            selected_image = ee.Image(\n",
    "                images.toList(images.size()).get(selected_year - 1984)\n",
    "            )\n",
    "            selected_result_image = ee.Image(\n",
    "                result_images.toList(result_images.size()).get(selected_year - 1984)\n",
    "            ).selfMask()\n",
    "\n",
    "            vis_params = {'bands': bands, 'min': 0, 'max': 3000}\n",
    "\n",
    "            Map.addLayer(selected_image, vis_params, 'Landsat ' + str(selected_year))\n",
    "            Map.addLayer(\n",
    "                selected_result_image,\n",
    "                {'palette': palette},\n",
    "                'Result ' + str(selected_year),\n",
    "            )\n",
    "\n",
    "            def cal_area(img):\n",
    "                pixel_area = img.multiply(ee.Image.pixelArea()).divide(1e4)\n",
    "                img_area = pixel_area.reduceRegion(\n",
    "                    **{\n",
    "                        'geometry': geom,\n",
    "                        'reducer': ee.Reducer.sum(),\n",
    "                        'scale': 1000,\n",
    "                        'maxPixels': 1e12,\n",
    "                        'bestEffort': True,\n",
    "                    }\n",
    "                )\n",
    "                return img.set({'area': img_area})\n",
    "\n",
    "            areas = result_images.map(cal_area)\n",
    "            stats = areas.aggregate_array('area').getInfo()\n",
    "            x = list(range(1984, 2021))\n",
    "            y = [item.get('nd') for item in stats]\n",
    "\n",
    "            fig = plt.figure(1)\n",
    "            fig.layout.height = '270px'\n",
    "            plt.clear()\n",
    "            plt.plot(x, y)\n",
    "            plt.title('Temporal trend (1984-2020)')\n",
    "            plt.xlabel('Year')\n",
    "            plt.ylabel('Area (ha)')\n",
    "\n",
    "            output_widget.clear_output()\n",
    "\n",
    "            plt.show()\n",
    "\n",
    "            if download:\n",
    "                out_dir = os.path.join(os.path.expanduser('~'), 'Downloads')\n",
    "                out_name = 'chart_' + geemap.random_string() + '.csv'\n",
    "                out_csv = os.path.join(out_dir, out_name)\n",
    "                if not os.path.exists(out_dir):\n",
    "                    os.makedirs(out_dir)\n",
    "                with open(out_csv, 'w') as f:\n",
    "                    f.write('year, area (ha)\\n')\n",
    "                    for index, item in enumerate(x):\n",
    "                        line = '{},{:.2f}\\n'.format(item, y[index])\n",
    "                        f.write(line)\n",
    "                link = geemap.create_download_link(\n",
    "                    out_csv, title=\"Click here to download the chart data: \"\n",
    "                )\n",
    "                display(link)\n",
    "\n",
    "        except Exception as e:\n",
    "            print(e)\n",
    "            print('An error occurred during computation.')\n",
    "\n",
    "        Map.default_style = {'cursor': 'default'}\n",
    "\n",
    "\n",
    "submit.on_click(submit_clicked)"
   ]
  },
  {
   "cell_type": "markdown",
   "id": "af37bf59",
   "metadata": {},
   "source": [
    "## Summary"
   ]
  }
 ],
 "metadata": {
  "jupytext": {
   "text_representation": {
    "extension": ".md",
    "format_name": "myst",
    "format_version": 0.13,
    "jupytext_version": "1.14.4"
   }
  },
  "kernelspec": {
   "display_name": "Python 3 (ipykernel)",
   "language": "python",
   "name": "python3"
  },
  "source_map": [
   12,
   38,
   42,
   47,
   49,
   55,
   60,
   66,
   80,
   92,
   106,
   110,
   118,
   122,
   127,
   131,
   136,
   148,
   154,
   166,
   179,
   190,
   194,
   200,
   204,
   208,
   214,
   220,
   231,
   238,
   248,
   254,
   260,
   264,
   268,
   273,
   284,
   290,
   301,
   312,
   318,
   327,
   331,
   339,
   346,
   350,
   364,
   371,
   373,
   377,
   381,
   385,
   389,
   400,
   410,
   426,
   580,
   623,
   754
  ]
 },
 "nbformat": 4,
 "nbformat_minor": 5
}