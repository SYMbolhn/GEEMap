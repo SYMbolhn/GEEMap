{
 "cells": [
  {
   "cell_type": "markdown",
   "id": "ed2a6cbf",
   "metadata": {},
   "source": [
    "# Creating Timelapses\n",
    "\n",
    "```{contents}\n",
    ":local:\n",
    ":depth: 2\n",
    "```\n",
    "\n",
    "## Introduction"
   ]
  },
  {
   "cell_type": "markdown",
   "id": "25c5f9dc",
   "metadata": {},
   "source": [
    "## Technical requirements\n",
    "\n",
    "```bash\n",
    "conda create -n gee python\n",
    "conda activate gee\n",
    "conda install -c conda-forge mamba\n",
    "mamba install -c conda-forge pygis\n",
    "```\n",
    "\n",
    "```bash\n",
    "jupyter lab\n",
    "```\n",
    "\n",
    "[![Open in Colab](https://colab.research.google.com/assets/colab-badge.svg)](https://colab.research.google.com/github/giswqs/geebook/blob/master/chapters/09_timelapse.ipynb)"
   ]
  },
  {
   "cell_type": "code",
   "execution_count": null,
   "id": "b996f09f",
   "metadata": {},
   "outputs": [],
   "source": [
    "pip install pygis"
   ]
  },
  {
   "cell_type": "code",
   "execution_count": null,
   "id": "ee3a91e8",
   "metadata": {},
   "outputs": [],
   "source": [
    "import ee\n",
    "import geemap"
   ]
  },
  {
   "cell_type": "code",
   "execution_count": null,
   "id": "5d1767b0",
   "metadata": {},
   "outputs": [],
   "source": [
    "geemap.ee_initialize()"
   ]
  },
  {
   "cell_type": "markdown",
   "id": "0d70ba30",
   "metadata": {},
   "source": [
    "## The map function"
   ]
  },
  {
   "cell_type": "code",
   "execution_count": null,
   "id": "b76de85a",
   "metadata": {},
   "outputs": [],
   "source": [
    "myList = ee.List.sequence(1, 10)\n",
    "print(myList.getInfo())"
   ]
  },
  {
   "cell_type": "code",
   "execution_count": null,
   "id": "8e81fc09",
   "metadata": {},
   "outputs": [],
   "source": [
    "def computeSquares(number):\n",
    "    return ee.Number(number).pow(2)\n",
    "\n",
    "squares = myList.map(computeSquares)\n",
    "print(squares.getInfo())"
   ]
  },
  {
   "cell_type": "code",
   "execution_count": null,
   "id": "c4f85f73",
   "metadata": {},
   "outputs": [],
   "source": [
    "squares = myList.map(lambda number: ee.Number(number).pow(2))\n",
    "print(squares.getInfo())"
   ]
  },
  {
   "cell_type": "markdown",
   "id": "6de70234",
   "metadata": {},
   "source": [
    "## Creating cloud-free composites"
   ]
  },
  {
   "cell_type": "code",
   "execution_count": null,
   "id": "6d257989",
   "metadata": {},
   "outputs": [],
   "source": [
    "Map = geemap.Map()\n",
    "fc = ee.FeatureCollection('USDOS/LSIB_SIMPLE/2017') \\\n",
    "    .filter(ee.Filter.eq('country_na', 'Netherlands'))\n",
    "\n",
    "Map.addLayer(fc, {'color': 'ff000000'}, \"Netherlands\")\n",
    "Map.centerObject(fc)\n",
    "Map"
   ]
  },
  {
   "cell_type": "code",
   "execution_count": null,
   "id": "81a4184c",
   "metadata": {},
   "outputs": [],
   "source": [
    "years = ee.List.sequence(2013, 2021)"
   ]
  },
  {
   "cell_type": "code",
   "execution_count": null,
   "id": "91dbf329",
   "metadata": {},
   "outputs": [],
   "source": [
    "def yearly_image(year):\n",
    "\n",
    "    start_date = ee.Date.fromYMD(year, 1, 1)\n",
    "    end_date = start_date.advance(1, \"year\")\n",
    "\n",
    "    collection = (\n",
    "        ee.ImageCollection('LANDSAT/LC08/C01/T1')\n",
    "        .filterDate(start_date, end_date)\n",
    "        .filterBounds(fc)\n",
    "    )\n",
    "\n",
    "    image = ee.Algorithms.Landsat.simpleComposite(collection).clipToCollection(fc)\n",
    "\n",
    "    return image"
   ]
  },
  {
   "cell_type": "code",
   "execution_count": null,
   "id": "355e2300",
   "metadata": {},
   "outputs": [],
   "source": [
    "images = years.map(yearly_image)"
   ]
  },
  {
   "cell_type": "code",
   "execution_count": null,
   "id": "63b22c85",
   "metadata": {},
   "outputs": [],
   "source": [
    "vis_params = {'bands': ['B5', 'B4', 'B3'], 'max': 128}\n",
    "for index in range(0, 9):\n",
    "    image = ee.Image(images.get(index))\n",
    "    layer_name = \"Year \" + str(index + 2013)\n",
    "    Map.addLayer(image, vis_params, layer_name)"
   ]
  },
  {
   "cell_type": "markdown",
   "id": "dd196619",
   "metadata": {},
   "source": [
    "## Creating image timeseries"
   ]
  },
  {
   "cell_type": "code",
   "execution_count": null,
   "id": "a9134c3b",
   "metadata": {},
   "outputs": [],
   "source": [
    "collection = ee.ImageCollection(\"COPERNICUS/S2_HARMONIZED\")"
   ]
  },
  {
   "cell_type": "code",
   "execution_count": null,
   "id": "1985956b",
   "metadata": {},
   "outputs": [],
   "source": [
    "region = ee.Geometry.BBox(-122.5549, 37.6968, -122.3446, 37.8111)"
   ]
  },
  {
   "cell_type": "code",
   "execution_count": null,
   "id": "552d5129",
   "metadata": {},
   "outputs": [],
   "source": [
    "start_date = '2016-01-01'\n",
    "end_date = '2021-12-31'"
   ]
  },
  {
   "cell_type": "code",
   "execution_count": null,
   "id": "66ffc248",
   "metadata": {},
   "outputs": [],
   "source": [
    "images = geemap.create_timeseries(collection, start_date, end_date, Map.user_roi, frequency='year', reducer='median')"
   ]
  },
  {
   "cell_type": "code",
   "execution_count": null,
   "id": "9eadc1dd",
   "metadata": {},
   "outputs": [],
   "source": [
    "images.getInfo()"
   ]
  },
  {
   "cell_type": "code",
   "execution_count": null,
   "id": "809a90f3",
   "metadata": {},
   "outputs": [],
   "source": [
    "Map = geemap.Map()\n",
    "\n",
    "# S2 = (\n",
    "#     ee.ImageCollection('COPERNICUS/S2_SR')\n",
    "#     .filterBounds(ee.Geometry.Point([-122.45, 37.75]))\n",
    "#     .filterMetadata('CLOUDY_PIXEL_PERCENTAGE', 'less_than', 10)\n",
    "# )\n",
    "\n",
    "vis_params = {\"min\": 0, \"max\": 4000, \"bands\": [\"B8\", \"B4\", \"B3\"]}\n",
    "\n",
    "Map.addLayer(images, {}, \"Sentinel-2\", False)\n",
    "Map.add_time_slider(images, vis_params, time_interval=2)\n",
    "Map.centerObject(region)\n",
    "Map"
   ]
  },
  {
   "cell_type": "markdown",
   "id": "dde1e81c",
   "metadata": {},
   "source": [
    "## Creating timelapses\n",
    "\n",
    "### NAIP"
   ]
  },
  {
   "cell_type": "code",
   "execution_count": null,
   "id": "0efe55df",
   "metadata": {},
   "outputs": [],
   "source": [
    "Map = geemap.Map(center=[40, -100], zoom=4)\n",
    "Map"
   ]
  },
  {
   "cell_type": "code",
   "execution_count": null,
   "id": "807a6a35",
   "metadata": {},
   "outputs": [],
   "source": [
    "region = Map.user_roi\n",
    "if region is None:\n",
    "    region = ee.Geometry.BBox(-99.1019, 47.1274, -99.0334, 47.1562)\n",
    "    Map.addLayer(region)\n",
    "    Map.centerObject(region)"
   ]
  },
  {
   "cell_type": "code",
   "execution_count": null,
   "id": "3df24095",
   "metadata": {},
   "outputs": [],
   "source": [
    "collection = geemap.naip_timeseries(region, start_year=2009, end_year=2020, RGBN=True)"
   ]
  },
  {
   "cell_type": "code",
   "execution_count": null,
   "id": "12790880",
   "metadata": {},
   "outputs": [],
   "source": [
    "years = geemap.image_dates(collection, date_format='YYYY').getInfo()\n",
    "print(years)"
   ]
  },
  {
   "cell_type": "code",
   "execution_count": null,
   "id": "30e62bb4",
   "metadata": {},
   "outputs": [],
   "source": [
    "size = len(years)\n",
    "images = collection.toList(size)\n",
    "for i in range(size):\n",
    "    image = ee.Image(images.get(i))\n",
    "    Map.addLayer(image, {'bands': ['N', 'R', 'G']}, years[i])\n",
    "Map"
   ]
  },
  {
   "cell_type": "code",
   "execution_count": null,
   "id": "d3c5df33",
   "metadata": {},
   "outputs": [],
   "source": [
    "geemap.naip_timelapse(\n",
    "    region, out_gif=\"naip.gif\", bands=['N', 'R', 'G'], frames_per_second=3, title='NAIP Timelapse'\n",
    ")"
   ]
  },
  {
   "cell_type": "markdown",
   "id": "8f5df108",
   "metadata": {},
   "source": [
    "## Creating Landsat timelapses\n",
    "\n",
    "### Adding animated text"
   ]
  },
  {
   "cell_type": "code",
   "execution_count": null,
   "id": "53ff4205",
   "metadata": {},
   "outputs": [],
   "source": [
    "import geemap\n",
    "import os"
   ]
  },
  {
   "cell_type": "code",
   "execution_count": null,
   "id": "458fc579",
   "metadata": {},
   "outputs": [],
   "source": [
    "geemap.show_youtube('fDnDVuM_Ke4')"
   ]
  },
  {
   "cell_type": "markdown",
   "id": "ca23f6f5",
   "metadata": {},
   "source": [
    "### Update the geemap package"
   ]
  },
  {
   "cell_type": "code",
   "execution_count": null,
   "id": "06285cf4",
   "metadata": {},
   "outputs": [],
   "source": [
    "# geemap.update_package()"
   ]
  },
  {
   "cell_type": "markdown",
   "id": "1dca1a1e",
   "metadata": {},
   "source": [
    "### Add animated text to an existing GIF"
   ]
  },
  {
   "cell_type": "code",
   "execution_count": null,
   "id": "2d867e54",
   "metadata": {},
   "outputs": [],
   "source": [
    "in_gif = os.path.abspath('../data/animation.gif')\n",
    "out_dir = os.path.join(os.path.expanduser('~'), 'Downloads')\n",
    "out_gif = os.path.join(out_dir, 'output.gif')\n",
    "if not os.path.exists(out_dir):\n",
    "    os.makedirs(out_dir)"
   ]
  },
  {
   "cell_type": "code",
   "execution_count": null,
   "id": "c6f28e32",
   "metadata": {},
   "outputs": [],
   "source": [
    "geemap.show_image(in_gif)"
   ]
  },
  {
   "cell_type": "markdown",
   "id": "cb283808",
   "metadata": {},
   "source": [
    "#### Add animated text to GIF"
   ]
  },
  {
   "cell_type": "code",
   "execution_count": null,
   "id": "56074241",
   "metadata": {},
   "outputs": [],
   "source": [
    "geemap.add_text_to_gif(\n",
    "    in_gif,\n",
    "    out_gif,\n",
    "    xy=('5%', '5%'),\n",
    "    text_sequence=1984,\n",
    "    font_size=30,\n",
    "    font_color='#0000ff',\n",
    "    duration=100,\n",
    ")"
   ]
  },
  {
   "cell_type": "code",
   "execution_count": null,
   "id": "74248e1c",
   "metadata": {},
   "outputs": [],
   "source": [
    "geemap.show_image(out_gif)"
   ]
  },
  {
   "cell_type": "markdown",
   "id": "c1308961",
   "metadata": {},
   "source": [
    "#### Add place name"
   ]
  },
  {
   "cell_type": "code",
   "execution_count": null,
   "id": "350e0eb8",
   "metadata": {},
   "outputs": [],
   "source": [
    "geemap.add_text_to_gif(\n",
    "    out_gif, out_gif, xy=('30%', '85%'), text_sequence=\"Las Vegas\", font_color='black'\n",
    ")"
   ]
  },
  {
   "cell_type": "code",
   "execution_count": null,
   "id": "e866d389",
   "metadata": {},
   "outputs": [],
   "source": [
    "geemap.show_image(out_gif)"
   ]
  },
  {
   "cell_type": "markdown",
   "id": "5ad1698b",
   "metadata": {},
   "source": [
    "#### Change font type"
   ]
  },
  {
   "cell_type": "code",
   "execution_count": null,
   "id": "7af01122",
   "metadata": {},
   "outputs": [],
   "source": [
    "geemap.system_fonts()"
   ]
  },
  {
   "cell_type": "code",
   "execution_count": null,
   "id": "2a35e521",
   "metadata": {},
   "outputs": [],
   "source": [
    "geemap.add_text_to_gif(\n",
    "    in_gif,\n",
    "    out_gif,\n",
    "    xy=('5%', '5%'),\n",
    "    text_sequence=1984,\n",
    "    font_size=30,\n",
    "    font_color='#0000ff',\n",
    "    duration=100,\n",
    ")\n",
    "geemap.add_text_to_gif(\n",
    "    out_gif,\n",
    "    out_gif,\n",
    "    xy=('30%', '85%'),\n",
    "    text_sequence=\"Las Vegas\",\n",
    "    font_type=\"timesbd.ttf\",\n",
    "    font_size=30,\n",
    "    font_color='black',\n",
    ")\n",
    "geemap.show_image(out_gif)"
   ]
  },
  {
   "cell_type": "markdown",
   "id": "6436c69e",
   "metadata": {},
   "source": [
    "### Create GIF from Earth Engine data"
   ]
  },
  {
   "cell_type": "markdown",
   "id": "8bdaa6f0",
   "metadata": {},
   "source": [
    "#### Prepare for an ImageCollection"
   ]
  },
  {
   "cell_type": "code",
   "execution_count": null,
   "id": "3933c219",
   "metadata": {},
   "outputs": [],
   "source": [
    "import ee\n",
    "import geemap\n",
    "\n",
    "ee.Initialize()\n",
    "\n",
    "# Define an area of interest geometry with a global non-polar extent.\n",
    "aoi = ee.Geometry.Polygon(\n",
    "    [[[-179.0, 78.0], [-179.0, -58.0], [179.0, -58.0], [179.0, 78.0]]], None, False\n",
    ")\n",
    "\n",
    "# Import hourly predicted temperature image collection for northern winter\n",
    "# solstice. Note that predictions extend for 384 hours; limit the collection\n",
    "# to the first 24 hours.\n",
    "tempCol = (\n",
    "    ee.ImageCollection('NOAA/GFS0P25')\n",
    "    .filterDate('2018-12-22', '2018-12-23')\n",
    "    .limit(24)\n",
    "    .select('temperature_2m_above_ground')\n",
    ")\n",
    "\n",
    "# Define arguments for animation function parameters.\n",
    "videoArgs = {\n",
    "    'dimensions': 768,\n",
    "    'region': aoi,\n",
    "    'framesPerSecond': 10,\n",
    "    'crs': 'EPSG:3857',\n",
    "    'min': -40.0,\n",
    "    'max': 35.0,\n",
    "    'palette': ['blue', 'purple', 'cyan', 'green', 'yellow', 'red'],\n",
    "}"
   ]
  },
  {
   "cell_type": "markdown",
   "id": "3b84007e",
   "metadata": {},
   "source": [
    "#### Save the GIF to local drive"
   ]
  },
  {
   "cell_type": "code",
   "execution_count": null,
   "id": "46f5239c",
   "metadata": {},
   "outputs": [],
   "source": [
    "saved_gif = os.path.join(os.path.expanduser('~'), 'Downloads/temperature.gif')\n",
    "geemap.download_ee_video(tempCol, videoArgs, saved_gif)"
   ]
  },
  {
   "cell_type": "code",
   "execution_count": null,
   "id": "3b49965f",
   "metadata": {},
   "outputs": [],
   "source": [
    "geemap.show_image(saved_gif)"
   ]
  },
  {
   "cell_type": "markdown",
   "id": "5279cea0",
   "metadata": {},
   "source": [
    "#### Generate an hourly text sequence"
   ]
  },
  {
   "cell_type": "code",
   "execution_count": null,
   "id": "94b055cb",
   "metadata": {},
   "outputs": [],
   "source": [
    "text = [str(n).zfill(2) + \":00\" for n in range(0, 24)]\n",
    "print(text)"
   ]
  },
  {
   "cell_type": "markdown",
   "id": "759225f4",
   "metadata": {},
   "source": [
    "#### Add text to GIF"
   ]
  },
  {
   "cell_type": "code",
   "execution_count": null,
   "id": "b7d83528",
   "metadata": {},
   "outputs": [],
   "source": [
    "out_gif = os.path.join(os.path.expanduser('~'), 'Downloads/output2.gif')"
   ]
  },
  {
   "cell_type": "code",
   "execution_count": null,
   "id": "5f6d451d",
   "metadata": {},
   "outputs": [],
   "source": [
    "geemap.add_text_to_gif(\n",
    "    saved_gif,\n",
    "    out_gif,\n",
    "    xy=('3%', '5%'),\n",
    "    text_sequence=text,\n",
    "    font_size=30,\n",
    "    font_color='#ffffff',\n",
    ")"
   ]
  },
  {
   "cell_type": "code",
   "execution_count": null,
   "id": "9fd1db40",
   "metadata": {},
   "outputs": [],
   "source": [
    "geemap.add_text_to_gif(\n",
    "    out_gif,\n",
    "    out_gif,\n",
    "    xy=('32%', '92%'),\n",
    "    text_sequence='NOAA GFS Hourly Temperature',\n",
    "    font_color='white',\n",
    ")"
   ]
  },
  {
   "cell_type": "code",
   "execution_count": null,
   "id": "cd6e8195",
   "metadata": {},
   "outputs": [],
   "source": [
    "geemap.show_image(out_gif)"
   ]
  },
  {
   "cell_type": "markdown",
   "id": "4565895f",
   "metadata": {},
   "source": [
    "### Adding colorbar to an image"
   ]
  },
  {
   "cell_type": "code",
   "execution_count": null,
   "id": "8fc52f58",
   "metadata": {},
   "outputs": [],
   "source": [
    "import geemap\n",
    "import os"
   ]
  },
  {
   "cell_type": "code",
   "execution_count": null,
   "id": "0143668d",
   "metadata": {},
   "outputs": [],
   "source": [
    "# geemap.update_package()"
   ]
  },
  {
   "cell_type": "markdown",
   "id": "61b04bb3",
   "metadata": {},
   "source": [
    "#### Download a GIF"
   ]
  },
  {
   "cell_type": "code",
   "execution_count": null,
   "id": "328f1e51",
   "metadata": {},
   "outputs": [],
   "source": [
    "from geemap import *"
   ]
  },
  {
   "cell_type": "code",
   "execution_count": null,
   "id": "118ea66f",
   "metadata": {},
   "outputs": [],
   "source": [
    "url = 'https://i.imgur.com/MSde1om.gif'\n",
    "out_dir = os.path.join(os.path.expanduser('~'), 'Downloads')\n",
    "if not os.path.exists(out_dir):\n",
    "    os.makedirs(out_dir)\n",
    "download_from_url(url, out_file_name='temp.gif', out_dir=out_dir)"
   ]
  },
  {
   "cell_type": "code",
   "execution_count": null,
   "id": "62d30804",
   "metadata": {},
   "outputs": [],
   "source": [
    "in_gif = os.path.join(out_dir, 'temp.gif')\n",
    "show_image(in_gif)"
   ]
  },
  {
   "cell_type": "markdown",
   "id": "0f16c316",
   "metadata": {},
   "source": [
    "#### Get image URLs"
   ]
  },
  {
   "cell_type": "code",
   "execution_count": null,
   "id": "60ab8955",
   "metadata": {},
   "outputs": [],
   "source": [
    "noaa_logo = 'https://bit.ly/3ahJoMq'\n",
    "ee_logo = 'https://i.imgur.com/Qbvacvm.jpg'"
   ]
  },
  {
   "cell_type": "markdown",
   "id": "7adbca38",
   "metadata": {},
   "source": [
    "#### Set output GIF path"
   ]
  },
  {
   "cell_type": "code",
   "execution_count": null,
   "id": "2ade7ed7",
   "metadata": {},
   "outputs": [],
   "source": [
    "out_gif = os.path.join(out_dir, 'output.gif')"
   ]
  },
  {
   "cell_type": "markdown",
   "id": "e44da74f",
   "metadata": {},
   "source": [
    "#### Add images to GIF"
   ]
  },
  {
   "cell_type": "code",
   "execution_count": null,
   "id": "37eaf96d",
   "metadata": {},
   "outputs": [],
   "source": [
    "add_image_to_gif(\n",
    "    in_gif, out_gif, in_image=noaa_logo, xy=('2%', '80%'), image_size=(80, 80)\n",
    ")"
   ]
  },
  {
   "cell_type": "code",
   "execution_count": null,
   "id": "c15c2b97",
   "metadata": {},
   "outputs": [],
   "source": [
    "add_image_to_gif(\n",
    "    out_gif, out_gif, in_image=ee_logo, xy=('13%', '79%'), image_size=(85, 85)\n",
    ")"
   ]
  },
  {
   "cell_type": "markdown",
   "id": "2787ef6b",
   "metadata": {},
   "source": [
    "#### Display output GIF"
   ]
  },
  {
   "cell_type": "code",
   "execution_count": null,
   "id": "994a963c",
   "metadata": {},
   "outputs": [],
   "source": [
    "show_image(out_gif)"
   ]
  },
  {
   "cell_type": "markdown",
   "id": "713b2932",
   "metadata": {},
   "source": [
    "#### Create a colorbar"
   ]
  },
  {
   "cell_type": "code",
   "execution_count": null,
   "id": "fc315afb",
   "metadata": {},
   "outputs": [],
   "source": [
    "width = 250\n",
    "height = 30\n",
    "palette = ['blue', 'purple', 'cyan', 'green', 'yellow', 'red']\n",
    "labels = [-40, 35]\n",
    "colorbar = create_colorbar(\n",
    "    width=width,\n",
    "    height=height,\n",
    "    palette=palette,\n",
    "    vertical=False,\n",
    "    add_labels=True,\n",
    "    font_size=20,\n",
    "    labels=labels,\n",
    ")"
   ]
  },
  {
   "cell_type": "code",
   "execution_count": null,
   "id": "e7a1f2f0",
   "metadata": {},
   "outputs": [],
   "source": [
    "show_image(colorbar)"
   ]
  },
  {
   "cell_type": "markdown",
   "id": "a304c129",
   "metadata": {},
   "source": [
    "#### Add colorbar to GIF"
   ]
  },
  {
   "cell_type": "code",
   "execution_count": null,
   "id": "06d897c2",
   "metadata": {},
   "outputs": [],
   "source": [
    "add_image_to_gif(\n",
    "    out_gif, out_gif, in_image=colorbar, xy=('69%', '89%'), image_size=(250, 250)\n",
    ")"
   ]
  },
  {
   "cell_type": "code",
   "execution_count": null,
   "id": "09c39af9",
   "metadata": {},
   "outputs": [],
   "source": [
    "show_image(out_gif)"
   ]
  },
  {
   "cell_type": "markdown",
   "id": "ca458d7d",
   "metadata": {},
   "source": [
    "### Timelapse fading"
   ]
  },
  {
   "cell_type": "code",
   "execution_count": null,
   "id": "4a658e96",
   "metadata": {},
   "outputs": [],
   "source": [
    "import ee\n",
    "import geemap"
   ]
  },
  {
   "cell_type": "code",
   "execution_count": null,
   "id": "9daa4803",
   "metadata": {},
   "outputs": [],
   "source": [
    "url = \"https://i.imgur.com/ZWSZC5z.gif\""
   ]
  },
  {
   "cell_type": "code",
   "execution_count": null,
   "id": "92c6b2c2",
   "metadata": {},
   "outputs": [],
   "source": [
    "geemap.show_image(url, verbose=False)"
   ]
  },
  {
   "cell_type": "code",
   "execution_count": null,
   "id": "572aaddc",
   "metadata": {},
   "outputs": [],
   "source": [
    "out_gif = \"gif_fading.gif\""
   ]
  },
  {
   "cell_type": "code",
   "execution_count": null,
   "id": "fadf9fe0",
   "metadata": {},
   "outputs": [],
   "source": [
    "geemap.gif_fading(url, out_gif, verbose=False)"
   ]
  },
  {
   "cell_type": "code",
   "execution_count": null,
   "id": "2a00d3cf",
   "metadata": {},
   "outputs": [],
   "source": [
    "geemap.show_image(out_gif)"
   ]
  },
  {
   "cell_type": "code",
   "execution_count": null,
   "id": "6f4d784c",
   "metadata": {},
   "outputs": [],
   "source": [
    "Map = geemap.Map()\n",
    "Map.add_basemap(\"HYBRID\")\n",
    "Map"
   ]
  },
  {
   "cell_type": "code",
   "execution_count": null,
   "id": "09a549c4",
   "metadata": {},
   "outputs": [],
   "source": [
    "roi = ee.Geometry.Polygon(\n",
    "    [\n",
    "        [\n",
    "            [-69.315491, -22.837104],\n",
    "            [-69.315491, -22.751488],\n",
    "            [-69.190006, -22.751488],\n",
    "            [-69.190006, -22.837104],\n",
    "            [-69.315491, -22.837104],\n",
    "        ]\n",
    "    ]\n",
    ")"
   ]
  },
  {
   "cell_type": "code",
   "execution_count": null,
   "id": "83fa7115",
   "metadata": {},
   "outputs": [],
   "source": [
    "Map.addLayer(roi, {}, \"ROI\")\n",
    "Map.centerObject(roi)"
   ]
  },
  {
   "cell_type": "code",
   "execution_count": null,
   "id": "9a3b7615",
   "metadata": {},
   "outputs": [],
   "source": [
    "title = \"Sierra Gorda copper mines, Chile\"\n",
    "out_gif = \"timelapse.gif\""
   ]
  },
  {
   "cell_type": "code",
   "execution_count": null,
   "id": "b98b061e",
   "metadata": {},
   "outputs": [],
   "source": [
    "geemap.landsat_timelapse(\n",
    "    roi,\n",
    "    out_gif,\n",
    "    start_year=2004,\n",
    "    end_year=2010,\n",
    "    frames_per_second=1,\n",
    "    title=title,\n",
    "    fading=False,\n",
    ")"
   ]
  },
  {
   "cell_type": "code",
   "execution_count": null,
   "id": "787d0d1c",
   "metadata": {},
   "outputs": [],
   "source": [
    "geemap.show_image(out_gif)"
   ]
  },
  {
   "cell_type": "code",
   "execution_count": null,
   "id": "a62cfe8e",
   "metadata": {},
   "outputs": [],
   "source": [
    "out_fading_gif = \"timelapse_fading.gif\""
   ]
  },
  {
   "cell_type": "code",
   "execution_count": null,
   "id": "ef197c74",
   "metadata": {},
   "outputs": [],
   "source": [
    "geemap.landsat_timelapse(\n",
    "    roi,\n",
    "    out_fading_gif,\n",
    "    start_year=2004,\n",
    "    end_year=2010,\n",
    "    frames_per_second=1,\n",
    "    title=title,\n",
    "    fading=True,\n",
    ")"
   ]
  },
  {
   "cell_type": "code",
   "execution_count": null,
   "id": "d5860368",
   "metadata": {},
   "outputs": [],
   "source": [
    "geemap.show_image(out_fading_gif)"
   ]
  },
  {
   "cell_type": "markdown",
   "id": "18514c1c",
   "metadata": {},
   "source": [
    "## Creating GOES timelapses"
   ]
  },
  {
   "cell_type": "code",
   "execution_count": null,
   "id": "2e79c0b2",
   "metadata": {},
   "outputs": [],
   "source": [
    "import os\n",
    "import ee\n",
    "import geemap"
   ]
  },
  {
   "cell_type": "code",
   "execution_count": null,
   "id": "79f73a87",
   "metadata": {},
   "outputs": [],
   "source": [
    "# geemap.update_package()"
   ]
  },
  {
   "cell_type": "code",
   "execution_count": null,
   "id": "456aede4",
   "metadata": {},
   "outputs": [],
   "source": [
    "m = geemap.ee_initialize()"
   ]
  },
  {
   "cell_type": "code",
   "execution_count": null,
   "id": "2e33ba2c",
   "metadata": {},
   "outputs": [],
   "source": [
    "region = ee.Geometry.Polygon(\n",
    "    [\n",
    "        [\n",
    "            [-159.5954379282731, 60.40883060191719],\n",
    "            [-159.5954379282731, 24.517881970830725],\n",
    "            [-114.2438754282731, 24.517881970830725],\n",
    "            [-114.2438754282731, 60.40883060191719],\n",
    "        ]\n",
    "    ],\n",
    "    None,\n",
    "    False,\n",
    ")"
   ]
  },
  {
   "cell_type": "code",
   "execution_count": null,
   "id": "535479e6",
   "metadata": {},
   "outputs": [],
   "source": [
    "start_date = \"2021-10-24T14:00:00\"\n",
    "end_date = \"2021-10-25T01:00:00\"\n",
    "data = \"GOES-17\"\n",
    "scan = \"full_disk\""
   ]
  },
  {
   "cell_type": "code",
   "execution_count": null,
   "id": "a6f426ca",
   "metadata": {},
   "outputs": [],
   "source": [
    "col = geemap.goes_timeseries(start_date, end_date, data, scan, region)"
   ]
  },
  {
   "cell_type": "code",
   "execution_count": null,
   "id": "e6777473",
   "metadata": {},
   "outputs": [],
   "source": [
    "visParams = {\n",
    "    'bands': ['CMI_C02', 'CMI_GREEN', 'CMI_C01'],\n",
    "    'min': 0,\n",
    "    'max': 0.8,\n",
    "    'dimensions': 700,\n",
    "    'framesPerSecond': 9,\n",
    "    'region': region,\n",
    "    'crs': col.first().projection(),\n",
    "}"
   ]
  },
  {
   "cell_type": "code",
   "execution_count": null,
   "id": "e647a33e",
   "metadata": {},
   "outputs": [],
   "source": [
    "out_dir = os.path.expanduser(\"~/Downloads\")\n",
    "out_gif = os.path.join(out_dir, \"goes_timelapse.gif\")\n",
    "if not os.path.exists(out_dir):\n",
    "    os.makedirs(out_dir)"
   ]
  },
  {
   "cell_type": "code",
   "execution_count": null,
   "id": "6d2722ac",
   "metadata": {},
   "outputs": [],
   "source": [
    "geemap.download_ee_video(col, visParams, out_gif)"
   ]
  },
  {
   "cell_type": "code",
   "execution_count": null,
   "id": "972de6ff",
   "metadata": {},
   "outputs": [],
   "source": [
    "timestamps = geemap.image_dates(col, date_format='YYYY-MM-dd HH:mm').getInfo()"
   ]
  },
  {
   "cell_type": "code",
   "execution_count": null,
   "id": "83d7275a",
   "metadata": {},
   "outputs": [],
   "source": [
    "geemap.add_text_to_gif(\n",
    "    out_gif,\n",
    "    out_gif,\n",
    "    xy=('3%', '3%'),\n",
    "    text_sequence=timestamps,\n",
    "    font_size=20,\n",
    "    font_color='#ffffff',\n",
    ")"
   ]
  },
  {
   "cell_type": "code",
   "execution_count": null,
   "id": "885e0c66",
   "metadata": {},
   "outputs": [],
   "source": [
    "geemap.goes_timelapse(\n",
    "    out_gif, start_date, end_date, data, scan, region, framesPerSecond=10\n",
    ")"
   ]
  },
  {
   "cell_type": "markdown",
   "id": "5e79da35",
   "metadata": {},
   "source": [
    "## Creating MODIS timelapses"
   ]
  },
  {
   "cell_type": "markdown",
   "id": "1c5b5503",
   "metadata": {},
   "source": [
    "## Summary\n",
    "\n",
    "## References"
   ]
  }
 ],
 "metadata": {
  "jupytext": {
   "text_representation": {
    "extension": ".md",
    "format_name": "myst",
    "format_version": 0.13,
    "jupytext_version": "1.11.5"
   }
  },
  "kernelspec": {
   "display_name": "Python 3",
   "language": "python",
   "name": "python3"
  },
  "source_map": [
   12,
   23,
   40,
   44,
   49,
   51,
   55,
   60,
   68,
   73,
   77,
   87,
   91,
   108,
   112,
   118,
   122,
   126,
   130,
   135,
   139,
   143,
   160,
   166,
   171,
   179,
   183,
   188,
   197,
   201,
   207,
   212,
   214,
   218,
   220,
   224,
   232,
   234,
   238,
   250,
   252,
   256,
   262,
   264,
   268,
   272,
   292,
   296,
   300,
   331,
   335,
   340,
   342,
   346,
   349,
   353,
   357,
   368,
   378,
   380,
   384,
   389,
   391,
   395,
   399,
   407,
   410,
   414,
   417,
   421,
   423,
   427,
   433,
   437,
   441,
   443,
   447,
   463,
   465,
   469,
   475,
   477,
   481,
   486,
   490,
   494,
   498,
   502,
   508,
   514,
   528,
   533,
   538,
   550,
   554,
   558,
   570,
   574,
   578,
   584,
   588,
   592,
   607,
   614,
   618,
   630,
   637,
   641,
   645,
   656,
   660,
   664
  ]
 },
 "nbformat": 4,
 "nbformat_minor": 5
}