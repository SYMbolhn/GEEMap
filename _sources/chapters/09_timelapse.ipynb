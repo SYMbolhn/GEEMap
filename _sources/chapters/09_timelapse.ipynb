{
 "cells": [
  {
   "cell_type": "markdown",
   "id": "e4764b2a",
   "metadata": {},
   "source": [
    "# Creating Timelapses\n",
    "\n",
    "```{contents}\n",
    ":local:\n",
    ":depth: 2\n",
    "```\n",
    "\n",
    "## Introduction"
   ]
  },
  {
   "cell_type": "markdown",
   "id": "cc09ef3f",
   "metadata": {},
   "source": [
    "## Technical requirements\n",
    "\n",
    "```bash\n",
    "conda create -n gee python\n",
    "conda activate gee\n",
    "conda install -c conda-forge mamba\n",
    "mamba install -c conda-forge pygis\n",
    "```\n",
    "\n",
    "```bash\n",
    "jupyter lab\n",
    "```\n",
    "\n",
    "[![Open in Colab](https://colab.research.google.com/assets/colab-badge.svg)](https://colab.research.google.com/github/giswqs/geebook/blob/master/chapters/09_timelapse.ipynb)"
   ]
  },
  {
   "cell_type": "code",
   "execution_count": null,
   "id": "790a7983",
   "metadata": {},
   "outputs": [],
   "source": [
    "!pip install pygis"
   ]
  },
  {
   "cell_type": "code",
   "execution_count": null,
   "id": "fcd47e88",
   "metadata": {},
   "outputs": [],
   "source": [
    "import ee\n",
    "import geemap"
   ]
  },
  {
   "cell_type": "code",
   "execution_count": null,
   "id": "9c16123b",
   "metadata": {},
   "outputs": [],
   "source": [
    "geemap.ee_initialize()"
   ]
  },
  {
   "cell_type": "markdown",
   "id": "bfea26f2",
   "metadata": {},
   "source": [
    "## The map function"
   ]
  },
  {
   "cell_type": "code",
   "execution_count": null,
   "id": "a708bfe0",
   "metadata": {},
   "outputs": [],
   "source": [
    "myList = ee.List.sequence(1, 10)\n",
    "print(myList.getInfo())"
   ]
  },
  {
   "cell_type": "code",
   "execution_count": null,
   "id": "bc6291b2",
   "metadata": {},
   "outputs": [],
   "source": [
    "def computeSquares(number):\n",
    "    return ee.Number(number).pow(2)\n",
    "\n",
    "squares = myList.map(computeSquares)\n",
    "print(squares.getInfo())"
   ]
  },
  {
   "cell_type": "code",
   "execution_count": null,
   "id": "fc5035da",
   "metadata": {},
   "outputs": [],
   "source": [
    "squares = myList.map(lambda number: ee.Number(number).pow(2))\n",
    "print(squares.getInfo())"
   ]
  },
  {
   "cell_type": "markdown",
   "id": "e0f7c30b",
   "metadata": {},
   "source": [
    "## Creating cloud-free composites"
   ]
  },
  {
   "cell_type": "code",
   "execution_count": null,
   "id": "688b2fdb",
   "metadata": {},
   "outputs": [],
   "source": [
    "Map = geemap.Map()\n",
    "fc = ee.FeatureCollection('USDOS/LSIB_SIMPLE/2017') \\\n",
    "    .filter(ee.Filter.eq('country_na', 'Netherlands'))\n",
    "\n",
    "Map.addLayer(fc, {'color': 'ff000000'}, \"Netherlands\")\n",
    "Map.centerObject(fc)\n",
    "Map"
   ]
  },
  {
   "cell_type": "code",
   "execution_count": null,
   "id": "3eb2519f",
   "metadata": {},
   "outputs": [],
   "source": [
    "years = ee.List.sequence(2013, 2021)"
   ]
  },
  {
   "cell_type": "code",
   "execution_count": null,
   "id": "45461f42",
   "metadata": {},
   "outputs": [],
   "source": [
    "def yearly_image(year):\n",
    "\n",
    "    start_date = ee.Date.fromYMD(year, 1, 1)\n",
    "    end_date = start_date.advance(1, \"year\")\n",
    "\n",
    "    collection = (\n",
    "        ee.ImageCollection('LANDSAT/LC08/C01/T1')\n",
    "        .filterDate(start_date, end_date)\n",
    "        .filterBounds(fc)\n",
    "    )\n",
    "\n",
    "    image = ee.Algorithms.Landsat.simpleComposite(collection).clipToCollection(fc)\n",
    "\n",
    "    return image"
   ]
  },
  {
   "cell_type": "code",
   "execution_count": null,
   "id": "5bf6b46a",
   "metadata": {},
   "outputs": [],
   "source": [
    "images = years.map(yearly_image)"
   ]
  },
  {
   "cell_type": "code",
   "execution_count": null,
   "id": "6b37b070",
   "metadata": {},
   "outputs": [],
   "source": [
    "vis_params = {'bands': ['B5', 'B4', 'B3'], 'max': 128}\n",
    "for index in range(0, 9):\n",
    "    image = ee.Image(images.get(index))\n",
    "    layer_name = \"Year \" + str(index + 2013)\n",
    "    Map.addLayer(image, vis_params, layer_name)"
   ]
  },
  {
   "cell_type": "markdown",
   "id": "da23e9a6",
   "metadata": {},
   "source": [
    "## Creating image timeseries"
   ]
  },
  {
   "cell_type": "code",
   "execution_count": null,
   "id": "f8696300",
   "metadata": {},
   "outputs": [],
   "source": [
    "collection = ee.ImageCollection(\"COPERNICUS/S2_HARMONIZED\")"
   ]
  },
  {
   "cell_type": "code",
   "execution_count": null,
   "id": "bc29f28d",
   "metadata": {},
   "outputs": [],
   "source": [
    "region = ee.Geometry.BBox(-122.5549, 37.6968, -122.3446, 37.8111)"
   ]
  },
  {
   "cell_type": "code",
   "execution_count": null,
   "id": "5a6a503f",
   "metadata": {},
   "outputs": [],
   "source": [
    "start_date = '2016-01-01'\n",
    "end_date = '2021-12-31'"
   ]
  },
  {
   "cell_type": "code",
   "execution_count": null,
   "id": "a2c69514",
   "metadata": {},
   "outputs": [],
   "source": [
    "images = geemap.create_timeseries(collection, start_date, end_date, Map.user_roi, frequency='year', reducer='median')"
   ]
  },
  {
   "cell_type": "code",
   "execution_count": null,
   "id": "4c22455b",
   "metadata": {},
   "outputs": [],
   "source": [
    "images.getInfo()"
   ]
  },
  {
   "cell_type": "code",
   "execution_count": null,
   "id": "264caa1d",
   "metadata": {},
   "outputs": [],
   "source": [
    "Map = geemap.Map()\n",
    "\n",
    "# S2 = (\n",
    "#     ee.ImageCollection('COPERNICUS/S2_SR')\n",
    "#     .filterBounds(ee.Geometry.Point([-122.45, 37.75]))\n",
    "#     .filterMetadata('CLOUDY_PIXEL_PERCENTAGE', 'less_than', 10)\n",
    "# )\n",
    "\n",
    "vis_params = {\"min\": 0, \"max\": 4000, \"bands\": [\"B8\", \"B4\", \"B3\"]}\n",
    "\n",
    "Map.addLayer(images, {}, \"Sentinel-2\", False)\n",
    "Map.add_time_slider(images, vis_params, time_interval=2)\n",
    "Map.centerObject(region)\n",
    "Map"
   ]
  },
  {
   "cell_type": "markdown",
   "id": "1214b7c8",
   "metadata": {},
   "source": [
    "## Creating timelapses\n",
    "\n",
    "### NAIP"
   ]
  },
  {
   "cell_type": "code",
   "execution_count": null,
   "id": "3e3f6133",
   "metadata": {},
   "outputs": [],
   "source": [
    "Map = geemap.Map(center=[40, -100], zoom=4)\n",
    "Map"
   ]
  },
  {
   "cell_type": "code",
   "execution_count": null,
   "id": "e69dab6e",
   "metadata": {},
   "outputs": [],
   "source": [
    "region = Map.user_roi\n",
    "if region is None:\n",
    "    region = ee.Geometry.BBox(-99.1019, 47.1274, -99.0334, 47.1562)\n",
    "    Map.addLayer(region)\n",
    "    Map.centerObject(region)"
   ]
  },
  {
   "cell_type": "code",
   "execution_count": null,
   "id": "95716cde",
   "metadata": {},
   "outputs": [],
   "source": [
    "collection = geemap.naip_timeseries(region, start_year=2009, end_year=2020, RGBN=True)"
   ]
  },
  {
   "cell_type": "code",
   "execution_count": null,
   "id": "b4ab497b",
   "metadata": {},
   "outputs": [],
   "source": [
    "years = geemap.image_dates(collection, date_format='YYYY').getInfo()\n",
    "print(years)"
   ]
  },
  {
   "cell_type": "code",
   "execution_count": null,
   "id": "e5021c85",
   "metadata": {},
   "outputs": [],
   "source": [
    "size = len(years)\n",
    "images = collection.toList(size)\n",
    "for i in range(size):\n",
    "    image = ee.Image(images.get(i))\n",
    "    Map.addLayer(image, {'bands': ['N', 'R', 'G']}, years[i])\n",
    "Map"
   ]
  },
  {
   "cell_type": "code",
   "execution_count": null,
   "id": "402f7bae",
   "metadata": {},
   "outputs": [],
   "source": [
    "geemap.naip_timelapse(\n",
    "    region, out_gif=\"naip.gif\", bands=['N', 'R', 'G'], frames_per_second=3, title='NAIP Timelapse'\n",
    ")"
   ]
  },
  {
   "cell_type": "markdown",
   "id": "1d1c3e99",
   "metadata": {},
   "source": [
    "## Creating Landsat timelapses\n",
    "\n",
    "### Adding animated text"
   ]
  },
  {
   "cell_type": "code",
   "execution_count": null,
   "id": "4c6c602f",
   "metadata": {},
   "outputs": [],
   "source": [
    "import geemap\n",
    "import os"
   ]
  },
  {
   "cell_type": "code",
   "execution_count": null,
   "id": "bbe6a8da",
   "metadata": {},
   "outputs": [],
   "source": [
    "geemap.show_youtube('fDnDVuM_Ke4')"
   ]
  },
  {
   "cell_type": "markdown",
   "id": "0f485739",
   "metadata": {},
   "source": [
    "### Update the geemap package"
   ]
  },
  {
   "cell_type": "code",
   "execution_count": null,
   "id": "4e5ae065",
   "metadata": {},
   "outputs": [],
   "source": [
    "# geemap.update_package()"
   ]
  },
  {
   "cell_type": "markdown",
   "id": "1c3affae",
   "metadata": {},
   "source": [
    "### Add animated text to an existing GIF"
   ]
  },
  {
   "cell_type": "code",
   "execution_count": null,
   "id": "da57c87d",
   "metadata": {},
   "outputs": [],
   "source": [
    "in_gif = os.path.abspath('../data/animation.gif')\n",
    "out_dir = os.path.join(os.path.expanduser('~'), 'Downloads')\n",
    "out_gif = os.path.join(out_dir, 'output.gif')\n",
    "if not os.path.exists(out_dir):\n",
    "    os.makedirs(out_dir)"
   ]
  },
  {
   "cell_type": "code",
   "execution_count": null,
   "id": "11ca559d",
   "metadata": {},
   "outputs": [],
   "source": [
    "geemap.show_image(in_gif)"
   ]
  },
  {
   "cell_type": "markdown",
   "id": "6a46e46e",
   "metadata": {},
   "source": [
    "#### Add animated text to GIF"
   ]
  },
  {
   "cell_type": "code",
   "execution_count": null,
   "id": "5007f775",
   "metadata": {},
   "outputs": [],
   "source": [
    "geemap.add_text_to_gif(\n",
    "    in_gif,\n",
    "    out_gif,\n",
    "    xy=('5%', '5%'),\n",
    "    text_sequence=1984,\n",
    "    font_size=30,\n",
    "    font_color='#0000ff',\n",
    "    duration=100,\n",
    ")"
   ]
  },
  {
   "cell_type": "code",
   "execution_count": null,
   "id": "72afa3d9",
   "metadata": {},
   "outputs": [],
   "source": [
    "geemap.show_image(out_gif)"
   ]
  },
  {
   "cell_type": "markdown",
   "id": "20b35ccf",
   "metadata": {},
   "source": [
    "#### Add place name"
   ]
  },
  {
   "cell_type": "code",
   "execution_count": null,
   "id": "2108808f",
   "metadata": {},
   "outputs": [],
   "source": [
    "geemap.add_text_to_gif(\n",
    "    out_gif, out_gif, xy=('30%', '85%'), text_sequence=\"Las Vegas\", font_color='black'\n",
    ")"
   ]
  },
  {
   "cell_type": "code",
   "execution_count": null,
   "id": "011df394",
   "metadata": {},
   "outputs": [],
   "source": [
    "geemap.show_image(out_gif)"
   ]
  },
  {
   "cell_type": "markdown",
   "id": "d9eb6d6f",
   "metadata": {},
   "source": [
    "#### Change font type"
   ]
  },
  {
   "cell_type": "code",
   "execution_count": null,
   "id": "b6b2dbb3",
   "metadata": {},
   "outputs": [],
   "source": [
    "geemap.system_fonts()"
   ]
  },
  {
   "cell_type": "code",
   "execution_count": null,
   "id": "405ecf9c",
   "metadata": {},
   "outputs": [],
   "source": [
    "geemap.add_text_to_gif(\n",
    "    in_gif,\n",
    "    out_gif,\n",
    "    xy=('5%', '5%'),\n",
    "    text_sequence=1984,\n",
    "    font_size=30,\n",
    "    font_color='#0000ff',\n",
    "    duration=100,\n",
    ")\n",
    "geemap.add_text_to_gif(\n",
    "    out_gif,\n",
    "    out_gif,\n",
    "    xy=('30%', '85%'),\n",
    "    text_sequence=\"Las Vegas\",\n",
    "    font_type=\"timesbd.ttf\",\n",
    "    font_size=30,\n",
    "    font_color='black',\n",
    ")\n",
    "geemap.show_image(out_gif)"
   ]
  },
  {
   "cell_type": "markdown",
   "id": "1cc61f80",
   "metadata": {},
   "source": [
    "### Create GIF from Earth Engine data"
   ]
  },
  {
   "cell_type": "markdown",
   "id": "3b823187",
   "metadata": {},
   "source": [
    "#### Prepare for an ImageCollection"
   ]
  },
  {
   "cell_type": "code",
   "execution_count": null,
   "id": "41522d42",
   "metadata": {},
   "outputs": [],
   "source": [
    "import ee\n",
    "import geemap\n",
    "\n",
    "ee.Initialize()\n",
    "\n",
    "# Define an area of interest geometry with a global non-polar extent.\n",
    "aoi = ee.Geometry.Polygon(\n",
    "    [[[-179.0, 78.0], [-179.0, -58.0], [179.0, -58.0], [179.0, 78.0]]], None, False\n",
    ")\n",
    "\n",
    "# Import hourly predicted temperature image collection for northern winter\n",
    "# solstice. Note that predictions extend for 384 hours; limit the collection\n",
    "# to the first 24 hours.\n",
    "tempCol = (\n",
    "    ee.ImageCollection('NOAA/GFS0P25')\n",
    "    .filterDate('2018-12-22', '2018-12-23')\n",
    "    .limit(24)\n",
    "    .select('temperature_2m_above_ground')\n",
    ")\n",
    "\n",
    "# Define arguments for animation function parameters.\n",
    "videoArgs = {\n",
    "    'dimensions': 768,\n",
    "    'region': aoi,\n",
    "    'framesPerSecond': 10,\n",
    "    'crs': 'EPSG:3857',\n",
    "    'min': -40.0,\n",
    "    'max': 35.0,\n",
    "    'palette': ['blue', 'purple', 'cyan', 'green', 'yellow', 'red'],\n",
    "}"
   ]
  },
  {
   "cell_type": "markdown",
   "id": "9fdfe23f",
   "metadata": {},
   "source": [
    "#### Save the GIF to local drive"
   ]
  },
  {
   "cell_type": "code",
   "execution_count": null,
   "id": "d16356c2",
   "metadata": {},
   "outputs": [],
   "source": [
    "saved_gif = os.path.join(os.path.expanduser('~'), 'Downloads/temperature.gif')\n",
    "geemap.download_ee_video(tempCol, videoArgs, saved_gif)"
   ]
  },
  {
   "cell_type": "code",
   "execution_count": null,
   "id": "f2fd0794",
   "metadata": {},
   "outputs": [],
   "source": [
    "geemap.show_image(saved_gif)"
   ]
  },
  {
   "cell_type": "markdown",
   "id": "a89c6f1b",
   "metadata": {},
   "source": [
    "#### Generate an hourly text sequence"
   ]
  },
  {
   "cell_type": "code",
   "execution_count": null,
   "id": "34c1e229",
   "metadata": {},
   "outputs": [],
   "source": [
    "text = [str(n).zfill(2) + \":00\" for n in range(0, 24)]\n",
    "print(text)"
   ]
  },
  {
   "cell_type": "markdown",
   "id": "5916d590",
   "metadata": {},
   "source": [
    "#### Add text to GIF"
   ]
  },
  {
   "cell_type": "code",
   "execution_count": null,
   "id": "ac09c931",
   "metadata": {},
   "outputs": [],
   "source": [
    "out_gif = os.path.join(os.path.expanduser('~'), 'Downloads/output2.gif')"
   ]
  },
  {
   "cell_type": "code",
   "execution_count": null,
   "id": "127827e6",
   "metadata": {},
   "outputs": [],
   "source": [
    "geemap.add_text_to_gif(\n",
    "    saved_gif,\n",
    "    out_gif,\n",
    "    xy=('3%', '5%'),\n",
    "    text_sequence=text,\n",
    "    font_size=30,\n",
    "    font_color='#ffffff',\n",
    ")"
   ]
  },
  {
   "cell_type": "code",
   "execution_count": null,
   "id": "d2233264",
   "metadata": {},
   "outputs": [],
   "source": [
    "geemap.add_text_to_gif(\n",
    "    out_gif,\n",
    "    out_gif,\n",
    "    xy=('32%', '92%'),\n",
    "    text_sequence='NOAA GFS Hourly Temperature',\n",
    "    font_color='white',\n",
    ")"
   ]
  },
  {
   "cell_type": "code",
   "execution_count": null,
   "id": "dcfb69e6",
   "metadata": {},
   "outputs": [],
   "source": [
    "geemap.show_image(out_gif)"
   ]
  },
  {
   "cell_type": "markdown",
   "id": "45c66a22",
   "metadata": {},
   "source": [
    "### Adding colorbar to an image"
   ]
  },
  {
   "cell_type": "code",
   "execution_count": null,
   "id": "af42c4c6",
   "metadata": {},
   "outputs": [],
   "source": [
    "import geemap\n",
    "import os"
   ]
  },
  {
   "cell_type": "code",
   "execution_count": null,
   "id": "30ecf8e3",
   "metadata": {},
   "outputs": [],
   "source": [
    "# geemap.update_package()"
   ]
  },
  {
   "cell_type": "markdown",
   "id": "17a11c9a",
   "metadata": {},
   "source": [
    "#### Download a GIF"
   ]
  },
  {
   "cell_type": "code",
   "execution_count": null,
   "id": "188ed8ab",
   "metadata": {},
   "outputs": [],
   "source": [
    "from geemap import *"
   ]
  },
  {
   "cell_type": "code",
   "execution_count": null,
   "id": "e613fb3e",
   "metadata": {},
   "outputs": [],
   "source": [
    "url = 'https://i.imgur.com/MSde1om.gif'\n",
    "out_dir = os.path.join(os.path.expanduser('~'), 'Downloads')\n",
    "if not os.path.exists(out_dir):\n",
    "    os.makedirs(out_dir)\n",
    "download_from_url(url, out_file_name='temp.gif', out_dir=out_dir)"
   ]
  },
  {
   "cell_type": "code",
   "execution_count": null,
   "id": "a06772df",
   "metadata": {},
   "outputs": [],
   "source": [
    "in_gif = os.path.join(out_dir, 'temp.gif')\n",
    "show_image(in_gif)"
   ]
  },
  {
   "cell_type": "markdown",
   "id": "49d8eeac",
   "metadata": {},
   "source": [
    "#### Get image URLs"
   ]
  },
  {
   "cell_type": "code",
   "execution_count": null,
   "id": "8ade2853",
   "metadata": {},
   "outputs": [],
   "source": [
    "noaa_logo = 'https://bit.ly/3ahJoMq'\n",
    "ee_logo = 'https://i.imgur.com/Qbvacvm.jpg'"
   ]
  },
  {
   "cell_type": "markdown",
   "id": "85123e17",
   "metadata": {},
   "source": [
    "#### Set output GIF path"
   ]
  },
  {
   "cell_type": "code",
   "execution_count": null,
   "id": "e978bd06",
   "metadata": {},
   "outputs": [],
   "source": [
    "out_gif = os.path.join(out_dir, 'output.gif')"
   ]
  },
  {
   "cell_type": "markdown",
   "id": "a77b2375",
   "metadata": {},
   "source": [
    "#### Add images to GIF"
   ]
  },
  {
   "cell_type": "code",
   "execution_count": null,
   "id": "0adc7315",
   "metadata": {},
   "outputs": [],
   "source": [
    "add_image_to_gif(\n",
    "    in_gif, out_gif, in_image=noaa_logo, xy=('2%', '80%'), image_size=(80, 80)\n",
    ")"
   ]
  },
  {
   "cell_type": "code",
   "execution_count": null,
   "id": "554be7d4",
   "metadata": {},
   "outputs": [],
   "source": [
    "add_image_to_gif(\n",
    "    out_gif, out_gif, in_image=ee_logo, xy=('13%', '79%'), image_size=(85, 85)\n",
    ")"
   ]
  },
  {
   "cell_type": "markdown",
   "id": "46d67de7",
   "metadata": {},
   "source": [
    "#### Display output GIF"
   ]
  },
  {
   "cell_type": "code",
   "execution_count": null,
   "id": "fdf7314f",
   "metadata": {},
   "outputs": [],
   "source": [
    "show_image(out_gif)"
   ]
  },
  {
   "cell_type": "markdown",
   "id": "6c44d975",
   "metadata": {},
   "source": [
    "#### Create a colorbar"
   ]
  },
  {
   "cell_type": "code",
   "execution_count": null,
   "id": "fedf3eca",
   "metadata": {},
   "outputs": [],
   "source": [
    "width = 250\n",
    "height = 30\n",
    "palette = ['blue', 'purple', 'cyan', 'green', 'yellow', 'red']\n",
    "labels = [-40, 35]\n",
    "colorbar = create_colorbar(\n",
    "    width=width,\n",
    "    height=height,\n",
    "    palette=palette,\n",
    "    vertical=False,\n",
    "    add_labels=True,\n",
    "    font_size=20,\n",
    "    labels=labels,\n",
    ")"
   ]
  },
  {
   "cell_type": "code",
   "execution_count": null,
   "id": "ed2b74d4",
   "metadata": {},
   "outputs": [],
   "source": [
    "show_image(colorbar)"
   ]
  },
  {
   "cell_type": "markdown",
   "id": "db945921",
   "metadata": {},
   "source": [
    "#### Add colorbar to GIF"
   ]
  },
  {
   "cell_type": "code",
   "execution_count": null,
   "id": "9e82a688",
   "metadata": {},
   "outputs": [],
   "source": [
    "add_image_to_gif(\n",
    "    out_gif, out_gif, in_image=colorbar, xy=('69%', '89%'), image_size=(250, 250)\n",
    ")"
   ]
  },
  {
   "cell_type": "code",
   "execution_count": null,
   "id": "9396b253",
   "metadata": {},
   "outputs": [],
   "source": [
    "show_image(out_gif)"
   ]
  },
  {
   "cell_type": "markdown",
   "id": "b618583d",
   "metadata": {},
   "source": [
    "### Timelapse fading"
   ]
  },
  {
   "cell_type": "code",
   "execution_count": null,
   "id": "1bf215e3",
   "metadata": {},
   "outputs": [],
   "source": [
    "import ee\n",
    "import geemap"
   ]
  },
  {
   "cell_type": "code",
   "execution_count": null,
   "id": "bcf77255",
   "metadata": {},
   "outputs": [],
   "source": [
    "url = \"https://i.imgur.com/ZWSZC5z.gif\""
   ]
  },
  {
   "cell_type": "code",
   "execution_count": null,
   "id": "d13d0253",
   "metadata": {},
   "outputs": [],
   "source": [
    "geemap.show_image(url, verbose=False)"
   ]
  },
  {
   "cell_type": "code",
   "execution_count": null,
   "id": "fe3cb4b4",
   "metadata": {},
   "outputs": [],
   "source": [
    "out_gif = \"gif_fading.gif\""
   ]
  },
  {
   "cell_type": "code",
   "execution_count": null,
   "id": "8e85a3e8",
   "metadata": {},
   "outputs": [],
   "source": [
    "geemap.gif_fading(url, out_gif, verbose=False)"
   ]
  },
  {
   "cell_type": "code",
   "execution_count": null,
   "id": "56308229",
   "metadata": {},
   "outputs": [],
   "source": [
    "geemap.show_image(out_gif)"
   ]
  },
  {
   "cell_type": "code",
   "execution_count": null,
   "id": "3a944e7a",
   "metadata": {},
   "outputs": [],
   "source": [
    "Map = geemap.Map()\n",
    "Map.add_basemap(\"HYBRID\")\n",
    "Map"
   ]
  },
  {
   "cell_type": "code",
   "execution_count": null,
   "id": "1b5a4ba6",
   "metadata": {},
   "outputs": [],
   "source": [
    "roi = ee.Geometry.Polygon(\n",
    "    [\n",
    "        [\n",
    "            [-69.315491, -22.837104],\n",
    "            [-69.315491, -22.751488],\n",
    "            [-69.190006, -22.751488],\n",
    "            [-69.190006, -22.837104],\n",
    "            [-69.315491, -22.837104],\n",
    "        ]\n",
    "    ]\n",
    ")"
   ]
  },
  {
   "cell_type": "code",
   "execution_count": null,
   "id": "81bcb4a9",
   "metadata": {},
   "outputs": [],
   "source": [
    "Map.addLayer(roi, {}, \"ROI\")\n",
    "Map.centerObject(roi)"
   ]
  },
  {
   "cell_type": "code",
   "execution_count": null,
   "id": "e33a9d01",
   "metadata": {},
   "outputs": [],
   "source": [
    "title = \"Sierra Gorda copper mines, Chile\"\n",
    "out_gif = \"timelapse.gif\""
   ]
  },
  {
   "cell_type": "code",
   "execution_count": null,
   "id": "2c2d4764",
   "metadata": {},
   "outputs": [],
   "source": [
    "geemap.landsat_timelapse(\n",
    "    roi,\n",
    "    out_gif,\n",
    "    start_year=2004,\n",
    "    end_year=2010,\n",
    "    frames_per_second=1,\n",
    "    title=title,\n",
    "    fading=False,\n",
    ")"
   ]
  },
  {
   "cell_type": "code",
   "execution_count": null,
   "id": "dfd32a37",
   "metadata": {},
   "outputs": [],
   "source": [
    "geemap.show_image(out_gif)"
   ]
  },
  {
   "cell_type": "code",
   "execution_count": null,
   "id": "cb88af22",
   "metadata": {},
   "outputs": [],
   "source": [
    "out_fading_gif = \"timelapse_fading.gif\""
   ]
  },
  {
   "cell_type": "code",
   "execution_count": null,
   "id": "8006b9f0",
   "metadata": {},
   "outputs": [],
   "source": [
    "geemap.landsat_timelapse(\n",
    "    roi,\n",
    "    out_fading_gif,\n",
    "    start_year=2004,\n",
    "    end_year=2010,\n",
    "    frames_per_second=1,\n",
    "    title=title,\n",
    "    fading=True,\n",
    ")"
   ]
  },
  {
   "cell_type": "code",
   "execution_count": null,
   "id": "5a918da0",
   "metadata": {},
   "outputs": [],
   "source": [
    "geemap.show_image(out_fading_gif)"
   ]
  },
  {
   "cell_type": "markdown",
   "id": "596aad69",
   "metadata": {},
   "source": [
    "## Creating GOES timelapses"
   ]
  },
  {
   "cell_type": "code",
   "execution_count": null,
   "id": "f6de9de8",
   "metadata": {},
   "outputs": [],
   "source": [
    "import os\n",
    "import ee\n",
    "import geemap"
   ]
  },
  {
   "cell_type": "code",
   "execution_count": null,
   "id": "e6369230",
   "metadata": {},
   "outputs": [],
   "source": [
    "# geemap.update_package()"
   ]
  },
  {
   "cell_type": "code",
   "execution_count": null,
   "id": "168018bb",
   "metadata": {},
   "outputs": [],
   "source": [
    "m = geemap.ee_initialize()"
   ]
  },
  {
   "cell_type": "code",
   "execution_count": null,
   "id": "dda097d0",
   "metadata": {},
   "outputs": [],
   "source": [
    "region = ee.Geometry.Polygon(\n",
    "    [\n",
    "        [\n",
    "            [-159.5954379282731, 60.40883060191719],\n",
    "            [-159.5954379282731, 24.517881970830725],\n",
    "            [-114.2438754282731, 24.517881970830725],\n",
    "            [-114.2438754282731, 60.40883060191719],\n",
    "        ]\n",
    "    ],\n",
    "    None,\n",
    "    False,\n",
    ")"
   ]
  },
  {
   "cell_type": "code",
   "execution_count": null,
   "id": "ca538b9a",
   "metadata": {},
   "outputs": [],
   "source": [
    "start_date = \"2021-10-24T14:00:00\"\n",
    "end_date = \"2021-10-25T01:00:00\"\n",
    "data = \"GOES-17\"\n",
    "scan = \"full_disk\""
   ]
  },
  {
   "cell_type": "code",
   "execution_count": null,
   "id": "f891c1b6",
   "metadata": {},
   "outputs": [],
   "source": [
    "col = geemap.goes_timeseries(start_date, end_date, data, scan, region)"
   ]
  },
  {
   "cell_type": "code",
   "execution_count": null,
   "id": "c5519f9e",
   "metadata": {},
   "outputs": [],
   "source": [
    "visParams = {\n",
    "    'bands': ['CMI_C02', 'CMI_GREEN', 'CMI_C01'],\n",
    "    'min': 0,\n",
    "    'max': 0.8,\n",
    "    'dimensions': 700,\n",
    "    'framesPerSecond': 9,\n",
    "    'region': region,\n",
    "    'crs': col.first().projection(),\n",
    "}"
   ]
  },
  {
   "cell_type": "code",
   "execution_count": null,
   "id": "e7f63109",
   "metadata": {},
   "outputs": [],
   "source": [
    "out_dir = os.path.expanduser(\"~/Downloads\")\n",
    "out_gif = os.path.join(out_dir, \"goes_timelapse.gif\")\n",
    "if not os.path.exists(out_dir):\n",
    "    os.makedirs(out_dir)"
   ]
  },
  {
   "cell_type": "code",
   "execution_count": null,
   "id": "0395a347",
   "metadata": {},
   "outputs": [],
   "source": [
    "geemap.download_ee_video(col, visParams, out_gif)"
   ]
  },
  {
   "cell_type": "code",
   "execution_count": null,
   "id": "effff8f6",
   "metadata": {},
   "outputs": [],
   "source": [
    "timestamps = geemap.image_dates(col, date_format='YYYY-MM-dd HH:mm').getInfo()"
   ]
  },
  {
   "cell_type": "code",
   "execution_count": null,
   "id": "6c0fd731",
   "metadata": {},
   "outputs": [],
   "source": [
    "geemap.add_text_to_gif(\n",
    "    out_gif,\n",
    "    out_gif,\n",
    "    xy=('3%', '3%'),\n",
    "    text_sequence=timestamps,\n",
    "    font_size=20,\n",
    "    font_color='#ffffff',\n",
    ")"
   ]
  },
  {
   "cell_type": "code",
   "execution_count": null,
   "id": "77bd3405",
   "metadata": {},
   "outputs": [],
   "source": [
    "geemap.goes_timelapse(\n",
    "    out_gif, start_date, end_date, data, scan, region, framesPerSecond=10\n",
    ")"
   ]
  },
  {
   "cell_type": "markdown",
   "id": "2afccc5b",
   "metadata": {},
   "source": [
    "## Creating MODIS timelapses"
   ]
  },
  {
   "cell_type": "markdown",
   "id": "eaaae894",
   "metadata": {},
   "source": [
    "## Summary\n",
    "\n",
    "## References"
   ]
  }
 ],
 "metadata": {
  "jupytext": {
   "text_representation": {
    "extension": ".md",
    "format_name": "myst",
    "format_version": 0.13,
    "jupytext_version": "1.11.5"
   }
  },
  "kernelspec": {
   "display_name": "Python 3",
   "language": "python",
   "name": "python3"
  },
  "source_map": [
   12,
   23,
   40,
   44,
   49,
   51,
   55,
   60,
   68,
   73,
   77,
   87,
   91,
   108,
   112,
   118,
   122,
   126,
   130,
   135,
   139,
   143,
   160,
   166,
   171,
   179,
   183,
   188,
   197,
   201,
   207,
   212,
   214,
   218,
   220,
   224,
   232,
   234,
   238,
   250,
   252,
   256,
   262,
   264,
   268,
   272,
   292,
   296,
   300,
   331,
   335,
   340,
   342,
   346,
   349,
   353,
   357,
   368,
   378,
   380,
   384,
   389,
   391,
   395,
   399,
   407,
   410,
   414,
   417,
   421,
   423,
   427,
   433,
   437,
   441,
   443,
   447,
   463,
   465,
   469,
   475,
   477,
   481,
   486,
   490,
   494,
   498,
   502,
   508,
   514,
   528,
   533,
   538,
   550,
   554,
   558,
   570,
   574,
   578,
   584,
   588,
   592,
   607,
   614,
   618,
   630,
   637,
   641,
   645,
   656,
   660,
   664
  ]
 },
 "nbformat": 4,
 "nbformat_minor": 5
}