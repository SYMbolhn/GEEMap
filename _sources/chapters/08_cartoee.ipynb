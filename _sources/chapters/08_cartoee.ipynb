{
 "cells": [
  {
   "cell_type": "markdown",
   "id": "02149c88",
   "metadata": {},
   "source": [
    "# Making Maps with Cartoee\n",
    "\n",
    "```{contents}\n",
    ":local:\n",
    ":depth: 2\n",
    "```\n",
    "\n",
    "## Introduction\n",
    "\n",
    "## Technical requirements\n",
    "\n",
    "```bash\n",
    "conda create -n gee python\n",
    "conda activate gee\n",
    "conda install -c conda-forge mamba\n",
    "mamba install -c conda-forge geemap pygis\n",
    "mamba install -c conda-forge cartopy\n",
    "```\n",
    "\n",
    "```bash\n",
    "jupyter lab\n",
    "```\n",
    "\n",
    "[![Open in Colab](https://colab.research.google.com/assets/colab-badge.svg)](https://colab.research.google.com/github/giswqs/geebook/blob/master/chapters/08_cartoee.ipynb)"
   ]
  },
  {
   "cell_type": "code",
   "execution_count": null,
   "id": "b00a8f56",
   "metadata": {},
   "outputs": [],
   "source": [
    "# pip install pygis"
   ]
  },
  {
   "cell_type": "code",
   "execution_count": null,
   "id": "43588318",
   "metadata": {},
   "outputs": [],
   "source": [
    "# pip install cartopy"
   ]
  },
  {
   "cell_type": "code",
   "execution_count": null,
   "id": "c3151cb3",
   "metadata": {},
   "outputs": [],
   "source": [
    "import ee\n",
    "import geemap"
   ]
  },
  {
   "cell_type": "code",
   "execution_count": null,
   "id": "20d4eed3",
   "metadata": {},
   "outputs": [],
   "source": [
    "geemap.ee_initialize()"
   ]
  },
  {
   "cell_type": "code",
   "execution_count": null,
   "id": "ecc0ff7f",
   "metadata": {},
   "outputs": [],
   "source": [
    "from geemap import cartoee\n",
    "import matplotlib.pyplot as plt\n",
    "import cartopy.crs as ccrs\n",
    "import cartopy.io.img_tiles as cimgt"
   ]
  },
  {
   "cell_type": "markdown",
   "id": "85c4c339",
   "metadata": {},
   "source": [
    "## Plotting single-band images"
   ]
  },
  {
   "cell_type": "code",
   "execution_count": null,
   "id": "cf6eb646",
   "metadata": {},
   "outputs": [],
   "source": [
    "srtm = ee.Image(\"CGIAR/SRTM90_V4\")\n",
    "\n",
    "# define bounding box [east, south, west, north] to request data\n",
    "region = [180, -60, -180, 85]\n",
    "vis = {'min': 0, 'max': 3000}"
   ]
  },
  {
   "cell_type": "code",
   "execution_count": null,
   "id": "027cdbaf",
   "metadata": {},
   "outputs": [],
   "source": [
    "fig = plt.figure(figsize=(15, 9))\n",
    "\n",
    "# use cartoee to get a map\n",
    "ax = cartoee.get_map(srtm, region=region, vis_params=vis)\n",
    "\n",
    "# add a colorbar to the map using the visualization params we passed to the map\n",
    "cartoee.add_colorbar(ax, vis, loc=\"bottom\", label=\"Elevation (m)\", orientation=\"horizontal\")\n",
    "\n",
    "# add gridlines to the map at a specified interval\n",
    "cartoee.add_gridlines(ax, interval=[60, 30], linestyle=\":\")\n",
    "\n",
    "# add coastlines using the cartopy api\n",
    "ax.coastlines(color=\"red\")\n",
    "\n",
    "plt.show()"
   ]
  },
  {
   "cell_type": "code",
   "execution_count": null,
   "id": "e12f3d6d",
   "metadata": {},
   "outputs": [],
   "source": [
    "fig = plt.figure(figsize=(15, 7))\n",
    "\n",
    "cmap = \"terrain\"\n",
    "\n",
    "ax = cartoee.get_map(srtm, region=region, vis_params=vis, cmap=cmap)\n",
    "cartoee.add_colorbar(\n",
    "    ax, vis, cmap=cmap, loc=\"right\", label=\"Elevation (m)\", orientation=\"vertical\"\n",
    ")\n",
    "\n",
    "cartoee.add_gridlines(ax, interval=[60, 30], linestyle=\"--\")\n",
    "ax.coastlines(color=\"red\")\n",
    "ax.set_title(label='Global Elevation Map', fontsize=15)\n",
    "\n",
    "plt.show()"
   ]
  },
  {
   "cell_type": "code",
   "execution_count": null,
   "id": "a72b1ed5",
   "metadata": {},
   "outputs": [],
   "source": [
    "fig.savefig(\"srtm.jpg\", dpi=300, bbox_inches='tight')"
   ]
  },
  {
   "cell_type": "markdown",
   "id": "5c2d6b15",
   "metadata": {},
   "source": [
    "## Plotting multi-band images"
   ]
  },
  {
   "cell_type": "code",
   "execution_count": null,
   "id": "5f1853d5",
   "metadata": {},
   "outputs": [],
   "source": [
    "image = ee.Image('LANDSAT/LC08/C01/T1_SR/LC08_044034_20140318')\n",
    "vis = {\"bands\": ['B5', 'B4', 'B3'], \"min\": 0, \"max\": 5000, \"gamma\": 1.3}"
   ]
  },
  {
   "cell_type": "code",
   "execution_count": null,
   "id": "c79f260c",
   "metadata": {},
   "outputs": [],
   "source": [
    "fig = plt.figure(figsize=(15, 10))\n",
    "\n",
    "ax = cartoee.get_map(image, vis_params=vis)\n",
    "cartoee.pad_view(ax)\n",
    "cartoee.add_gridlines(ax, interval=0.5, xtick_rotation=0, linestyle=\":\")\n",
    "ax.coastlines(color=\"yellow\")\n",
    "\n",
    "plt.show()"
   ]
  },
  {
   "cell_type": "code",
   "execution_count": null,
   "id": "83acd159",
   "metadata": {},
   "outputs": [],
   "source": [
    "fig = plt.figure(figsize=(15, 10))\n",
    "\n",
    "region = [-121.8025, 37.3458, -122.6265, 37.9178]\n",
    "ax = cartoee.get_map(image, vis_params=vis, region=region)\n",
    "cartoee.add_gridlines(ax, interval=0.15, xtick_rotation=0, linestyle=\":\")\n",
    "ax.coastlines(color=\"yellow\")\n",
    "\n",
    "plt.show()"
   ]
  },
  {
   "cell_type": "markdown",
   "id": "49071e43",
   "metadata": {},
   "source": [
    "## Adding north arrow and scale bar"
   ]
  },
  {
   "cell_type": "code",
   "execution_count": null,
   "id": "be38717e",
   "metadata": {},
   "outputs": [],
   "source": [
    "fig = plt.figure(figsize=(15, 10))\n",
    "\n",
    "region = [-121.8025, 37.3458, -122.6265, 37.9178]\n",
    "ax = cartoee.get_map(image, vis_params=vis, region=region)\n",
    "cartoee.add_gridlines(ax, interval=0.15, xtick_rotation=0, linestyle=\":\")\n",
    "ax.coastlines(color=\"yellow\")\n",
    "\n",
    "cartoee.add_north_arrow(\n",
    "    ax, text=\"N\", xy=(0.05, 0.25), text_color=\"white\", arrow_color=\"white\", fontsize=20\n",
    ")\n",
    "cartoee.add_scale_bar_lite(\n",
    "    ax, length=10, xy=(0.1, 0.05), fontsize=20, color=\"white\", unit=\"km\"\n",
    ")\n",
    "ax.set_title(label='Landsat False Color Composite (Band 5/4/3)', fontsize=15)\n",
    "\n",
    "plt.show()"
   ]
  },
  {
   "cell_type": "code",
   "execution_count": null,
   "id": "ab691e73",
   "metadata": {},
   "outputs": [],
   "source": [
    "fig.savefig(\"landsat.jpg\", dpi=300, bbox_inches='tight')"
   ]
  },
  {
   "cell_type": "markdown",
   "id": "8d318258",
   "metadata": {},
   "source": [
    "## Adding basemaps"
   ]
  },
  {
   "cell_type": "code",
   "execution_count": null,
   "id": "0bd23e73",
   "metadata": {},
   "outputs": [],
   "source": [
    "image = ee.Image('LANDSAT/LC08/C01/T1_SR/LC08_044034_20140318')\n",
    "vis = {\"bands\": ['B5', 'B4', 'B3'], \"min\": 0, \"max\": 5000, \"gamma\": 1.3}\n",
    "\n",
    "fig = plt.figure(figsize=(15, 10))\n",
    "ax = cartoee.get_map(image, vis_params=vis, basemap='ROADMAP', zoom_level=8)\n",
    "cartoee.pad_view(ax)\n",
    "cartoee.add_gridlines(ax, interval=0.5, xtick_rotation=0, linestyle=\":\")\n",
    "ax.coastlines(color=\"yellow\")\n",
    "\n",
    "plt.show()"
   ]
  },
  {
   "cell_type": "code",
   "execution_count": null,
   "id": "e289b307",
   "metadata": {},
   "outputs": [],
   "source": [
    "import cartopy.io.img_tiles as cimgt"
   ]
  },
  {
   "cell_type": "code",
   "execution_count": null,
   "id": "605840d4",
   "metadata": {},
   "outputs": [],
   "source": [
    "basemap = cimgt.Stamen('terrain-background')\n",
    "\n",
    "fig = plt.figure(figsize=(15, 10))\n",
    "\n",
    "ax = cartoee.get_map(image, vis_params=vis, basemap=basemap, zoom_level=8)\n",
    "cartoee.pad_view(ax)\n",
    "cartoee.add_gridlines(ax, interval=0.5, xtick_rotation=0, linestyle=\":\")\n",
    "ax.coastlines(color=\"yellow\")\n",
    "\n",
    "plt.show()"
   ]
  },
  {
   "cell_type": "code",
   "execution_count": null,
   "id": "9393d330",
   "metadata": {},
   "outputs": [],
   "source": [
    "basemap = cimgt.OSM()\n",
    "\n",
    "fig = plt.figure(figsize=(15, 10))\n",
    "ax = cartoee.get_map(image, vis_params=vis, basemap=basemap, zoom_level=8)\n",
    "cartoee.pad_view(ax)\n",
    "cartoee.add_gridlines(ax, interval=0.5, xtick_rotation=0, linestyle=\":\")\n",
    "ax.coastlines(color=\"yellow\")\n",
    "\n",
    "plt.show()"
   ]
  },
  {
   "cell_type": "markdown",
   "id": "4c091358",
   "metadata": {},
   "source": [
    "## Using custom projections\n",
    "\n",
    "### Plotting an image on a map"
   ]
  },
  {
   "cell_type": "code",
   "execution_count": null,
   "id": "d6be68a5",
   "metadata": {},
   "outputs": [],
   "source": [
    "# get an earth engine image of ocean data for Jan-Mar 2018\n",
    "ocean = (\n",
    "    ee.ImageCollection('NASA/OCEANDATA/MODIS-Terra/L3SMI')\n",
    "    .filter(ee.Filter.date('2018-01-01', '2018-03-01'))\n",
    "    .median()\n",
    "    .select([\"sst\"], [\"SST\"])\n",
    ")"
   ]
  },
  {
   "cell_type": "code",
   "execution_count": null,
   "id": "f8078f58",
   "metadata": {},
   "outputs": [],
   "source": [
    "# set parameters for plotting\n",
    "# will plot the Sea Surface Temp with specific range and colormap\n",
    "visualization = {'bands': \"SST\", 'min': -2, 'max': 30}\n",
    "# specify region to focus on\n",
    "bbox = [180, -88, -180, 88]"
   ]
  },
  {
   "cell_type": "code",
   "execution_count": null,
   "id": "8844d9f6",
   "metadata": {},
   "outputs": [],
   "source": [
    "fig = plt.figure(figsize=(15, 10))\n",
    "\n",
    "# plot the result with cartoee using a PlateCarre projection (default)\n",
    "ax = cartoee.get_map(ocean, cmap='plasma', vis_params=visualization, region=bbox)\n",
    "cb = cartoee.add_colorbar(ax, vis_params=visualization, loc='right', cmap='plasma')\n",
    "\n",
    "ax.set_title(label='Sea Surface Temperature', fontsize=15)\n",
    "\n",
    "ax.coastlines()\n",
    "plt.show()"
   ]
  },
  {
   "cell_type": "markdown",
   "id": "6178e980",
   "metadata": {},
   "source": [
    "### Mapping with different projections"
   ]
  },
  {
   "cell_type": "code",
   "execution_count": null,
   "id": "382e529f",
   "metadata": {},
   "outputs": [],
   "source": [
    "fig = plt.figure(figsize=(15, 10))\n",
    "\n",
    "# create a new Mollweide projection centered on the Pacific\n",
    "projection = ccrs.Mollweide(central_longitude=-180)\n",
    "\n",
    "# plot the result with cartoee using the Mollweide projection\n",
    "ax = cartoee.get_map(\n",
    "    ocean, vis_params=visualization, region=bbox, cmap='plasma', proj=projection\n",
    ")\n",
    "cb = cartoee.add_colorbar(\n",
    "    ax, vis_params=visualization, loc='bottom', cmap='plasma', orientation='horizontal'\n",
    ")\n",
    "\n",
    "ax.set_title(\"Mollweide projection\")\n",
    "\n",
    "ax.coastlines()\n",
    "plt.show()"
   ]
  },
  {
   "cell_type": "code",
   "execution_count": null,
   "id": "83de693f",
   "metadata": {},
   "outputs": [],
   "source": [
    "fig = plt.figure(figsize=(15, 10))\n",
    "\n",
    "# create a new Goode homolosine projection centered on the Pacific\n",
    "projection = ccrs.Robinson(central_longitude=-180)\n",
    "\n",
    "# plot the result with cartoee using the Goode homolosine projection\n",
    "ax = cartoee.get_map(\n",
    "    ocean, vis_params=visualization, region=bbox, cmap='plasma', proj=projection\n",
    ")\n",
    "cb = cartoee.add_colorbar(\n",
    "    ax, vis_params=visualization, loc='bottom', cmap='plasma', orientation='horizontal'\n",
    ")\n",
    "\n",
    "ax.set_title(\"Robinson projection\")\n",
    "\n",
    "ax.coastlines()\n",
    "plt.show()"
   ]
  },
  {
   "cell_type": "code",
   "execution_count": null,
   "id": "44fdd89d",
   "metadata": {},
   "outputs": [],
   "source": [
    "fig = plt.figure(figsize=(15, 10))\n",
    "\n",
    "# create a new Goode homolosine projection centered on the Pacific\n",
    "projection = ccrs.InterruptedGoodeHomolosine(central_longitude=-180)\n",
    "\n",
    "# plot the result with cartoee using the Goode homolosine projection\n",
    "ax = cartoee.get_map(\n",
    "    ocean, vis_params=visualization, region=bbox, cmap='plasma', proj=projection\n",
    ")\n",
    "cb = cartoee.add_colorbar(\n",
    "    ax, vis_params=visualization, loc='bottom', cmap='plasma', orientation='horizontal'\n",
    ")\n",
    "\n",
    "ax.set_title(\"Goode homolosine projection\")\n",
    "\n",
    "ax.coastlines()\n",
    "plt.show()"
   ]
  },
  {
   "cell_type": "code",
   "execution_count": null,
   "id": "856a141d",
   "metadata": {},
   "outputs": [],
   "source": [
    "fig = plt.figure(figsize=(15, 10))\n",
    "\n",
    "# create a new orographic projection focused on the Pacific\n",
    "projection = ccrs.EqualEarth(central_longitude=-180)\n",
    "\n",
    "# plot the result with cartoee using the orographic projection\n",
    "ax = cartoee.get_map(\n",
    "    ocean, vis_params=visualization, region=bbox, cmap='plasma', proj=projection\n",
    ")\n",
    "cb = cartoee.add_colorbar(\n",
    "    ax, vis_params=visualization, loc='right', cmap='plasma', orientation='vertical'\n",
    ")\n",
    "\n",
    "ax.set_title(\"Equal Earth projection\")\n",
    "\n",
    "ax.coastlines()\n",
    "plt.show()"
   ]
  },
  {
   "cell_type": "code",
   "execution_count": null,
   "id": "dde691f8",
   "metadata": {},
   "outputs": [],
   "source": [
    "fig = plt.figure(figsize=(15, 10))\n",
    "\n",
    "# create a new orographic projection focused on the Pacific\n",
    "projection = ccrs.Orthographic(-130, -10)\n",
    "\n",
    "# plot the result with cartoee using the orographic projection\n",
    "ax = cartoee.get_map(\n",
    "    ocean, vis_params=visualization, region=bbox, cmap='plasma', proj=projection\n",
    ")\n",
    "cb = cartoee.add_colorbar(\n",
    "    ax, vis_params=visualization, loc='right', cmap='plasma', orientation='vertical'\n",
    ")\n",
    "\n",
    "ax.set_title(\"Orographic projection\")\n",
    "\n",
    "ax.coastlines()\n",
    "plt.show()"
   ]
  },
  {
   "cell_type": "markdown",
   "id": "329a702c",
   "metadata": {},
   "source": [
    "### Warping artifacts"
   ]
  },
  {
   "cell_type": "code",
   "execution_count": null,
   "id": "b6b5a909",
   "metadata": {},
   "outputs": [],
   "source": [
    "fig = plt.figure(figsize=(15, 10))\n",
    "\n",
    "# Create a new region to focus on\n",
    "spole = [180, -88, -180, 0]\n",
    "\n",
    "projection = ccrs.SouthPolarStereo()\n",
    "\n",
    "# plot the result with cartoee focusing on the south pole\n",
    "ax = cartoee.get_map(\n",
    "    ocean, cmap='plasma', vis_params=visualization, region=spole, proj=projection\n",
    ")\n",
    "cb = cartoee.add_colorbar(ax, vis_params=visualization, loc='right', cmap='plasma')\n",
    "\n",
    "ax.coastlines()\n",
    "ax.set_title('The South Pole')\n",
    "plt.show()"
   ]
  },
  {
   "cell_type": "code",
   "execution_count": null,
   "id": "2981c412",
   "metadata": {},
   "outputs": [],
   "source": [
    "fig = plt.figure(figsize=(15, 10))\n",
    "\n",
    "# plot the result with cartoee focusing on the south pole\n",
    "ax = cartoee.get_map(\n",
    "    ocean, cmap='plasma', vis_params=visualization, region=spole, proj=projection\n",
    ")\n",
    "cb = cartoee.add_colorbar(ax, vis_params=visualization, loc='right', cmap='plasma')\n",
    "\n",
    "ax.coastlines()\n",
    "ax.set_title('The South Pole')\n",
    "\n",
    "# get bounding box coordinates of a zoom area\n",
    "zoom = spole\n",
    "zoom[-1] = -20\n",
    "\n",
    "# convert bbox coordinate from [W,S,E,N] to [W,E,S,N] as matplotlib expects\n",
    "zoom_extent = cartoee.bbox_to_extent(zoom)\n",
    "\n",
    "# set the extent of the map to the zoom area\n",
    "ax.set_extent(zoom_extent, ccrs.PlateCarree())\n",
    "\n",
    "plt.show()"
   ]
  },
  {
   "cell_type": "markdown",
   "id": "58a8725f",
   "metadata": {},
   "source": [
    "## Using multiple data layers"
   ]
  },
  {
   "cell_type": "markdown",
   "id": "b0004e9c",
   "metadata": {},
   "source": [
    "### Create an interactive map"
   ]
  },
  {
   "cell_type": "code",
   "execution_count": null,
   "id": "0eebb418",
   "metadata": {},
   "outputs": [],
   "source": [
    "Map = geemap.Map()\n",
    "\n",
    "image = (\n",
    "    ee.ImageCollection('MODIS/MCD43A4_006_NDVI')\n",
    "    .filter(ee.Filter.date('2018-04-01', '2018-05-01'))\n",
    "    .select(\"NDVI\")\n",
    "    .first()\n",
    ")\n",
    "\n",
    "vis_params = {\n",
    "    'min': 0.0,\n",
    "    'max': 1.0,\n",
    "    'palette': [\n",
    "        'FFFFFF',\n",
    "        'CE7E45',\n",
    "        'DF923D',\n",
    "        'F1B555',\n",
    "        'FCD163',\n",
    "        '99B718',\n",
    "        '74A901',\n",
    "        '66A000',\n",
    "        '529400',\n",
    "        '3E8601',\n",
    "        '207401',\n",
    "        '056201',\n",
    "        '004C00',\n",
    "        '023B01',\n",
    "        '012E01',\n",
    "        '011D01',\n",
    "        '011301',\n",
    "    ],\n",
    "}\n",
    "Map.setCenter(-7.03125, 31.0529339857, 2)\n",
    "Map.addLayer(image, vis_params, 'MODIS NDVI')\n",
    "\n",
    "countries = ee.FeatureCollection(geemap.examples.get_ee_path('countries'))\n",
    "style = {\"color\": \"00000088\", \"width\": 1, \"fillColor\": \"00000000\"}\n",
    "Map.addLayer(countries.style(**style), {}, \"Countries\")\n",
    "\n",
    "ndvi = image.visualize(**vis_params)\n",
    "blend = ndvi.blend(countries.style(**style))\n",
    "\n",
    "Map.addLayer(blend, {}, \"Blend\")\n",
    "\n",
    "Map"
   ]
  },
  {
   "cell_type": "markdown",
   "id": "94953e71",
   "metadata": {},
   "source": [
    "### Plot an image with the default projection"
   ]
  },
  {
   "cell_type": "code",
   "execution_count": null,
   "id": "f1873e74",
   "metadata": {},
   "outputs": [],
   "source": [
    "# specify region to focus on\n",
    "bbox = [180, -88, -180, 88]"
   ]
  },
  {
   "cell_type": "code",
   "execution_count": null,
   "id": "2921ccd7",
   "metadata": {},
   "outputs": [],
   "source": [
    "fig = plt.figure(figsize=(15, 10))\n",
    "\n",
    "# plot the result with cartoee using a PlateCarre projection (default)\n",
    "ax = cartoee.get_map(blend, region=bbox)\n",
    "cb = cartoee.add_colorbar(ax, vis_params=vis_params, loc='right')\n",
    "\n",
    "ax.set_title(label='MODIS NDVI', fontsize=15)\n",
    "\n",
    "# ax.coastlines()\n",
    "plt.show()"
   ]
  },
  {
   "cell_type": "markdown",
   "id": "63c4e493",
   "metadata": {},
   "source": [
    "### Plot an image with a different projection"
   ]
  },
  {
   "cell_type": "code",
   "execution_count": null,
   "id": "be607c6e",
   "metadata": {},
   "outputs": [],
   "source": [
    "fig = plt.figure(figsize=(15, 10))\n",
    "\n",
    "projection = ccrs.EqualEarth(central_longitude=-180)\n",
    "\n",
    "# plot the result with cartoee using a PlateCarre projection (default)\n",
    "ax = cartoee.get_map(blend, region=bbox, proj=projection)\n",
    "cb = cartoee.add_colorbar(ax, vis_params=vis_params, loc='right')\n",
    "\n",
    "ax.set_title(label='MODIS NDVI', fontsize=15)\n",
    "\n",
    "# ax.coastlines()\n",
    "plt.show()"
   ]
  },
  {
   "cell_type": "markdown",
   "id": "23f78f32",
   "metadata": {},
   "source": [
    "## Adding a scale bar and legend\n",
    "\n",
    "### Scale bar"
   ]
  },
  {
   "cell_type": "code",
   "execution_count": null,
   "id": "4adc72d1",
   "metadata": {},
   "outputs": [],
   "source": [
    "# Get image\n",
    "lon = -115.1585\n",
    "lat = 36.1500\n",
    "start_year = 1984\n",
    "end_year = 2011\n",
    "\n",
    "point = ee.Geometry.Point(lon, lat)\n",
    "years = ee.List.sequence(start_year, end_year)\n",
    "\n",
    "def get_best_image(year):\n",
    "\n",
    "    start_date = ee.Date.fromYMD(year, 1, 1)\n",
    "    end_date = ee.Date.fromYMD(year, 12, 31)\n",
    "    image = (\n",
    "        ee.ImageCollection(\"LANDSAT/LT05/C01/T1_SR\")\n",
    "        .filterBounds(point)\n",
    "        .filterDate(start_date, end_date)\n",
    "        .sort(\"CLOUD_COVER\")\n",
    "        .first()\n",
    "    )\n",
    "    return ee.Image(image)\n",
    "\n",
    "collection = ee.ImageCollection(years.map(get_best_image))\n",
    "vis_params = {\"bands\": ['B4', 'B3', 'B2'], \"min\": 0, \"max\": 5000}\n",
    "image = ee.Image(collection.first())"
   ]
  },
  {
   "cell_type": "code",
   "execution_count": null,
   "id": "5d4559dd",
   "metadata": {},
   "outputs": [],
   "source": [
    "w = 0.4\n",
    "h = 0.3\n",
    "\n",
    "region = [lon + w, lat - h, lon - w, lat + h]\n",
    "\n",
    "fig = plt.figure(figsize=(10, 8))\n",
    "\n",
    "# use cartoee to get a map\n",
    "ax = cartoee.get_map(image, region=region, vis_params=vis_params)\n",
    "\n",
    "# add gridlines to the map at a specified interval\n",
    "cartoee.add_gridlines(ax, interval=[0.2, 0.2], linestyle=\":\")\n",
    "\n",
    "# add north arrow\n",
    "north_arrow_dict = {\n",
    "    \"text\": \"N\",\n",
    "    \"xy\": (0.10, 0.36),\n",
    "    \"arrow_length\": 0.15,\n",
    "    \"text_color\": \"white\",\n",
    "    \"arrow_color\": \"white\",\n",
    "    \"fontsize\": 20,\n",
    "    \"width\": 5,\n",
    "    \"headwidth\": 15,\n",
    "    \"ha\": \"center\",\n",
    "    \"va\": \"center\",\n",
    "}\n",
    "cartoee.add_north_arrow(ax, **north_arrow_dict)\n",
    "\n",
    "# add scale bar\n",
    "scale_bar_dict = {\n",
    "    'metric_distance': 4,\n",
    "    'unit': \"km\",\n",
    "    'at_x': (0.05, 0.2),\n",
    "    'at_y': (0.08, 0.11),\n",
    "    'max_stripes': 5,\n",
    "    'ytick_label_margins': 0.25,\n",
    "    'fontsize': 8,\n",
    "    'font_weight': \"bold\",\n",
    "    'rotation': 0,\n",
    "    'zorder': 999,\n",
    "    'paddings': {\"xmin\": 0.05, \"xmax\": 0.05, \"ymin\": 1.5, \"ymax\": 0.5},\n",
    "}\n",
    "\n",
    "cartoee.add_scale_bar(ax, **scale_bar_dict)\n",
    "\n",
    "ax.set_title(label='Las Vegas, NV', fontsize=15)\n",
    "plt.show()"
   ]
  },
  {
   "cell_type": "markdown",
   "id": "a85f7291",
   "metadata": {},
   "source": [
    "### Legend"
   ]
  },
  {
   "cell_type": "markdown",
   "id": "5b3d9bb4",
   "metadata": {},
   "source": [
    "#### Plot an RGB image"
   ]
  },
  {
   "cell_type": "code",
   "execution_count": null,
   "id": "27e82595",
   "metadata": {},
   "outputs": [],
   "source": [
    "# get a landsat image to visualize\n",
    "image = ee.Image('LANDSAT/LC08/C01/T1_SR/LC08_044034_20140318')\n",
    "\n",
    "# define the visualization parameters to view\n",
    "vis = {\"bands\": ['B5', 'B4', 'B3'], \"min\": 0, \"max\": 5000, \"gamma\": 1.3}"
   ]
  },
  {
   "cell_type": "code",
   "execution_count": null,
   "id": "7ef386b5",
   "metadata": {},
   "outputs": [],
   "source": [
    "fig = plt.figure(figsize=(15, 10))\n",
    "\n",
    "# use cartoee to get a map\n",
    "ax = cartoee.get_map(image, vis_params=vis)\n",
    "\n",
    "# pad the view for some visual appeal\n",
    "cartoee.pad_view(ax)\n",
    "\n",
    "# add the gridlines and specify that the xtick labels be rotated 45 degrees\n",
    "cartoee.add_gridlines(ax, interval=0.5, xtick_rotation=0, linestyle=\":\")\n",
    "\n",
    "# add the coastline\n",
    "ax.coastlines(color=\"cyan\")\n",
    "\n",
    "plt.show()"
   ]
  },
  {
   "cell_type": "code",
   "execution_count": null,
   "id": "e125cd2b",
   "metadata": {},
   "outputs": [],
   "source": [
    "fig = plt.figure(figsize=(15, 10))\n",
    "\n",
    "# here is the bounding box of the map extent we want to use\n",
    "# formatted a [E,S,W,N]\n",
    "zoom_region = [-121.8025, 37.3458, -122.6265, 37.9178]\n",
    "\n",
    "# plot the map over the region of interest\n",
    "ax = cartoee.get_map(image, vis_params=vis, region=zoom_region)\n",
    "\n",
    "# add the gridlines and specify that the xtick labels be rotated 45 degrees\n",
    "cartoee.add_gridlines(ax, interval=0.15, xtick_rotation=0, linestyle=\":\")\n",
    "\n",
    "# add coastline\n",
    "ax.coastlines(color=\"cyan\")\n",
    "\n",
    "plt.show()"
   ]
  },
  {
   "cell_type": "markdown",
   "id": "e0542401",
   "metadata": {},
   "source": [
    "#### Adding north arrow, scale bar, and legend"
   ]
  },
  {
   "cell_type": "code",
   "execution_count": null,
   "id": "c075ab49",
   "metadata": {},
   "outputs": [],
   "source": [
    "from matplotlib.lines import Line2D"
   ]
  },
  {
   "cell_type": "code",
   "execution_count": null,
   "id": "e4e94815",
   "metadata": {},
   "outputs": [],
   "source": [
    "fig = plt.figure(figsize=(15, 10))\n",
    "\n",
    "# here is the bounding box of the map extent we want to use\n",
    "# formatted a [E,S,W,N]\n",
    "zoom_region = [-121.8025, 37.3458, -122.6265, 37.9178]\n",
    "\n",
    "# plot the map over the region of interest\n",
    "ax = cartoee.get_map(image, vis_params=vis, region=zoom_region)\n",
    "\n",
    "# add the gridlines and specify that the xtick labels be rotated 45 degrees\n",
    "cartoee.add_gridlines(ax, interval=0.15, xtick_rotation=0, linestyle=\":\")\n",
    "\n",
    "# add coastline\n",
    "ax.coastlines(color=\"cyan\")\n",
    "\n",
    "# add north arrow\n",
    "cartoee.add_north_arrow(\n",
    "    ax, text=\"N\", xy=(0.05, 0.25), text_color=\"white\", arrow_color=\"white\", fontsize=20\n",
    ")\n",
    "\n",
    "# add scale bar\n",
    "cartoee.add_scale_bar_lite(\n",
    "    ax, length=10, xy=(0.1, 0.05), fontsize=20, color=\"white\", unit=\"km\"\n",
    ")\n",
    "\n",
    "ax.set_title(label='Landsat False Color Composite (Band 5/4/3)', fontsize=15)\n",
    "\n",
    "# add legend\n",
    "legend_elements = [\n",
    "    Line2D([], [], color='#00ffff', lw=2, label='Coastline'),\n",
    "    Line2D(\n",
    "        [],\n",
    "        [],\n",
    "        marker='o',\n",
    "        color='#A8321D',\n",
    "        label='City',\n",
    "        markerfacecolor='#A8321D',\n",
    "        markersize=10,\n",
    "        ls='',\n",
    "    ),\n",
    "]\n",
    "\n",
    "cartoee.add_legend(ax, legend_elements, loc='lower right')\n",
    "\n",
    "plt.show()"
   ]
  },
  {
   "cell_type": "markdown",
   "id": "4237bcb2",
   "metadata": {},
   "source": [
    "## Creating animations"
   ]
  },
  {
   "cell_type": "markdown",
   "id": "6a3f4401",
   "metadata": {
    "tags": []
   },
   "source": [
    "### Create an interactive map"
   ]
  },
  {
   "cell_type": "code",
   "execution_count": null,
   "id": "bd051072",
   "metadata": {},
   "outputs": [],
   "source": [
    "Map = geemap.Map()\n",
    "Map"
   ]
  },
  {
   "cell_type": "markdown",
   "id": "bc52386e",
   "metadata": {},
   "source": [
    "### Create an ImageCollection"
   ]
  },
  {
   "cell_type": "code",
   "execution_count": null,
   "id": "708fd782",
   "metadata": {},
   "outputs": [],
   "source": [
    "lon = -115.1585\n",
    "lat = 36.1500\n",
    "start_year = 1984\n",
    "end_year = 2011\n",
    "\n",
    "point = ee.Geometry.Point(lon, lat)\n",
    "years = ee.List.sequence(start_year, end_year)\n",
    "\n",
    "def get_best_image(year):\n",
    "\n",
    "    start_date = ee.Date.fromYMD(year, 1, 1)\n",
    "    end_date = ee.Date.fromYMD(year, 12, 31)\n",
    "    image = (\n",
    "        ee.ImageCollection(\"LANDSAT/LT05/C01/T1_SR\")\n",
    "        .filterBounds(point)\n",
    "        .filterDate(start_date, end_date)\n",
    "        .sort(\"CLOUD_COVER\")\n",
    "        .first()\n",
    "    )\n",
    "    return ee.Image(image)\n",
    "\n",
    "collection = ee.ImageCollection(years.map(get_best_image))"
   ]
  },
  {
   "cell_type": "markdown",
   "id": "3a29c764",
   "metadata": {},
   "source": [
    "### Display a sample image"
   ]
  },
  {
   "cell_type": "code",
   "execution_count": null,
   "id": "3e3ddc9c",
   "metadata": {},
   "outputs": [],
   "source": [
    "vis_params = {\"bands\": ['B4', 'B3', 'B2'], \"min\": 0, \"max\": 5000}\n",
    "\n",
    "image = ee.Image(collection.first())\n",
    "Map.addLayer(image, vis_params, 'First image')\n",
    "Map.setCenter(lon, lat, 8)\n",
    "Map"
   ]
  },
  {
   "cell_type": "markdown",
   "id": "2075d43c",
   "metadata": {},
   "source": [
    "### Get a sample output image"
   ]
  },
  {
   "cell_type": "code",
   "execution_count": null,
   "id": "ca810a7f",
   "metadata": {},
   "outputs": [],
   "source": [
    "w = 0.4\n",
    "h = 0.3\n",
    "\n",
    "region = [lon + w, lat - h, lon - w, lat + h]\n",
    "\n",
    "fig = plt.figure(figsize=(10, 8))\n",
    "\n",
    "# use cartoee to get a map\n",
    "ax = cartoee.get_map(image, region=region, vis_params=vis_params)\n",
    "\n",
    "# add gridlines to the map at a specified interval\n",
    "cartoee.add_gridlines(ax, interval=[0.2, 0.2], linestyle=\":\")\n",
    "\n",
    "# add north arrow\n",
    "north_arrow_dict = {\n",
    "    \"text\": \"N\",\n",
    "    \"xy\": (0.1, 0.3),\n",
    "    \"arrow_length\": 0.15,\n",
    "    \"text_color\": \"white\",\n",
    "    \"arrow_color\": \"white\",\n",
    "    \"fontsize\": 20,\n",
    "    \"width\": 5,\n",
    "    \"headwidth\": 15,\n",
    "    \"ha\": \"center\",\n",
    "    \"va\": \"center\",\n",
    "}\n",
    "cartoee.add_north_arrow(ax, **north_arrow_dict)\n",
    "\n",
    "# add scale bar\n",
    "scale_bar_dict = {\n",
    "    \"length\": 10,\n",
    "    \"xy\": (0.1, 0.05),\n",
    "    \"linewidth\": 3,\n",
    "    \"fontsize\": 20,\n",
    "    \"color\": \"white\",\n",
    "    \"unit\": \"km\",\n",
    "    \"ha\": \"center\",\n",
    "    \"va\": \"bottom\",\n",
    "}\n",
    "cartoee.add_scale_bar_lite(ax, **scale_bar_dict)\n",
    "\n",
    "ax.set_title(label='Las Vegas, NV', fontsize=15)\n",
    "\n",
    "plt.show()"
   ]
  },
  {
   "cell_type": "markdown",
   "id": "619151de",
   "metadata": {},
   "source": [
    "### Create timelapse animations"
   ]
  },
  {
   "cell_type": "code",
   "execution_count": null,
   "id": "f306e0c1",
   "metadata": {},
   "outputs": [],
   "source": [
    "import os"
   ]
  },
  {
   "cell_type": "code",
   "execution_count": null,
   "id": "3e3c548b",
   "metadata": {},
   "outputs": [],
   "source": [
    "cartoee.get_image_collection_gif(\n",
    "    ee_ic=collection,\n",
    "    out_dir=os.getcwd(),\n",
    "    out_gif=\"animation.gif\",\n",
    "    vis_params=vis_params,\n",
    "    region=region,\n",
    "    fps=5,\n",
    "    mp4=True,\n",
    "    grid_interval=(0.2, 0.2),\n",
    "    plot_title=\"Las Vegas, NV\",\n",
    "    date_format='YYYY-MM-dd',\n",
    "    fig_size=(10, 8),\n",
    "    dpi_plot=100,\n",
    "    file_format=\"jpg\",\n",
    "    north_arrow_dict=north_arrow_dict,\n",
    "    scale_bar_dict=scale_bar_dict,\n",
    "    verbose=True,\n",
    ")"
   ]
  },
  {
   "cell_type": "code",
   "execution_count": null,
   "id": "5afe80b0",
   "metadata": {},
   "outputs": [],
   "source": [
    "geemap.show_image('animation.gif')"
   ]
  },
  {
   "cell_type": "markdown",
   "id": "be54f47d",
   "metadata": {},
   "source": [
    "## Plotting vector data"
   ]
  },
  {
   "cell_type": "code",
   "execution_count": null,
   "id": "12b3d868",
   "metadata": {},
   "outputs": [],
   "source": [
    "import ee\n",
    "import geemap\n",
    "from geemap import cartoee\n",
    "from geemap.datasets import DATA\n",
    "import geemap.colormaps as cmap\n",
    "import cartopy.crs as ccrs\n",
    "\n",
    "%pylab inline"
   ]
  },
  {
   "cell_type": "markdown",
   "id": "485b851c",
   "metadata": {},
   "source": [
    "### Plot a simple vector"
   ]
  },
  {
   "cell_type": "code",
   "execution_count": null,
   "id": "fdf4be02",
   "metadata": {},
   "outputs": [],
   "source": [
    "Map = geemap.Map()\n",
    "\n",
    "features = ee.FeatureCollection(geemap.examples.get_ee_path('countries'))\n",
    "\n",
    "style = {'color': '000000ff', 'width': 1, 'lineType': 'solid', 'fillColor': '0000ff40'}\n",
    "\n",
    "Map.addLayer(features.style(**style), {}, \"Polygons\")\n",
    "Map.setCenter(-14.77, 34.70, 2)\n",
    "Map"
   ]
  },
  {
   "cell_type": "code",
   "execution_count": null,
   "id": "aa37d3bc",
   "metadata": {},
   "outputs": [],
   "source": [
    "# specify region to focus on\n",
    "bbox = [180, -88, -180, 88]"
   ]
  },
  {
   "cell_type": "code",
   "execution_count": null,
   "id": "b56ae98e",
   "metadata": {},
   "outputs": [],
   "source": [
    "fig = plt.figure(figsize=(15, 10))\n",
    "\n",
    "# plot the result with cartoee using a PlateCarre projection (default)\n",
    "ax = cartoee.get_map(features, region=bbox, style=style)\n",
    "ax.set_title(label='Countries', fontsize=15)\n",
    "cartoee.add_gridlines(ax, interval=30)\n",
    "\n",
    "plt.show()"
   ]
  },
  {
   "cell_type": "markdown",
   "id": "89b09021",
   "metadata": {},
   "source": [
    "![](https://i.imgur.com/RTFGotE.jpg)"
   ]
  },
  {
   "cell_type": "code",
   "execution_count": null,
   "id": "2263627e",
   "metadata": {},
   "outputs": [],
   "source": [
    "fig = plt.figure(figsize=(15, 10))\n",
    "\n",
    "projection = ccrs.EqualEarth(central_longitude=-180)\n",
    "ax = cartoee.get_map(features, region=bbox, proj=projection, style=style)\n",
    "ax.set_title(label='Countries', fontsize=15)\n",
    "\n",
    "plt.show()"
   ]
  },
  {
   "cell_type": "markdown",
   "id": "b5f40073",
   "metadata": {},
   "source": [
    "![](https://i.imgur.com/GagRINK.jpg)"
   ]
  },
  {
   "cell_type": "markdown",
   "id": "921edd13",
   "metadata": {},
   "source": [
    "### Plot a styled vector"
   ]
  },
  {
   "cell_type": "code",
   "execution_count": null,
   "id": "2d0f265e",
   "metadata": {},
   "outputs": [],
   "source": [
    "import geemap.colormaps as cm"
   ]
  },
  {
   "cell_type": "code",
   "execution_count": null,
   "id": "9e42efe1",
   "metadata": {},
   "outputs": [],
   "source": [
    "fuels = [\n",
    "    'Coal',\n",
    "    'Oil',\n",
    "    'Gas',\n",
    "    'Hydro',\n",
    "    'Nuclear',\n",
    "    'Solar',\n",
    "    'Waste',\n",
    "    'Wind',\n",
    "    'Geothermal',\n",
    "    'Biomass',\n",
    "]"
   ]
  },
  {
   "cell_type": "code",
   "execution_count": null,
   "id": "f41239ef",
   "metadata": {},
   "outputs": [],
   "source": [
    "fc = ee.FeatureCollection(\"WRI/GPPD/power_plants\").filter(\n",
    "    ee.Filter.inList('fuel1', fuels)\n",
    ")"
   ]
  },
  {
   "cell_type": "code",
   "execution_count": null,
   "id": "338af8d4",
   "metadata": {},
   "outputs": [],
   "source": [
    "colors = [\n",
    "    '000000',\n",
    "    '593704',\n",
    "    'BC80BD',\n",
    "    '0565A6',\n",
    "    'E31A1C',\n",
    "    'FF7F00',\n",
    "    '6A3D9A',\n",
    "    '5CA2D1',\n",
    "    'FDBF6F',\n",
    "    '229A00',\n",
    "]"
   ]
  },
  {
   "cell_type": "code",
   "execution_count": null,
   "id": "e87e0e52",
   "metadata": {},
   "outputs": [],
   "source": [
    "styled_fc = geemap.ee_vector_style(fc, column=\"fuel1\", labels=fuels, color=colors, pointSize=1)"
   ]
  },
  {
   "cell_type": "code",
   "execution_count": null,
   "id": "39bcb027",
   "metadata": {},
   "outputs": [],
   "source": [
    "Map = geemap.Map()\n",
    "Map.addLayer(styled_fc, {}, 'Power Plants')\n",
    "Map.add_legend(title=\"Power Plant Fuel Type\", labels=fuels, colors=colors)\n",
    "Map"
   ]
  },
  {
   "cell_type": "code",
   "execution_count": null,
   "id": "bbb21ce8",
   "metadata": {},
   "outputs": [],
   "source": [
    "from matplotlib.lines import Line2D"
   ]
  },
  {
   "cell_type": "code",
   "execution_count": null,
   "id": "f7911274",
   "metadata": {},
   "outputs": [],
   "source": [
    "legend = []"
   ]
  },
  {
   "cell_type": "code",
   "execution_count": null,
   "id": "77726839",
   "metadata": {},
   "outputs": [],
   "source": [
    "for index, fuel in enumerate(fuels):\n",
    "    item =            Line2D(\n",
    "                    [],\n",
    "                    [],\n",
    "                    marker=\"o\",\n",
    "                    color='#' + colors[index],\n",
    "                    label=fuel,\n",
    "                    markerfacecolor='#' + colors[index],\n",
    "                    markersize=10,\n",
    "                    ls=\"\",\n",
    "                )\n",
    "    legend.append(item)"
   ]
  },
  {
   "cell_type": "code",
   "execution_count": null,
   "id": "e54dcc20",
   "metadata": {},
   "outputs": [],
   "source": [
    "fig = plt.figure(figsize=(15, 10))\n",
    "\n",
    "# plot the result with cartoee using a PlateCarre projection (default)\n",
    "ax = cartoee.get_map(styled_fc, region=bbox, basemap='ROADMAP')\n",
    "ax.set_title(label='Countries', fontsize=15)\n",
    "cartoee.add_gridlines(ax, interval=30)\n",
    "cartoee.add_legend(ax, legend_elements=legend)\n",
    "\n",
    "plt.show()"
   ]
  },
  {
   "cell_type": "code",
   "execution_count": null,
   "id": "d29a7395",
   "metadata": {},
   "outputs": [],
   "source": [
    "Map = geemap.Map()\n",
    "\n",
    "palette = cm.palettes.gist_earth\n",
    "features = ee.FeatureCollection(geemap.examples.get_ee_path('countries'))\n",
    "features_styled = geemap.vector_styling(features, column=\"NAME\", palette=palette)\n",
    "\n",
    "Map.add_styled_vector(features, column=\"NAME\", palette=palette, layer_name='Polygon')\n",
    "Map.setCenter(-14.77, 34.70, 2)\n",
    "Map"
   ]
  },
  {
   "cell_type": "code",
   "execution_count": null,
   "id": "a9ee99d0",
   "metadata": {},
   "outputs": [],
   "source": [
    "Map = geemap.Map()\n",
    "\n",
    "palette = cm.palettes.gist_earth\n",
    "features = ee.FeatureCollection('USDOS/LSIB_SIMPLE/2017')\n",
    "features_styled = geemap.vector_styling(features, column=\"abbreviati\", palette=palette)\n",
    "\n",
    "Map.add_styled_vector(features, column=\"abbreviati\", palette=palette, layer_name='Polygon')\n",
    "Map.setCenter(-14.77, 34.70, 2)\n",
    "Map"
   ]
  },
  {
   "cell_type": "code",
   "execution_count": null,
   "id": "a82367c3",
   "metadata": {},
   "outputs": [],
   "source": [
    "car"
   ]
  },
  {
   "cell_type": "code",
   "execution_count": null,
   "id": "29be3789",
   "metadata": {},
   "outputs": [],
   "source": [
    "features_styled.first().propertyNames().getInfo()"
   ]
  },
  {
   "cell_type": "code",
   "execution_count": null,
   "id": "c15ae11a",
   "metadata": {},
   "outputs": [],
   "source": [
    "image = features_styled.style(**{\"styleProperty\": \"style\"})"
   ]
  },
  {
   "cell_type": "code",
   "execution_count": null,
   "id": "e8e49612",
   "metadata": {},
   "outputs": [],
   "source": [
    "proj = ee.Projection(\"EPSG:3857\")"
   ]
  },
  {
   "cell_type": "code",
   "execution_count": null,
   "id": "89139bc2",
   "metadata": {},
   "outputs": [],
   "source": [
    "image = image.setDefaultProjection(proj)"
   ]
  },
  {
   "cell_type": "code",
   "execution_count": null,
   "id": "b6603df0",
   "metadata": {},
   "outputs": [],
   "source": [
    "Map.addLayer(image)"
   ]
  },
  {
   "cell_type": "code",
   "execution_count": null,
   "id": "45de46a8",
   "metadata": {},
   "outputs": [],
   "source": [
    "fig = plt.figure(figsize=(15, 10))\n",
    "\n",
    "# plot the result with cartoee using a PlateCarre projection (default)\n",
    "ax = cartoee.get_map(image, region=bbox, style=style)\n",
    "ax.set_title(label='Countries', fontsize=15)\n",
    "cartoee.add_gridlines(ax, interval=30)\n",
    "\n",
    "plt.show()"
   ]
  },
  {
   "cell_type": "code",
   "execution_count": null,
   "id": "f747ecf3",
   "metadata": {},
   "outputs": [],
   "source": [
    "image.projection().getInfo()"
   ]
  },
  {
   "cell_type": "code",
   "execution_count": null,
   "id": "26c9a191",
   "metadata": {
    "jupyter": {
     "source_hidden": true
    },
    "tags": []
   },
   "outputs": [],
   "source": [
    "bbox = [179, -88, -179, 88]\n",
    "fig = plt.figure(figsize=(15, 10))\n",
    "\n",
    "ax = cartoee.get_map(image, region=bbox)\n",
    "ax.set_title(label='Countries', fontsize=15)\n",
    "cartoee.add_gridlines(ax, interval=30)\n",
    "\n",
    "plt.show()"
   ]
  },
  {
   "cell_type": "markdown",
   "id": "432ea108",
   "metadata": {},
   "source": [
    "![](https://i.imgur.com/reecFZo.jpg)"
   ]
  },
  {
   "cell_type": "code",
   "execution_count": null,
   "id": "16bdd822",
   "metadata": {},
   "outputs": [],
   "source": [
    "fig = plt.figure(figsize=(15, 10))\n",
    "\n",
    "projection = ccrs.EqualEarth(central_longitude=-180)\n",
    "ax = cartoee.get_map(features_styled, region=bbox, proj=projection)\n",
    "ax.set_title(label='Countries', fontsize=15)\n",
    "\n",
    "plt.show()"
   ]
  },
  {
   "cell_type": "markdown",
   "id": "556f7137",
   "metadata": {},
   "source": [
    "![](https://i.imgur.com/uW9p8vS.jpg)\n",
    "\n",
    "## References\n",
    "\n",
    "- https://geemap.org/notebooks/50_cartoee_quickstart/\n",
    "- https://geemap.org/notebooks/51_cartoee_projections/\n",
    "- https://geemap.org/notebooks/52_cartoee_gif/\n",
    "- https://geemap.org/notebooks/57_cartoee_blend/\n",
    "- https://geemap.org/notebooks/61_cartoee_scalebar/\n",
    "- https://geemap.org/notebooks/66_cartoee_legend/\n",
    "- https://geemap.org/notebooks/69_cartoee_vector\n",
    "- https://geemap.org/notebooks/112_cartoee_basemap/"
   ]
  }
 ],
 "metadata": {
  "jupytext": {
   "text_representation": {
    "extension": ".md",
    "format_name": "myst",
    "format_version": 0.13,
    "jupytext_version": "1.14.4"
   }
  },
  "kernelspec": {
   "display_name": "Python 3 (ipykernel)",
   "language": "python",
   "name": "python3"
  },
  "source_map": [
   12,
   39,
   43,
   47,
   52,
   56,
   61,
   65,
   73,
   91,
   108,
   110,
   114,
   119,
   130,
   139,
   143,
   162,
   164,
   168,
   181,
   185,
   198,
   208,
   214,
   224,
   232,
   243,
   247,
   267,
   287,
   307,
   327,
   345,
   349,
   368,
   391,
   395,
   399,
   445,
   449,
   454,
   465,
   469,
   482,
   488,
   516,
   564,
   568,
   572,
   580,
   598,
   615,
   619,
   623,
   669,
   673,
   677,
   680,
   684,
   707,
   711,
   718,
   722,
   767,
   771,
   775,
   796,
   798,
   802,
   811,
   815,
   827,
   832,
   841,
   845,
   853,
   857,
   861,
   865,
   880,
   886,
   901,
   905,
   912,
   916,
   920,
   935,
   947,
   959,
   971,
   975,
   979,
   983,
   987,
   991,
   995,
   1006,
   1010,
   1024,
   1028,
   1036
  ]
 },
 "nbformat": 4,
 "nbformat_minor": 5
}