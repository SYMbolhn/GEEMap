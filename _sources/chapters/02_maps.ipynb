{
 "cells": [
  {
   "cell_type": "markdown",
   "id": "34d1e95d",
   "metadata": {},
   "source": [
    "# Creating Interactive Maps\n",
    "\n",
    "```{contents}\n",
    ":local:\n",
    ":depth: 2\n",
    "```\n",
    "\n",
    "## Introduction\n",
    "\n",
    "## Technical requirements\n",
    "\n",
    "```bash\n",
    "conda install -n base mamba -c conda-forge\n",
    "mamba create -n gee -c conda-forge geemap pygis\n",
    "```\n",
    "\n",
    "```bash\n",
    "conda activate gee\n",
    "jupyter lab\n",
    "```"
   ]
  },
  {
   "cell_type": "code",
   "execution_count": null,
   "id": "ffbbd7f3",
   "metadata": {},
   "outputs": [],
   "source": [
    "# %pip install pygis"
   ]
  },
  {
   "cell_type": "code",
   "execution_count": null,
   "id": "3c67e805",
   "metadata": {},
   "outputs": [],
   "source": [
    "import ee\n",
    "import geemap"
   ]
  },
  {
   "cell_type": "code",
   "execution_count": null,
   "id": "cbeb3021",
   "metadata": {},
   "outputs": [],
   "source": [
    "geemap.ee_initialize()"
   ]
  },
  {
   "cell_type": "markdown",
   "id": "074612e4",
   "metadata": {},
   "source": [
    "## Plotting backends\n",
    "\n",
    "### Ipyleaflet"
   ]
  },
  {
   "cell_type": "code",
   "execution_count": null,
   "id": "6f2a9960",
   "metadata": {},
   "outputs": [],
   "source": [
    "import geemap"
   ]
  },
  {
   "cell_type": "code",
   "execution_count": null,
   "id": "25bb73fe",
   "metadata": {},
   "outputs": [],
   "source": [
    "Map = geemap.Map()"
   ]
  },
  {
   "cell_type": "code",
   "execution_count": null,
   "id": "0cf4ee61",
   "metadata": {},
   "outputs": [],
   "source": [
    "Map"
   ]
  },
  {
   "cell_type": "code",
   "execution_count": null,
   "id": "26bb00e1",
   "metadata": {},
   "outputs": [],
   "source": [
    "Map = geemap.Map(center=[40, -100], zoom=4, height=600)\n",
    "Map"
   ]
  },
  {
   "cell_type": "code",
   "execution_count": null,
   "id": "32c70dc9",
   "metadata": {},
   "outputs": [],
   "source": [
    "Map = geemap.Map(data_ctrl=False, toolbar_ctrl=False, draw_ctrl=False)\n",
    "Map"
   ]
  },
  {
   "cell_type": "code",
   "execution_count": null,
   "id": "84a001a8",
   "metadata": {},
   "outputs": [],
   "source": [
    "Map = geemap.Map(lite_mode=True)\n",
    "Map"
   ]
  },
  {
   "cell_type": "code",
   "execution_count": null,
   "id": "dc8e9349",
   "metadata": {},
   "outputs": [],
   "source": [
    "Map.save('ipyleaflet.html')"
   ]
  },
  {
   "cell_type": "markdown",
   "id": "8a4133b3",
   "metadata": {},
   "source": [
    "### Folium"
   ]
  },
  {
   "cell_type": "code",
   "execution_count": null,
   "id": "1e3f7bba",
   "metadata": {},
   "outputs": [],
   "source": [
    "import geemap.foliumap as geemap"
   ]
  },
  {
   "cell_type": "code",
   "execution_count": null,
   "id": "2d8ff3c3",
   "metadata": {},
   "outputs": [],
   "source": [
    "Map = geemap.Map(center=[40, -100], zoom=4, height=600)\n",
    "Map"
   ]
  },
  {
   "cell_type": "code",
   "execution_count": null,
   "id": "49b5a890",
   "metadata": {},
   "outputs": [],
   "source": [
    "Map.save('folium.html')"
   ]
  },
  {
   "cell_type": "markdown",
   "id": "3d8b5079",
   "metadata": {},
   "source": [
    "### Plotly"
   ]
  },
  {
   "cell_type": "code",
   "execution_count": null,
   "id": "5604f548",
   "metadata": {},
   "outputs": [],
   "source": [
    "import geemap.plotlymap as geemap"
   ]
  },
  {
   "cell_type": "code",
   "execution_count": null,
   "id": "82d3deb1",
   "metadata": {},
   "outputs": [],
   "source": [
    "Map = geemap.Map()\n",
    "Map"
   ]
  },
  {
   "cell_type": "code",
   "execution_count": null,
   "id": "d26fcf55",
   "metadata": {},
   "outputs": [],
   "source": [
    "# geemap.fix_widget_error()"
   ]
  },
  {
   "cell_type": "markdown",
   "id": "da9164f3",
   "metadata": {},
   "source": [
    "### Pydeck"
   ]
  },
  {
   "cell_type": "code",
   "execution_count": null,
   "id": "53513e6b",
   "metadata": {},
   "outputs": [],
   "source": [
    "import geemap.deck as geemap"
   ]
  },
  {
   "cell_type": "code",
   "execution_count": null,
   "id": "a47d919f",
   "metadata": {},
   "outputs": [],
   "source": [
    "Map = geemap.Map()\n",
    "Map"
   ]
  },
  {
   "cell_type": "markdown",
   "id": "fdb5ca8a",
   "metadata": {},
   "source": [
    "### KeplerGL"
   ]
  },
  {
   "cell_type": "code",
   "execution_count": null,
   "id": "340d112c",
   "metadata": {},
   "outputs": [],
   "source": [
    "import geemap.kepler as geemap"
   ]
  },
  {
   "cell_type": "code",
   "execution_count": null,
   "id": "b40117de",
   "metadata": {},
   "outputs": [],
   "source": [
    "Map = geemap.Map()\n",
    "Map"
   ]
  },
  {
   "cell_type": "markdown",
   "id": "62304806",
   "metadata": {},
   "source": [
    "## Adding basemaps\n",
    "\n",
    "### Built-in basemaps"
   ]
  },
  {
   "cell_type": "code",
   "execution_count": null,
   "id": "c5478e12",
   "metadata": {},
   "outputs": [],
   "source": [
    "import geemap"
   ]
  },
  {
   "cell_type": "code",
   "execution_count": null,
   "id": "a9a64118",
   "metadata": {},
   "outputs": [],
   "source": [
    "Map = geemap.Map(basemap='HYBRID')\n",
    "Map"
   ]
  },
  {
   "cell_type": "code",
   "execution_count": null,
   "id": "fcb10f50",
   "metadata": {},
   "outputs": [],
   "source": [
    "Map.add_basemap('OpenTopoMap')"
   ]
  },
  {
   "cell_type": "code",
   "execution_count": null,
   "id": "58c27cc3",
   "metadata": {},
   "outputs": [],
   "source": [
    "for basemap in geemap.basemaps.keys():\n",
    "    print(basemap)"
   ]
  },
  {
   "cell_type": "code",
   "execution_count": null,
   "id": "6d68a92c",
   "metadata": {},
   "outputs": [],
   "source": [
    "len(geemap.basemaps)"
   ]
  },
  {
   "cell_type": "markdown",
   "id": "e8b1e78b",
   "metadata": {},
   "source": [
    "### XYZ tiles"
   ]
  },
  {
   "cell_type": "code",
   "execution_count": null,
   "id": "a7ae9a0a",
   "metadata": {},
   "outputs": [],
   "source": [
    "Map = geemap.Map()\n",
    "Map.add_tile_layer(\n",
    "    url=\"https://mt1.google.com/vt/lyrs=p&x={x}&y={y}&z={z}\",\n",
    "    name=\"Google Terrain\",\n",
    "    attribution=\"Google\",\n",
    ")\n",
    "Map"
   ]
  },
  {
   "cell_type": "markdown",
   "id": "743085b4",
   "metadata": {},
   "source": [
    "### WMS tiles"
   ]
  },
  {
   "cell_type": "code",
   "execution_count": null,
   "id": "b4bf1880",
   "metadata": {},
   "outputs": [],
   "source": [
    "Map = geemap.Map(center=[40, -100], zoom=4)\n",
    "url = 'https://www.mrlc.gov/geoserver/mrlc_display/NLCD_2019_Land_Cover_L48/wms?'\n",
    "Map.add_wms_layer(\n",
    "    url=url,\n",
    "    layers='NLCD_2019_Land_Cover_L48',\n",
    "    name='NLCD 2019',\n",
    "    format='image/png',\n",
    "    attribution='MRLC',\n",
    "    transparent=True,\n",
    ")\n",
    "Map"
   ]
  },
  {
   "cell_type": "markdown",
   "id": "0914ef0d",
   "metadata": {},
   "source": [
    "### Planet basemaps"
   ]
  },
  {
   "cell_type": "code",
   "execution_count": null,
   "id": "32c06c3d",
   "metadata": {},
   "outputs": [],
   "source": [
    "import os\n",
    "\n",
    "os.environ[\"PLANET_API_KEY\"] = \"YOUR_API_KEY\""
   ]
  },
  {
   "cell_type": "code",
   "execution_count": null,
   "id": "141aee76",
   "metadata": {},
   "outputs": [],
   "source": [
    "quarterly_tiles = geemap.planet_quarterly_tiles()\n",
    "for tile in quarterly_tiles:\n",
    "    print(tile)"
   ]
  },
  {
   "cell_type": "code",
   "execution_count": null,
   "id": "e03843ec",
   "metadata": {},
   "outputs": [],
   "source": [
    "monthly_tiles = geemap.planet_monthly_tiles()\n",
    "for tile in monthly_tiles:\n",
    "    print(tile)"
   ]
  },
  {
   "cell_type": "code",
   "execution_count": null,
   "id": "23480f53",
   "metadata": {},
   "outputs": [],
   "source": [
    "m = geemap.Map()\n",
    "m.add_planet_by_month(year=2020, month=8)\n",
    "m"
   ]
  },
  {
   "cell_type": "code",
   "execution_count": null,
   "id": "2f6a17ae",
   "metadata": {},
   "outputs": [],
   "source": [
    "m = geemap.Map()\n",
    "m.add_planet_by_quarter(year=2019, quarter=2)\n",
    "m"
   ]
  },
  {
   "cell_type": "markdown",
   "id": "79e8287f",
   "metadata": {},
   "source": [
    "### Basemap GUI"
   ]
  },
  {
   "cell_type": "code",
   "execution_count": null,
   "id": "124cf3c7",
   "metadata": {},
   "outputs": [],
   "source": [
    "import os\n",
    "\n",
    "os.environ[\"PLANET_API_KEY\"] = \"YOUR_API_KEY\""
   ]
  },
  {
   "cell_type": "code",
   "execution_count": null,
   "id": "8619e69e",
   "metadata": {},
   "outputs": [],
   "source": [
    "Map = geemap.Map()\n",
    "Map"
   ]
  },
  {
   "cell_type": "markdown",
   "id": "22eb8a5b",
   "metadata": {},
   "source": [
    "## Summary"
   ]
  }
 ],
 "metadata": {
  "jupytext": {
   "text_representation": {
    "extension": ".md",
    "format_name": "myst",
    "format_version": 0.13,
    "jupytext_version": "1.11.5"
   }
  },
  "kernelspec": {
   "display_name": "Python 3",
   "language": "python",
   "name": "python3"
  },
  "source_map": [
   12,
   35,
   39,
   44,
   46,
   52,
   56,
   60,
   64,
   69,
   74,
   79,
   81,
   85,
   89,
   94,
   96,
   100,
   104,
   109,
   111,
   115,
   119,
   122,
   126,
   130,
   133,
   139,
   143,
   148,
   152,
   157,
   159,
   163,
   171,
   175,
   187,
   191,
   197,
   203,
   209,
   215,
   219,
   223,
   229,
   232
  ]
 },
 "nbformat": 4,
 "nbformat_minor": 5
}