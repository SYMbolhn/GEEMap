{
 "cells": [
  {
   "cell_type": "markdown",
   "id": "249c213e",
   "metadata": {},
   "source": [
    "# Geospatial Data Management"
   ]
  },
  {
   "cell_type": "markdown",
   "id": "9ef5d20c",
   "metadata": {},
   "source": [
    "## Exporting Raster Data"
   ]
  },
  {
   "cell_type": "markdown",
   "id": "765c2d53",
   "metadata": {},
   "source": [
    "## Exporting Vector Data"
   ]
  },
  {
   "cell_type": "markdown",
   "id": "a4aca15c",
   "metadata": {},
   "source": [
    "## Exporting Tabular Data"
   ]
  },
  {
   "cell_type": "code",
   "execution_count": null,
   "id": "6cf478ec",
   "metadata": {},
   "outputs": [],
   "source": []
  }
 ],
 "metadata": {
  "kernelspec": {
   "display_name": "Python 3",
   "language": "python",
   "name": "python3"
  },
  "language_info": {
   "codemirror_mode": {
    "name": "ipython",
    "version": 3
   },
   "file_extension": ".py",
   "mimetype": "text/x-python",
   "name": "python",
   "nbconvert_exporter": "python",
   "pygments_lexer": "ipython3",
   "version": "3.8.8"
  }
 },
 "nbformat": 4,
 "nbformat_minor": 5
}
