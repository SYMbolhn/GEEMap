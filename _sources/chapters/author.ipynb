{
 "cells": [
  {
   "cell_type": "markdown",
   "id": "9758ef05",
   "metadata": {},
   "source": [
    "# About the Author\n",
    "\n",
    "Dr. Qiusheng Wu is an Assistant Professor in the Department of Geography at the University of Tennessee, Knoxville. His research interests include Geographic Information Science (GIS), remote sensing, and environmental modeling. More specifically, he is interested in applying geospatial big data, machine learning, and cloud computing (e.g., Google Earth Engine, Microsoft Planetary Computer) to study environmental change, especially surface water and wetland inundation dynamics. Dr. Wu is an advocate of open science and reproducible research. He has developed several open-source packages for advanced geospatial analysis (e.g., [geemap](https://github.com/giswqs/geemap), [leafmap](https://github.com/giswqs/leafmap), [geospatial](https://github.com/giswqs/geospatial), [lidar](https://github.com/giswqs/lidar), and [WhiteboxTools frontends](https://github.com/giswqs/whitebox-frontends)). More information about his open-source projects can be found on GitHub (<https://github.com/giswqs>). Dr. Wu has also published hundreds of GIS and mapping videos on YouTube. Check out his YouTube channel at <https://www.youtube.com/c/QiushengWu>."
   ]
  }
 ],
 "metadata": {
  "jupytext": {
   "text_representation": {
    "extension": ".md",
    "format_name": "myst",
    "format_version": 0.13,
    "jupytext_version": "1.11.5"
   }
  },
  "kernelspec": {
   "display_name": "Python 3",
   "language": "python",
   "name": "python3"
  },
  "source_map": [
   12
  ]
 },
 "nbformat": 4,
 "nbformat_minor": 5
}