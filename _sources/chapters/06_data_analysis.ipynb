{
 "cells": [
  {
   "cell_type": "markdown",
   "id": "045330fe",
   "metadata": {},
   "source": [
    "# Analyzing Geospatial Data\n",
    "\n",
    "```{contents}\n",
    ":local:\n",
    ":depth: 2\n",
    "```\n",
    "\n",
    "## Introduction"
   ]
  },
  {
   "cell_type": "markdown",
   "id": "c252b6dc",
   "metadata": {},
   "source": [
    "## Technical requirements\n",
    "\n",
    "```bash\n",
    "conda create -n gee python\n",
    "conda activate gee\n",
    "conda install -c conda-forge mamba\n",
    "mamba install -c conda-forge geemap pygis\n",
    "```\n",
    "\n",
    "```bash\n",
    "jupyter lab\n",
    "```\n",
    "\n",
    "[![Open in Colab](https://colab.research.google.com/assets/colab-badge.svg)](https://colab.research.google.com/github/giswqs/geebook/blob/master/chapters/06_data_analysis.ipynb)"
   ]
  },
  {
   "cell_type": "code",
   "execution_count": null,
   "id": "4f6bdc49",
   "metadata": {},
   "outputs": [],
   "source": [
    "# pip install pygis"
   ]
  },
  {
   "cell_type": "code",
   "execution_count": null,
   "id": "5f3fffa4",
   "metadata": {},
   "outputs": [],
   "source": [
    "import ee\n",
    "import geemap"
   ]
  },
  {
   "cell_type": "code",
   "execution_count": null,
   "id": "de02d4d1",
   "metadata": {},
   "outputs": [],
   "source": [
    "geemap.ee_initialize()"
   ]
  },
  {
   "cell_type": "markdown",
   "id": "939016ab",
   "metadata": {},
   "source": [
    "## Earth Engine data reductions\n",
    "\n",
    "### List reductions"
   ]
  },
  {
   "cell_type": "code",
   "execution_count": null,
   "id": "4de9fa57",
   "metadata": {},
   "outputs": [],
   "source": [
    "values = ee.List.sequence(1, 10)\n",
    "print(values.getInfo())"
   ]
  },
  {
   "cell_type": "code",
   "execution_count": null,
   "id": "f87289b4",
   "metadata": {},
   "outputs": [],
   "source": [
    "count = values.reduce(ee.Reducer.count())\n",
    "print(count.getInfo())  # 10"
   ]
  },
  {
   "cell_type": "code",
   "execution_count": null,
   "id": "8c064036",
   "metadata": {},
   "outputs": [],
   "source": [
    "min_value = values.reduce(ee.Reducer.min())\n",
    "print(min_value.getInfo())  # 1"
   ]
  },
  {
   "cell_type": "code",
   "execution_count": null,
   "id": "eab16ebf",
   "metadata": {},
   "outputs": [],
   "source": [
    "max_value = values.reduce(ee.Reducer.max())\n",
    "print(max_value.getInfo())  # 10"
   ]
  },
  {
   "cell_type": "code",
   "execution_count": null,
   "id": "49fa8671",
   "metadata": {},
   "outputs": [],
   "source": [
    "min_max_value = values.reduce(ee.Reducer.minMax())\n",
    "print(min_max_value.getInfo())"
   ]
  },
  {
   "cell_type": "code",
   "execution_count": null,
   "id": "6ca63dce",
   "metadata": {},
   "outputs": [],
   "source": [
    "mean_value = values.reduce(ee.Reducer.mean())\n",
    "print(mean_value.getInfo())  # 5.5"
   ]
  },
  {
   "cell_type": "code",
   "execution_count": null,
   "id": "390dbc47",
   "metadata": {},
   "outputs": [],
   "source": [
    "median_value = values.reduce(ee.Reducer.median())\n",
    "print(median_value.getInfo())  # 5.5"
   ]
  },
  {
   "cell_type": "code",
   "execution_count": null,
   "id": "2c94a08c",
   "metadata": {},
   "outputs": [],
   "source": [
    "sum_value = values.reduce(ee.Reducer.sum())\n",
    "print(sum_value.getInfo())  # 55"
   ]
  },
  {
   "cell_type": "code",
   "execution_count": null,
   "id": "52c99078",
   "metadata": {},
   "outputs": [],
   "source": [
    "std_value = values.reduce(ee.Reducer.stdDev())\n",
    "print(std_value.getInfo())  # 2.8723"
   ]
  },
  {
   "cell_type": "markdown",
   "id": "33c5bc70",
   "metadata": {},
   "source": [
    "### ImageCollection reductions"
   ]
  },
  {
   "cell_type": "code",
   "execution_count": null,
   "id": "2aeefd2b",
   "metadata": {},
   "outputs": [],
   "source": [
    "Map = geemap.Map()\n",
    "\n",
    "# Load an image collection, filtered so it's not too much data.\n",
    "collection = (\n",
    "    ee.ImageCollection('LANDSAT/LC08/C01/T1_TOA')\n",
    "    .filterDate('2021-01-01', '2021-12-31')\n",
    "    .filter(ee.Filter.eq('WRS_PATH', 44))\n",
    "    .filter(ee.Filter.eq('WRS_ROW', 34))\n",
    ")\n",
    "\n",
    "# Compute the median in each band, each pixel.\n",
    "# Band names are B1_median, B2_median, etc.\n",
    "median = collection.reduce(ee.Reducer.median())\n",
    "\n",
    "# The output is an Image.  Add it to the map.\n",
    "vis_param = {'bands': ['B5_median', 'B4_median', 'B3_median'], 'gamma': 2}\n",
    "Map.setCenter(-122.3355, 37.7924, 8)\n",
    "Map.addLayer(median, vis_param)\n",
    "Map"
   ]
  },
  {
   "cell_type": "code",
   "execution_count": null,
   "id": "f0b89a02",
   "metadata": {},
   "outputs": [],
   "source": [
    "median = collection.median()\n",
    "print(median.bandNames().getInfo())"
   ]
  },
  {
   "cell_type": "markdown",
   "id": "4bb7e81f",
   "metadata": {},
   "source": [
    "### Image reductions"
   ]
  },
  {
   "cell_type": "code",
   "execution_count": null,
   "id": "536acc48",
   "metadata": {},
   "outputs": [],
   "source": [
    "Map = geemap.Map()\n",
    "\n",
    "# Load an image and select some bands of interest.\n",
    "image = ee.Image('LANDSAT/LC08/C01/T1/LC08_044034_20140318').select(['B4', 'B3', 'B2'])\n",
    "\n",
    "# Reduce the image to get a one-band maximum value image.\n",
    "maxValue = image.reduce(ee.Reducer.max())\n",
    "\n",
    "# Display the result.\n",
    "Map.centerObject(image, 8)\n",
    "Map.addLayer(image, {}, 'Original image')\n",
    "Map.addLayer(maxValue, {'max': 13000}, 'Maximum value image')\n",
    "Map"
   ]
  },
  {
   "cell_type": "markdown",
   "id": "6611cbbc",
   "metadata": {},
   "source": [
    "### FeatureCollection reductions"
   ]
  },
  {
   "cell_type": "code",
   "execution_count": null,
   "id": "59daae2c",
   "metadata": {},
   "outputs": [],
   "source": [
    "Map = geemap.Map()\n",
    "\n",
    "# Load US census data as a FeatureCollection.\n",
    "census = ee.FeatureCollection('TIGER/2010/Blocks')\n",
    "\n",
    "# Filter the collection to include only Benton County, OR.\n",
    "benton = census.filter(\n",
    "    ee.Filter.And(ee.Filter.eq('statefp10', '41'), ee.Filter.eq('countyfp10', '003'))\n",
    ")\n",
    "\n",
    "# Display Benton County census blocks.\n",
    "Map.setCenter(-123.27, 44.57, 13)\n",
    "Map.addLayer(benton)\n",
    "Map"
   ]
  },
  {
   "cell_type": "code",
   "execution_count": null,
   "id": "a9dd98e4",
   "metadata": {},
   "outputs": [],
   "source": [
    "# Compute sums of the specified properties.\n",
    "properties = ['pop10', 'housing10']\n",
    "sums = benton.filter(ee.Filter.notNull(properties)).reduceColumns(\n",
    "    **{'reducer': ee.Reducer.sum().repeat(2), 'selectors': properties}\n",
    ")\n",
    "\n",
    "# Print the resultant Dictionary.\n",
    "print(sums.getInfo())"
   ]
  },
  {
   "cell_type": "code",
   "execution_count": null,
   "id": "ee880992",
   "metadata": {},
   "outputs": [],
   "source": [
    "print(benton.aggregate_sum('pop10').getInfo())  # 85579\n",
    "print(benton.aggregate_sum('housing10').getInfo())  # 36245"
   ]
  },
  {
   "cell_type": "code",
   "execution_count": null,
   "id": "1aadeae3",
   "metadata": {},
   "outputs": [],
   "source": [
    "benton.aggregate_stats('pop10').getInfo()"
   ]
  },
  {
   "cell_type": "markdown",
   "id": "d753b652",
   "metadata": {},
   "source": [
    "## Image descriptive statistics"
   ]
  },
  {
   "cell_type": "code",
   "execution_count": null,
   "id": "deabfac5",
   "metadata": {},
   "outputs": [],
   "source": [
    "Map = geemap.Map()\n",
    "\n",
    "centroid = ee.Geometry.Point([-122.4439, 37.7538])\n",
    "image = ee.ImageCollection('LANDSAT/LC08/C01/T1_SR').filterBounds(centroid).first()\n",
    "vis = {'min': 0, 'max': 3000, 'bands': ['B5', 'B4', 'B3']}\n",
    "\n",
    "Map.centerObject(centroid, 8)\n",
    "Map.addLayer(image, vis, \"Landsat-8\")\n",
    "Map"
   ]
  },
  {
   "cell_type": "code",
   "execution_count": null,
   "id": "d9776a13",
   "metadata": {},
   "outputs": [],
   "source": [
    "image.propertyNames().getInfo()"
   ]
  },
  {
   "cell_type": "code",
   "execution_count": null,
   "id": "233a8c2d",
   "metadata": {},
   "outputs": [],
   "source": [
    "image.get('CLOUD_COVER').getInfo()  # 0.05"
   ]
  },
  {
   "cell_type": "code",
   "execution_count": null,
   "id": "42518326",
   "metadata": {},
   "outputs": [],
   "source": [
    "props = geemap.image_props(image)\n",
    "props.getInfo()"
   ]
  },
  {
   "cell_type": "code",
   "execution_count": null,
   "id": "0f6b4f92",
   "metadata": {},
   "outputs": [],
   "source": [
    "stats = geemap.image_stats(image, scale=30)\n",
    "stats.getInfo()"
   ]
  },
  {
   "cell_type": "markdown",
   "id": "ecfa3dfd",
   "metadata": {},
   "source": [
    "## Zonal statistics with Earth Engine\n",
    "\n",
    "### Zonal statistics"
   ]
  },
  {
   "cell_type": "code",
   "execution_count": null,
   "id": "399f64dc",
   "metadata": {},
   "outputs": [],
   "source": [
    "Map = geemap.Map(center=[40, -100], zoom=4)\n",
    "\n",
    "# Add NASA SRTM\n",
    "dem = ee.Image('USGS/SRTMGL1_003')\n",
    "dem_vis = {\n",
    "    'min': 0,\n",
    "    'max': 4000,\n",
    "    'palette': ['006633', 'E5FFCC', '662A00', 'D8D8D8', 'F5F5F5'],\n",
    "}\n",
    "Map.addLayer(dem, dem_vis, 'SRTM DEM')\n",
    "\n",
    "# Add 5-year Landsat TOA composite\n",
    "landsat = ee.Image('LANDSAT/LE7_TOA_5YEAR/1999_2003')\n",
    "landsat_vis = {'bands': ['B4', 'B3', 'B2'], 'gamma': 1.4}\n",
    "Map.addLayer(landsat, landsat_vis, \"Landsat\", False)\n",
    "\n",
    "# Add US Census States\n",
    "states = ee.FeatureCollection(\"TIGER/2018/States\")\n",
    "style = {'fillColor': '00000000'}\n",
    "Map.addLayer(states.style(**style), {}, 'US States')\n",
    "Map"
   ]
  },
  {
   "cell_type": "code",
   "execution_count": null,
   "id": "44f852e8",
   "metadata": {},
   "outputs": [],
   "source": [
    "out_dem_stats = 'dem_stats.csv'\n",
    "geemap.zonal_stats(\n",
    "    dem, states, out_dem_stats, statistics_type='MEAN', scale=1000, return_fc=False\n",
    ")"
   ]
  },
  {
   "cell_type": "code",
   "execution_count": null,
   "id": "5c3f76b6",
   "metadata": {},
   "outputs": [],
   "source": [
    "out_landsat_stats = 'landsat_stats.csv'\n",
    "geemap.zonal_stats(\n",
    "    landsat,\n",
    "    states,\n",
    "    out_landsat_stats,\n",
    "    statistics_type='MEAN',\n",
    "    scale=1000,\n",
    "    return_fc=False,\n",
    ")"
   ]
  },
  {
   "cell_type": "markdown",
   "id": "ed6ee72d",
   "metadata": {},
   "source": [
    "### Zonal statistics by group"
   ]
  },
  {
   "cell_type": "code",
   "execution_count": null,
   "id": "ef5241aa",
   "metadata": {},
   "outputs": [],
   "source": [
    "Map = geemap.Map(center=[40, -100], zoom=4)\n",
    "\n",
    "# Add NLCD data\n",
    "dataset = ee.Image('USGS/NLCD_RELEASES/2019_REL/NLCD/2019')\n",
    "landcover = dataset.select('landcover')\n",
    "Map.addLayer(landcover, {}, 'NLCD 2019')\n",
    "\n",
    "# Add US census states\n",
    "states = ee.FeatureCollection(\"TIGER/2018/States\")\n",
    "style = {'fillColor': '00000000'}\n",
    "Map.addLayer(states.style(**style), {}, 'US States')\n",
    "\n",
    "# Add NLCD legend\n",
    "Map.add_legend(title='NLCD Land Cover', builtin_legend='NLCD')\n",
    "Map"
   ]
  },
  {
   "cell_type": "code",
   "execution_count": null,
   "id": "5ab88b01",
   "metadata": {},
   "outputs": [],
   "source": [
    "nlcd_stats = 'nlcd_stats.csv'\n",
    "\n",
    "geemap.zonal_stats_by_group(\n",
    "    landcover,\n",
    "    states,\n",
    "    nlcd_stats,\n",
    "    statistics_type='SUM',\n",
    "    denominator=1e6,\n",
    "    decimal_places=2,\n",
    ")"
   ]
  },
  {
   "cell_type": "code",
   "execution_count": null,
   "id": "9d822037",
   "metadata": {},
   "outputs": [],
   "source": [
    "nlcd_stats = 'nlcd_stats_pct.csv'\n",
    "\n",
    "geemap.zonal_stats_by_group(\n",
    "    landcover,\n",
    "    states,\n",
    "    nlcd_stats,\n",
    "    statistics_type='PERCENTAGE',\n",
    "    denominator=1e6,\n",
    "    decimal_places=2,\n",
    ")"
   ]
  },
  {
   "cell_type": "markdown",
   "id": "b30e738e",
   "metadata": {},
   "source": [
    "### Zonal statistics with two images"
   ]
  },
  {
   "cell_type": "code",
   "execution_count": null,
   "id": "f3970b3a",
   "metadata": {},
   "outputs": [],
   "source": [
    "Map = geemap.Map(center=[40, -100], zoom=4)\n",
    "dem = ee.Image('USGS/3DEP/10m')\n",
    "vis = {'min': 0, 'max': 4000, 'palette': 'terrain'}\n",
    "Map.addLayer(dem, vis, 'DEM')\n",
    "Map"
   ]
  },
  {
   "cell_type": "code",
   "execution_count": null,
   "id": "872a5ac6",
   "metadata": {},
   "outputs": [],
   "source": [
    "landcover = ee.Image(\"USGS/NLCD_RELEASES/2019_REL/NLCD/2019\").select('landcover')\n",
    "Map.addLayer(landcover, {}, 'NLCD 2019')\n",
    "Map.add_legend(title='NLCD Land Cover Classification', builtin_legend='NLCD')"
   ]
  },
  {
   "cell_type": "code",
   "execution_count": null,
   "id": "4f4e63eb",
   "metadata": {},
   "outputs": [],
   "source": [
    "stats = geemap.image_stats_by_zone(dem, landcover, reducer='MEAN')\n",
    "stats"
   ]
  },
  {
   "cell_type": "code",
   "execution_count": null,
   "id": "fadd92bd",
   "metadata": {},
   "outputs": [],
   "source": [
    "stats.to_csv('mean.csv', index=False)"
   ]
  },
  {
   "cell_type": "code",
   "execution_count": null,
   "id": "ec9eda3a",
   "metadata": {},
   "outputs": [],
   "source": [
    "geemap.image_stats_by_zone(dem, landcover, out_csv=\"std.csv\", reducer='STD')"
   ]
  },
  {
   "cell_type": "markdown",
   "id": "50bb473a",
   "metadata": {},
   "source": [
    "## Coordinate grids and fishets\n",
    "\n",
    "### Creating coordinate grids"
   ]
  },
  {
   "cell_type": "code",
   "execution_count": null,
   "id": "0256d486",
   "metadata": {},
   "outputs": [],
   "source": [
    "lat_grid = geemap.latitude_grid(step=5.0, west=-180, east=180, south=-85, north=85)"
   ]
  },
  {
   "cell_type": "code",
   "execution_count": null,
   "id": "97c8a7db",
   "metadata": {},
   "outputs": [],
   "source": [
    "Map = geemap.Map()\n",
    "style = {'fillColor': '00000000'}\n",
    "Map.addLayer(lat_grid.style(**style), {}, 'Latitude Grid')\n",
    "Map"
   ]
  },
  {
   "cell_type": "code",
   "execution_count": null,
   "id": "1afaf40c",
   "metadata": {},
   "outputs": [],
   "source": [
    "df = geemap.ee_to_df(lat_grid)\n",
    "df"
   ]
  },
  {
   "cell_type": "code",
   "execution_count": null,
   "id": "67c1e4d1",
   "metadata": {},
   "outputs": [],
   "source": [
    "lon_grid = geemap.longitude_grid(step=5.0, west=-180, east=180, south=-85, north=85)"
   ]
  },
  {
   "cell_type": "code",
   "execution_count": null,
   "id": "0bcaf533",
   "metadata": {},
   "outputs": [],
   "source": [
    "Map = geemap.Map()\n",
    "style = {'fillColor': '00000000'}\n",
    "Map.addLayer(lon_grid.style(**style), {}, 'Longitude Grid')\n",
    "Map"
   ]
  },
  {
   "cell_type": "code",
   "execution_count": null,
   "id": "d76b2e99",
   "metadata": {},
   "outputs": [],
   "source": [
    "grid = geemap.latlon_grid(\n",
    "    lat_step=10, lon_step=10, west=-180, east=180, south=-85, north=85\n",
    ")"
   ]
  },
  {
   "cell_type": "code",
   "execution_count": null,
   "id": "6421620c",
   "metadata": {},
   "outputs": [],
   "source": [
    "Map = geemap.Map()\n",
    "style = {'fillColor': '00000000'}\n",
    "Map.addLayer(grid.style(**style), {}, 'Coordinate Grid')\n",
    "Map"
   ]
  },
  {
   "cell_type": "markdown",
   "id": "3e9399b3",
   "metadata": {},
   "source": [
    "### Creating fishnets"
   ]
  },
  {
   "cell_type": "code",
   "execution_count": null,
   "id": "e637977f",
   "metadata": {},
   "outputs": [],
   "source": [
    "Map = geemap.Map()\n",
    "Map"
   ]
  },
  {
   "cell_type": "code",
   "execution_count": null,
   "id": "1bf16947",
   "metadata": {},
   "outputs": [],
   "source": [
    "roi = Map.user_roi\n",
    "\n",
    "if roi is None:\n",
    "    roi = ee.Geometry.BBox(-112.8089, 33.7306, -88.5951, 46.6244)\n",
    "    Map.addLayer(data, {}, 'ROI')\n",
    "    Map.user_roi = None\n",
    "\n",
    "Map.centerObject(roi)"
   ]
  },
  {
   "cell_type": "code",
   "execution_count": null,
   "id": "620bc394",
   "metadata": {},
   "outputs": [],
   "source": [
    "fishnet = geemap.fishnet(roi, h_interval=2.0, v_interval=2.0, delta=1)\n",
    "style = {'color': 'blue', 'fillColor': '00000000'}\n",
    "Map.addLayer(fishnet.style(**style), {}, 'Fishnet')"
   ]
  },
  {
   "cell_type": "code",
   "execution_count": null,
   "id": "7e00eb1f",
   "metadata": {},
   "outputs": [],
   "source": [
    "Map = geemap.Map()\n",
    "Map"
   ]
  },
  {
   "cell_type": "code",
   "execution_count": null,
   "id": "442a270e",
   "metadata": {},
   "outputs": [],
   "source": [
    "roi = Map.user_roi\n",
    "\n",
    "if roi is None:\n",
    "    roi = ee.Geometry.Polygon(\n",
    "        [\n",
    "            [\n",
    "                [-64.602356, -1.127399],\n",
    "                [-68.821106, -12.625598],\n",
    "                [-60.647278, -22.498601],\n",
    "                [-47.815247, -21.111406],\n",
    "                [-43.860168, -8.913564],\n",
    "                [-54.582825, -0.775886],\n",
    "                [-60.823059, 0.454555],\n",
    "                [-64.602356, -1.127399],\n",
    "            ]\n",
    "        ]\n",
    "    )\n",
    "    Map.addLayer(roi, {}, 'ROI')\n",
    "\n",
    "Map.centerObject(roi)\n",
    "Map"
   ]
  },
  {
   "cell_type": "code",
   "execution_count": null,
   "id": "72bb6235",
   "metadata": {},
   "outputs": [],
   "source": [
    "fishnet = geemap.fishnet(roi, rows=6, cols=8, delta=1)\n",
    "style = {'color': 'blue', 'fillColor': '00000000'}\n",
    "Map.addLayer(fishnet.style(**style), {}, 'Fishnet')"
   ]
  },
  {
   "cell_type": "markdown",
   "id": "ba157c8d",
   "metadata": {},
   "source": [
    "## Extracting pixel values\n",
    "\n",
    "### Extracting values to points"
   ]
  },
  {
   "cell_type": "code",
   "execution_count": null,
   "id": "434ec4f5",
   "metadata": {},
   "outputs": [],
   "source": [
    "Map = geemap.Map(center=[40, -100], zoom=4)\n",
    "\n",
    "dem = ee.Image('USGS/SRTMGL1_003')\n",
    "landsat7 = ee.Image('LANDSAT/LE7_TOA_5YEAR/1999_2003')\n",
    "\n",
    "vis_params = {\n",
    "    'min': 0,\n",
    "    'max': 4000,\n",
    "    'palette': ['006633', 'E5FFCC', '662A00', 'D8D8D8', 'F5F5F5'],\n",
    "}\n",
    "\n",
    "Map.addLayer(\n",
    "    landsat7,\n",
    "    {'bands': ['B4', 'B3', 'B2'], 'min': 20, 'max': 200, 'gamma': 2},\n",
    "    'Landsat 7',\n",
    ")\n",
    "Map.addLayer(dem, vis_params, 'SRTM DEM', True, 1)\n",
    "Map"
   ]
  },
  {
   "cell_type": "code",
   "execution_count": null,
   "id": "3623b337",
   "metadata": {},
   "outputs": [],
   "source": [
    "in_shp = 'us_cities.shp'\n",
    "url = 'https://github.com/giswqs/data/raw/main/us/us_cities.zip'\n",
    "geemap.download_file(url)"
   ]
  },
  {
   "cell_type": "code",
   "execution_count": null,
   "id": "9efa1ac0",
   "metadata": {},
   "outputs": [],
   "source": [
    "in_fc = geemap.shp_to_ee(in_shp)\n",
    "Map.addLayer(in_fc, {}, 'Cities')"
   ]
  },
  {
   "cell_type": "code",
   "execution_count": null,
   "id": "64c3f90d",
   "metadata": {},
   "outputs": [],
   "source": [
    "geemap.extract_values_to_points(in_fc, dem, out_fc=\"dem.shp\")"
   ]
  },
  {
   "cell_type": "code",
   "execution_count": null,
   "id": "92ca418e",
   "metadata": {},
   "outputs": [],
   "source": [
    "geemap.shp_to_gdf(\"dem.shp\")"
   ]
  },
  {
   "cell_type": "code",
   "execution_count": null,
   "id": "4aaf587f",
   "metadata": {},
   "outputs": [],
   "source": [
    "geemap.extract_values_to_points(in_fc, landsat7, 'landsat.csv')"
   ]
  },
  {
   "cell_type": "code",
   "execution_count": null,
   "id": "ce562362",
   "metadata": {},
   "outputs": [],
   "source": [
    "geemap.csv_to_df('landsat.csv')"
   ]
  },
  {
   "cell_type": "markdown",
   "id": "dcebfc7f",
   "metadata": {},
   "source": [
    "### Extracting pixel values along a transect"
   ]
  },
  {
   "cell_type": "code",
   "execution_count": null,
   "id": "a7a440d7",
   "metadata": {},
   "outputs": [],
   "source": [
    "Map = geemap.Map(center=[40, -100], zoom=4)\n",
    "Map.add_basemap(\"TERRAIN\")\n",
    "\n",
    "image = ee.Image('USGS/SRTMGL1_003')\n",
    "vis_params = {\n",
    "    'min': 0,\n",
    "    'max': 4000,\n",
    "    'palette': ['006633', 'E5FFCC', '662A00', 'D8D8D8', 'F5F5F5'],\n",
    "}\n",
    "Map.addLayer(image, vis_params, 'SRTM DEM', True, 0.5)\n",
    "Map"
   ]
  },
  {
   "cell_type": "code",
   "execution_count": null,
   "id": "9986bb39",
   "metadata": {},
   "outputs": [],
   "source": [
    "# Use the drawing tool to draw any line on the map.\n",
    "line = Map.user_roi\n",
    "if line is None:\n",
    "    line = ee.Geometry.LineString(\n",
    "        [[-120.2232, 36.3148], [-118.9269, 36.7121], [-117.2022, 36.7562]]\n",
    "    )\n",
    "    Map.addLayer(line, {}, \"ROI\")\n",
    "Map.centerObject(line)"
   ]
  },
  {
   "cell_type": "code",
   "execution_count": null,
   "id": "028a83bb",
   "metadata": {},
   "outputs": [],
   "source": [
    "reducer = 'mean'  # Any ee.Reducer, e.g., mean, median, min, max, stdDev\n",
    "transect = geemap.extract_transect(\n",
    "    image, line, n_segments=100, reducer=reducer, to_pandas=True\n",
    ")\n",
    "transect"
   ]
  },
  {
   "cell_type": "code",
   "execution_count": null,
   "id": "1f9a7f9d",
   "metadata": {},
   "outputs": [],
   "source": [
    "transect.to_csv('transect.csv')"
   ]
  },
  {
   "cell_type": "code",
   "execution_count": null,
   "id": "5a456263",
   "metadata": {},
   "outputs": [],
   "source": [
    "from bqplot import pyplot as plt\n",
    "\n",
    "fig = plt.figure()\n",
    "plt.plot(transect['distance'], transect[reducer])\n",
    "plt.xlabel('Distance')\n",
    "plt.ylabel(\"Elevation\")\n",
    "plt.show()"
   ]
  },
  {
   "cell_type": "markdown",
   "id": "1e489064",
   "metadata": {},
   "source": [
    "### Interactive region reduction"
   ]
  },
  {
   "cell_type": "code",
   "execution_count": null,
   "id": "df0b1f58",
   "metadata": {},
   "outputs": [],
   "source": []
  },
  {
   "cell_type": "code",
   "execution_count": null,
   "id": "8608c5ce",
   "metadata": {},
   "outputs": [],
   "source": [
    "Map = geemap.Map()\n",
    "\n",
    "collection = (\n",
    "    ee.ImageCollection('MODIS/006/MOD13A2')\n",
    "    .filterDate('2015-01-01', '2019-12-31')\n",
    "    .select('NDVI')\n",
    ")\n",
    "\n",
    "# Convert the image collection to an image.\n",
    "image = collection.toBands()\n",
    "\n",
    "ndvi_vis = {\n",
    "    'min': 0.0,\n",
    "    'max': 9000.0,\n",
    "    'palette': 'ndvi',\n",
    "}\n",
    "\n",
    "Map.addLayer(image, {}, 'MODIS NDVI Time-series')\n",
    "Map.addLayer(image.select(0), ndvi_vis, 'First image')\n",
    "\n",
    "Map"
   ]
  },
  {
   "cell_type": "code",
   "execution_count": null,
   "id": "9be260e7",
   "metadata": {},
   "outputs": [],
   "source": [
    "Map.set_plot_options(add_marker_cluster=True)\n",
    "Map.roi_reducer = ee.Reducer.mean()"
   ]
  },
  {
   "cell_type": "code",
   "execution_count": null,
   "id": "2f7a7c7f",
   "metadata": {},
   "outputs": [],
   "source": [
    "Map.extract_values_to_points('ndvi.shp')"
   ]
  },
  {
   "cell_type": "markdown",
   "id": "f4ac8a81",
   "metadata": {},
   "source": [
    "## Mapping available image count"
   ]
  },
  {
   "cell_type": "code",
   "execution_count": null,
   "id": "99b542e0",
   "metadata": {},
   "outputs": [],
   "source": [
    "collection = ee.ImageCollection(\"LANDSAT/LC08/C02/T1_L2\")\n",
    "image = geemap.image_count(\n",
    "    collection, region=None, start_date='2021-01-01', end_date='2022-01-01', clip=False\n",
    ")"
   ]
  },
  {
   "cell_type": "code",
   "execution_count": null,
   "id": "65fc0d56",
   "metadata": {},
   "outputs": [],
   "source": [
    "Map = geemap.Map()\n",
    "vis = {'min': 0, 'max': 60, 'palette': 'coolwarm'}\n",
    "Map.addLayer(image, vis, 'Image Count')\n",
    "Map.add_colorbar(vis, label='Landsat 8 Image Count')\n",
    "\n",
    "countries = ee.FeatureCollection(geemap.examples.get_ee_path('countries'))\n",
    "style = {\"color\": \"00000088\", \"width\": 1, \"fillColor\": \"00000000\"}\n",
    "Map.addLayer(countries.style(**style), {}, \"Countries\")\n",
    "Map"
   ]
  },
  {
   "cell_type": "markdown",
   "id": "2ddb6976",
   "metadata": {},
   "source": [
    "## Using Landsat 9"
   ]
  },
  {
   "cell_type": "code",
   "execution_count": null,
   "id": "c2b4ce01",
   "metadata": {},
   "outputs": [],
   "source": [
    "Map = geemap.Map()\n",
    "Map"
   ]
  },
  {
   "cell_type": "code",
   "execution_count": null,
   "id": "48593ea0",
   "metadata": {},
   "outputs": [],
   "source": [
    "# Load a cloudy Landsat scene and display it.\n",
    "cloudy_scene = ee.Image('LANDSAT/LC08/C01/T1_TOA/LC08_044034_20140926')\n",
    "Map.centerObject(cloudy_scene)\n",
    "Map.addLayer(cloudy_scene, {'bands': ['B4',  'B3',  'B2'], 'max': 0.4}, 'TOA', False)\n",
    "\n",
    "# Add a cloud score band.  It is automatically called 'cloud'.\n",
    "scored = ee.Algorithms.Landsat.simpleCloudScore(cloudy_scene)\n",
    "\n",
    "# Create a mask from the cloud score and combine it with the image mask.\n",
    "mask = scored.select(['cloud']).lte(50)\n",
    "\n",
    "# Apply the mask to the image and display the result.\n",
    "masked = cloudy_scene.updateMask(mask)\n",
    "Map.addLayer(masked, {'bands': ['B4',  'B3',  'B2'], 'max': 0.4}, 'masked')"
   ]
  },
  {
   "cell_type": "code",
   "execution_count": null,
   "id": "5b9b6a9f",
   "metadata": {},
   "outputs": [],
   "source": [
    "# Load a raw Landsat 8 ImageCollection for a single year.\n",
    "collection = ee.ImageCollection('LANDSAT/LC08/C02/T1') \\\n",
    "    .filterDate('2021-01-01', '2021-12-31')\n",
    "\n",
    "# Create a cloud-free composite with default parameters.\n",
    "composite = ee.Algorithms.Landsat.simpleComposite(collection)\n",
    "\n",
    "# Create a cloud-free composite with custom parameters for\n",
    "# cloud score threshold and percentile.\n",
    "customComposite = ee.Algorithms.Landsat.simpleComposite(**{\n",
    "  'collection': collection,\n",
    "  'percentile': 30,\n",
    "  'cloudScoreRange': 5\n",
    "})\n",
    "\n",
    "# Display the composites.\n",
    "Map.setCenter(-122.3578, 37.7726, 10)\n",
    "Map.addLayer(composite, {'bands': ['B5',  'B4',  'B3'], 'max': 128}, 'TOA composite')\n",
    "Map.addLayer(customComposite, {'bands': ['B5',  'B4',  'B3'], 'max': 128},\n",
    "    'Custom TOA composite')"
   ]
  },
  {
   "cell_type": "code",
   "execution_count": null,
   "id": "722d6aeb",
   "metadata": {},
   "outputs": [],
   "source": [
    "dataset = ee.ImageCollection('LANDSAT/LC09/C02/T2') \\\n",
    "                  .filterDate('2022-01-01', '2022-08-30')\n",
    "TrueColor432 = dataset.select(['B4', 'B3', 'B2'])\n",
    "TrueColor432Vis = {\n",
    "  'min': 0.0,\n",
    "  'max': 30000.0,\n",
    "}\n",
    "Map.setCenter(6.746, 46.529, 6)\n",
    "Map.addLayer(TrueColor432, TrueColor432Vis, 'True Color (432)')"
   ]
  },
  {
   "cell_type": "code",
   "execution_count": null,
   "id": "9ce7b4df",
   "metadata": {},
   "outputs": [],
   "source": [
    "import ee"
   ]
  },
  {
   "cell_type": "code",
   "execution_count": null,
   "id": "ff6fa101",
   "metadata": {},
   "outputs": [],
   "source": [
    "image = ee.Algorithms.Landsat.simpleComposite(dataset, percentile=75, cloudScoreRange=5)"
   ]
  },
  {
   "cell_type": "code",
   "execution_count": null,
   "id": "04540b6a",
   "metadata": {},
   "outputs": [],
   "source": [
    "vis = {'bands': ['B5', 'B4', 'B3']}\n",
    "Map.addLayer(image, vis, 'image')"
   ]
  },
  {
   "cell_type": "code",
   "execution_count": null,
   "id": "9d021d51",
   "metadata": {},
   "outputs": [],
   "source": [
    "collection = ee.ImageCollection('LANDSAT/LC09/C02/T1_L2')\n",
    "print(collection.size().getInfo())"
   ]
  },
  {
   "cell_type": "code",
   "execution_count": null,
   "id": "20f81ac0",
   "metadata": {},
   "outputs": [],
   "source": [
    "median = collection.median()"
   ]
  },
  {
   "cell_type": "code",
   "execution_count": null,
   "id": "8b849d41",
   "metadata": {},
   "outputs": [],
   "source": [
    "def apply_scale_factors(image):\n",
    "    opticalBands = image.select('SR_B.').multiply(0.0000275).add(-0.2)\n",
    "    thermalBands = image.select('ST_B.*').multiply(0.00341802).add(149.0)\n",
    "    return image.addBands(opticalBands, None, True).addBands(thermalBands, None, True)"
   ]
  },
  {
   "cell_type": "code",
   "execution_count": null,
   "id": "39dcb9c2",
   "metadata": {
    "tags": []
   },
   "outputs": [],
   "source": [
    "dataset = apply_scale_factors(median)"
   ]
  },
  {
   "cell_type": "code",
   "execution_count": null,
   "id": "12300c7d",
   "metadata": {},
   "outputs": [],
   "source": [
    "vis_natural = {\n",
    "    'bands': ['SR_B4', 'SR_B3', 'SR_B2'],\n",
    "    'min': 0.0,\n",
    "    'max': 0.3,\n",
    "}\n",
    "\n",
    "vis_nir = {\n",
    "    'bands': ['SR_B5', 'SR_B4', 'SR_B3'],\n",
    "    'min': 0.0,\n",
    "    'max': 0.3,\n",
    "}"
   ]
  },
  {
   "cell_type": "code",
   "execution_count": null,
   "id": "5d48a1a6",
   "metadata": {},
   "outputs": [],
   "source": [
    "Map = geemap.Map()\n",
    "Map.addLayer(dataset, vis_natural, 'True color (432)')\n",
    "Map.addLayer(dataset, vis_nir, 'Color infrared (543)')\n",
    "Map"
   ]
  },
  {
   "cell_type": "markdown",
   "id": "e8ad5f83",
   "metadata": {},
   "source": [
    "![](https://i.imgur.com/USPMXzw.jpg)"
   ]
  },
  {
   "cell_type": "code",
   "execution_count": null,
   "id": "2779f3ec",
   "metadata": {},
   "outputs": [],
   "source": [
    "vis_params = [\n",
    "    {'bands': ['SR_B4', 'SR_B3', 'SR_B2'], 'min': 0, 'max': 0.3},\n",
    "    {'bands': ['SR_B5', 'SR_B4', 'SR_B3'], 'min': 0, 'max': 0.3},\n",
    "    {'bands': ['SR_B7', 'SR_B6', 'SR_B4'], 'min': 0, 'max': 0.3},\n",
    "    {'bands': ['SR_B6', 'SR_B5', 'SR_B2'], 'min': 0, 'max': 0.3},\n",
    "]"
   ]
  },
  {
   "cell_type": "code",
   "execution_count": null,
   "id": "7514b83d",
   "metadata": {},
   "outputs": [],
   "source": [
    "labels = [\n",
    "    'Natural Color (4, 3, 2)',\n",
    "    'Color Infrared (5, 4, 3)',\n",
    "    'Short-Wave Infrared (7, 6 4)',\n",
    "    'Agriculture (6, 5, 2)',\n",
    "]"
   ]
  },
  {
   "cell_type": "code",
   "execution_count": null,
   "id": "01f8cad4",
   "metadata": {},
   "outputs": [],
   "source": [
    "geemap.linked_maps(\n",
    "    rows=2,\n",
    "    cols=2,\n",
    "    height=\"300px\",\n",
    "    center=[40, -100],\n",
    "    zoom=4,\n",
    "    ee_objects=[dataset],\n",
    "    vis_params=vis_params,\n",
    "    labels=labels,\n",
    "    label_position=\"topright\",\n",
    ")"
   ]
  },
  {
   "cell_type": "markdown",
   "id": "881f7baa",
   "metadata": {},
   "source": [
    "![](https://i.imgur.com/c4FsGBI.jpg)"
   ]
  },
  {
   "cell_type": "code",
   "execution_count": null,
   "id": "6480627f",
   "metadata": {},
   "outputs": [],
   "source": [
    "landsat8 = ee.Image('LANDSAT/LC08/C02/T1_L2/LC08_015043_20130402')\n",
    "landsat9 = ee.Image('LANDSAT/LC09/C02/T1_L2/LC09_015043_20211231')"
   ]
  },
  {
   "cell_type": "code",
   "execution_count": null,
   "id": "ef43277d",
   "metadata": {},
   "outputs": [],
   "source": [
    "landsat8 = apply_scale_factors(landsat8)\n",
    "landsat9 = apply_scale_factors(landsat9)"
   ]
  },
  {
   "cell_type": "code",
   "execution_count": null,
   "id": "4820759c",
   "metadata": {},
   "outputs": [],
   "source": [
    "left_layer = geemap.ee_tile_layer(landsat8, vis_natural, 'Landsat 8')\n",
    "right_layer = geemap.ee_tile_layer(landsat9, vis_nir, 'Landsat 9')"
   ]
  },
  {
   "cell_type": "code",
   "execution_count": null,
   "id": "50af8332",
   "metadata": {},
   "outputs": [],
   "source": [
    "Map = geemap.Map()\n",
    "Map.split_map(left_layer, right_layer)\n",
    "Map.centerObject(landsat9)\n",
    "Map"
   ]
  },
  {
   "cell_type": "markdown",
   "id": "8bdcbac4",
   "metadata": {},
   "source": [
    "![](https://i.imgur.com/i6lUYHF.jpg)\n",
    "\n",
    "## Quality mosaicking"
   ]
  },
  {
   "cell_type": "markdown",
   "id": "f0222217",
   "metadata": {},
   "source": [
    "### Create an interactive map"
   ]
  },
  {
   "cell_type": "code",
   "execution_count": null,
   "id": "3b722a06",
   "metadata": {},
   "outputs": [],
   "source": [
    "Map = geemap.Map(center=[40, -100], zoom=4)\n",
    "Map"
   ]
  },
  {
   "cell_type": "markdown",
   "id": "d7491783",
   "metadata": {},
   "source": [
    "### Define a region of interest (ROI)"
   ]
  },
  {
   "cell_type": "code",
   "execution_count": null,
   "id": "3c08814f",
   "metadata": {},
   "outputs": [],
   "source": [
    "countries = ee.FeatureCollection(geemap.examples.get_ee_path('countries'))\n",
    "Map.addLayer(countries, {}, 'coutries')"
   ]
  },
  {
   "cell_type": "code",
   "execution_count": null,
   "id": "a8a7709e",
   "metadata": {},
   "outputs": [],
   "source": [
    "roi = countries.filter(ee.Filter.eq('ISO_A3', 'USA'))\n",
    "Map.addLayer(roi, {}, 'roi')"
   ]
  },
  {
   "cell_type": "markdown",
   "id": "8d87d522",
   "metadata": {},
   "source": [
    "### Filter ImageCollection"
   ]
  },
  {
   "cell_type": "code",
   "execution_count": null,
   "id": "fc86ef14",
   "metadata": {},
   "outputs": [],
   "source": [
    "start_date = '2019-01-01'\n",
    "end_date = '2019-12-31'\n",
    "\n",
    "l8 = (\n",
    "    ee.ImageCollection('LANDSAT/LC08/C01/T1_TOA')\n",
    "    .filterBounds(roi)\n",
    "    .filterDate(start_date, end_date)\n",
    ")"
   ]
  },
  {
   "cell_type": "markdown",
   "id": "08e53381",
   "metadata": {},
   "source": [
    "### Create a median composite"
   ]
  },
  {
   "cell_type": "code",
   "execution_count": null,
   "id": "4080af4f",
   "metadata": {},
   "outputs": [],
   "source": [
    "median = l8.median()\n",
    "\n",
    "visParams = {\n",
    "    'bands': ['B4', 'B3', 'B2'],\n",
    "    'min': 0,\n",
    "    'max': 0.4,\n",
    "}\n",
    "\n",
    "Map.addLayer(median, visParams, 'Median')\n",
    "Map"
   ]
  },
  {
   "cell_type": "markdown",
   "id": "665e6bc3",
   "metadata": {},
   "source": [
    "### Define functions to add time bands"
   ]
  },
  {
   "cell_type": "code",
   "execution_count": null,
   "id": "8e02263c",
   "metadata": {},
   "outputs": [],
   "source": [
    "def addNDVI(image):\n",
    "    ndvi = image.normalizedDifference(['B5', 'B4']).rename('NDVI')\n",
    "    return image.addBands(ndvi)"
   ]
  },
  {
   "cell_type": "code",
   "execution_count": null,
   "id": "cfe6c7ff",
   "metadata": {},
   "outputs": [],
   "source": [
    "def addDate(image):\n",
    "    img_date = ee.Date(image.date())\n",
    "    img_date = ee.Number.parse(img_date.format('YYYYMMdd'))\n",
    "    return image.addBands(ee.Image(img_date).rename('date').toInt())"
   ]
  },
  {
   "cell_type": "code",
   "execution_count": null,
   "id": "ac43afb4",
   "metadata": {},
   "outputs": [],
   "source": [
    "def addMonth(image):\n",
    "    img_date = ee.Date(image.date())\n",
    "    img_doy = ee.Number.parse(img_date.format('M'))\n",
    "    return image.addBands(ee.Image(img_doy).rename('month').toInt())"
   ]
  },
  {
   "cell_type": "code",
   "execution_count": null,
   "id": "ff79280b",
   "metadata": {},
   "outputs": [],
   "source": [
    "def addDOY(image):\n",
    "    img_date = ee.Date(image.date())\n",
    "    img_doy = ee.Number.parse(img_date.format('D'))\n",
    "    return image.addBands(ee.Image(img_doy).rename('doy').toInt())"
   ]
  },
  {
   "cell_type": "markdown",
   "id": "46f59776",
   "metadata": {},
   "source": [
    "### Map over an ImageCollection"
   ]
  },
  {
   "cell_type": "code",
   "execution_count": null,
   "id": "a66cdb84",
   "metadata": {},
   "outputs": [],
   "source": [
    "withNDVI = l8.map(addNDVI).map(addDate).map(addMonth).map(addDOY)"
   ]
  },
  {
   "cell_type": "markdown",
   "id": "b93f3e6d",
   "metadata": {},
   "source": [
    "### Create a quality mosaic"
   ]
  },
  {
   "cell_type": "code",
   "execution_count": null,
   "id": "e4974849",
   "metadata": {},
   "outputs": [],
   "source": [
    "greenest = withNDVI.qualityMosaic('NDVI')"
   ]
  },
  {
   "cell_type": "code",
   "execution_count": null,
   "id": "485162f5",
   "metadata": {},
   "outputs": [],
   "source": [
    "greenest.bandNames().getInfo()"
   ]
  },
  {
   "cell_type": "markdown",
   "id": "c8e04f5d",
   "metadata": {},
   "source": [
    "### Display the max value band"
   ]
  },
  {
   "cell_type": "code",
   "execution_count": null,
   "id": "2d6de2a3",
   "metadata": {},
   "outputs": [],
   "source": [
    "ndvi = greenest.select('NDVI')\n",
    "palette = [\n",
    "    '#d73027',\n",
    "    '#f46d43',\n",
    "    '#fdae61',\n",
    "    '#fee08b',\n",
    "    '#d9ef8b',\n",
    "    '#a6d96a',\n",
    "    '#66bd63',\n",
    "    '#1a9850',\n",
    "]\n",
    "Map.addLayer(ndvi, {'palette': palette}, 'NDVI')\n",
    "Map"
   ]
  },
  {
   "cell_type": "code",
   "execution_count": null,
   "id": "ddce1e82",
   "metadata": {},
   "outputs": [],
   "source": [
    "Map.addLayer(greenest, visParams, 'Greenest pixel')\n",
    "Map"
   ]
  },
  {
   "cell_type": "markdown",
   "id": "15bd8fec",
   "metadata": {},
   "source": [
    "### Display time bands"
   ]
  },
  {
   "cell_type": "code",
   "execution_count": null,
   "id": "b8d7f0ff",
   "metadata": {},
   "outputs": [],
   "source": [
    "Map.addLayer(\n",
    "    greenest.select('month'),\n",
    "    {'palette': ['red', 'blue'], 'min': 1, 'max': 12},\n",
    "    'Greenest month',\n",
    ")"
   ]
  },
  {
   "cell_type": "code",
   "execution_count": null,
   "id": "6472514e",
   "metadata": {},
   "outputs": [],
   "source": [
    "Map.addLayer(\n",
    "    greenest.select('doy'),\n",
    "    {'palette': ['brown', 'green'], 'min': 1, 'max': 365},\n",
    "    'Greenest doy',\n",
    ")"
   ]
  },
  {
   "cell_type": "markdown",
   "id": "65223581",
   "metadata": {},
   "source": [
    "## Interactive charts"
   ]
  },
  {
   "cell_type": "code",
   "execution_count": null,
   "id": "b3c7c5bb",
   "metadata": {},
   "outputs": [],
   "source": [
    "import geemap.chart as chart"
   ]
  },
  {
   "cell_type": "markdown",
   "id": "5b1d0223",
   "metadata": {},
   "source": [
    "### Chart by feature"
   ]
  },
  {
   "cell_type": "code",
   "execution_count": null,
   "id": "fc84e3a0",
   "metadata": {},
   "outputs": [],
   "source": [
    "Map = geemap.Map(center=[40, -100], zoom=4)\n",
    "\n",
    "features = ee.FeatureCollection('projects/google/charts_feature_example').select(\n",
    "    '[0-9][0-9]_tmean|label'\n",
    ")\n",
    "\n",
    "Map.addLayer(features, {}, \"Ecoregions\")\n",
    "Map"
   ]
  },
  {
   "cell_type": "code",
   "execution_count": null,
   "id": "2be02b7c",
   "metadata": {},
   "outputs": [],
   "source": [
    "df = geemap.ee_to_pandas(features)\n",
    "df"
   ]
  },
  {
   "cell_type": "code",
   "execution_count": null,
   "id": "e1399e9d",
   "metadata": {},
   "outputs": [],
   "source": [
    "xProperty = \"label\"\n",
    "yProperties = [str(x).zfill(2) + \"_tmean\" for x in range(1, 13)]\n",
    "\n",
    "labels = [\n",
    "    'Jan',\n",
    "    'Feb',\n",
    "    'Mar',\n",
    "    'Apr',\n",
    "    'May',\n",
    "    'Jun',\n",
    "    'Jul',\n",
    "    'Aug',\n",
    "    'Sep',\n",
    "    'Oct',\n",
    "    'Nov',\n",
    "    'Dec',\n",
    "]\n",
    "colors = [\n",
    "    '#604791',\n",
    "    '#1d6b99',\n",
    "    '#39a8a7',\n",
    "    '#0f8755',\n",
    "    '#76b349',\n",
    "    '#f0af07',\n",
    "    '#e37d05',\n",
    "    '#cf513e',\n",
    "    '#96356f',\n",
    "    '#724173',\n",
    "    '#9c4f97',\n",
    "    '#696969',\n",
    "]\n",
    "title = \"Average Monthly Temperature by Ecoregion\"\n",
    "xlabel = \"Ecoregion\"\n",
    "ylabel = \"Temperature\""
   ]
  },
  {
   "cell_type": "code",
   "execution_count": null,
   "id": "a02ad7a2",
   "metadata": {},
   "outputs": [],
   "source": [
    "options = {\n",
    "    \"labels\": labels,\n",
    "    \"colors\": colors,\n",
    "    \"title\": title,\n",
    "    \"xlabel\": xlabel,\n",
    "    \"ylabel\": ylabel,\n",
    "    \"legend_location\": \"top-left\",\n",
    "    \"height\": \"500px\",\n",
    "}"
   ]
  },
  {
   "cell_type": "code",
   "execution_count": null,
   "id": "f6096004",
   "metadata": {},
   "outputs": [],
   "source": [
    "chart.feature_byFeature(features, xProperty, yProperties, **options)"
   ]
  },
  {
   "cell_type": "markdown",
   "id": "4cfa77fd",
   "metadata": {},
   "source": [
    "![](https://i.imgur.com/9xzsUxg.jpg)"
   ]
  },
  {
   "cell_type": "markdown",
   "id": "7bdbc444",
   "metadata": {},
   "source": [
    "### Chart by property"
   ]
  },
  {
   "cell_type": "code",
   "execution_count": null,
   "id": "6f5488c2",
   "metadata": {},
   "outputs": [],
   "source": [
    "Map = geemap.Map()\n",
    "\n",
    "features = ee.FeatureCollection('projects/google/charts_feature_example').select(\n",
    "    '[0-9][0-9]_ppt|label'\n",
    ")\n",
    "\n",
    "Map.addLayer(features, {}, 'Features')\n",
    "Map"
   ]
  },
  {
   "cell_type": "code",
   "execution_count": null,
   "id": "79228de6",
   "metadata": {},
   "outputs": [],
   "source": [
    "df = geemap.ee_to_pandas(features)\n",
    "df"
   ]
  },
  {
   "cell_type": "code",
   "execution_count": null,
   "id": "91906b69",
   "metadata": {},
   "outputs": [],
   "source": [
    "keys = [str(x).zfill(2) + \"_ppt\" for x in range(1, 13)]\n",
    "values = [\n",
    "    'Jan',\n",
    "    'Feb',\n",
    "    'Mar',\n",
    "    'Apr',\n",
    "    'May',\n",
    "    'Jun',\n",
    "    'Jul',\n",
    "    'Aug',\n",
    "    'Sep',\n",
    "    'Oct',\n",
    "    'Nov',\n",
    "    'Dec',\n",
    "]"
   ]
  },
  {
   "cell_type": "code",
   "execution_count": null,
   "id": "52ba966d",
   "metadata": {},
   "outputs": [],
   "source": [
    "xProperties = dict(zip(keys, values))\n",
    "seriesProperty = \"label\""
   ]
  },
  {
   "cell_type": "code",
   "execution_count": null,
   "id": "29d2e354",
   "metadata": {},
   "outputs": [],
   "source": [
    "options = {\n",
    "    'title': \"Average Ecoregion Precipitation by Month\",\n",
    "    'colors': ['#f0af07', '#0f8755', '#76b349'],\n",
    "    'xlabel': \"Month\",\n",
    "    'ylabel': \"Precipitation (mm)\",\n",
    "    'legend_location': \"top-left\",\n",
    "    \"height\": \"500px\",\n",
    "}"
   ]
  },
  {
   "cell_type": "code",
   "execution_count": null,
   "id": "72320350",
   "metadata": {},
   "outputs": [],
   "source": [
    "chart.feature_byProperty(features, xProperties, seriesProperty, **options)"
   ]
  },
  {
   "cell_type": "markdown",
   "id": "99939283",
   "metadata": {},
   "source": [
    "![](https://i.imgur.com/mS3vzHJ.jpg)\n",
    "\n",
    "### Histogram"
   ]
  },
  {
   "cell_type": "code",
   "execution_count": null,
   "id": "dcad8ace",
   "metadata": {},
   "outputs": [],
   "source": [
    "import geemap.chart as chart"
   ]
  },
  {
   "cell_type": "code",
   "execution_count": null,
   "id": "7a4575ac",
   "metadata": {},
   "outputs": [],
   "source": [
    "source = ee.ImageCollection('OREGONSTATE/PRISM/Norm81m').toBands()\n",
    "region = ee.Geometry.Rectangle(-123.41, 40.43, -116.38, 45.14)\n",
    "samples = source.sample(region, 5000)\n",
    "prop = '07_ppt'"
   ]
  },
  {
   "cell_type": "code",
   "execution_count": null,
   "id": "40254f2b",
   "metadata": {},
   "outputs": [],
   "source": [
    "options = {\n",
    "    \"title\": 'July Precipitation Distribution for NW USA',\n",
    "    \"xlabel\": 'Precipitation (mm)',\n",
    "    \"ylabel\": 'Pixel count',\n",
    "    \"colors\": ['#1d6b99'],\n",
    "}"
   ]
  },
  {
   "cell_type": "code",
   "execution_count": null,
   "id": "35513cf6",
   "metadata": {},
   "outputs": [],
   "source": [
    "chart.feature_histogram(samples, prop, **options)"
   ]
  },
  {
   "cell_type": "markdown",
   "id": "96589911",
   "metadata": {},
   "source": [
    "![](https://i.imgur.com/zgzpfvb.gif)"
   ]
  },
  {
   "cell_type": "code",
   "execution_count": null,
   "id": "31481a6a",
   "metadata": {},
   "outputs": [],
   "source": [
    "chart.feature_histogram(samples, prop, maxBuckets=30, **options)"
   ]
  },
  {
   "cell_type": "markdown",
   "id": "9d6c1961",
   "metadata": {},
   "source": [
    "![](https://i.imgur.com/WV7aB1e.gif)"
   ]
  },
  {
   "cell_type": "code",
   "execution_count": null,
   "id": "f0b19a7d",
   "metadata": {},
   "outputs": [],
   "source": [
    "chart.feature_histogram(samples, prop, minBucketWidth=0.5, **options)"
   ]
  },
  {
   "cell_type": "code",
   "execution_count": null,
   "id": "c5f0f008",
   "metadata": {},
   "outputs": [],
   "source": [
    "chart.feature_histogram(samples, prop, minBucketWidth=3, maxBuckets=30, **options)"
   ]
  },
  {
   "cell_type": "markdown",
   "id": "93ed2d1c",
   "metadata": {},
   "source": [
    "## Creating training samples"
   ]
  },
  {
   "cell_type": "code",
   "execution_count": null,
   "id": "3c5b6420",
   "metadata": {},
   "outputs": [],
   "source": [
    "Map = geemap.Map()\n",
    "Map"
   ]
  },
  {
   "cell_type": "code",
   "execution_count": null,
   "id": "3b43c2f9",
   "metadata": {},
   "outputs": [],
   "source": [
    "if Map.user_rois is not None:\n",
    "    training_samples = Map.user_rois\n",
    "    print(training_samples.getInfo())"
   ]
  },
  {
   "cell_type": "markdown",
   "id": "cbf5eb8e",
   "metadata": {},
   "source": [
    "## Unsupervised classification\n",
    "\n",
    "### Unsupervised classification algorithms"
   ]
  },
  {
   "cell_type": "markdown",
   "id": "1242302f",
   "metadata": {},
   "source": [
    "![](https://i.imgur.com/IcBapEx.jpg)"
   ]
  },
  {
   "cell_type": "markdown",
   "id": "766c0714",
   "metadata": {},
   "source": [
    "### Add data to the map"
   ]
  },
  {
   "cell_type": "code",
   "execution_count": null,
   "id": "412f5571",
   "metadata": {},
   "outputs": [],
   "source": [
    "Map = geemap.Map()\n",
    "\n",
    "# point = ee.Geometry.Point([-122.4439, 37.7538])\n",
    "point = ee.Geometry.Point([-87.7719, 41.8799])\n",
    "\n",
    "image = (\n",
    "    ee.ImageCollection('LANDSAT/LC08/C01/T1_SR')\n",
    "    .filterBounds(point)\n",
    "    .filterDate('2019-01-01', '2019-12-31')\n",
    "    .sort('CLOUD_COVER')\n",
    "    .first()\n",
    "    .select('B[1-7]')\n",
    ")\n",
    "\n",
    "vis_params = {'min': 0, 'max': 3000, 'bands': ['B5', 'B4', 'B3']}\n",
    "\n",
    "Map.centerObject(point, 8)\n",
    "Map.addLayer(image, vis_params, \"Landsat-8\")\n",
    "Map"
   ]
  },
  {
   "cell_type": "markdown",
   "id": "77c298be",
   "metadata": {},
   "source": [
    "### Check image properties"
   ]
  },
  {
   "cell_type": "code",
   "execution_count": null,
   "id": "b0b1b496",
   "metadata": {},
   "outputs": [],
   "source": [
    "props = geemap.image_props(image)\n",
    "props.getInfo()"
   ]
  },
  {
   "cell_type": "code",
   "execution_count": null,
   "id": "1660e934",
   "metadata": {},
   "outputs": [],
   "source": [
    "props.get('IMAGE_DATE').getInfo()"
   ]
  },
  {
   "cell_type": "code",
   "execution_count": null,
   "id": "97ddaa11",
   "metadata": {},
   "outputs": [],
   "source": [
    "props.get('CLOUD_COVER').getInfo()"
   ]
  },
  {
   "cell_type": "markdown",
   "id": "3537a76e",
   "metadata": {},
   "source": [
    "### Create training samples"
   ]
  },
  {
   "cell_type": "code",
   "execution_count": null,
   "id": "7d52932e",
   "metadata": {},
   "outputs": [],
   "source": [
    "# region = Map.user_roi\n",
    "# region = ee.Geometry.Rectangle([-122.6003, 37.4831, -121.8036, 37.8288])\n",
    "# region = ee.Geometry.Point([-122.4439, 37.7538]).buffer(10000)"
   ]
  },
  {
   "cell_type": "code",
   "execution_count": null,
   "id": "c9599f5c",
   "metadata": {},
   "outputs": [],
   "source": [
    "# Make the training dataset.\n",
    "training = image.sample(\n",
    "    **{\n",
    "        #     'region': region,\n",
    "        'scale': 30,\n",
    "        'numPixels': 5000,\n",
    "        'seed': 0,\n",
    "        'geometries': True,  # Set this to False to ignore geometries\n",
    "    }\n",
    ")\n",
    "\n",
    "Map.addLayer(training, {}, 'training', False)\n",
    "Map"
   ]
  },
  {
   "cell_type": "markdown",
   "id": "1bdbe407",
   "metadata": {},
   "source": [
    "### Train the clusterer"
   ]
  },
  {
   "cell_type": "code",
   "execution_count": null,
   "id": "70fffec3",
   "metadata": {},
   "outputs": [],
   "source": [
    "# Instantiate the clusterer and train it.\n",
    "n_clusters = 5\n",
    "clusterer = ee.Clusterer.wekaKMeans(n_clusters).train(training)"
   ]
  },
  {
   "cell_type": "markdown",
   "id": "3050f6e6",
   "metadata": {},
   "source": [
    "### Classify the image"
   ]
  },
  {
   "cell_type": "code",
   "execution_count": null,
   "id": "c24e8b7d",
   "metadata": {},
   "outputs": [],
   "source": [
    "# Cluster the input using the trained clusterer.\n",
    "result = image.cluster(clusterer)\n",
    "\n",
    "# # Display the clusters with random colors.\n",
    "Map.addLayer(result.randomVisualizer(), {}, 'clusters')\n",
    "Map"
   ]
  },
  {
   "cell_type": "markdown",
   "id": "dd8a3204",
   "metadata": {},
   "source": [
    "### Label the clusters"
   ]
  },
  {
   "cell_type": "code",
   "execution_count": null,
   "id": "e5f02b31",
   "metadata": {},
   "outputs": [],
   "source": [
    "legend_keys = ['One', 'Two', 'Three', 'Four', 'ect']\n",
    "legend_colors = ['#8DD3C7', '#FFFFB3', '#BEBADA', '#FB8072', '#80B1D3']\n",
    "\n",
    "# Reclassify the map\n",
    "result = result.remap([0, 1, 2, 3, 4], [1, 2, 3, 4, 5])\n",
    "\n",
    "Map.addLayer(\n",
    "    result, {'min': 1, 'max': 5, 'palette': legend_colors}, 'Labelled clusters'\n",
    ")\n",
    "Map.add_legend(\n",
    "    legend_keys=legend_keys, legend_colors=legend_colors, position='bottomright'\n",
    ")\n",
    "Map"
   ]
  },
  {
   "cell_type": "markdown",
   "id": "5e05a662",
   "metadata": {},
   "source": [
    "### Visualize results"
   ]
  },
  {
   "cell_type": "code",
   "execution_count": null,
   "id": "3ed2e54e",
   "metadata": {},
   "outputs": [],
   "source": [
    "print('Change layer opacity:')\n",
    "cluster_layer = Map.layers[-1]\n",
    "cluster_layer.interact(opacity=(0, 1, 0.1))"
   ]
  },
  {
   "cell_type": "markdown",
   "id": "a20a5982",
   "metadata": {},
   "source": [
    "### Export results"
   ]
  },
  {
   "cell_type": "code",
   "execution_count": null,
   "id": "24bb136b",
   "metadata": {},
   "outputs": [],
   "source": [
    "geemap.ee_export_image(result, filename=\"cluster.tif\", scale=90)"
   ]
  },
  {
   "cell_type": "code",
   "execution_count": null,
   "id": "3054aacb",
   "metadata": {},
   "outputs": [],
   "source": [
    "geemap.ee_export_image_to_drive(\n",
    "    result, description='clusters', folder='export', scale=90\n",
    ")"
   ]
  },
  {
   "cell_type": "markdown",
   "id": "d5ec0a59",
   "metadata": {},
   "source": [
    "## Supervised classification\n",
    "\n",
    "### Supervised classification algorithms"
   ]
  },
  {
   "cell_type": "markdown",
   "id": "706dc871",
   "metadata": {},
   "source": [
    "![](https://i.imgur.com/vROsEiq.jpg)"
   ]
  },
  {
   "cell_type": "markdown",
   "id": "2acea23e",
   "metadata": {},
   "source": [
    "### Add data to the map"
   ]
  },
  {
   "cell_type": "code",
   "execution_count": null,
   "id": "cb2b2309",
   "metadata": {},
   "outputs": [],
   "source": [
    "Map = geemap.Map()\n",
    "point = ee.Geometry.Point([-122.4439, 37.7538])\n",
    "# point = ee.Geometry.Point([-87.7719, 41.8799])\n",
    "\n",
    "image = (\n",
    "    ee.ImageCollection('LANDSAT/LC08/C01/T1_SR')\n",
    "    .filterBounds(point)\n",
    "    .filterDate('2016-01-01', '2016-12-31')\n",
    "    .sort('CLOUD_COVER')\n",
    "    .first()\n",
    "    .select('B[1-7]')\n",
    ")\n",
    "\n",
    "vis_params = {'min': 0, 'max': 3000, 'bands': ['B5', 'B4', 'B3']}\n",
    "\n",
    "Map.centerObject(point, 8)\n",
    "Map.addLayer(image, vis_params, \"Landsat-8\")\n",
    "Map"
   ]
  },
  {
   "cell_type": "markdown",
   "id": "ccff0bc5",
   "metadata": {},
   "source": [
    "### Check image properties"
   ]
  },
  {
   "cell_type": "code",
   "execution_count": null,
   "id": "66669f99",
   "metadata": {},
   "outputs": [],
   "source": [
    "ee.Date(image.get('system:time_start')).format('YYYY-MM-dd').getInfo()"
   ]
  },
  {
   "cell_type": "code",
   "execution_count": null,
   "id": "570c2a06",
   "metadata": {},
   "outputs": [],
   "source": [
    "image.get('CLOUD_COVER').getInfo()"
   ]
  },
  {
   "cell_type": "markdown",
   "id": "46574b97",
   "metadata": {},
   "source": [
    "### Create training samples"
   ]
  },
  {
   "cell_type": "code",
   "execution_count": null,
   "id": "12b6badc",
   "metadata": {},
   "outputs": [],
   "source": [
    "# region = Map.user_roi\n",
    "# region = ee.Geometry.Rectangle([-122.6003, 37.4831, -121.8036, 37.8288])\n",
    "# region = ee.Geometry.Point([-122.4439, 37.7538]).buffer(10000)"
   ]
  },
  {
   "cell_type": "markdown",
   "id": "326384b2",
   "metadata": {},
   "source": [
    "![](https://i.imgur.com/7QoRXxu.jpg)"
   ]
  },
  {
   "cell_type": "code",
   "execution_count": null,
   "id": "87d51f97",
   "metadata": {},
   "outputs": [],
   "source": [
    "nlcd = ee.Image('USGS/NLCD/NLCD2016').select('landcover').clip(image.geometry())\n",
    "Map.addLayer(nlcd, {}, 'NLCD')\n",
    "Map"
   ]
  },
  {
   "cell_type": "code",
   "execution_count": null,
   "id": "e57b679d",
   "metadata": {},
   "outputs": [],
   "source": [
    "# Make the training dataset.\n",
    "points = nlcd.sample(\n",
    "    **{\n",
    "        'region': image.geometry(),\n",
    "        'scale': 30,\n",
    "        'numPixels': 5000,\n",
    "        'seed': 0,\n",
    "        'geometries': True,  # Set this to False to ignore geometries\n",
    "    }\n",
    ")\n",
    "\n",
    "Map.addLayer(points, {}, 'training', False)"
   ]
  },
  {
   "cell_type": "code",
   "execution_count": null,
   "id": "4a51dec3",
   "metadata": {},
   "outputs": [],
   "source": [
    "print(points.size().getInfo())"
   ]
  },
  {
   "cell_type": "code",
   "execution_count": null,
   "id": "381de2b5",
   "metadata": {},
   "outputs": [],
   "source": [
    "print(points.first().getInfo())"
   ]
  },
  {
   "cell_type": "markdown",
   "id": "72e7d19d",
   "metadata": {},
   "source": [
    "### Train the classifier"
   ]
  },
  {
   "cell_type": "code",
   "execution_count": null,
   "id": "fc5dd741",
   "metadata": {},
   "outputs": [],
   "source": [
    "# Use these bands for prediction.\n",
    "bands = ['B1', 'B2', 'B3', 'B4', 'B5', 'B6', 'B7']\n",
    "\n",
    "\n",
    "# This property of the table stores the land cover labels.\n",
    "label = 'landcover'\n",
    "\n",
    "# Overlay the points on the imagery to get training.\n",
    "training = image.select(bands).sampleRegions(\n",
    "    **{'collection': points, 'properties': [label], 'scale': 30}\n",
    ")\n",
    "\n",
    "# Train a CART classifier with default parameters.\n",
    "trained = ee.Classifier.smileCart().train(training, label, bands)"
   ]
  },
  {
   "cell_type": "code",
   "execution_count": null,
   "id": "d8975552",
   "metadata": {},
   "outputs": [],
   "source": [
    "print(training.first().getInfo())"
   ]
  },
  {
   "cell_type": "markdown",
   "id": "7d81af1e",
   "metadata": {},
   "source": [
    "### Classify the image"
   ]
  },
  {
   "cell_type": "code",
   "execution_count": null,
   "id": "28a1785e",
   "metadata": {},
   "outputs": [],
   "source": [
    "# Classify the image with the same bands used for training.\n",
    "result = image.select(bands).classify(trained)\n",
    "\n",
    "# # Display the clusters with random colors.\n",
    "Map.addLayer(result.randomVisualizer(), {}, 'classified')\n",
    "Map"
   ]
  },
  {
   "cell_type": "markdown",
   "id": "fef633f3",
   "metadata": {},
   "source": [
    "### Render categorical map"
   ]
  },
  {
   "cell_type": "code",
   "execution_count": null,
   "id": "a9b7c031",
   "metadata": {},
   "outputs": [],
   "source": [
    "class_values = nlcd.get('landcover_class_values').getInfo()\n",
    "class_values"
   ]
  },
  {
   "cell_type": "code",
   "execution_count": null,
   "id": "c3d65f65",
   "metadata": {},
   "outputs": [],
   "source": [
    "class_palette = nlcd.get('landcover_class_palette').getInfo()\n",
    "class_palette"
   ]
  },
  {
   "cell_type": "code",
   "execution_count": null,
   "id": "8cdbf9ef",
   "metadata": {},
   "outputs": [],
   "source": [
    "landcover = result.set('classification_class_values', class_values)\n",
    "landcover = landcover.set('classification_class_palette', class_palette)"
   ]
  },
  {
   "cell_type": "code",
   "execution_count": null,
   "id": "4a54573b",
   "metadata": {},
   "outputs": [],
   "source": [
    "Map.addLayer(landcover, {}, 'Land cover')\n",
    "Map"
   ]
  },
  {
   "cell_type": "markdown",
   "id": "af3851ef",
   "metadata": {},
   "source": [
    "### Visualize results"
   ]
  },
  {
   "cell_type": "code",
   "execution_count": null,
   "id": "ede987e8",
   "metadata": {},
   "outputs": [],
   "source": [
    "print('Change layer opacity:')\n",
    "cluster_layer = Map.layers[-1]\n",
    "cluster_layer.interact(opacity=(0, 1, 0.1))"
   ]
  },
  {
   "cell_type": "markdown",
   "id": "9c96d0d0",
   "metadata": {},
   "source": [
    "### Add a legend to the map"
   ]
  },
  {
   "cell_type": "code",
   "execution_count": null,
   "id": "85ca1cde",
   "metadata": {},
   "outputs": [],
   "source": [
    "Map.add_legend(builtin_legend='NLCD')\n",
    "Map"
   ]
  },
  {
   "cell_type": "markdown",
   "id": "9867d112",
   "metadata": {},
   "source": [
    "### Export results"
   ]
  },
  {
   "cell_type": "code",
   "execution_count": null,
   "id": "a0e4988f",
   "metadata": {},
   "outputs": [],
   "source": [
    "geemap.ee_export_image(landcover, filename='landcover.tif', scale=900)"
   ]
  },
  {
   "cell_type": "code",
   "execution_count": null,
   "id": "7dab5ca1",
   "metadata": {},
   "outputs": [],
   "source": [
    "geemap.ee_export_image_to_drive(\n",
    "    landcover, description='landcover', folder='export', scale=900\n",
    ")"
   ]
  },
  {
   "cell_type": "markdown",
   "id": "e06e15d5",
   "metadata": {},
   "source": [
    "## Accuracy assessment\n",
    "\n",
    "### Supervised classification algorithms"
   ]
  },
  {
   "cell_type": "markdown",
   "id": "ab8ec87b",
   "metadata": {},
   "source": [
    "![](https://i.imgur.com/vROsEiq.jpg)"
   ]
  },
  {
   "cell_type": "markdown",
   "id": "a58a3340",
   "metadata": {},
   "source": [
    "### Add data to the map\n",
    "\n",
    "![](https://i.imgur.com/7QoRXxu.jpg)"
   ]
  },
  {
   "cell_type": "code",
   "execution_count": null,
   "id": "3427c664",
   "metadata": {},
   "outputs": [],
   "source": [
    "Map = geemap.Map()\n",
    "NLCD2016 = ee.Image('USGS/NLCD/NLCD2016').select('landcover')\n",
    "Map.addLayer(NLCD2016, {}, 'NLCD 2016')\n",
    "Map"
   ]
  },
  {
   "cell_type": "code",
   "execution_count": null,
   "id": "777e648e",
   "metadata": {},
   "outputs": [],
   "source": [
    "NLCD_metadata = ee.FeatureCollection(\"users/giswqs/landcover/NLCD2016_metadata\")\n",
    "Map.addLayer(NLCD_metadata, {}, 'NLCD Metadata')"
   ]
  },
  {
   "cell_type": "code",
   "execution_count": null,
   "id": "e825fe44",
   "metadata": {},
   "outputs": [],
   "source": [
    "# point = ee.Geometry.Point([-122.4439, 37.7538])  # Sanfrancisco, CA\n",
    "# point = ee.Geometry.Point([-83.9293, 36.0526])   # Knoxville, TN\n",
    "point = ee.Geometry.Point([-88.3070, 41.7471])  # Chicago, IL"
   ]
  },
  {
   "cell_type": "code",
   "execution_count": null,
   "id": "7d2cd1bf",
   "metadata": {},
   "outputs": [],
   "source": [
    "metadata = NLCD_metadata.filterBounds(point).first()\n",
    "region = metadata.geometry()"
   ]
  },
  {
   "cell_type": "code",
   "execution_count": null,
   "id": "ac61b410",
   "metadata": {},
   "outputs": [],
   "source": [
    "metadata.get('2016on_bas').getInfo()"
   ]
  },
  {
   "cell_type": "code",
   "execution_count": null,
   "id": "f8378469",
   "metadata": {},
   "outputs": [],
   "source": [
    "doy = metadata.get('2016on_bas').getInfo().replace('LC08_', '')\n",
    "doy"
   ]
  },
  {
   "cell_type": "code",
   "execution_count": null,
   "id": "e1a2a64e",
   "metadata": {},
   "outputs": [],
   "source": [
    "ee.Date.parse('YYYYDDD', doy).format('YYYY-MM-dd').getInfo()"
   ]
  },
  {
   "cell_type": "code",
   "execution_count": null,
   "id": "954dd16c",
   "metadata": {},
   "outputs": [],
   "source": [
    "start_date = ee.Date.parse('YYYYDDD', doy)\n",
    "end_date = start_date.advance(1, 'day')"
   ]
  },
  {
   "cell_type": "code",
   "execution_count": null,
   "id": "02286696",
   "metadata": {},
   "outputs": [],
   "source": [
    "image = (\n",
    "    ee.ImageCollection('LANDSAT/LC08/C01/T1_SR')\n",
    "    .filterBounds(point)\n",
    "    .filterDate(start_date, end_date)\n",
    "    .first()\n",
    "    .select('B[1-7]')\n",
    "    .clip(region)\n",
    ")\n",
    "\n",
    "vis_params = {'min': 0, 'max': 3000, 'bands': ['B5', 'B4', 'B3']}\n",
    "\n",
    "Map.centerObject(point, 8)\n",
    "Map.addLayer(image, vis_params, \"Landsat-8\")\n",
    "Map"
   ]
  },
  {
   "cell_type": "code",
   "execution_count": null,
   "id": "be9facd2",
   "metadata": {},
   "outputs": [],
   "source": [
    "nlcd_raw = NLCD2016.clip(region)\n",
    "Map.addLayer(nlcd_raw, {}, 'NLCD')"
   ]
  },
  {
   "cell_type": "markdown",
   "id": "04e8ea4d",
   "metadata": {},
   "source": [
    "### Prepare for consecutive class labels"
   ]
  },
  {
   "cell_type": "code",
   "execution_count": null,
   "id": "37bec2ff",
   "metadata": {},
   "outputs": [],
   "source": [
    "raw_class_values = nlcd_raw.get('landcover_class_values').getInfo()\n",
    "print(raw_class_values)"
   ]
  },
  {
   "cell_type": "code",
   "execution_count": null,
   "id": "0daaaef3",
   "metadata": {},
   "outputs": [],
   "source": [
    "n_classes = len(raw_class_values)\n",
    "new_class_values = list(range(0, n_classes))\n",
    "new_class_values"
   ]
  },
  {
   "cell_type": "code",
   "execution_count": null,
   "id": "6b985304",
   "metadata": {},
   "outputs": [],
   "source": [
    "class_palette = nlcd_raw.get('landcover_class_palette').getInfo()\n",
    "print(class_palette)"
   ]
  },
  {
   "cell_type": "code",
   "execution_count": null,
   "id": "b1c58428",
   "metadata": {},
   "outputs": [],
   "source": [
    "nlcd = nlcd_raw.remap(raw_class_values, new_class_values).select(\n",
    "    ['remapped'], ['landcover']\n",
    ")\n",
    "nlcd = nlcd.set('landcover_class_values', new_class_values)\n",
    "nlcd = nlcd.set('landcover_class_palette', class_palette)"
   ]
  },
  {
   "cell_type": "code",
   "execution_count": null,
   "id": "7b38dcb7",
   "metadata": {},
   "outputs": [],
   "source": [
    "Map.addLayer(nlcd, {}, 'NLCD')\n",
    "Map"
   ]
  },
  {
   "cell_type": "markdown",
   "id": "01a52ab9",
   "metadata": {},
   "source": [
    "### Make training data"
   ]
  },
  {
   "cell_type": "code",
   "execution_count": null,
   "id": "ff3e7b89",
   "metadata": {},
   "outputs": [],
   "source": [
    "# Make the training dataset.\n",
    "points = nlcd.sample(\n",
    "    **{\n",
    "        'region': region,\n",
    "        'scale': 30,\n",
    "        'numPixels': 5000,\n",
    "        'seed': 0,\n",
    "        'geometries': True,  # Set this to False to ignore geometries\n",
    "    }\n",
    ")\n",
    "\n",
    "Map.addLayer(points, {}, 'training', False)"
   ]
  },
  {
   "cell_type": "code",
   "execution_count": null,
   "id": "09540975",
   "metadata": {},
   "outputs": [],
   "source": [
    "print(points.size().getInfo())"
   ]
  },
  {
   "cell_type": "code",
   "execution_count": null,
   "id": "57a31ed1",
   "metadata": {},
   "outputs": [],
   "source": [
    "print(points.first().getInfo())"
   ]
  },
  {
   "cell_type": "markdown",
   "id": "c9fd75ca",
   "metadata": {},
   "source": [
    "### Split training and testing"
   ]
  },
  {
   "cell_type": "code",
   "execution_count": null,
   "id": "e0f928e0",
   "metadata": {},
   "outputs": [],
   "source": [
    "# Use these bands for prediction.\n",
    "bands = ['B1', 'B2', 'B3', 'B4', 'B5', 'B6', 'B7']\n",
    "\n",
    "# This property of the table stores the land cover labels.\n",
    "label = 'landcover'\n",
    "\n",
    "# Overlay the points on the imagery to get training.\n",
    "sample = image.select(bands).sampleRegions(\n",
    "    **{'collection': points, 'properties': [label], 'scale': 30}\n",
    ")\n",
    "\n",
    "# Adds a column of deterministic pseudorandom numbers.\n",
    "sample = sample.randomColumn()\n",
    "\n",
    "split = 0.7\n",
    "\n",
    "training = sample.filter(ee.Filter.lt('random', split))\n",
    "validation = sample.filter(ee.Filter.gte('random', split))"
   ]
  },
  {
   "cell_type": "code",
   "execution_count": null,
   "id": "c1005bb9",
   "metadata": {},
   "outputs": [],
   "source": [
    "training.first().getInfo()"
   ]
  },
  {
   "cell_type": "code",
   "execution_count": null,
   "id": "d0aa1e3e",
   "metadata": {},
   "outputs": [],
   "source": [
    "validation.first().getInfo()"
   ]
  },
  {
   "cell_type": "markdown",
   "id": "cca2a9f8",
   "metadata": {},
   "source": [
    "### Train the classifier"
   ]
  },
  {
   "cell_type": "code",
   "execution_count": null,
   "id": "ab6ef509",
   "metadata": {},
   "outputs": [],
   "source": [
    "classifier = ee.Classifier.smileRandomForest(10).train(training, label, bands)"
   ]
  },
  {
   "cell_type": "markdown",
   "id": "16c185a5",
   "metadata": {},
   "source": [
    "### Classify the image"
   ]
  },
  {
   "cell_type": "code",
   "execution_count": null,
   "id": "aca11dc6",
   "metadata": {},
   "outputs": [],
   "source": [
    "# Classify the image with the same bands used for training.\n",
    "result = image.select(bands).classify(classifier)\n",
    "\n",
    "# # Display the clusters with random colors.\n",
    "Map.addLayer(result.randomVisualizer(), {}, 'classfied')\n",
    "Map"
   ]
  },
  {
   "cell_type": "markdown",
   "id": "962203dc",
   "metadata": {},
   "source": [
    "### Render categorical map"
   ]
  },
  {
   "cell_type": "code",
   "execution_count": null,
   "id": "fcd667d7",
   "metadata": {},
   "outputs": [],
   "source": [
    "class_values = nlcd.get('landcover_class_values').getInfo()\n",
    "print(class_values)"
   ]
  },
  {
   "cell_type": "code",
   "execution_count": null,
   "id": "574be214",
   "metadata": {},
   "outputs": [],
   "source": [
    "class_palette = nlcd.get('landcover_class_palette').getInfo()\n",
    "print(class_palette)"
   ]
  },
  {
   "cell_type": "code",
   "execution_count": null,
   "id": "9a312ad7",
   "metadata": {},
   "outputs": [],
   "source": [
    "landcover = result.set('classification_class_values', class_values)\n",
    "landcover = landcover.set('classification_class_palette', class_palette)"
   ]
  },
  {
   "cell_type": "code",
   "execution_count": null,
   "id": "68d8e149",
   "metadata": {},
   "outputs": [],
   "source": [
    "Map.addLayer(landcover, {}, 'Land cover')\n",
    "Map"
   ]
  },
  {
   "cell_type": "markdown",
   "id": "5bc2d4f6",
   "metadata": {},
   "source": [
    "### Visualize results"
   ]
  },
  {
   "cell_type": "code",
   "execution_count": null,
   "id": "673abac1",
   "metadata": {},
   "outputs": [],
   "source": [
    "print('Change layer opacity:')\n",
    "cluster_layer = Map.layers[-1]\n",
    "cluster_layer.interact(opacity=(0, 1, 0.1))"
   ]
  },
  {
   "cell_type": "markdown",
   "id": "1e23eb73",
   "metadata": {},
   "source": [
    "### Add a legend to the map"
   ]
  },
  {
   "cell_type": "code",
   "execution_count": null,
   "id": "337a51aa",
   "metadata": {},
   "outputs": [],
   "source": [
    "Map.add_legend(builtin_legend='NLCD')\n",
    "Map"
   ]
  },
  {
   "cell_type": "markdown",
   "id": "8c0e52fc",
   "metadata": {},
   "source": [
    "### Accuracy assessment"
   ]
  },
  {
   "cell_type": "markdown",
   "id": "2b82c385",
   "metadata": {},
   "source": [
    "#### Training dataset"
   ]
  },
  {
   "cell_type": "code",
   "execution_count": null,
   "id": "99a17b2a",
   "metadata": {},
   "outputs": [],
   "source": [
    "train_accuracy = classifier.confusionMatrix()"
   ]
  },
  {
   "cell_type": "code",
   "execution_count": null,
   "id": "6e59ec6f",
   "metadata": {},
   "outputs": [],
   "source": [
    "train_accuracy.getInfo()"
   ]
  },
  {
   "cell_type": "code",
   "execution_count": null,
   "id": "c7ea2b6a",
   "metadata": {},
   "outputs": [],
   "source": [
    "train_accuracy.accuracy().getInfo()"
   ]
  },
  {
   "cell_type": "code",
   "execution_count": null,
   "id": "68b63941",
   "metadata": {},
   "outputs": [],
   "source": [
    "train_accuracy.kappa().getInfo()"
   ]
  },
  {
   "cell_type": "code",
   "execution_count": null,
   "id": "1d4ebb1b",
   "metadata": {},
   "outputs": [],
   "source": [
    "train_accuracy.producersAccuracy().getInfo()"
   ]
  },
  {
   "cell_type": "code",
   "execution_count": null,
   "id": "631557fd",
   "metadata": {},
   "outputs": [],
   "source": [
    "train_accuracy.consumersAccuracy().getInfo()"
   ]
  },
  {
   "cell_type": "markdown",
   "id": "8f964ba3",
   "metadata": {},
   "source": [
    "##### Validation dataset"
   ]
  },
  {
   "cell_type": "code",
   "execution_count": null,
   "id": "77c24e11",
   "metadata": {},
   "outputs": [],
   "source": [
    "validated = validation.classify(classifier)"
   ]
  },
  {
   "cell_type": "code",
   "execution_count": null,
   "id": "a078b2b5",
   "metadata": {},
   "outputs": [],
   "source": [
    "validated.first().getInfo()"
   ]
  },
  {
   "cell_type": "code",
   "execution_count": null,
   "id": "95a4098e",
   "metadata": {},
   "outputs": [],
   "source": [
    "test_accuracy = validated.errorMatrix('landcover', 'classification')"
   ]
  },
  {
   "cell_type": "code",
   "execution_count": null,
   "id": "419efccb",
   "metadata": {},
   "outputs": [],
   "source": [
    "test_accuracy.getInfo()"
   ]
  },
  {
   "cell_type": "code",
   "execution_count": null,
   "id": "c1f91804",
   "metadata": {},
   "outputs": [],
   "source": [
    "test_accuracy.accuracy().getInfo()"
   ]
  },
  {
   "cell_type": "code",
   "execution_count": null,
   "id": "c03f6441",
   "metadata": {},
   "outputs": [],
   "source": [
    "test_accuracy.kappa().getInfo()"
   ]
  },
  {
   "cell_type": "code",
   "execution_count": null,
   "id": "bfdccc4a",
   "metadata": {},
   "outputs": [],
   "source": [
    "test_accuracy.producersAccuracy().getInfo()"
   ]
  },
  {
   "cell_type": "code",
   "execution_count": null,
   "id": "d56b0413",
   "metadata": {},
   "outputs": [],
   "source": [
    "test_accuracy.consumersAccuracy().getInfo()"
   ]
  },
  {
   "cell_type": "markdown",
   "id": "5a9d9be4",
   "metadata": {},
   "source": [
    "### Download confusion matrix"
   ]
  },
  {
   "cell_type": "code",
   "execution_count": null,
   "id": "630fe566",
   "metadata": {},
   "outputs": [],
   "source": [
    "import csv\n",
    "import os\n",
    "\n",
    "out_dir = os.getcwd()\n",
    "training_csv = os.path.join(out_dir, 'train_accuracy.csv')\n",
    "testing_csv = os.path.join(out_dir, 'test_accuracy.csv')\n",
    "\n",
    "with open(training_csv, \"w\", newline=\"\") as f:\n",
    "    writer = csv.writer(f)\n",
    "    writer.writerows(train_accuracy.getInfo())\n",
    "\n",
    "with open(testing_csv, \"w\", newline=\"\") as f:\n",
    "    writer = csv.writer(f)\n",
    "    writer.writerows(test_accuracy.getInfo())"
   ]
  },
  {
   "cell_type": "markdown",
   "id": "bf39cae2",
   "metadata": {},
   "source": [
    "### Reclassify land cover map"
   ]
  },
  {
   "cell_type": "code",
   "execution_count": null,
   "id": "4b5b351c",
   "metadata": {},
   "outputs": [],
   "source": [
    "landcover = landcover.remap(new_class_values, raw_class_values).select(\n",
    "    ['remapped'], ['classification']\n",
    ")"
   ]
  },
  {
   "cell_type": "code",
   "execution_count": null,
   "id": "e06aa761",
   "metadata": {},
   "outputs": [],
   "source": [
    "landcover = landcover.set('classification_class_values', raw_class_values)\n",
    "landcover = landcover.set('classification_class_palette', class_palette)"
   ]
  },
  {
   "cell_type": "code",
   "execution_count": null,
   "id": "cfb978ff",
   "metadata": {},
   "outputs": [],
   "source": [
    "Map.addLayer(landcover, {}, 'Final land cover')\n",
    "Map"
   ]
  },
  {
   "cell_type": "markdown",
   "id": "2f8f1b5c",
   "metadata": {},
   "source": [
    "### Export results"
   ]
  },
  {
   "cell_type": "code",
   "execution_count": null,
   "id": "c1ca7892",
   "metadata": {},
   "outputs": [],
   "source": [
    "import os\n",
    "\n",
    "out_dir = os.getcwd()\n",
    "out_file = os.path.join(out_dir, 'landcover.tif')"
   ]
  },
  {
   "cell_type": "code",
   "execution_count": null,
   "id": "a7ed489a",
   "metadata": {},
   "outputs": [],
   "source": [
    "geemap.ee_export_image(landcover, filename=out_file, scale=900)"
   ]
  },
  {
   "cell_type": "code",
   "execution_count": null,
   "id": "eecd0200",
   "metadata": {},
   "outputs": [],
   "source": [
    "geemap.ee_export_image_to_drive(\n",
    "    landcover, description='landcover', folder='export', scale=900\n",
    ")"
   ]
  },
  {
   "cell_type": "markdown",
   "id": "5cc6790b",
   "metadata": {},
   "source": [
    "## Using locally trained machine learning models"
   ]
  },
  {
   "cell_type": "code",
   "execution_count": null,
   "id": "c75a8d0d",
   "metadata": {},
   "outputs": [],
   "source": [
    "import pandas as pd\n",
    "from geemap import ml\n",
    "from sklearn import ensemble"
   ]
  },
  {
   "cell_type": "markdown",
   "id": "3ef5aa22",
   "metadata": {},
   "source": [
    "### Train a model locally using scikit-learn"
   ]
  },
  {
   "cell_type": "code",
   "execution_count": null,
   "id": "5a1c87d4",
   "metadata": {},
   "outputs": [],
   "source": [
    "# read the feature table to train our RandomForest model\n",
    "# data taken from ee.FeatureCollection('GOOGLE/EE/DEMOS/demo_landcover_labels')\n",
    "\n",
    "url = \"https://raw.githubusercontent.com/giswqs/geemap/master/examples/data/rf_example.csv\"\n",
    "df = pd.read_csv(url)\n",
    "df"
   ]
  },
  {
   "cell_type": "code",
   "execution_count": null,
   "id": "328ed89a",
   "metadata": {},
   "outputs": [],
   "source": [
    "# specify the names of the features (i.e. band names) and label\n",
    "# feature names used to extract out features and define what bands\n",
    "\n",
    "feature_names = ['B2', 'B3', 'B4', 'B5', 'B6', 'B7']\n",
    "label = \"landcover\""
   ]
  },
  {
   "cell_type": "code",
   "execution_count": null,
   "id": "33830557",
   "metadata": {},
   "outputs": [],
   "source": [
    "# get the features and labels into separate variables\n",
    "X = df[feature_names]\n",
    "y = df[label]"
   ]
  },
  {
   "cell_type": "code",
   "execution_count": null,
   "id": "8593d38c",
   "metadata": {},
   "outputs": [],
   "source": [
    "# create a classifier and fit\n",
    "n_trees = 10\n",
    "rf = ensemble.RandomForestClassifier(n_trees).fit(X, y)"
   ]
  },
  {
   "cell_type": "markdown",
   "id": "6a6d900f",
   "metadata": {},
   "source": [
    "### Convert a sklearn classifier object to a list of strings"
   ]
  },
  {
   "cell_type": "code",
   "execution_count": null,
   "id": "f0933855",
   "metadata": {},
   "outputs": [],
   "source": [
    "# convert the estimator into a list of strings\n",
    "# this function also works with the ensemble.ExtraTrees estimator\n",
    "trees = ml.rf_to_strings(rf, feature_names)\n",
    "# print the first tree to see the result\n",
    "print(trees[0])"
   ]
  },
  {
   "cell_type": "code",
   "execution_count": null,
   "id": "08b50bc0",
   "metadata": {},
   "outputs": [],
   "source": [
    "print(trees[1])"
   ]
  },
  {
   "cell_type": "code",
   "execution_count": null,
   "id": "b3903e17",
   "metadata": {},
   "outputs": [],
   "source": [
    "# number of trees we converted should equal the number of trees we defined for the model\n",
    "len(trees) == n_trees"
   ]
  },
  {
   "cell_type": "markdown",
   "id": "eb136d97",
   "metadata": {},
   "source": [
    "### Convert sklearn classifier to GEE classifier"
   ]
  },
  {
   "cell_type": "code",
   "execution_count": null,
   "id": "bc17d73a",
   "metadata": {},
   "outputs": [],
   "source": [
    "# create a ee classifier to use with ee objects from the trees\n",
    "ee_classifier = ml.strings_to_classifier(trees)"
   ]
  },
  {
   "cell_type": "code",
   "execution_count": null,
   "id": "b0ea5122",
   "metadata": {},
   "outputs": [],
   "source": [
    "# ee_classifier.getInfo()"
   ]
  },
  {
   "cell_type": "markdown",
   "id": "95d07816",
   "metadata": {},
   "source": [
    "### Classify image using GEE classifier"
   ]
  },
  {
   "cell_type": "code",
   "execution_count": null,
   "id": "c178d514",
   "metadata": {},
   "outputs": [],
   "source": [
    "# Make a cloud-free Landsat 8 TOA composite (from raw imagery).\n",
    "l8 = ee.ImageCollection('LANDSAT/LC08/C01/T1')\n",
    "\n",
    "image = ee.Algorithms.Landsat.simpleComposite(\n",
    "    collection=l8.filterDate('2018-01-01', '2018-12-31'), asFloat=True\n",
    ")"
   ]
  },
  {
   "cell_type": "code",
   "execution_count": null,
   "id": "a3d51b07",
   "metadata": {},
   "outputs": [],
   "source": [
    "# classify the image using the classifier we created from the local training\n",
    "# note: here we select the feature_names from the image that way the classifier knows which bands to use\n",
    "classified = image.select(feature_names).classify(ee_classifier)"
   ]
  },
  {
   "cell_type": "code",
   "execution_count": null,
   "id": "9d42e15a",
   "metadata": {},
   "outputs": [],
   "source": [
    "# display results\n",
    "Map = geemap.Map(center=(37.75, -122.25), zoom=11)\n",
    "\n",
    "Map.addLayer(\n",
    "    image,\n",
    "    {\"bands\": ['B7', 'B5', 'B3'], \"min\": 0.05, \"max\": 0.55, \"gamma\": 1.5},\n",
    "    'image',\n",
    ")\n",
    "Map.addLayer(\n",
    "    classified,\n",
    "    {\"min\": 0, \"max\": 2, \"palette\": ['red', 'green', 'blue']},\n",
    "    'classification',\n",
    ")\n",
    "\n",
    "Map"
   ]
  },
  {
   "cell_type": "markdown",
   "id": "69994c34",
   "metadata": {},
   "source": [
    "### Save trees to the cloud"
   ]
  },
  {
   "cell_type": "code",
   "execution_count": null,
   "id": "42c1ec82",
   "metadata": {},
   "outputs": [],
   "source": [
    "user_id = geemap.ee_user_id()\n",
    "user_id"
   ]
  },
  {
   "cell_type": "code",
   "execution_count": null,
   "id": "eaea90b0",
   "metadata": {},
   "outputs": [],
   "source": [
    "# specify asset id where to save trees\n",
    "# be sure to change <user_name> to your ee user name\n",
    "asset_id = user_id + \"/random_forest_strings_test\"\n",
    "asset_id"
   ]
  },
  {
   "cell_type": "code",
   "execution_count": null,
   "id": "fce6035e",
   "metadata": {},
   "outputs": [],
   "source": [
    "# kick off an export process so it will be saved to the ee asset\n",
    "ml.export_trees_to_fc(trees, asset_id)\n",
    "\n",
    "# this will kick off an export task, so wait a few minutes before moving on"
   ]
  },
  {
   "cell_type": "code",
   "execution_count": null,
   "id": "6480d7f5",
   "metadata": {},
   "outputs": [],
   "source": [
    "# read the exported tree feature collection\n",
    "rf_fc = ee.FeatureCollection(asset_id)\n",
    "\n",
    "# convert it to a classifier, very similar to the `ml.trees_to_classifier` function\n",
    "another_classifier = ml.fc_to_classifier(rf_fc)\n",
    "\n",
    "# classify the image again but with the classifier from the persisted trees\n",
    "classified = image.select(feature_names).classify(another_classifier)"
   ]
  },
  {
   "cell_type": "code",
   "execution_count": null,
   "id": "64ee4ff8",
   "metadata": {},
   "outputs": [],
   "source": [
    "# display results\n",
    "# we should get the exact same results as before\n",
    "Map = geemap.Map(center=(37.75, -122.25), zoom=11)\n",
    "\n",
    "Map.addLayer(\n",
    "    image,\n",
    "    {\"bands\": ['B7', 'B5', 'B3'], \"min\": 0.05, \"max\": 0.55, \"gamma\": 1.5},\n",
    "    'image',\n",
    ")\n",
    "Map.addLayer(\n",
    "    classified,\n",
    "    {\"min\": 0, \"max\": 2, \"palette\": ['red', 'green', 'blue']},\n",
    "    'classification',\n",
    ")\n",
    "\n",
    "Map"
   ]
  },
  {
   "cell_type": "markdown",
   "id": "cce27fe0",
   "metadata": {},
   "source": [
    "### Save trees locally"
   ]
  },
  {
   "cell_type": "code",
   "execution_count": null,
   "id": "9b0f6cdd",
   "metadata": {},
   "outputs": [],
   "source": [
    "import os\n",
    "\n",
    "out_csv = os.path.abspath(\"trees.csv\")"
   ]
  },
  {
   "cell_type": "code",
   "execution_count": null,
   "id": "6a8b7f4b",
   "metadata": {},
   "outputs": [],
   "source": [
    "ml.trees_to_csv(trees, out_csv)"
   ]
  },
  {
   "cell_type": "code",
   "execution_count": null,
   "id": "ec653341",
   "metadata": {},
   "outputs": [],
   "source": [
    "another_classifier = ml.csv_to_classifier(out_csv)"
   ]
  },
  {
   "cell_type": "code",
   "execution_count": null,
   "id": "af410fe2",
   "metadata": {},
   "outputs": [],
   "source": [
    "classified = image.select(feature_names).classify(another_classifier)"
   ]
  },
  {
   "cell_type": "code",
   "execution_count": null,
   "id": "b9fd84e7",
   "metadata": {},
   "outputs": [],
   "source": [
    "# display results\n",
    "# we should get the exact same results as before\n",
    "Map = geemap.Map(center=(37.75, -122.25), zoom=11)\n",
    "\n",
    "Map.addLayer(\n",
    "    image,\n",
    "    {\"bands\": ['B7', 'B5', 'B3'], \"min\": 0.05, \"max\": 0.55, \"gamma\": 1.5},\n",
    "    'image',\n",
    ")\n",
    "Map.addLayer(\n",
    "    classified,\n",
    "    {\"min\": 0, \"max\": 2, \"palette\": ['red', 'green', 'blue']},\n",
    "    'classification',\n",
    ")\n",
    "\n",
    "Map"
   ]
  },
  {
   "cell_type": "markdown",
   "id": "0beae87f",
   "metadata": {},
   "source": [
    "## Global land cover area"
   ]
  },
  {
   "cell_type": "code",
   "execution_count": null,
   "id": "1bb6cf5f",
   "metadata": {},
   "outputs": [],
   "source": [
    "Map = geemap.Map()\n",
    "dataset = ee.ImageCollection(\"ESA/WorldCover/v100\").first()\n",
    "Map.addLayer(dataset, {'bands': ['Map']}, 'ESA Land Cover')\n",
    "Map.add_legend(builtin_legend='ESA_WorldCover')\n",
    "Map"
   ]
  },
  {
   "cell_type": "code",
   "execution_count": null,
   "id": "d813a0c0",
   "metadata": {},
   "outputs": [],
   "source": [
    "df = geemap.image_area_by_group(\n",
    "    dataset, scale=1000, denominator=1e6, decimal_places=4, verbose=True\n",
    ")\n",
    "df"
   ]
  },
  {
   "cell_type": "code",
   "execution_count": null,
   "id": "50dee5a7",
   "metadata": {},
   "outputs": [],
   "source": [
    "df.to_csv('esa_area.csv')"
   ]
  },
  {
   "cell_type": "code",
   "execution_count": null,
   "id": "b6740108",
   "metadata": {},
   "outputs": [],
   "source": [
    "Map = geemap.Map(center=[40, -100], zoom=4)\n",
    "Map.add_basemap('HYBRID')\n",
    "\n",
    "nlcd = ee.Image('USGS/NLCD_RELEASES/2019_REL/NLCD/2019')\n",
    "landcover = nlcd.select('landcover')\n",
    "\n",
    "Map.addLayer(landcover, {}, 'NLCD Land Cover 2019')\n",
    "Map.add_legend(\n",
    "    title=\"NLCD Land Cover Classification\", builtin_legend='NLCD', height='465px'\n",
    ")\n",
    "Map"
   ]
  },
  {
   "cell_type": "code",
   "execution_count": null,
   "id": "9273191e",
   "metadata": {},
   "outputs": [],
   "source": [
    "df = geemap.image_area_by_group(\n",
    "    landcover, scale=1000, denominator=1e6, decimal_places=4, verbose=True\n",
    ")\n",
    "df"
   ]
  },
  {
   "cell_type": "code",
   "execution_count": null,
   "id": "6a28c952",
   "metadata": {},
   "outputs": [],
   "source": [
    "df.to_csv('nlcd_area.csv')"
   ]
  },
  {
   "cell_type": "markdown",
   "id": "3d9fccca",
   "metadata": {},
   "source": [
    "## Sankey diagrams"
   ]
  },
  {
   "cell_type": "code",
   "execution_count": null,
   "id": "e354cf8e",
   "metadata": {},
   "outputs": [],
   "source": [
    "import sankee\n",
    "\n",
    "sankee.datasets.LCMS_LC.sankify(\n",
    "    years=[1990, 2000, 2010, 2020],\n",
    "    region=ee.Geometry.Point([-122.192688, 46.25917]).buffer(2000),\n",
    "    max_classes=3,\n",
    "    title=\"Mount St. Helens Recovery\",\n",
    ")"
   ]
  },
  {
   "cell_type": "code",
   "execution_count": null,
   "id": "24db6c8f",
   "metadata": {},
   "outputs": [],
   "source": [
    "Map = geemap.Map(height=650)\n",
    "Map"
   ]
  },
  {
   "cell_type": "markdown",
   "id": "3696bdce",
   "metadata": {},
   "source": [
    "## WhiteboxTools"
   ]
  },
  {
   "cell_type": "code",
   "execution_count": null,
   "id": "29269f89",
   "metadata": {},
   "outputs": [],
   "source": [
    "pip install geemap[lidar]"
   ]
  },
  {
   "cell_type": "markdown",
   "id": "be4f8773",
   "metadata": {},
   "source": [
    "### Import libraries"
   ]
  },
  {
   "cell_type": "code",
   "execution_count": null,
   "id": "a1b4af92",
   "metadata": {},
   "outputs": [],
   "source": [
    "import os\n",
    "import geemap\n",
    "import whitebox"
   ]
  },
  {
   "cell_type": "markdown",
   "id": "10b0d6ef",
   "metadata": {},
   "source": [
    "### Set up whitebox"
   ]
  },
  {
   "cell_type": "code",
   "execution_count": null,
   "id": "11bbb7c1",
   "metadata": {},
   "outputs": [],
   "source": [
    "wbt = whitebox.WhiteboxTools()\n",
    "wbt.set_working_dir(os.getcwd())\n",
    "wbt.set_verbose_mode(False)"
   ]
  },
  {
   "cell_type": "markdown",
   "id": "129e2120",
   "metadata": {},
   "source": [
    "### Download sample data"
   ]
  },
  {
   "cell_type": "code",
   "execution_count": null,
   "id": "7932ac83",
   "metadata": {},
   "outputs": [],
   "source": [
    "url = 'https://github.com/giswqs/data/raw/main/lidar/madison.laz'\n",
    "if not os.path.exists('madison.laz'):\n",
    "    geemap.download_file(url)"
   ]
  },
  {
   "cell_type": "markdown",
   "id": "c3a4eb03",
   "metadata": {},
   "source": [
    "### Read LAS/LAZ data"
   ]
  },
  {
   "cell_type": "code",
   "execution_count": null,
   "id": "34625356",
   "metadata": {},
   "outputs": [],
   "source": [
    "laz = geemap.read_lidar('madison.laz')"
   ]
  },
  {
   "cell_type": "code",
   "execution_count": null,
   "id": "a87816b1",
   "metadata": {},
   "outputs": [],
   "source": [
    "laz"
   ]
  },
  {
   "cell_type": "code",
   "execution_count": null,
   "id": "7ac2011a",
   "metadata": {},
   "outputs": [],
   "source": [
    "str(laz.header.version)"
   ]
  },
  {
   "cell_type": "markdown",
   "id": "3d066a57",
   "metadata": {},
   "source": [
    "### Upgrade file version"
   ]
  },
  {
   "cell_type": "code",
   "execution_count": null,
   "id": "b40e4fae",
   "metadata": {},
   "outputs": [],
   "source": [
    "las = geemap.convert_lidar(laz, file_version='1.4')"
   ]
  },
  {
   "cell_type": "code",
   "execution_count": null,
   "id": "3320d5ec",
   "metadata": {},
   "outputs": [],
   "source": [
    "str(las.header.version)"
   ]
  },
  {
   "cell_type": "markdown",
   "id": "753da992",
   "metadata": {},
   "source": [
    "### Write LAS data"
   ]
  },
  {
   "cell_type": "code",
   "execution_count": null,
   "id": "1a6fe994",
   "metadata": {},
   "outputs": [],
   "source": [
    "geemap.write_lidar(las, 'madison.las')"
   ]
  },
  {
   "cell_type": "markdown",
   "id": "0445c52f",
   "metadata": {
    "tags": []
   },
   "source": [
    "### Histogram analysis"
   ]
  },
  {
   "cell_type": "code",
   "execution_count": null,
   "id": "68b8083a",
   "metadata": {},
   "outputs": [],
   "source": [
    "wbt.lidar_histogram('madison.las', 'histogram.html')"
   ]
  },
  {
   "cell_type": "markdown",
   "id": "279b31b3",
   "metadata": {},
   "source": [
    "### Visualize LiDAR data"
   ]
  },
  {
   "cell_type": "code",
   "execution_count": null,
   "id": "8d82f16b",
   "metadata": {},
   "outputs": [],
   "source": [
    "geemap.view_lidar('madison.las')"
   ]
  },
  {
   "cell_type": "markdown",
   "id": "55de7609",
   "metadata": {},
   "source": [
    "### Remove outliers"
   ]
  },
  {
   "cell_type": "code",
   "execution_count": null,
   "id": "eb845d9d",
   "metadata": {},
   "outputs": [],
   "source": [
    "wbt.lidar_elevation_slice(\"madison.las\", \"madison_rm.las\", minz=0, maxz=450)"
   ]
  },
  {
   "cell_type": "markdown",
   "id": "114f948f",
   "metadata": {},
   "source": [
    "### Visualize LiDAR data after removing outliers"
   ]
  },
  {
   "cell_type": "code",
   "execution_count": null,
   "id": "9d2a37c5",
   "metadata": {},
   "outputs": [],
   "source": [
    "geemap.view_lidar('madison_rm.las', cmap='terrain')"
   ]
  },
  {
   "cell_type": "markdown",
   "id": "fab0db3b",
   "metadata": {},
   "source": [
    "### Create DSM"
   ]
  },
  {
   "cell_type": "code",
   "execution_count": null,
   "id": "33aeb0e4",
   "metadata": {},
   "outputs": [],
   "source": [
    "wbt.lidar_digital_surface_model(\n",
    "    'madison_rm.las', 'dsm.tif', resolution=1.0, minz=0, maxz=450\n",
    ")"
   ]
  },
  {
   "cell_type": "code",
   "execution_count": null,
   "id": "4c861514",
   "metadata": {
    "jp-MarkdownHeadingCollapsed": true,
    "tags": []
   },
   "outputs": [],
   "source": [
    "geemap.add_crs(\"dsm.tif\", epsg=2255)"
   ]
  },
  {
   "cell_type": "markdown",
   "id": "f13741d6",
   "metadata": {},
   "source": [
    "### Visualize DSM"
   ]
  },
  {
   "cell_type": "code",
   "execution_count": null,
   "id": "38ed6019",
   "metadata": {},
   "outputs": [],
   "source": [
    "Map = geemap.Map()\n",
    "Map.add_raster('dsm.tif', palette='terrain', layer_name='DSM')\n",
    "Map"
   ]
  },
  {
   "cell_type": "markdown",
   "id": "e38b87d6",
   "metadata": {},
   "source": [
    "### Create DEM"
   ]
  },
  {
   "cell_type": "code",
   "execution_count": null,
   "id": "10494146",
   "metadata": {},
   "outputs": [],
   "source": [
    "wbt.remove_off_terrain_objects('dsm.tif', 'dem.tif', filter=25, slope=15.0)"
   ]
  },
  {
   "cell_type": "markdown",
   "id": "6950f08c",
   "metadata": {},
   "source": [
    "### Visualize DEM"
   ]
  },
  {
   "cell_type": "code",
   "execution_count": null,
   "id": "08d5b6f1",
   "metadata": {},
   "outputs": [],
   "source": [
    "Map.add_raster('dem.tif', palette='terrain', layer_name='DEM')\n",
    "Map"
   ]
  },
  {
   "cell_type": "markdown",
   "id": "6617ef79",
   "metadata": {},
   "source": [
    "### Create CHM"
   ]
  },
  {
   "cell_type": "code",
   "execution_count": null,
   "id": "c7648942",
   "metadata": {},
   "outputs": [],
   "source": [
    "chm = wbt.subtract('dsm.tif', 'dem.tif', 'chm.tif')"
   ]
  },
  {
   "cell_type": "code",
   "execution_count": null,
   "id": "66bc9258",
   "metadata": {},
   "outputs": [],
   "source": [
    "Map.add_raster('chm.tif', palette='gist_earth', layer_name='CHM')\n",
    "Map"
   ]
  },
  {
   "cell_type": "markdown",
   "id": "4151d531",
   "metadata": {},
   "source": [
    "## Summary\n",
    "\n",
    "## References\n",
    "\n",
    "- https://geemap.org/notebooks/12_zonal_statistics/\n",
    "- https://geemap.org/notebooks/13_zonal_statistics_by_group/\n",
    "- https://geemap.org/notebooks/31_unsupervised_classification/\n",
    "- https://geemap.org/notebooks/32_supervised_classification/\n",
    "- https://geemap.org/notebooks/33_accuracy_assessment/\n",
    "- https://geemap.org/notebooks/34_extract_values/\n",
    "- https://geemap.org/notebooks/36_quality_mosaic/\n",
    "- https://geemap.org/notebooks/46_local_rf_training/\n",
    "- https://geemap.org/notebooks/59_whitebox/\n",
    "- https://geemap.org/notebooks/63_charts/\n",
    "- https://geemap.org/notebooks/67_training_samples/\n",
    "- https://geemap.org/notebooks/71_timelapse/\n",
    "- https://geemap.org/notebooks/108_image_zonal_stats/\n",
    "- https://geemap.org/notebooks/109_coordinate_grids/\n",
    "- https://geemap.org/notebooks/111_image_count/\n",
    "- https://geemap.org/notebooks/113_image_area/\n",
    "- https://geemap.org/notebooks/114_dynamic_world/\n",
    "- https://geemap.org/notebooks/115_land_cover/\n",
    "- https://geemap.org/notebooks/116_land_cover_timeseries/\n",
    "- https://geemap.org/notebooks/117_fishnet/\n",
    "- https://geemap.org/notebooks/122_lidar/\n",
    "- https://developers.google.com/earth-engine/tutorials/tutorial_api_06\n",
    "- https://developers.google.com/earth-engine/guides/clustering"
   ]
  }
 ],
 "metadata": {
  "jupytext": {
   "text_representation": {
    "extension": ".md",
    "format_name": "myst",
    "format_version": 0.13,
    "jupytext_version": "1.11.5"
   }
  },
  "kernelspec": {
   "display_name": "Python 3",
   "language": "python",
   "name": "python3"
  },
  "source_map": [
   12,
   23,
   40,
   44,
   49,
   51,
   57,
   62,
   67,
   72,
   77,
   82,
   87,
   92,
   97,
   100,
   104,
   126,
   129,
   133,
   147,
   151,
   168,
   179,
   184,
   186,
   190,
   202,
   206,
   210,
   215,
   218,
   224,
   248,
   255,
   265,
   269,
   287,
   300,
   311,
   315,
   323,
   329,
   334,
   338,
   340,
   346,
   350,
   357,
   362,
   366,
   373,
   379,
   384,
   388,
   393,
   404,
   410,
   415,
   439,
   443,
   449,
   470,
   476,
   481,
   485,
   489,
   493,
   495,
   499,
   513,
   524,
   532,
   536,
   544,
   550,
   554,
   578,
   583,
   585,
   589,
   596,
   606,
   612,
   617,
   634,
   657,
   669,
   673,
   677,
   682,
   687,
   691,
   698,
   704,
   718,
   723,
   731,
   740,
   749,
   761,
   767,
   772,
   777,
   782,
   787,
   793,
   797,
   800,
   804,
   809,
   812,
   816,
   825,
   829,
   840,
   844,
   850,
   857,
   864,
   869,
   873,
   875,
   879,
   883,
   885,
   889,
   905,
   908,
   912,
   920,
   926,
   930,
   932,
   936,
   947,
   952,
   989,
   1001,
   1003,
   1007,
   1011,
   1022,
   1027,
   1045,
   1050,
   1061,
   1063,
   1069,
   1073,
   1080,
   1089,
   1091,
   1097,
   1099,
   1105,
   1109,
   1111,
   1115,
   1120,
   1124,
   1130,
   1134,
   1138,
   1158,
   1162,
   1167,
   1171,
   1173,
   1177,
   1183,
   1197,
   1201,
   1205,
   1209,
   1216,
   1220,
   1234,
   1238,
   1242,
   1246,
   1250,
   1254,
   1260,
   1264,
   1268,
   1287,
   1291,
   1295,
   1297,
   1301,
   1305,
   1309,
   1315,
   1330,
   1334,
   1336,
   1340,
   1357,
   1359,
   1363,
   1370,
   1374,
   1379,
   1384,
   1389,
   1392,
   1396,
   1400,
   1404,
   1407,
   1411,
   1415,
   1419,
   1425,
   1429,
   1435,
   1442,
   1447,
   1453,
   1458,
   1462,
   1467,
   1471,
   1476,
   1493,
   1496,
   1500,
   1505,
   1511,
   1516,
   1524,
   1527,
   1531,
   1546,
   1550,
   1552,
   1556,
   1577,
   1581,
   1583,
   1587,
   1589,
   1593,
   1600,
   1604,
   1609,
   1614,
   1619,
   1622,
   1626,
   1630,
   1634,
   1637,
   1641,
   1645,
   1649,
   1653,
   1657,
   1661,
   1665,
   1667,
   1671,
   1675,
   1679,
   1683,
   1687,
   1691,
   1695,
   1699,
   1701,
   1705,
   1720,
   1724,
   1730,
   1735,
   1738,
   1742,
   1749,
   1753,
   1757,
   1761,
   1765,
   1769,
   1778,
   1786,
   1792,
   1796,
   1800,
   1808,
   1812,
   1815,
   1819,
   1824,
   1826,
   1830,
   1839,
   1845,
   1861,
   1865,
   1870,
   1877,
   1884,
   1895,
   1912,
   1916,
   1922,
   1926,
   1930,
   1934,
   1951,
   1955,
   1963,
   1970,
   1974,
   1988,
   1995,
   1997,
   2001,
   2012,
   2015,
   2019,
   2021,
   2025,
   2029,
   2033,
   2037,
   2041,
   2045,
   2049,
   2053,
   2057,
   2059,
   2063,
   2067,
   2069,
   2073,
   2077,
   2081,
   2083,
   2087,
   2089,
   2093,
   2095,
   2099,
   2101,
   2105,
   2111,
   2116,
   2120,
   2124,
   2128,
   2130,
   2134,
   2137,
   2141,
   2145,
   2148
  ]
 },
 "nbformat": 4,
 "nbformat_minor": 5
}