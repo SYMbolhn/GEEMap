{
 "cells": [
  {
   "cell_type": "markdown",
   "id": "05e7f630",
   "metadata": {},
   "source": [
    "# Exporting Earth Engine Data\n",
    "\n",
    "```{contents}\n",
    ":local:\n",
    ":depth: 2\n",
    "```\n",
    "\n",
    "## Introduction"
   ]
  },
  {
   "cell_type": "markdown",
   "id": "56f19d7f",
   "metadata": {},
   "source": [
    "## Technical requirements\n",
    "\n",
    "```bash\n",
    "conda install -n base mamba -c conda-forge\n",
    "mamba create -n gee -c conda-forge geemap pygis\n",
    "```\n",
    "\n",
    "```bash\n",
    "conda activate gee\n",
    "jupyter lab\n",
    "```\n",
    "\n",
    "[![Open in Colab](https://colab.research.google.com/assets/colab-badge.svg)](https://colab.research.google.com/github/giswqs/geebook/blob/master/chapters/07_data_export.ipynb)"
   ]
  },
  {
   "cell_type": "code",
   "execution_count": null,
   "id": "14636d6c",
   "metadata": {},
   "outputs": [],
   "source": [
    "# %pip install pygis"
   ]
  },
  {
   "cell_type": "code",
   "execution_count": null,
   "id": "2722bf37",
   "metadata": {},
   "outputs": [],
   "source": [
    "import ee\n",
    "import geemap"
   ]
  },
  {
   "cell_type": "code",
   "execution_count": null,
   "id": "6d9e730e",
   "metadata": {},
   "outputs": [],
   "source": [
    "geemap.ee_initialize()"
   ]
  },
  {
   "cell_type": "markdown",
   "id": "f716ff28",
   "metadata": {},
   "source": [
    "## Exporting images"
   ]
  },
  {
   "cell_type": "code",
   "execution_count": null,
   "id": "a7eb756c",
   "metadata": {},
   "outputs": [],
   "source": [
    "Map = geemap.Map()\n",
    "\n",
    "image = ee.Image('LANDSAT/LC08/C02/T1_TOA/LC08_044034_20140318').select(\n",
    "    ['B5', 'B4', 'B3']\n",
    ")\n",
    "\n",
    "vis_params = {'min': 0, 'max': 0.5, 'gamma': [0.95, 1.1, 1]}\n",
    "\n",
    "Map.centerObject(image)\n",
    "Map.addLayer(image, vis_params, 'Landsat')\n",
    "Map"
   ]
  },
  {
   "cell_type": "code",
   "execution_count": null,
   "id": "da69d7ff",
   "metadata": {},
   "outputs": [],
   "source": [
    "region = ee.Geometry.BBox(-122.5955, 37.5339, -122.0982, 37.8252)\n",
    "fc = ee.FeatureCollection(region)\n",
    "style = {'color': 'ffff00ff', 'fillColor': '00000000'}\n",
    "Map.addLayer(fc.style(**style), {}, 'ROI')\n",
    "Map"
   ]
  },
  {
   "cell_type": "markdown",
   "id": "89f0b9fc",
   "metadata": {},
   "source": [
    "### To local drive"
   ]
  },
  {
   "cell_type": "code",
   "execution_count": null,
   "id": "df0d4c50",
   "metadata": {},
   "outputs": [],
   "source": [
    "geemap.ee_export_image(image, filename=\"landsat.tif\", scale=30, region=region)"
   ]
  },
  {
   "cell_type": "code",
   "execution_count": null,
   "id": "bdd7c2be",
   "metadata": {},
   "outputs": [],
   "source": [
    "projection = image.select(0).projection().getInfo()\n",
    "projection"
   ]
  },
  {
   "cell_type": "code",
   "execution_count": null,
   "id": "df9831ac",
   "metadata": {},
   "outputs": [],
   "source": [
    "crs = projection['crs']\n",
    "crs_transform = projection['transform']"
   ]
  },
  {
   "cell_type": "code",
   "execution_count": null,
   "id": "8b149de5",
   "metadata": {},
   "outputs": [],
   "source": [
    "geemap.ee_export_image(\n",
    "    image,\n",
    "    filename=\"landsat_crs.tif\",\n",
    "    crs=crs,\n",
    "    crs_transform=crs_transform,\n",
    "    region=region,\n",
    ")"
   ]
  },
  {
   "cell_type": "code",
   "execution_count": null,
   "id": "897ee2c0",
   "metadata": {},
   "outputs": [],
   "source": [
    "geemap.download_ee_image(image, filename='landsat_full.tif', scale=60)"
   ]
  },
  {
   "cell_type": "code",
   "execution_count": null,
   "id": "d43db3d2",
   "metadata": {},
   "outputs": [],
   "source": [
    "fishnet = geemap.fishnet(image.geometry(), rows=4, cols=4, delta=0.5)\n",
    "style = {'color': 'ffff00ff', 'fillColor': '00000000'}\n",
    "Map.addLayer(fishnet.style(**style), {}, 'Fishnet')\n",
    "Map"
   ]
  },
  {
   "cell_type": "code",
   "execution_count": null,
   "id": "50bdad55",
   "metadata": {},
   "outputs": [],
   "source": [
    "out_dir = os.path.expanduser('~/Downloads')\n",
    "geemap.download_ee_image_tiles(\n",
    "    image, fishnet, out_dir, prefix=\"landsat_\", crs=\"EPSG:3857\", scale=30\n",
    ")"
   ]
  },
  {
   "cell_type": "markdown",
   "id": "20c192a7",
   "metadata": {},
   "source": [
    "### To Google Drive"
   ]
  },
  {
   "cell_type": "code",
   "execution_count": null,
   "id": "b530dea7",
   "metadata": {},
   "outputs": [],
   "source": [
    "geemap.ee_export_image_to_drive(\n",
    "    image, description='landsat', folder='export', region=region, scale=30\n",
    ")"
   ]
  },
  {
   "cell_type": "markdown",
   "id": "a8b5aaf7",
   "metadata": {},
   "source": [
    "### To Asset"
   ]
  },
  {
   "cell_type": "code",
   "execution_count": null,
   "id": "9bb2127d",
   "metadata": {},
   "outputs": [],
   "source": [
    "assetId = 'landsat_sfo'\n",
    "geemap.ee_export_image_to_asset(\n",
    "    image, description='landsat', assetId=assetId, region=region, scale=30\n",
    ")"
   ]
  },
  {
   "cell_type": "markdown",
   "id": "35002408",
   "metadata": {},
   "source": [
    "### To Cloud Storage"
   ]
  },
  {
   "cell_type": "code",
   "execution_count": null,
   "id": "c9d599ee",
   "metadata": {},
   "outputs": [],
   "source": [
    "bucket = 'your-bucket'\n",
    "geemap.ee_export_image_to_cloud_storage(\n",
    "    image, description='landsat', bucket=None, region=region, scale=30\n",
    ")"
   ]
  },
  {
   "cell_type": "markdown",
   "id": "0818ef29",
   "metadata": {},
   "source": [
    "### To NumPy array"
   ]
  },
  {
   "cell_type": "code",
   "execution_count": null,
   "id": "f4657a12",
   "metadata": {},
   "outputs": [],
   "source": [
    "region = ee.Geometry.BBox(-122.5003, 37.7233, -122.3410, 37.8026)\n",
    "rgb_img = geemap.ee_to_numpy(image, region=region)"
   ]
  },
  {
   "cell_type": "code",
   "execution_count": null,
   "id": "61bee79b",
   "metadata": {},
   "outputs": [],
   "source": [
    "print(rgb_img.shape)"
   ]
  },
  {
   "cell_type": "code",
   "execution_count": null,
   "id": "29d26861",
   "metadata": {},
   "outputs": [],
   "source": [
    "import matplotlib.pyplot as plt\n",
    "\n",
    "rgb_img_test = (255 * ((rgb_img[:, :, 0:3]) + 0.2)).astype('uint8')\n",
    "plt.imshow(rgb_img_test)\n",
    "plt.show()"
   ]
  },
  {
   "cell_type": "markdown",
   "id": "b816efe8",
   "metadata": {},
   "source": [
    "## Exporting image collections"
   ]
  },
  {
   "cell_type": "code",
   "execution_count": null,
   "id": "ca19f961",
   "metadata": {},
   "outputs": [],
   "source": [
    "point = ee.Geometry.Point(-99.2222, 46.7816)\n",
    "collection = (\n",
    "    ee.ImageCollection('USDA/NAIP/DOQQ')\n",
    "    .filterBounds(point)\n",
    "    .filterDate('2008-01-01', '2018-01-01')\n",
    "    .filter(ee.Filter.listContains(\"system:band_names\", \"N\"))\n",
    ")"
   ]
  },
  {
   "cell_type": "code",
   "execution_count": null,
   "id": "4c88d6b4",
   "metadata": {},
   "outputs": [],
   "source": [
    "collection.aggregate_array('system:index').getInfo()"
   ]
  },
  {
   "cell_type": "markdown",
   "id": "37bcc4c8",
   "metadata": {},
   "source": [
    "### To local drive"
   ]
  },
  {
   "cell_type": "code",
   "execution_count": null,
   "id": "febad4a4",
   "metadata": {},
   "outputs": [],
   "source": [
    "out_dir = os.path.expanduser('~/Downloads')\n",
    "geemap.ee_export_image_collection(collection, out_dir=out_dir, scale=10)"
   ]
  },
  {
   "cell_type": "markdown",
   "id": "5b366534",
   "metadata": {},
   "source": [
    "### To Google Drive"
   ]
  },
  {
   "cell_type": "code",
   "execution_count": null,
   "id": "165ec6e5",
   "metadata": {},
   "outputs": [],
   "source": [
    "geemap.ee_export_image_collection_to_drive(collection, folder='export', scale=10)"
   ]
  },
  {
   "cell_type": "markdown",
   "id": "93755be3",
   "metadata": {},
   "source": [
    "### To Assets"
   ]
  },
  {
   "cell_type": "code",
   "execution_count": null,
   "id": "7b0818c4",
   "metadata": {},
   "outputs": [],
   "source": [
    "geemap.ee_export_image_collection_to_asset(collection)"
   ]
  },
  {
   "cell_type": "markdown",
   "id": "53903d7a",
   "metadata": {},
   "source": [
    "## Exporting videos"
   ]
  },
  {
   "cell_type": "code",
   "execution_count": null,
   "id": "371891f5",
   "metadata": {},
   "outputs": [],
   "source": [
    "# Load a Landsat 5 image collection.\n",
    "collection = (\n",
    "    ee.ImageCollection('LANDSAT/LT05/C01/T1_TOA')\n",
    "    .filter(ee.Filter.eq('WRS_PATH', 44))\n",
    "    .filter(ee.Filter.eq('WRS_ROW', 34))\n",
    "    .filter(ee.Filter.lt('CLOUD_COVER', 30))\n",
    "    .filterDate('1991-01-01', '2011-12-30')\n",
    "    .select(['B4', 'B3', 'B2'])\n",
    "    .map(lambda img: img.multiply(512).uint8())\n",
    ")\n",
    "# Need to make the data 8-bit.\n",
    "\n",
    "region = ee.Geometry.Rectangle([-122.7286, 37.6325, -122.0241, 37.9592]);"
   ]
  },
  {
   "cell_type": "code",
   "execution_count": null,
   "id": "44a0d40f",
   "metadata": {},
   "outputs": [],
   "source": [
    "geemap.ee_export_video_to_dirve(\n",
    "    collection, folder='export', framesPerSecond=12, dimensions=720, region=region\n",
    ")"
   ]
  },
  {
   "cell_type": "markdown",
   "id": "76732a57",
   "metadata": {},
   "source": [
    "## Exporting image thumbnails"
   ]
  },
  {
   "cell_type": "code",
   "execution_count": null,
   "id": "b1cc2ef5",
   "metadata": {},
   "outputs": [],
   "source": [
    "roi = ee.Geometry.Point([-122.44, 37.75])\n",
    "collection = (\n",
    "    ee.ImageCollection('LANDSAT/LC08/C02/T1_TOA')\n",
    "    .filterBounds(roi)\n",
    "    .sort(\"CLOUD_COVER\")\n",
    "    .limit(10)\n",
    ")\n",
    "\n",
    "image = collection.first()"
   ]
  },
  {
   "cell_type": "code",
   "execution_count": null,
   "id": "bb98eeec",
   "metadata": {},
   "outputs": [],
   "source": [
    "Map = geemap.Map()\n",
    "\n",
    "vis_params = {\n",
    "    'bands': ['B5', 'B4', 'B3'],\n",
    "    'min': 0,\n",
    "    'max': 0.3,\n",
    "    'gamma': [0.95, 1.1, 1],\n",
    "}\n",
    "\n",
    "Map.addLayer(image, vis_params, \"LANDSAT 8\")\n",
    "Map.setCenter(-122.44, 37.75, 8)\n",
    "Map"
   ]
  },
  {
   "cell_type": "code",
   "execution_count": null,
   "id": "d961a506",
   "metadata": {},
   "outputs": [],
   "source": [
    "out_img = 'landsat.jpg'\n",
    "region = ee.Geometry.BBox(-122.5955, 37.5339, -122.0982, 37.8252)\n",
    "geemap.get_image_thumbnail(image, out_img, vis_params, dimensions=1000, region=region)"
   ]
  },
  {
   "cell_type": "code",
   "execution_count": null,
   "id": "33ef860e",
   "metadata": {},
   "outputs": [],
   "source": [
    "geemap.show_image(out_img)"
   ]
  },
  {
   "cell_type": "code",
   "execution_count": null,
   "id": "834eac56",
   "metadata": {},
   "outputs": [],
   "source": [
    "out_dir = os.path.expanduser(\"~/Downloads\")\n",
    "geemap.get_image_collection_thumbnails(\n",
    "    collection,\n",
    "    out_dir,\n",
    "    vis_params,\n",
    "    dimensions=1000,\n",
    "    region=region,\n",
    ")"
   ]
  },
  {
   "cell_type": "markdown",
   "id": "177abe65",
   "metadata": {},
   "source": [
    "## Exporting feature collections"
   ]
  },
  {
   "cell_type": "code",
   "execution_count": null,
   "id": "ce20a1a3",
   "metadata": {},
   "outputs": [],
   "source": [
    "Map = geemap.Map()\n",
    "fc = ee.FeatureCollection('USDOS/LSIB_SIMPLE/2017').filter(\n",
    "    ee.Filter.eq('wld_rgn', 'Europe')\n",
    ")\n",
    "\n",
    "Map.addLayer(fc, {}, \"Europe\")\n",
    "Map.centerObject(fc, 3)\n",
    "Map"
   ]
  },
  {
   "cell_type": "markdown",
   "id": "820850d9",
   "metadata": {},
   "source": [
    "### To local drive"
   ]
  },
  {
   "cell_type": "code",
   "execution_count": null,
   "id": "6641a4f8",
   "metadata": {},
   "outputs": [],
   "source": [
    "geemap.ee_to_shp(fc, filename='europe.shp', selectors=None)"
   ]
  },
  {
   "cell_type": "code",
   "execution_count": null,
   "id": "2a6e28e3",
   "metadata": {},
   "outputs": [],
   "source": [
    "geemap.ee_export_vector(fc, filename='europe2.shp')"
   ]
  },
  {
   "cell_type": "code",
   "execution_count": null,
   "id": "1c3f1fff",
   "metadata": {},
   "outputs": [],
   "source": [
    "geemap.ee_to_geojson(fc, filename='europe.geojson')"
   ]
  },
  {
   "cell_type": "code",
   "execution_count": null,
   "id": "5fb9a821",
   "metadata": {},
   "outputs": [],
   "source": [
    "geemap.ee_to_csv(fc, filename='europe.csv')"
   ]
  },
  {
   "cell_type": "code",
   "execution_count": null,
   "id": "70c7fc16",
   "metadata": {},
   "outputs": [],
   "source": [
    "gdf = geemap.ee_to_gdf(fc)\n",
    "gdf"
   ]
  },
  {
   "cell_type": "code",
   "execution_count": null,
   "id": "0e99acfa",
   "metadata": {},
   "outputs": [],
   "source": [
    "df = geemap.ee_to_df(fc)\n",
    "df"
   ]
  },
  {
   "cell_type": "markdown",
   "id": "47968475",
   "metadata": {},
   "source": [
    "### To Google Drive"
   ]
  },
  {
   "cell_type": "code",
   "execution_count": null,
   "id": "0518f8ab",
   "metadata": {},
   "outputs": [],
   "source": [
    "geemap.ee_export_vector_to_drive(\n",
    "    fc, description=\"europe\", fileFormat='SHP', folder=\"export\"\n",
    ")"
   ]
  },
  {
   "cell_type": "markdown",
   "id": "8241e93c",
   "metadata": {},
   "source": [
    "### To Asset"
   ]
  },
  {
   "cell_type": "code",
   "execution_count": null,
   "id": "5c87422a",
   "metadata": {},
   "outputs": [],
   "source": [
    "geemap.ee_export_vector_to_asset(fc, description='Exporting Europe', assetId='europe')"
   ]
  },
  {
   "cell_type": "markdown",
   "id": "079ace1c",
   "metadata": {},
   "source": [
    "## Exporting maps"
   ]
  },
  {
   "cell_type": "code",
   "execution_count": null,
   "id": "09e7faf7",
   "metadata": {},
   "outputs": [],
   "source": [
    "Map = geemap.Map()\n",
    "image = ee.Image('USGS/SRTMGL1_003')\n",
    "vis_params = {\n",
    "    'min': 0,\n",
    "    'max': 4000,\n",
    "    'palette': ['006633', 'E5FFCC', '662A00', 'D8D8D8', 'F5F5F5'],\n",
    "}\n",
    "Map.addLayer(image, vis_params, 'SRTM DEM', True)\n",
    "Map"
   ]
  },
  {
   "cell_type": "code",
   "execution_count": null,
   "id": "1b153a2d",
   "metadata": {},
   "outputs": [],
   "source": [
    "Map.to_html(\n",
    "    filename=\"mymap.html\", title=\"Earth Engine Map\", width='100%', height='800px'\n",
    ")"
   ]
  },
  {
   "cell_type": "markdown",
   "id": "06990b14",
   "metadata": {},
   "source": [
    "## Using the high-volume endpoint"
   ]
  },
  {
   "cell_type": "code",
   "execution_count": null,
   "id": "dbe8b7b6",
   "metadata": {},
   "outputs": [],
   "source": [
    "import ee\n",
    "import geemap\n",
    "import logging\n",
    "import multiprocessing\n",
    "import os\n",
    "import requests\n",
    "import shutil\n",
    "from retry import retry"
   ]
  },
  {
   "cell_type": "code",
   "execution_count": null,
   "id": "982a5e5a",
   "metadata": {},
   "outputs": [],
   "source": [
    "ee.Initialize(opt_url='https://earthengine-highvolume.googleapis.com')"
   ]
  },
  {
   "cell_type": "code",
   "execution_count": null,
   "id": "699a64ea",
   "metadata": {},
   "outputs": [],
   "source": [
    "region = Map.user_roi\n",
    "\n",
    "if region is None:\n",
    "    region = ee.Geometry.Polygon(\n",
    "        [\n",
    "            [\n",
    "                [-122.513695, 37.707998],\n",
    "                [-122.513695, 37.804359],\n",
    "                [-122.371902, 37.804359],\n",
    "                [-122.371902, 37.707998],\n",
    "                [-122.513695, 37.707998],\n",
    "            ]\n",
    "        ],\n",
    "        None,\n",
    "        False,\n",
    "    )"
   ]
  },
  {
   "cell_type": "code",
   "execution_count": null,
   "id": "81cef66b",
   "metadata": {},
   "outputs": [],
   "source": [
    "image = (\n",
    "    ee.ImageCollection('USDA/NAIP/DOQQ')\n",
    "    .filterBounds(region)\n",
    "    .filterDate('2020', '2021')\n",
    "    .mosaic()\n",
    "    .clip(region)\n",
    "    .select('N', 'R', 'G')\n",
    ")"
   ]
  },
  {
   "cell_type": "code",
   "execution_count": null,
   "id": "dc9ce9c1",
   "metadata": {},
   "outputs": [],
   "source": [
    "Map = geemap.Map()\n",
    "Map.addLayer(image, {}, \"Image\")\n",
    "Map.addLayer(region, {}, \"ROI\", False)\n",
    "Map.centerObject(region, 12)\n",
    "Map"
   ]
  },
  {
   "cell_type": "code",
   "execution_count": null,
   "id": "c076e051",
   "metadata": {},
   "outputs": [],
   "source": [
    "out_dir = os.path.expanduser('~/Downloads/')\n",
    "params = {\n",
    "    'count': 1000,  # How many image chips to export\n",
    "    'buffer': 127,  # The buffer distance (m) around each point\n",
    "    'scale': 100,  # The scale to do stratified sampling\n",
    "    'seed': 1,  # A randomization seed to use for subsampling.\n",
    "    'dimensions': '256x256',  # The dimension of each image chip\n",
    "    'format': \"png\",  # The output image format, can be png, jpg, ZIPPED_GEO_TIFF, GEO_TIFF, NPY\n",
    "    'prefix': 'tile_',  # The filename prefix\n",
    "    'processes': 25,  # How many processes to used for parallel processing\n",
    "    'out_dir': out_dir,  # The output directory. Default to the current working directly\n",
    "}"
   ]
  },
  {
   "cell_type": "code",
   "execution_count": null,
   "id": "cd131dd2",
   "metadata": {},
   "outputs": [],
   "source": [
    "def getRequests():\n",
    "    img = ee.Image(1).rename(\"Class\").addBands(image)\n",
    "    points = img.stratifiedSample(\n",
    "        numPoints=params['count'],\n",
    "        region=region,\n",
    "        scale=params['scale'],\n",
    "        seed=params['seed'],\n",
    "        geometries=True,\n",
    "    )\n",
    "    Map.data = points\n",
    "    return points.aggregate_array('.geo').getInfo()"
   ]
  },
  {
   "cell_type": "code",
   "execution_count": null,
   "id": "1845ad99",
   "metadata": {},
   "outputs": [],
   "source": [
    "@retry(tries=10, delay=1, backoff=2)\n",
    "def getResult(index, point):\n",
    "    point = ee.Geometry.Point(point['coordinates'])\n",
    "    region = point.buffer(params['buffer']).bounds()\n",
    "\n",
    "    if params['format'] in ['png', 'jpg']:\n",
    "        url = image.getThumbURL(\n",
    "            {\n",
    "                'region': region,\n",
    "                'dimensions': params['dimensions'],\n",
    "                'format': params['format'],\n",
    "            }\n",
    "        )\n",
    "    else:\n",
    "        url = image.getDownloadURL(\n",
    "            {\n",
    "                'region': region,\n",
    "                'dimensions': params['dimensions'],\n",
    "                'format': params['format'],\n",
    "            }\n",
    "        )\n",
    "\n",
    "    if params['format'] == \"GEO_TIFF\":\n",
    "        ext = 'tif'\n",
    "    else:\n",
    "        ext = params['format']\n",
    "\n",
    "    r = requests.get(url, stream=True)\n",
    "    if r.status_code != 200:\n",
    "        r.raise_for_status()\n",
    "\n",
    "    out_dir = os.path.abspath(params['out_dir'])\n",
    "    basename = str(index).zfill(len(str(params['count'])))\n",
    "    filename = f\"{out_dir}/{params['prefix']}{basename}.{ext}\"\n",
    "    with open(filename, 'wb') as out_file:\n",
    "        shutil.copyfileobj(r.raw, out_file)\n",
    "    print(\"Done: \", basename)"
   ]
  },
  {
   "cell_type": "code",
   "execution_count": null,
   "id": "6a22f6b4",
   "metadata": {},
   "outputs": [],
   "source": [
    "%%time\n",
    "logging.basicConfig()\n",
    "items = getRequests()\n",
    "\n",
    "pool = multiprocessing.Pool(params['processes'])\n",
    "pool.starmap(getResult, enumerate(items))\n",
    "\n",
    "pool.close()"
   ]
  },
  {
   "cell_type": "code",
   "execution_count": null,
   "id": "679ba198",
   "metadata": {},
   "outputs": [],
   "source": [
    "Map.addLayer(Map.data, {}, \"Sample points\")\n",
    "Map"
   ]
  },
  {
   "cell_type": "code",
   "execution_count": null,
   "id": "8f07dd6b",
   "metadata": {},
   "outputs": [],
   "source": [
    "geemap.ee_to_shp(Map.data, filename='points.shp')"
   ]
  },
  {
   "cell_type": "markdown",
   "id": "32ed569d",
   "metadata": {},
   "source": [
    "## Summary\n",
    "\n",
    "## References\n",
    "\n",
    "- https://geemap.org/notebooks/11_export_image/\n",
    "- https://geemap.org/notebooks/34_extract_values/\n",
    "- https://geemap.org/notebooks/43_extract_values_to_points/\n",
    "- https://geemap.org/notebooks/47_image_thumbnails/\n",
    "- https://geemap.org/notebooks/73_transect/\n",
    "- https://geemap.org/notebooks/96_image_chips/\n",
    "- https://developers.google.com/earth-engine/cloud/highvolume\n",
    "- https://gorelick.medium.com/fast-er-downloads-a2abd512aa26"
   ]
  }
 ],
 "metadata": {
  "jupytext": {
   "text_representation": {
    "extension": ".md",
    "format_name": "myst",
    "format_version": 0.13,
    "jupytext_version": "1.11.5"
   }
  },
  "kernelspec": {
   "display_name": "Python 3",
   "language": "python",
   "name": "python3"
  },
  "source_map": [
   12,
   23,
   39,
   43,
   48,
   50,
   54,
   68,
   74,
   78,
   82,
   87,
   92,
   102,
   106,
   113,
   118,
   122,
   126,
   130,
   135,
   139,
   144,
   148,
   153,
   157,
   163,
   167,
   177,
   179,
   183,
   186,
   190,
   192,
   196,
   198,
   202,
   218,
   222,
   226,
   238,
   253,
   259,
   263,
   272,
   276,
   287,
   291,
   295,
   299,
   303,
   307,
   312,
   315,
   319,
   323,
   327,
   329,
   333,
   345,
   349,
   353,
   364,
   368,
   387,
   398,
   406,
   421,
   435,
   475,
   486,
   491,
   493
  ]
 },
 "nbformat": 4,
 "nbformat_minor": 5
}