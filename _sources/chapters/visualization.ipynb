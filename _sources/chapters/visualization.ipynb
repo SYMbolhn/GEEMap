{
 "cells": [
  {
   "cell_type": "markdown",
   "id": "e7a4485d",
   "metadata": {},
   "source": [
    "# Geospatial Data Visualization"
   ]
  },
  {
   "cell_type": "markdown",
   "id": "f3849809",
   "metadata": {},
   "source": [
    "## Legends"
   ]
  },
  {
   "cell_type": "markdown",
   "id": "9f7c2e3e",
   "metadata": {},
   "source": [
    "## Colormaps"
   ]
  },
  {
   "cell_type": "markdown",
   "id": "2cc9417d",
   "metadata": {},
   "source": [
    "## Linked Maps"
   ]
  },
  {
   "cell_type": "markdown",
   "id": "d1b9d0c6",
   "metadata": {},
   "source": [
    "## Cartoee"
   ]
  },
  {
   "cell_type": "code",
   "execution_count": null,
   "id": "ebb4a662",
   "metadata": {},
   "outputs": [],
   "source": []
  }
 ],
 "metadata": {
  "kernelspec": {
   "display_name": "Python 3",
   "language": "python",
   "name": "python3"
  },
  "language_info": {
   "codemirror_mode": {
    "name": "ipython",
    "version": 3
   },
   "file_extension": ".py",
   "mimetype": "text/x-python",
   "name": "python",
   "nbconvert_exporter": "python",
   "pygments_lexer": "ipython3",
   "version": "3.8.8"
  }
 },
 "nbformat": 4,
 "nbformat_minor": 5
}
