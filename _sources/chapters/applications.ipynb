{
 "cells": [
  {
   "cell_type": "markdown",
   "id": "2f1f3c17",
   "metadata": {},
   "source": [
    "# Earth Engine Applications"
   ]
  },
  {
   "cell_type": "markdown",
   "id": "48442c25",
   "metadata": {},
   "source": [
    "## Surface Water Mapping"
   ]
  },
  {
   "cell_type": "markdown",
   "id": "38666f9d",
   "metadata": {},
   "source": [
    "## Wetland Mapping"
   ]
  },
  {
   "cell_type": "markdown",
   "id": "e850dde9",
   "metadata": {},
   "source": [
    "## Urban Mapping"
   ]
  },
  {
   "cell_type": "markdown",
   "id": "f514d818",
   "metadata": {},
   "source": [
    "## Vegetation Mapping"
   ]
  },
  {
   "cell_type": "code",
   "execution_count": null,
   "id": "e16c76da",
   "metadata": {},
   "outputs": [],
   "source": []
  }
 ],
 "metadata": {
  "kernelspec": {
   "display_name": "Python 3",
   "language": "python",
   "name": "python3"
  },
  "language_info": {
   "codemirror_mode": {
    "name": "ipython",
    "version": 3
   },
   "file_extension": ".py",
   "mimetype": "text/x-python",
   "name": "python",
   "nbconvert_exporter": "python",
   "pygments_lexer": "ipython3",
   "version": "3.8.8"
  }
 },
 "nbformat": 4,
 "nbformat_minor": 5
}
