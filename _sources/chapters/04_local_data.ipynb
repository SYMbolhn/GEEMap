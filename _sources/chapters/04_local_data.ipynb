{
 "cells": [
  {
   "cell_type": "markdown",
   "id": "06b7bf59",
   "metadata": {},
   "source": [
    "# Using Local Geospatial Data\n",
    "\n",
    "```{contents}\n",
    ":local:\n",
    ":depth: 2\n",
    "```\n",
    "\n",
    "## Introduction\n",
    "\n",
    "## Technical requirements\n",
    "\n",
    "```bash\n",
    "conda create -n gee python\n",
    "conda activate gee\n",
    "conda install -c conda-forge mamba\n",
    "mamba install -c conda-forge pygis\n",
    "```\n",
    "\n",
    "```bash\n",
    "jupyter lab\n",
    "```"
   ]
  },
  {
   "cell_type": "code",
   "execution_count": null,
   "id": "ca8f48db",
   "metadata": {},
   "outputs": [],
   "source": [
    "# %pip install pygis"
   ]
  },
  {
   "cell_type": "code",
   "execution_count": null,
   "id": "36e564d1",
   "metadata": {},
   "outputs": [],
   "source": [
    "import ee\n",
    "import geemap"
   ]
  },
  {
   "cell_type": "code",
   "execution_count": null,
   "id": "9111424d",
   "metadata": {},
   "outputs": [],
   "source": [
    "geemap.ee_initialize()"
   ]
  },
  {
   "cell_type": "markdown",
   "id": "172ccf5f",
   "metadata": {},
   "source": [
    "## Local raster datasets\n",
    "\n",
    "### Single-band imagery"
   ]
  },
  {
   "cell_type": "code",
   "execution_count": null,
   "id": "0f6ae31a",
   "metadata": {},
   "outputs": [],
   "source": [
    "url = 'https://github.com/giswqs/data/raw/main/raster/srtm90.tif'\n",
    "filename = 'dem.tif'\n",
    "geemap.download_file(url, filename)"
   ]
  },
  {
   "cell_type": "code",
   "execution_count": null,
   "id": "3d3faca6",
   "metadata": {},
   "outputs": [],
   "source": [
    "Map = geemap.Map()\n",
    "Map.add_raster(filename, cmap='terrain', layer_name=\"DEM\")\n",
    "vis_params = {'min': 0, 'max': 4000, 'palette': 'terrain'}\n",
    "Map.add_colorbar(vis_params, label='Elevation (m)')\n",
    "Map"
   ]
  },
  {
   "cell_type": "code",
   "execution_count": null,
   "id": "e23a937f",
   "metadata": {},
   "outputs": [],
   "source": [
    "import geemap.colormaps as cm\n",
    "cm.list_colormaps()"
   ]
  },
  {
   "cell_type": "code",
   "execution_count": null,
   "id": "d47f9cd8",
   "metadata": {},
   "outputs": [],
   "source": [
    "cm.plot_colormaps(width=12, height=0.4)"
   ]
  },
  {
   "cell_type": "markdown",
   "id": "8024bf73",
   "metadata": {},
   "source": [
    "### Multi-band imagery"
   ]
  },
  {
   "cell_type": "code",
   "execution_count": null,
   "id": "98da6e2f",
   "metadata": {},
   "outputs": [],
   "source": [
    "url = 'https://github.com/giswqs/leafmap/raw/master/examples/data/cog.tif'\n",
    "filename = 'cog.tif'\n",
    "geemap.download_file(url, filename)"
   ]
  },
  {
   "cell_type": "code",
   "execution_count": null,
   "id": "80f5f494",
   "metadata": {},
   "outputs": [],
   "source": [
    "Map = geemap.Map()\n",
    "Map.add_raster(filename, band=[4, 1, 2], layer_name=\"Color infrared\")\n",
    "Map"
   ]
  },
  {
   "cell_type": "markdown",
   "id": "976d8f5e",
   "metadata": {},
   "source": [
    "### Interactive raster GUI\n",
    "\n",
    "## Cloud Optimized GeoTIFF (COG)\n",
    "\n",
    "### Visualizing COG"
   ]
  },
  {
   "cell_type": "code",
   "execution_count": null,
   "id": "689b361a",
   "metadata": {},
   "outputs": [],
   "source": [
    "url = 'https://tinyurl.com/24bo8umr'"
   ]
  },
  {
   "cell_type": "code",
   "execution_count": null,
   "id": "96c85df4",
   "metadata": {},
   "outputs": [],
   "source": [
    "geemap.cog_bounds(url)"
   ]
  },
  {
   "cell_type": "code",
   "execution_count": null,
   "id": "445437f1",
   "metadata": {},
   "outputs": [],
   "source": [
    "geemap.cog_center(url)"
   ]
  },
  {
   "cell_type": "code",
   "execution_count": null,
   "id": "7d0ca45e",
   "metadata": {},
   "outputs": [],
   "source": [
    "geemap.cog_bands(url)"
   ]
  },
  {
   "cell_type": "code",
   "execution_count": null,
   "id": "c0ca5352",
   "metadata": {},
   "outputs": [],
   "source": [
    "geemap.cog_tile(url)"
   ]
  },
  {
   "cell_type": "code",
   "execution_count": null,
   "id": "3d30f62e",
   "metadata": {},
   "outputs": [],
   "source": [
    "Map = geemap.Map()\n",
    "Map.add_cog_layer(url, name=\"Fire (pre-event)\")\n",
    "Map"
   ]
  },
  {
   "cell_type": "code",
   "execution_count": null,
   "id": "528eb4ec",
   "metadata": {},
   "outputs": [],
   "source": [
    "url2 = 'https://tinyurl.com/2awjl66w'\n",
    "Map.add_cog_layer(url2, name=\"Fire (post-event)\")\n",
    "Map"
   ]
  },
  {
   "cell_type": "markdown",
   "id": "2f33b9de",
   "metadata": {},
   "source": [
    "### Creating COG"
   ]
  },
  {
   "cell_type": "code",
   "execution_count": null,
   "id": "89af4c7b",
   "metadata": {},
   "outputs": [],
   "source": [
    "url = \"https://github.com/giswqs/data/raw/main/raster/srtm90.tif\"\n",
    "geemap.cog_validate(url)"
   ]
  },
  {
   "cell_type": "code",
   "execution_count": null,
   "id": "f3553eb2",
   "metadata": {},
   "outputs": [],
   "source": [
    "geemap.cog_validate(url, verbose=True)"
   ]
  },
  {
   "cell_type": "code",
   "execution_count": null,
   "id": "7cc31414",
   "metadata": {},
   "outputs": [],
   "source": [
    "out_cog = \"cog.tif\"\n",
    "geemap.image_to_cog(url, out_cog)"
   ]
  },
  {
   "cell_type": "code",
   "execution_count": null,
   "id": "f6475f66",
   "metadata": {},
   "outputs": [],
   "source": [
    "geemap.cog_validate(out_cog)"
   ]
  },
  {
   "cell_type": "code",
   "execution_count": null,
   "id": "2a11bb53",
   "metadata": {},
   "outputs": [],
   "source": [
    "Map = geemap.Map()\n",
    "Map.add_raster(out_cog, cmap=\"terrain\", layer_name=\"Local COG\")\n",
    "Map.add_cog_layer(url, cmap=\"gist_earth\", name=\"Remote COG\")\n",
    "vis_params = {'min': 0, 'max': 4000, 'palette': 'gist_earth'}\n",
    "Map.add_colorbar(vis_params, label='Elevation (m)')\n",
    "Map"
   ]
  },
  {
   "cell_type": "markdown",
   "id": "e5c93b4a",
   "metadata": {},
   "source": [
    "### Converting NumPy arrays to COG"
   ]
  },
  {
   "cell_type": "code",
   "execution_count": null,
   "id": "71255aa8",
   "metadata": {},
   "outputs": [],
   "source": [
    "url = 'https://github.com/giswqs/leafmap/raw/master/examples/data/cog.tif'\n",
    "in_cog = 'cog.tif'\n",
    "out_cog = \"ndvi.tif\"\n",
    "geemap.download_file(url, in_cog, overwrite=True)"
   ]
  },
  {
   "cell_type": "code",
   "execution_count": null,
   "id": "8c824fff",
   "metadata": {},
   "outputs": [],
   "source": [
    "arr = geemap.image_to_numpy(in_cog)"
   ]
  },
  {
   "cell_type": "code",
   "execution_count": null,
   "id": "a230a994",
   "metadata": {},
   "outputs": [],
   "source": [
    "arr.shape"
   ]
  },
  {
   "cell_type": "code",
   "execution_count": null,
   "id": "516669e9",
   "metadata": {},
   "outputs": [],
   "source": [
    "ndvi = (arr[3] - arr[0]) / (arr[3] + arr[0])"
   ]
  },
  {
   "cell_type": "code",
   "execution_count": null,
   "id": "9f274fce",
   "metadata": {},
   "outputs": [],
   "source": [
    "ndvi.shape"
   ]
  },
  {
   "cell_type": "code",
   "execution_count": null,
   "id": "92bde0ac",
   "metadata": {},
   "outputs": [],
   "source": [
    "geemap.numpy_to_cog(ndvi, out_cog, profile=in_cog)"
   ]
  },
  {
   "cell_type": "code",
   "execution_count": null,
   "id": "2034c34b",
   "metadata": {},
   "outputs": [],
   "source": [
    "Map = geemap.Map()\n",
    "Map.add_raster(in_cog, band=[4, 1, 2], layer_name=\"Color infrared\")\n",
    "Map.add_raster(out_cog, cmap=\"Greens\", layer_name=\"NDVI\")\n",
    "Map"
   ]
  },
  {
   "cell_type": "markdown",
   "id": "bae329cf",
   "metadata": {},
   "source": [
    "### Clipping image by mask"
   ]
  },
  {
   "cell_type": "code",
   "execution_count": null,
   "id": "394e5f1e",
   "metadata": {},
   "outputs": [],
   "source": [
    "url = 'https://github.com/giswqs/data/raw/main/raster/srtm90.tif'\n",
    "dem = 'dem.tif'\n",
    "geemap.download_file(url, dem)"
   ]
  },
  {
   "cell_type": "code",
   "execution_count": null,
   "id": "1f84f908",
   "metadata": {},
   "outputs": [],
   "source": [
    "Map = geemap.Map()\n",
    "Map.add_raster(dem, cmap='terrain', layer_name=\"DEM\")\n",
    "Map"
   ]
  },
  {
   "cell_type": "code",
   "execution_count": null,
   "id": "ed558368",
   "metadata": {},
   "outputs": [],
   "source": [
    "mask = (\n",
    "    'https://raw.githubusercontent.com/giswqs/leafmap/master/examples/data/mask.geojson'\n",
    ")"
   ]
  },
  {
   "cell_type": "code",
   "execution_count": null,
   "id": "fa3316c3",
   "metadata": {},
   "outputs": [],
   "source": [
    "mask = Map.user_roi"
   ]
  },
  {
   "cell_type": "code",
   "execution_count": null,
   "id": "e89f5ae9",
   "metadata": {},
   "outputs": [],
   "source": [
    "mask = [\n",
    "    [-119.679565, 37.256566],\n",
    "    [-119.679565, 38.061067],\n",
    "    [-118.24585, 38.061067],\n",
    "    [-118.24585, 37.256566],\n",
    "    [-119.679565, 37.256566],\n",
    "]"
   ]
  },
  {
   "cell_type": "code",
   "execution_count": null,
   "id": "813e29fa",
   "metadata": {},
   "outputs": [],
   "source": [
    "output = 'clip.tif'\n",
    "geemap.clip_image(dem, mask, output)\n",
    "Map.add_raster(output, cmap='coolwarm', layer_name=\"Clip Image\")\n",
    "Map"
   ]
  },
  {
   "cell_type": "markdown",
   "id": "dcea7af1",
   "metadata": {},
   "source": [
    "## SpatioTemporal Asset Catalog (STAC)"
   ]
  },
  {
   "cell_type": "code",
   "execution_count": null,
   "id": "0933c236",
   "metadata": {},
   "outputs": [],
   "source": [
    "url = 'https://tinyurl.com/22vptbws'"
   ]
  },
  {
   "cell_type": "code",
   "execution_count": null,
   "id": "390f377c",
   "metadata": {},
   "outputs": [],
   "source": [
    "geemap.stac_bounds(url)"
   ]
  },
  {
   "cell_type": "code",
   "execution_count": null,
   "id": "9ce7a141",
   "metadata": {},
   "outputs": [],
   "source": [
    "geemap.stac_center(url)"
   ]
  },
  {
   "cell_type": "code",
   "execution_count": null,
   "id": "90e377a6",
   "metadata": {},
   "outputs": [],
   "source": [
    "geemap.stac_bands(url)"
   ]
  },
  {
   "cell_type": "code",
   "execution_count": null,
   "id": "b67f3aa3",
   "metadata": {},
   "outputs": [],
   "source": [
    "geemap.stac_tile(url, bands=['B3', 'B2', 'B1'])"
   ]
  },
  {
   "cell_type": "code",
   "execution_count": null,
   "id": "4ea5f948",
   "metadata": {},
   "outputs": [],
   "source": [
    "Map = geemap.Map()\n",
    "Map.add_stac_layer(url, bands=['pan'], name='Panchromatic')\n",
    "Map.add_stac_layer(url, bands=['B3', 'B2', 'B1'], name='False color')\n",
    "Map"
   ]
  },
  {
   "cell_type": "markdown",
   "id": "b2d4c7a0",
   "metadata": {},
   "source": [
    "## Vector datasets\n",
    "\n",
    "### GeoJSON"
   ]
  },
  {
   "cell_type": "code",
   "execution_count": null,
   "id": "23346e99",
   "metadata": {},
   "outputs": [],
   "source": [
    "in_geojson = (\n",
    "    'https://github.com/gee-community/geemap/blob/master/examples/data/cable_geo.geojson'\n",
    ")\n",
    "Map = geemap.Map()\n",
    "Map.add_geojson(in_geojson, layer_name=\"Cable lines\", info_mode=\"on_hover\")\n",
    "Map"
   ]
  },
  {
   "cell_type": "code",
   "execution_count": null,
   "id": "186e00ca",
   "metadata": {},
   "outputs": [],
   "source": [
    "Map = geemap.Map()\n",
    "Map.add_basemap(\"CartoDB.DarkMatter\")\n",
    "callback = lambda feat: {\"color\": \"#\" + feat[\"properties\"][\"color\"], \"weight\": 2}\n",
    "Map.add_geojson(in_geojson, layer_name=\"Cable lines\", style_callback=callback)\n",
    "Map"
   ]
  },
  {
   "cell_type": "code",
   "execution_count": null,
   "id": "a3f9caeb",
   "metadata": {},
   "outputs": [],
   "source": [
    "url = \"https://github.com/gee-community/geemap/blob/master/examples/data/countries.geojson\"\n",
    "Map = geemap.Map()\n",
    "Map.add_geojson(\n",
    "    url, layer_name=\"Countries\", fill_colors=['red', 'yellow', 'green', 'orange']\n",
    ")\n",
    "Map"
   ]
  },
  {
   "cell_type": "code",
   "execution_count": null,
   "id": "faec835b",
   "metadata": {},
   "outputs": [],
   "source": [
    "import random\n",
    "\n",
    "Map = geemap.Map()\n",
    "\n",
    "def random_color(feature):\n",
    "    return {\n",
    "        'color': 'black',\n",
    "        'weight': 3,\n",
    "        'fillColor': random.choice(['red', 'yellow', 'green', 'orange']),\n",
    "    }\n",
    "\n",
    "Map.add_geojson(url, layer_name=\"Countries\", style_callback=random_color)\n",
    "Map"
   ]
  },
  {
   "cell_type": "code",
   "execution_count": null,
   "id": "f41678c3",
   "metadata": {},
   "outputs": [],
   "source": [
    "Map = geemap.Map()\n",
    "\n",
    "style = {\n",
    "    \"stroke\": True,\n",
    "    \"color\": \"#0000ff\",\n",
    "    \"weight\": 2,\n",
    "    \"opacity\": 1,\n",
    "    \"fill\": True,\n",
    "    \"fillColor\": \"#0000ff\",\n",
    "    \"fillOpacity\": 0.1,\n",
    "}\n",
    "\n",
    "hover_style = {\"fillOpacity\": 0.7}\n",
    "\n",
    "Map.add_geojson(url, layer_name=\"Countries\", style=style, hover_style=hover_style)\n",
    "Map"
   ]
  },
  {
   "cell_type": "markdown",
   "id": "63d87be8",
   "metadata": {},
   "source": [
    "### Shapefile"
   ]
  },
  {
   "cell_type": "code",
   "execution_count": null,
   "id": "4f114118",
   "metadata": {},
   "outputs": [],
   "source": [
    "url = \"https://github.com/gee-community/geemap/blob/master/examples/data/countries.zip\"\n",
    "geemap.download_file(url)"
   ]
  },
  {
   "cell_type": "code",
   "execution_count": null,
   "id": "1beff7c4",
   "metadata": {},
   "outputs": [],
   "source": [
    "Map = geemap.Map()\n",
    "in_shp = \"countries.shp\"\n",
    "Map.add_shp(in_shp, layer_name=\"Countries\")\n",
    "Map"
   ]
  },
  {
   "cell_type": "markdown",
   "id": "bea66b30",
   "metadata": {},
   "source": [
    "### KML"
   ]
  },
  {
   "cell_type": "code",
   "execution_count": null,
   "id": "b8b4689c",
   "metadata": {},
   "outputs": [],
   "source": [
    "in_kml = \"https://github.com/gee-community/geemap/blob/master/examples/data/us_states.kml\""
   ]
  },
  {
   "cell_type": "code",
   "execution_count": null,
   "id": "9963efa5",
   "metadata": {},
   "outputs": [],
   "source": [
    "Map = geemap.Map(center=[40, -100], zoom=4)\n",
    "Map.add_kml(in_kml, layer_name=\"US States\")\n",
    "Map"
   ]
  },
  {
   "cell_type": "markdown",
   "id": "dd8a1a1c",
   "metadata": {},
   "source": [
    "### GeoDataFrame"
   ]
  },
  {
   "cell_type": "code",
   "execution_count": null,
   "id": "e1d8c0fc",
   "metadata": {},
   "outputs": [],
   "source": [
    "import geopandas as gpd"
   ]
  },
  {
   "cell_type": "code",
   "execution_count": null,
   "id": "61f5e518",
   "metadata": {},
   "outputs": [],
   "source": [
    "Map = geemap.Map(center=[40, -100], zoom=4)\n",
    "gdf = gpd.read_file('countries.shp')\n",
    "Map.add_gdf(gdf, layer_name=\"US States\")\n",
    "Map"
   ]
  },
  {
   "cell_type": "markdown",
   "id": "6a461067",
   "metadata": {},
   "source": [
    "### Other vector formats"
   ]
  },
  {
   "cell_type": "code",
   "execution_count": null,
   "id": "0ec89a99",
   "metadata": {},
   "outputs": [],
   "source": [
    "Map = geemap.Map()\n",
    "data = 'https://github.com/gee-community/geemap/blob/master/examples/data/countries.gpkg'\n",
    "Map.add_vector(data, layer_name=\"Countries\")\n",
    "Map"
   ]
  },
  {
   "cell_type": "markdown",
   "id": "4edcf7b3",
   "metadata": {},
   "source": [
    "## Creating points from XY\n",
    "\n",
    "### CSV to vector"
   ]
  },
  {
   "cell_type": "code",
   "execution_count": null,
   "id": "a7f9d0cc",
   "metadata": {},
   "outputs": [],
   "source": [
    "data = 'https://github.com/gee-community/geemap/blob/master/examples/data/us_cities.csv'\n",
    "geemap.csv_to_df(data)"
   ]
  },
  {
   "cell_type": "code",
   "execution_count": null,
   "id": "c7c31777",
   "metadata": {},
   "outputs": [],
   "source": [
    "geemap.csv_to_geojson(\n",
    "    data, 'cities.geojson', latitude=\"latitude\", longitude='longitude'\n",
    ")"
   ]
  },
  {
   "cell_type": "code",
   "execution_count": null,
   "id": "e2d31b24",
   "metadata": {},
   "outputs": [],
   "source": [
    "geemap.csv_to_shp(data, 'cities.shp', latitude=\"latitude\", longitude='longitude')"
   ]
  },
  {
   "cell_type": "code",
   "execution_count": null,
   "id": "637a03b1",
   "metadata": {},
   "outputs": [],
   "source": [
    "geemap.csv_to_gdf(data, latitude=\"latitude\", longitude='longitude')"
   ]
  },
  {
   "cell_type": "code",
   "execution_count": null,
   "id": "08229400",
   "metadata": {},
   "outputs": [],
   "source": [
    "geemap.csv_to_vector(data, 'cities.gpkg', latitude=\"latitude\", longitude='longitude')"
   ]
  },
  {
   "cell_type": "markdown",
   "id": "fd9859b1",
   "metadata": {},
   "source": [
    "### Adding points from XY"
   ]
  },
  {
   "cell_type": "code",
   "execution_count": null,
   "id": "f3bcbd90",
   "metadata": {},
   "outputs": [],
   "source": [
    "cities = 'https://github.com/gee-community/geemap/blob/master/examples/data/us_cities.csv'\n",
    "regions = (\n",
    "    'https://github.com/gee-community/geemap/blob/master/examples/data/us_regions.geojson'\n",
    ")"
   ]
  },
  {
   "cell_type": "code",
   "execution_count": null,
   "id": "05b6e835",
   "metadata": {},
   "outputs": [],
   "source": [
    "Map = geemap.Map(center=[40, -100], zoom=4)\n",
    "Map.add_points_from_xy(cities, x=\"longitude\", y=\"latitude\")\n",
    "Map"
   ]
  },
  {
   "cell_type": "code",
   "execution_count": null,
   "id": "4eb05e0e",
   "metadata": {},
   "outputs": [],
   "source": [
    "Map = geemap.Map(center=[40, -100], zoom=4)\n",
    "\n",
    "Map.add_geojson(regions, layer_name='US Regions')\n",
    "\n",
    "Map.add_points_from_xy(\n",
    "    cities,\n",
    "    x='longitude',\n",
    "    y='latitude',\n",
    "    layer_name='US Cities',\n",
    "    color_column='region',\n",
    "    icon_names=['gear', 'map', 'leaf', 'globe'],\n",
    "    spin=True,\n",
    "    add_legend=True,\n",
    ")\n",
    "Map"
   ]
  },
  {
   "cell_type": "markdown",
   "id": "e5b80ac1",
   "metadata": {},
   "source": [
    "### Circle markers from points"
   ]
  },
  {
   "cell_type": "code",
   "execution_count": null,
   "id": "faea6272",
   "metadata": {},
   "outputs": [],
   "source": [
    "data = 'https://github.com/gee-community/geemap/blob/master/examples/data/us_cities.csv'"
   ]
  },
  {
   "cell_type": "code",
   "execution_count": null,
   "id": "86bcefbd",
   "metadata": {},
   "outputs": [],
   "source": [
    "Map = geemap.Map(center=[40, -100], zoom=4)\n",
    "Map.add_circle_markers_from_xy(\n",
    "    data,\n",
    "    x=\"longitude\",\n",
    "    y=\"latitude\",\n",
    "    radius=10,\n",
    "    color=\"blue\",\n",
    "    fill_color=\"black\",\n",
    "    fill_opacity=0.5,\n",
    ")\n",
    "Map"
   ]
  },
  {
   "cell_type": "markdown",
   "id": "60c74d32",
   "metadata": {},
   "source": [
    "## Vector data to Earth Engine"
   ]
  },
  {
   "cell_type": "code",
   "execution_count": null,
   "id": "d0cc4b15",
   "metadata": {},
   "outputs": [],
   "source": [
    "in_geojson = (\n",
    "    'https://github.com/gee-community/geemap/blob/master/examples/data/countries.geojson'\n",
    ")\n",
    "Map = geemap.Map()\n",
    "fc = geemap.geojson_to_ee(in_geojson)\n",
    "Map.addLayer(fc.style(**{'color': 'ff0000', 'fillColor': '00000000'}), {}, 'Countries')\n",
    "Map"
   ]
  },
  {
   "cell_type": "code",
   "execution_count": null,
   "id": "4f13925d",
   "metadata": {},
   "outputs": [],
   "source": [
    "url = \"https://github.com/gee-community/geemap/blob/master/examples/data/countries.zip\"\n",
    "geemap.download_file(url, overwrite=True)"
   ]
  },
  {
   "cell_type": "code",
   "execution_count": null,
   "id": "316d07a9",
   "metadata": {},
   "outputs": [],
   "source": [
    "in_shp = \"countries.shp\"\n",
    "fc = geemap.shp_to_ee(in_shp)"
   ]
  },
  {
   "cell_type": "code",
   "execution_count": null,
   "id": "d3063131",
   "metadata": {},
   "outputs": [],
   "source": [
    "import geopandas as gpd\n",
    "\n",
    "gdf = gpd.read_file(in_shp)\n",
    "fc = geemap.gdf_to_ee(gdf)"
   ]
  },
  {
   "cell_type": "code",
   "execution_count": null,
   "id": "46a4f2d1",
   "metadata": {},
   "outputs": [],
   "source": [
    "fc = geemap.vector_to_ee(url)"
   ]
  },
  {
   "cell_type": "markdown",
   "id": "9838e6b9",
   "metadata": {},
   "source": [
    "## Joining attribute tables"
   ]
  },
  {
   "cell_type": "code",
   "execution_count": null,
   "id": "a7755e39",
   "metadata": {},
   "outputs": [],
   "source": [
    "Map = geemap.Map()\n",
    "countries = ee.FeatureCollection(geemap.examples.get_ee_path('countries'))\n",
    "Map.addLayer(countries, {}, 'Countries')\n",
    "Map"
   ]
  },
  {
   "cell_type": "code",
   "execution_count": null,
   "id": "ba172dee",
   "metadata": {},
   "outputs": [],
   "source": [
    "geemap.ee_to_df(countries)"
   ]
  },
  {
   "cell_type": "code",
   "execution_count": null,
   "id": "08f7514c",
   "metadata": {},
   "outputs": [],
   "source": [
    "data = (\n",
    "    'https://github.com/gee-community/geemap/blob/master/examples/data/country_centroids.csv'\n",
    ")\n",
    "df = geemap.csv_to_df(data)\n",
    "df"
   ]
  },
  {
   "cell_type": "code",
   "execution_count": null,
   "id": "084c5fc9",
   "metadata": {},
   "outputs": [],
   "source": [
    "fc = geemap.ee_join_table(countries, data, src_key='ISO_A2', dst_key='country')"
   ]
  },
  {
   "cell_type": "code",
   "execution_count": null,
   "id": "27d87dcb",
   "metadata": {},
   "outputs": [],
   "source": [
    "geemap.ee_to_df(fc)"
   ]
  },
  {
   "cell_type": "code",
   "execution_count": null,
   "id": "50af8662",
   "metadata": {},
   "outputs": [],
   "source": [
    "Map.addLayer(fc, {}, 'Countries with attr')\n",
    "Map"
   ]
  },
  {
   "cell_type": "markdown",
   "id": "728be464",
   "metadata": {},
   "source": [
    "## Converting NetCDF to ee.Image"
   ]
  },
  {
   "cell_type": "code",
   "execution_count": null,
   "id": "b477e7d6",
   "metadata": {},
   "outputs": [],
   "source": [
    "import os\n",
    "url = 'https://github.com/gee-community/geemap/blob/master/examples/data/wind_global.nc'\n",
    "nc_file = 'wind_global.nc'\n",
    "if not os.path.exists(nc_file):\n",
    "    geemap.download_file(url)"
   ]
  },
  {
   "cell_type": "code",
   "execution_count": null,
   "id": "bf2e849a",
   "metadata": {},
   "outputs": [],
   "source": [
    "Map = geemap.Map()\n",
    "img = geemap.netcdf_to_ee(nc_file=nc_file, var_names='u_wind')\n",
    "vis_params = {'min': -20, 'max': 25, 'palette': 'YlOrRd', 'opacity': 0.6}\n",
    "Map.addLayer(img, vis_params, \"u_wind\")\n",
    "Map"
   ]
  },
  {
   "cell_type": "code",
   "execution_count": null,
   "id": "df06ea85",
   "metadata": {},
   "outputs": [],
   "source": [
    "Map = geemap.Map()\n",
    "img = geemap.netcdf_to_ee(nc_file=nc_file, var_names=['u_wind', 'v_wind'])\n",
    "Map.addLayer(\n",
    "    img,\n",
    "    {'bands': ['v_wind'], 'min': -20, 'max': 25, 'palette': 'coolwarm', 'opacity': 0.8},\n",
    "    \"v_wind\",\n",
    ")\n",
    "Map"
   ]
  },
  {
   "cell_type": "markdown",
   "id": "1e2b3c6a",
   "metadata": {},
   "source": [
    "## OpenStreetMap data\n",
    "\n",
    "### OSM to GeoDataFrame"
   ]
  },
  {
   "cell_type": "code",
   "execution_count": null,
   "id": "603ec70a",
   "metadata": {},
   "outputs": [],
   "source": [
    "gdf = geemap.osm_to_gdf(\"Knoxville, Tennessee\")\n",
    "gdf"
   ]
  },
  {
   "cell_type": "markdown",
   "id": "9c7964b7",
   "metadata": {},
   "source": [
    "### OSM to ee.FeatureCollection"
   ]
  },
  {
   "cell_type": "code",
   "execution_count": null,
   "id": "4405432e",
   "metadata": {},
   "outputs": [],
   "source": [
    "Map = geemap.Map()\n",
    "fc = geemap.osm_to_ee(\"Knoxville, Tennessee\")\n",
    "Map.addLayer(fc, {}, \"Knoxville\")\n",
    "Map.centerObject(fc, 11)\n",
    "Map"
   ]
  },
  {
   "cell_type": "markdown",
   "id": "325c7f94",
   "metadata": {},
   "source": [
    "### Downloading OSM data"
   ]
  },
  {
   "cell_type": "code",
   "execution_count": null,
   "id": "d4198d3e",
   "metadata": {},
   "outputs": [],
   "source": [
    "import geemap.osm as osm"
   ]
  },
  {
   "cell_type": "code",
   "execution_count": null,
   "id": "653a2e67",
   "metadata": {},
   "outputs": [],
   "source": [
    "Map = geemap.Map(add_google_map=False)\n",
    "gdf = osm.osm_gdf_from_geocode(\"New York City\")\n",
    "Map.add_gdf(gdf, layer_name=\"NYC\")\n",
    "Map"
   ]
  },
  {
   "cell_type": "code",
   "execution_count": null,
   "id": "615b3bea",
   "metadata": {},
   "outputs": [],
   "source": [
    "place = \"University of Tennessee, Knoxville, TN\"\n",
    "tags = {\"building\": True}\n",
    "gdf = osm.osm_gdf_from_place(place, tags)\n",
    "gdf = gdf[gdf.geometry.type == \"Polygon\"]\n",
    "gdf"
   ]
  },
  {
   "cell_type": "code",
   "execution_count": null,
   "id": "3fa4ed91",
   "metadata": {},
   "outputs": [],
   "source": [
    "Map = geemap.Map(add_google_map=False)\n",
    "Map.add_gdf(gdf, layer_name=\"Buildings\")\n",
    "Map"
   ]
  },
  {
   "cell_type": "code",
   "execution_count": null,
   "id": "47612cf1",
   "metadata": {},
   "outputs": [],
   "source": [
    "gdf = osm.osm_gdf_from_address(\n",
    "    address=\"New York City\", tags={\"amenity\": \"bar\"}, dist=1500\n",
    ")\n",
    "gdf"
   ]
  },
  {
   "cell_type": "code",
   "execution_count": null,
   "id": "29606cfb",
   "metadata": {},
   "outputs": [],
   "source": [
    "Map = geemap.Map(add_google_map=False)\n",
    "Map.add_gdf(gdf, layer_name=\"NYC bars\")\n",
    "Map"
   ]
  },
  {
   "cell_type": "code",
   "execution_count": null,
   "id": "70201e1f",
   "metadata": {},
   "outputs": [],
   "source": [
    "gdf = osm.osm_gdf_from_point(\n",
    "    center_point=(46.7808, -96.0156),\n",
    "    tags={\"natural\": \"water\"},\n",
    "    dist=10000,\n",
    ")\n",
    "gdf"
   ]
  },
  {
   "cell_type": "code",
   "execution_count": null,
   "id": "7c87ba00",
   "metadata": {},
   "outputs": [],
   "source": [
    "Map = geemap.Map(add_google_map=False)\n",
    "Map.add_gdf(gdf, layer_name=\"Lakes\")\n",
    "Map"
   ]
  },
  {
   "cell_type": "code",
   "execution_count": null,
   "id": "85e3c73d",
   "metadata": {},
   "outputs": [],
   "source": [
    "Map = geemap.Map(center=[40.7500, -73.9854], zoom=16, add_google_map=False)\n",
    "Map"
   ]
  },
  {
   "cell_type": "code",
   "execution_count": null,
   "id": "22bce7ea",
   "metadata": {},
   "outputs": [],
   "source": [
    "Map.add_osm_from_view(tags={\"amenity\": \"bar\", \"building\": True})"
   ]
  },
  {
   "cell_type": "markdown",
   "id": "ca784d3e",
   "metadata": {},
   "source": [
    "## Reading PostGIS data\n",
    "\n",
    "```bash\n",
    "mamba install sqlalchemy psycopg2 -c conda-forge\n",
    "```"
   ]
  },
  {
   "cell_type": "code",
   "execution_count": null,
   "id": "2c3e577e",
   "metadata": {},
   "outputs": [],
   "source": [
    "con = geemap.connect_postgis(\n",
    "    database=\"nyc\", host=\"localhost\", user=None, password=None, use_env_var=True\n",
    ")"
   ]
  },
  {
   "cell_type": "code",
   "execution_count": null,
   "id": "123d17f1",
   "metadata": {},
   "outputs": [],
   "source": [
    "sql = 'SELECT * FROM nyc_neighborhoods'\n",
    "gdf = geemap.read_postgis(sql, con)\n",
    "gdf"
   ]
  },
  {
   "cell_type": "code",
   "execution_count": null,
   "id": "f9ed76fe",
   "metadata": {},
   "outputs": [],
   "source": [
    "Map = geemap.Map()\n",
    "Map = geemap.gdf_to_ee(gdf)\n",
    "Map.addLayer(fc, {}, \"NYC EE\")\n",
    "Map.centerObject(fc)\n",
    "Map"
   ]
  },
  {
   "cell_type": "code",
   "execution_count": null,
   "id": "dcea8607",
   "metadata": {},
   "outputs": [],
   "source": [
    "Map = geemap.Map()\n",
    "Map.add_gdf_from_postgis(\n",
    "    sql, con, layer_name=\"NYC Neighborhoods\", fill_colors=[\"red\", \"green\", \"blue\"]\n",
    ")\n",
    "Map"
   ]
  },
  {
   "cell_type": "markdown",
   "id": "ef9fb4fa",
   "metadata": {},
   "source": [
    "## Summary"
   ]
  }
 ],
 "metadata": {
  "jupytext": {
   "text_representation": {
    "extension": ".md",
    "format_name": "myst",
    "format_version": 0.13,
    "jupytext_version": "1.11.5"
   }
  },
  "kernelspec": {
   "display_name": "Python 3",
   "language": "python",
   "name": "python3"
  },
  "source_map": [
   12,
   36,
   40,
   45,
   47,
   53,
   59,
   67,
   72,
   74,
   78,
   84,
   88,
   96,
   100,
   104,
   108,
   112,
   116,
   122,
   126,
   130,
   135,
   139,
   144,
   148,
   155,
   159,
   166,
   170,
   174,
   178,
   182,
   186,
   191,
   195,
   201,
   207,
   213,
   217,
   227,
   232,
   236,
   240,
   244,
   248,
   252,
   256,
   261,
   267,
   276,
   284,
   293,
   309,
   326,
   330,
   335,
   340,
   344,
   348,
   352,
   356,
   360,
   365,
   369,
   374,
   380,
   385,
   391,
   395,
   399,
   401,
   405,
   412,
   418,
   434,
   438,
   442,
   454,
   458,
   468,
   473,
   478,
   485,
   487,
   491,
   498,
   502,
   510,
   514,
   518,
   521,
   525,
   533,
   541,
   550,
   556,
   559,
   563,
   569,
   573,
   577,
   584,
   592,
   598,
   605,
   611,
   620,
   626,
   631,
   633,
   641,
   647,
   653,
   661,
   667
  ]
 },
 "nbformat": 4,
 "nbformat_minor": 5
}