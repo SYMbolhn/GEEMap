{
 "cells": [
  {
   "cell_type": "markdown",
   "id": "537837b8",
   "metadata": {},
   "source": [
    "# Visualizing Geospatial Data\n",
    "\n",
    "```{contents}\n",
    ":local:\n",
    ":depth: 2\n",
    "```\n",
    "\n",
    "## Introduction"
   ]
  },
  {
   "cell_type": "markdown",
   "id": "2994f499",
   "metadata": {},
   "source": [
    "## Technical requirements\n",
    "\n",
    "```bash\n",
    "conda create -n gee python\n",
    "conda activate gee\n",
    "conda install -c conda-forge mamba\n",
    "mamba install -c conda-forge pygis\n",
    "```\n",
    "\n",
    "```bash\n",
    "jupyter lab\n",
    "```\n",
    "\n",
    "[![Open in Colab](https://colab.research.google.com/assets/colab-badge.svg)](https://colab.research.google.com/github/giswqs/geebook/blob/master/chapters/05_data_viz.ipynb)\n",
    "\n",
    "```bash\n",
    "!pip install pygis\n",
    "```"
   ]
  },
  {
   "cell_type": "code",
   "execution_count": null,
   "id": "6e390639",
   "metadata": {},
   "outputs": [],
   "source": [
    "import ee\n",
    "import geemap"
   ]
  },
  {
   "cell_type": "code",
   "execution_count": null,
   "id": "7f1d3c13",
   "metadata": {},
   "outputs": [],
   "source": [
    "geemap.ee_initialize()"
   ]
  },
  {
   "cell_type": "markdown",
   "id": "0cfc6243",
   "metadata": {},
   "source": [
    "## Using the plotting tool"
   ]
  },
  {
   "cell_type": "code",
   "execution_count": null,
   "id": "aba77395",
   "metadata": {},
   "outputs": [],
   "source": [
    "Map = geemap.Map(center=[40, -100], zoom=4)\n",
    "\n",
    "landsat7 = ee.Image('LANDSAT/LE7_TOA_5YEAR/1999_2003').select(\n",
    "    ['B1', 'B2', 'B3', 'B4', 'B5', 'B7']\n",
    ")\n",
    "\n",
    "landsat_vis = {'bands': ['B4', 'B3', 'B2'], 'gamma': 1.4}\n",
    "Map.addLayer(landsat7, landsat_vis, \"Landsat\")\n",
    "\n",
    "hyperion = ee.ImageCollection('EO1/HYPERION').filter(\n",
    "    ee.Filter.date('2016-01-01', '2017-03-01')\n",
    ")\n",
    "\n",
    "hyperion_vis = {\n",
    "    'min': 1000.0,\n",
    "    'max': 14000.0,\n",
    "    'gamma': 2.5,\n",
    "}\n",
    "Map.addLayer(hyperion, hyperion_vis, 'Hyperion')\n",
    "Map"
   ]
  },
  {
   "cell_type": "code",
   "execution_count": null,
   "id": "4c184f83",
   "metadata": {},
   "outputs": [],
   "source": [
    "Map.set_plot_options(add_marker_cluster=True, overlay=True)"
   ]
  },
  {
   "cell_type": "markdown",
   "id": "ed900929",
   "metadata": {},
   "source": [
    "## Changing layer opacity"
   ]
  },
  {
   "cell_type": "code",
   "execution_count": null,
   "id": "c78a21ed",
   "metadata": {},
   "outputs": [],
   "source": [
    "Map = geemap.Map(center=(40, -100), zoom=4)\n",
    "\n",
    "dem = ee.Image('USGS/SRTMGL1_003')\n",
    "states = ee.FeatureCollection(\"TIGER/2018/States\")\n",
    "\n",
    "vis_params = {\n",
    "    'min': 0,\n",
    "    'max': 4000,\n",
    "    'palette': ['006633', 'E5FFCC', '662A00', 'D8D8D8', 'F5F5F5'],\n",
    "}\n",
    "\n",
    "Map.addLayer(dem, vis_params, 'SRTM DEM', True, 1)\n",
    "Map.addLayer(states, {}, \"US States\", True)\n",
    "\n",
    "Map"
   ]
  },
  {
   "cell_type": "markdown",
   "id": "5cd4e521",
   "metadata": {},
   "source": [
    "## Visualizing raster data\n",
    "\n",
    "### Single-band images"
   ]
  },
  {
   "cell_type": "code",
   "execution_count": null,
   "id": "295c660c",
   "metadata": {},
   "outputs": [],
   "source": [
    "Map = geemap.Map(center=[12, 69], zoom=3)\n",
    "dem = ee.Image('USGS/SRTMGL1_003')\n",
    "vis_params = {\n",
    "    'min': 0,\n",
    "    'max': 4000,\n",
    "    'palette': ['006633', 'E5FFCC', '662A00', 'D8D8D8', 'F5F5F5'],\n",
    "}\n",
    "Map.addLayer(dem, vis_params, 'SRTM DEM')\n",
    "Map"
   ]
  },
  {
   "cell_type": "code",
   "execution_count": null,
   "id": "06e75e47",
   "metadata": {},
   "outputs": [],
   "source": [
    "vis_params = {\n",
    "    'bands': ['elevation'],\n",
    "    'palette': ['333399', ' 00b2b2', ' 99eb85', ' ccbe7d', ' 997c76', ' ffffff'],\n",
    "    'min': 0.0,\n",
    "    'max': 6000.0,\n",
    "    'opacity': 1.0,\n",
    "    'gamma': 1.0\n",
    "}"
   ]
  },
  {
   "cell_type": "markdown",
   "id": "d421ce4d",
   "metadata": {},
   "source": [
    "### Multi-band images"
   ]
  },
  {
   "cell_type": "code",
   "execution_count": null,
   "id": "e56e7bf6",
   "metadata": {},
   "outputs": [],
   "source": [
    "Map = geemap.Map()\n",
    "landsat7 = ee.Image('LANDSAT/LE7_TOA_5YEAR/1999_2003')\n",
    "vis_params = {\n",
    "    'min': 20,\n",
    "    'max': 200,\n",
    "    'gamma': 2,\n",
    "    'bands': ['B4', 'B3', 'B2'],\n",
    "}\n",
    "Map.addLayer(landsat7, vis_params, 'Landsat 7')\n",
    "Map"
   ]
  },
  {
   "cell_type": "markdown",
   "id": "eb57e544",
   "metadata": {},
   "source": [
    "## Visualizing vector data"
   ]
  },
  {
   "cell_type": "code",
   "execution_count": null,
   "id": "f3c99390",
   "metadata": {},
   "outputs": [],
   "source": [
    "Map = geemap.Map()\n",
    "states = ee.FeatureCollection(\"TIGER/2018/States\")\n",
    "Map.addLayer(states, {}, \"US States\")\n",
    "Map"
   ]
  },
  {
   "cell_type": "code",
   "execution_count": null,
   "id": "8b786c41",
   "metadata": {},
   "outputs": [],
   "source": [
    "vis_params = {'color': 'ff0000ff', 'width': 2, 'lineType': 'solid', 'fillColor': '00000000'}"
   ]
  },
  {
   "cell_type": "code",
   "execution_count": null,
   "id": "6203ee32",
   "metadata": {},
   "outputs": [],
   "source": [
    "Map = geemap.Map(center=[40, -100], zoom=4)\n",
    "states = ee.FeatureCollection(\"TIGER/2018/States\")\n",
    "Map.addLayer(states.style(**vis_params), {}, \"US States\")\n",
    "Map"
   ]
  },
  {
   "cell_type": "markdown",
   "id": "2e8ba374",
   "metadata": {},
   "source": [
    "## Creating legends\n",
    "\n",
    "### Built-in legends"
   ]
  },
  {
   "cell_type": "code",
   "execution_count": null,
   "id": "cf528118",
   "metadata": {},
   "outputs": [],
   "source": [
    "legends = geemap.builtin_legends\n",
    "for legend in legends:\n",
    "    print(legend)"
   ]
  },
  {
   "cell_type": "code",
   "execution_count": null,
   "id": "61bfb477",
   "metadata": {},
   "outputs": [],
   "source": [
    "Map.add_legend(builtin_legend='NLCD')"
   ]
  },
  {
   "cell_type": "code",
   "execution_count": null,
   "id": "e9488d7e",
   "metadata": {},
   "outputs": [],
   "source": [
    "Map = geemap.Map(center=[40, -100], zoom=4)\n",
    "Map.add_basemap('HYBRID')\n",
    "\n",
    "nlcd = ee.Image('USGS/NLCD_RELEASES/2019_REL/NLCD/2019')\n",
    "landcover = nlcd.select('landcover')\n",
    "\n",
    "Map.addLayer(landcover, {}, 'NLCD Land Cover 2019')\n",
    "Map.add_legend(title=\"NLCD Land Cover Classification\", builtin_legend='NLCD', height='465px')\n",
    "Map"
   ]
  },
  {
   "cell_type": "markdown",
   "id": "de4dd197",
   "metadata": {},
   "source": [
    "### Custom legends"
   ]
  },
  {
   "cell_type": "code",
   "execution_count": null,
   "id": "0e86ed41",
   "metadata": {},
   "outputs": [],
   "source": [
    "Map = geemap.Map(add_google_map=False)\n",
    "\n",
    "legend_keys = ['One', 'Two', 'Three', 'Four', 'ect']\n",
    "\n",
    "# colors can be defined using either hex code or RGB (0-255, 0-255, 0-255)\n",
    "legend_colors = ['#8DD3C7', '#FFFFB3', '#BEBADA', '#FB8072', '#80B1D3']\n",
    "# legend_colors = [(255, 0, 0), (127, 255, 0), (127, 18, 25), (36, 70, 180), (96, 68 123)]\n",
    "\n",
    "Map.add_legend(legend_keys=legend_keys, legend_colors=legend_colors, position='bottomright')\n",
    "Map"
   ]
  },
  {
   "cell_type": "code",
   "execution_count": null,
   "id": "9f1217d6",
   "metadata": {},
   "outputs": [],
   "source": [
    "Map = geemap.Map(center=[40, -100], zoom=4)\n",
    "\n",
    "legend_dict = {\n",
    "    '11 Open Water': '466b9f',\n",
    "    '12 Perennial Ice/Snow': 'd1def8',\n",
    "    '21 Developed, Open Space': 'dec5c5',\n",
    "    '22 Developed, Low Intensity': 'd99282',\n",
    "    '23 Developed, Medium Intensity': 'eb0000',\n",
    "    '24 Developed High Intensity': 'ab0000',\n",
    "    '31 Barren Land (Rock/Sand/Clay)': 'b3ac9f',\n",
    "    '41 Deciduous Forest': '68ab5f',\n",
    "    '42 Evergreen Forest': '1c5f2c',\n",
    "    '43 Mixed Forest': 'b5c58f',\n",
    "    '51 Dwarf Scrub': 'af963c',\n",
    "    '52 Shrub/Scrub': 'ccb879',\n",
    "    '71 Grassland/Herbaceous': 'dfdfc2',\n",
    "    '72 Sedge/Herbaceous': 'd1d182',\n",
    "    '73 Lichens': 'a3cc51',\n",
    "    '74 Moss': '82ba9e',\n",
    "    '81 Pasture/Hay': 'dcd939',\n",
    "    '82 Cultivated Crops': 'ab6c28',\n",
    "    '90 Woody Wetlands': 'b8d9eb',\n",
    "    '95 Emergent Herbaceous Wetlands': '6c9fb8',\n",
    "}\n",
    "\n",
    "nlcd = ee.Image('USGS/NLCD_RELEASES/2019_REL/NLCD/2019')\n",
    "landcover = nlcd.select('landcover')\n",
    "\n",
    "Map.addLayer(landcover, {}, 'NLCD Land Cover 2019')\n",
    "Map.add_legend(legend=\"NLCD Land Cover Classification\", legend_dict=legend_dict)\n",
    "Map"
   ]
  },
  {
   "cell_type": "markdown",
   "id": "e58b6f14",
   "metadata": {},
   "source": [
    "### Earth Engine class table"
   ]
  },
  {
   "cell_type": "code",
   "execution_count": null,
   "id": "27e61bae",
   "metadata": {},
   "outputs": [],
   "source": [
    "Map = geemap.Map()\n",
    "\n",
    "dataset = ee.ImageCollection(\"ESA/WorldCover/v100\").first()\n",
    "Map.addLayer(dataset, {'bands': ['Map']}, \"Landcover\")\n",
    "\n",
    "ee_class_table = \"\"\"\n",
    "Value\tColor\tDescription\n",
    "10\t006400\tTrees\n",
    "20\tffbb22\tShrubland\n",
    "30\tffff4c\tGrassland\n",
    "40\tf096ff\tCropland\n",
    "50\tfa0000\tBuilt-up\n",
    "60\tb4b4b4\tBarren / sparse vegetation\n",
    "70\tf0f0f0\tSnow and ice\n",
    "80\t0064c8\tOpen water\n",
    "90\t0096a0\tHerbaceous wetland\n",
    "95\t00cf75\tMangroves\n",
    "100\tfae6a0\tMoss and lichen\n",
    "\"\"\"\n",
    "\n",
    "legend_dict = geemap.legend_from_ee(ee_class_table)\n",
    "Map.add_legend(title=\"ESA Land Cover\", legend_dict=legend_dict)\n",
    "\n",
    "Map"
   ]
  },
  {
   "cell_type": "markdown",
   "id": "7a507116",
   "metadata": {},
   "source": [
    "## Creating color bars"
   ]
  },
  {
   "cell_type": "code",
   "execution_count": null,
   "id": "9b8b3a14",
   "metadata": {},
   "outputs": [],
   "source": [
    "Map = geemap.Map()\n",
    "\n",
    "dem = ee.Image('USGS/SRTMGL1_003')\n",
    "vis_params = {\n",
    "    'min': 0,\n",
    "    'max': 4000,\n",
    "    'palette': ['006633', 'E5FFCC', '662A00', 'D8D8D8', 'F5F5F5'],\n",
    "}\n",
    "\n",
    "Map.addLayer(dem, vis_params, 'SRTM DEM')\n",
    "Map"
   ]
  },
  {
   "cell_type": "code",
   "execution_count": null,
   "id": "845d997b",
   "metadata": {},
   "outputs": [],
   "source": [
    "Map.add_colorbar(vis_params, label=\"Elevation (m)\", layer_name=\"SRTM DEM\")"
   ]
  },
  {
   "cell_type": "code",
   "execution_count": null,
   "id": "1092af1d",
   "metadata": {},
   "outputs": [],
   "source": [
    "Map.add_colorbar(\n",
    "    vis_params, label=\"Elevation (m)\", layer_name=\"SRTM DEM\", orientation=\"vertical\"\n",
    ")"
   ]
  },
  {
   "cell_type": "code",
   "execution_count": null,
   "id": "625c8fac",
   "metadata": {},
   "outputs": [],
   "source": [
    "Map.add_colorbar(\n",
    "    vis_params,\n",
    "    label=\"Elevation (m)\",\n",
    "    layer_name=\"SRTM DEM\",\n",
    "    orientation=\"vertical\",\n",
    "    transparent_bg=True,\n",
    ")"
   ]
  },
  {
   "cell_type": "markdown",
   "id": "87855d39",
   "metadata": {},
   "source": [
    "## Displaying labels"
   ]
  },
  {
   "cell_type": "code",
   "execution_count": null,
   "id": "8545a3d2",
   "metadata": {},
   "outputs": [],
   "source": [
    "Map = geemap.Map(center=[40, -100], zoom=4, add_google_map=False)\n",
    "states = ee.FeatureCollection(\"TIGER/2018/States\")\n",
    "style = {'color': 'black', 'fillColor': \"00000000\"}\n",
    "Map.addLayer(states.style(**style), {}, \"US States\")\n",
    "Map"
   ]
  },
  {
   "cell_type": "code",
   "execution_count": null,
   "id": "ecbcb286",
   "metadata": {},
   "outputs": [],
   "source": [
    "Map.add_labels(\n",
    "    data=states,\n",
    "    column=\"STUSPS\",\n",
    "    font_size=\"12pt\",\n",
    "    font_color=\"blue\",\n",
    "    font_family=\"arial\",\n",
    "    font_weight=\"bold\",\n",
    "    draggable=True,\n",
    ")"
   ]
  },
  {
   "cell_type": "code",
   "execution_count": null,
   "id": "144c8f41",
   "metadata": {},
   "outputs": [],
   "source": [
    "Map.remove_labels()"
   ]
  },
  {
   "cell_type": "code",
   "execution_count": null,
   "id": "b7a498eb",
   "metadata": {},
   "outputs": [],
   "source": [
    "centroids = geemap.vector_centroids(states)\n",
    "df = geemap.ee_to_df(centroids)\n",
    "df"
   ]
  },
  {
   "cell_type": "code",
   "execution_count": null,
   "id": "1aad473f",
   "metadata": {},
   "outputs": [],
   "source": [
    "Map.add_labels(\n",
    "    data=df,\n",
    "    column=\"STUSPS\",\n",
    "    font_size=\"12pt\",\n",
    "    font_color=\"blue\",\n",
    "    font_family=\"arial\",\n",
    "    font_weight=\"bold\",\n",
    "    x='longitude',\n",
    "    y='latitude',\n",
    ")\n",
    "Map"
   ]
  },
  {
   "cell_type": "markdown",
   "id": "08a18203",
   "metadata": {},
   "source": [
    "## Image overlay"
   ]
  },
  {
   "cell_type": "code",
   "execution_count": null,
   "id": "282f5415",
   "metadata": {},
   "outputs": [],
   "source": [
    "Map = geemap.Map(center=(25, -115), zoom=5)\n",
    "url = 'https://i.imgur.com/06Q1fSz.jpg'\n",
    "image = geemap.ImageOverlay(url=url, bounds=((13, -130), (32, -100)))\n",
    "Map.add_layer(image)\n",
    "Map"
   ]
  },
  {
   "cell_type": "code",
   "execution_count": null,
   "id": "a3b6b21f",
   "metadata": {},
   "outputs": [],
   "source": [
    "image.url = 'https://i.imgur.com/U0axit9.jpg'"
   ]
  },
  {
   "cell_type": "code",
   "execution_count": null,
   "id": "c6cb5fd5",
   "metadata": {},
   "outputs": [],
   "source": [
    "url = 'https://i.imgur.com/06Q1fSz.jpg'\n",
    "filename = 'hurricane.jpg'\n",
    "geemap.download_file(url, filename)"
   ]
  },
  {
   "cell_type": "code",
   "execution_count": null,
   "id": "7d311179",
   "metadata": {},
   "outputs": [],
   "source": [
    "Map = geemap.Map(center=(25, -115), zoom=5)\n",
    "image = geemap.ImageOverlay(url=filename, bounds=((13, -130), (32, -100)))\n",
    "Map.add_layer(image)\n",
    "Map"
   ]
  },
  {
   "cell_type": "markdown",
   "id": "3535328b",
   "metadata": {},
   "source": [
    "## Video overlay"
   ]
  },
  {
   "cell_type": "code",
   "execution_count": null,
   "id": "34da9570",
   "metadata": {},
   "outputs": [],
   "source": [
    "Map = geemap.Map(center=(25, -115), zoom=5)\n",
    "url = 'https://labs.mapbox.com/bites/00188/patricia_nasa.webm'\n",
    "bounds=((13, -130), (32, -100))\n",
    "Map.video_overlay(url, bounds)\n",
    "Map"
   ]
  },
  {
   "cell_type": "markdown",
   "id": "9fd1db42",
   "metadata": {},
   "source": [
    "## Split-panel maps"
   ]
  },
  {
   "cell_type": "code",
   "execution_count": null,
   "id": "85eecc07",
   "metadata": {},
   "outputs": [],
   "source": [
    "Map = geemap.Map()\n",
    "Map.split_map(left_layer='HYBRID', right_layer='TERRAIN')\n",
    "Map"
   ]
  },
  {
   "cell_type": "code",
   "execution_count": null,
   "id": "539106f8",
   "metadata": {},
   "outputs": [],
   "source": [
    "list(geemap.basemaps.keys())"
   ]
  },
  {
   "cell_type": "code",
   "execution_count": null,
   "id": "f29c1faa",
   "metadata": {},
   "outputs": [],
   "source": [
    "Map = geemap.Map(center=(40, -100), zoom=4, height=600)\n",
    "\n",
    "nlcd_2001 = ee.Image('USGS/NLCD_RELEASES/2019_REL/NLCD/2001').select('landcover')\n",
    "nlcd_2019 = ee.Image('USGS/NLCD_RELEASES/2019_REL/NLCD/2019').select('landcover')\n",
    "\n",
    "left_layer = geemap.ee_tile_layer(nlcd_2001, {}, 'NLCD 2001')\n",
    "right_layer = geemap.ee_tile_layer(nlcd_2019, {}, 'NLCD 2019')\n",
    "\n",
    "Map.split_map(left_layer, right_layer)\n",
    "Map"
   ]
  },
  {
   "cell_type": "markdown",
   "id": "db8316d8",
   "metadata": {},
   "source": [
    "## Linked maps"
   ]
  },
  {
   "cell_type": "code",
   "execution_count": null,
   "id": "d720f8c3",
   "metadata": {},
   "outputs": [],
   "source": [
    "image = (\n",
    "    ee.ImageCollection('COPERNICUS/S2')\n",
    "    .filterDate('2018-09-01', '2018-09-30')\n",
    "    .map(lambda img: img.divide(10000))\n",
    "    .median()\n",
    ")\n",
    "\n",
    "vis_params = [\n",
    "    {'bands': ['B4', 'B3', 'B2'], 'min': 0, 'max': 0.3, 'gamma': 1.3},\n",
    "    {'bands': ['B8', 'B11', 'B4'], 'min': 0, 'max': 0.3, 'gamma': 1.3},\n",
    "    {'bands': ['B8', 'B4', 'B3'], 'min': 0, 'max': 0.3, 'gamma': 1.3},\n",
    "    {'bands': ['B12', 'B12', 'B4'], 'min': 0, 'max': 0.3, 'gamma': 1.3},\n",
    "]\n",
    "\n",
    "labels = [\n",
    "    'Natural Color (B4/B3/B2)',\n",
    "    'Land/Water (B8/B11/B4)',\n",
    "    'Color Infrared (B8/B4/B3)',\n",
    "    'Vegetation (B12/B11/B4)',\n",
    "]\n",
    "\n",
    "geemap.linked_maps(\n",
    "    rows=2,\n",
    "    cols=2,\n",
    "    height=\"300px\",\n",
    "    center=[38.4151, 21.2712],\n",
    "    zoom=12,\n",
    "    ee_objects=[image],\n",
    "    vis_params=vis_params,\n",
    "    labels=labels,\n",
    "    label_position=\"topright\",\n",
    ")"
   ]
  },
  {
   "cell_type": "markdown",
   "id": "60cfa563",
   "metadata": {},
   "source": [
    "## Timeseries inspector\n",
    "\n",
    "### Visualizing image collections"
   ]
  },
  {
   "cell_type": "code",
   "execution_count": null,
   "id": "f5013abb",
   "metadata": {},
   "outputs": [],
   "source": [
    "Map = geemap.Map(center=[40, -100], zoom=4)\n",
    "collection = ee.ImageCollection('USGS/NLCD_RELEASES/2019_REL/NLCD').select('landcover')\n",
    "vis_params = {'bands': ['landcover']}\n",
    "years = collection.aggregate_array('system:index').getInfo()\n",
    "years"
   ]
  },
  {
   "cell_type": "code",
   "execution_count": null,
   "id": "b9ae9256",
   "metadata": {},
   "outputs": [],
   "source": [
    "Map.ts_inspector(\n",
    "    left_ts=collection,\n",
    "    right_ts=collection,\n",
    "    left_names=years,\n",
    "    right_names=years,\n",
    "    left_vis=vis_params,\n",
    "    right_vis=vis_params,\n",
    "    width='80px',\n",
    ")\n",
    "Map"
   ]
  },
  {
   "cell_type": "markdown",
   "id": "f77eb90e",
   "metadata": {},
   "source": [
    "### Visualizing planet imagery"
   ]
  },
  {
   "cell_type": "code",
   "execution_count": null,
   "id": "ef4c9c3d",
   "metadata": {},
   "outputs": [],
   "source": [
    "# os.environ[\"PLANET_API_KEY\"] = \"12345\""
   ]
  },
  {
   "cell_type": "code",
   "execution_count": null,
   "id": "c8b29013",
   "metadata": {},
   "outputs": [],
   "source": [
    "monthly_tiles = geemap.planet_monthly_tiles()\n",
    "geemap.ts_inspector(monthly_tiles)"
   ]
  },
  {
   "cell_type": "code",
   "execution_count": null,
   "id": "aa019223",
   "metadata": {},
   "outputs": [],
   "source": [
    "quarterly_tiles = geemap.planet_quarterly_tiles()\n",
    "geemap.ts_inspector(quarterly_tiles)"
   ]
  },
  {
   "cell_type": "code",
   "execution_count": null,
   "id": "25bca243",
   "metadata": {},
   "outputs": [],
   "source": [
    "tiles = geemap.planet_tiles()\n",
    "geemap.ts_inspector(tiles)"
   ]
  },
  {
   "cell_type": "code",
   "execution_count": null,
   "id": "3d2901f7",
   "metadata": {},
   "outputs": [],
   "source": [
    "Map = geemap.Map()\n",
    "Map"
   ]
  },
  {
   "cell_type": "markdown",
   "id": "1c28d057",
   "metadata": {},
   "source": [
    "## Time slider\n",
    "\n",
    "### Visualizing vegetation data"
   ]
  },
  {
   "cell_type": "code",
   "execution_count": null,
   "id": "46c64761",
   "metadata": {},
   "outputs": [],
   "source": [
    "Map = geemap.Map()\n",
    "\n",
    "collection = (\n",
    "    ee.ImageCollection('MODIS/MCD43A4_006_NDVI')\n",
    "    .filter(ee.Filter.date('2018-06-01', '2018-07-01'))\n",
    "    .select(\"NDVI\")\n",
    ")\n",
    "vis_params = {\n",
    "    'min': 0.0,\n",
    "    'max': 1.0,\n",
    "    'palette': [\n",
    "        'FFFFFF',\n",
    "        'CE7E45',\n",
    "        'DF923D',\n",
    "        'F1B555',\n",
    "        'FCD163',\n",
    "        '99B718',\n",
    "        '74A901',\n",
    "        '66A000',\n",
    "        '529400',\n",
    "        '3E8601',\n",
    "        '207401',\n",
    "        '056201',\n",
    "        '004C00',\n",
    "        '023B01',\n",
    "        '012E01',\n",
    "        '011D01',\n",
    "        '011301',\n",
    "    ],\n",
    "}\n",
    "\n",
    "Map.add_time_slider(collection, vis_params, time_interval=2)\n",
    "Map"
   ]
  },
  {
   "cell_type": "markdown",
   "id": "5806d0dd",
   "metadata": {},
   "source": [
    "### Visualizing weather data"
   ]
  },
  {
   "cell_type": "code",
   "execution_count": null,
   "id": "067bedf3",
   "metadata": {},
   "outputs": [],
   "source": [
    "Map = geemap.Map()\n",
    "\n",
    "collection = (\n",
    "    ee.ImageCollection('NOAA/GFS0P25')\n",
    "    .filterDate('2018-12-22', '2018-12-23')\n",
    "    .limit(24)\n",
    "    .select('temperature_2m_above_ground')\n",
    ")\n",
    "\n",
    "vis_params = {\n",
    "    'min': -40.0,\n",
    "    'max': 35.0,\n",
    "    'palette': ['blue', 'purple', 'cyan', 'green', 'yellow', 'red'],\n",
    "}\n",
    "\n",
    "labels = [str(n).zfill(2) + \":00\" for n in range(0, 24)]\n",
    "Map.add_time_slider(collection, vis_params, labels=labels, time_interval=1, opacity=0.8)\n",
    "Map"
   ]
  },
  {
   "cell_type": "markdown",
   "id": "ed4b6aee",
   "metadata": {},
   "source": [
    "### Visualizing Sentinel-2 imagery"
   ]
  },
  {
   "cell_type": "code",
   "execution_count": null,
   "id": "48701b76",
   "metadata": {},
   "outputs": [],
   "source": [
    "Map = geemap.Map(center=[37.75, -122.45], zoom=12)\n",
    "\n",
    "collection = (\n",
    "    ee.ImageCollection('COPERNICUS/S2_SR')\n",
    "    .filterBounds(ee.Geometry.Point([-122.45, 37.75]))\n",
    "    .filterMetadata('CLOUDY_PIXEL_PERCENTAGE', 'less_than', 10)\n",
    ")\n",
    "\n",
    "vis_params = {\"min\": 0, \"max\": 4000, \"bands\": [\"B8\", \"B4\", \"B3\"]}\n",
    "\n",
    "Map.add_time_slider(collection, vis_params)\n",
    "Map"
   ]
  },
  {
   "cell_type": "markdown",
   "id": "22ce97f5",
   "metadata": {},
   "source": [
    "## Shaded relief maps"
   ]
  },
  {
   "cell_type": "code",
   "execution_count": null,
   "id": "1c0f472c",
   "metadata": {},
   "outputs": [],
   "source": [
    "import geemap.colormaps as cm\n",
    "\n",
    "Map = geemap.Map()\n",
    "\n",
    "dem = ee.Image(\"USGS/SRTMGL1_003\")\n",
    "hillsahde = ee.Terrain.hillshade(dem)\n",
    "\n",
    "vis = {'min': 0, 'max': 6000, 'palette': cm.palettes.terrain}\n",
    "blend = geemap.blend(top_layer=dem, top_vis=vis)\n",
    "\n",
    "Map.addLayer(hillsahde, {}, 'Hillshade')\n",
    "Map.addLayer(blend, {}, 'Shaded relief')\n",
    "\n",
    "Map.add_colorbar(vis, label='Elevation (m)')\n",
    "Map.setCenter(91.4206, 27.3225, zoom=9)\n",
    "Map"
   ]
  },
  {
   "cell_type": "code",
   "execution_count": null,
   "id": "0a093c40",
   "metadata": {},
   "outputs": [],
   "source": [
    "left_layer = geemap.ee_tile_layer(blend, {}, \"Shaded relief\")\n",
    "right_layer = geemap.ee_tile_layer(hillshade, {}, \"Hillshade\")\n",
    "Map.split_map(left_layer, right_layer)"
   ]
  },
  {
   "cell_type": "code",
   "execution_count": null,
   "id": "28859f82",
   "metadata": {},
   "outputs": [],
   "source": [
    "nlcd = ee.Image(\"USGS/NLCD_RELEASES/2019_REL/NLCD/2019\").select('landcover')\n",
    "nlcd_vis = {'bands': ['landcover']}\n",
    "blend = geemap.blend(nlcd, dem, top_vis=nlcd_vis, expression='a*b')\n",
    "Map.addLayer(blend, {}, 'Blend NLCD')\n",
    "Map.add_legend(builtin_legend='NLCD', title='NLCD Land Cover')\n",
    "Map.setCenter(-118.1310, 35.6816, 10)"
   ]
  },
  {
   "cell_type": "markdown",
   "id": "ec72965a",
   "metadata": {},
   "source": [
    "## Elevation contours"
   ]
  },
  {
   "cell_type": "code",
   "execution_count": null,
   "id": "81581f85",
   "metadata": {},
   "outputs": [],
   "source": [
    "import geemap.colormaps as cm"
   ]
  },
  {
   "cell_type": "code",
   "execution_count": null,
   "id": "a0418984",
   "metadata": {},
   "outputs": [],
   "source": [
    "Map = geemap.Map()\n",
    "image = ee.Image(\"USGS/SRTMGL1_003\")\n",
    "hillshade = ee.Terrain.hillshade(image)\n",
    "Map.addLayer(hillshade, {}, \"Hillshade\")\n",
    "Map"
   ]
  },
  {
   "cell_type": "code",
   "execution_count": null,
   "id": "e89072db",
   "metadata": {},
   "outputs": [],
   "source": [
    "vis_params = {'min': 0, \"max\": 5000, \"palette\": cm.palettes.dem}\n",
    "Map.addLayer(image, vis_params, \"dem\", True, 0.5)\n",
    "Map.add_colorbar(vis_params, label='Elevation (m)')"
   ]
  },
  {
   "cell_type": "code",
   "execution_count": null,
   "id": "49e0a18f",
   "metadata": {},
   "outputs": [],
   "source": [
    "contours = geemap.create_contours(image, 0, 5000, 100, region=None)\n",
    "Map.addLayer(contours, {'palette': 'black'}, 'contours')\n",
    "Map.setCenter(-119.3678, 37.1671, 12)"
   ]
  },
  {
   "cell_type": "markdown",
   "id": "bf0c72ee",
   "metadata": {},
   "source": [
    "## Visualing NetCDF data"
   ]
  },
  {
   "cell_type": "code",
   "execution_count": null,
   "id": "a8b0a82f",
   "metadata": {},
   "outputs": [],
   "source": [
    "url = 'https://github.com/giswqs/geemap/raw/master/examples/data/wind_global.nc'\n",
    "filename = 'wind_global.nc'\n",
    "geemap.download_file(url, output=filename)"
   ]
  },
  {
   "cell_type": "code",
   "execution_count": null,
   "id": "18d6ac8e",
   "metadata": {},
   "outputs": [],
   "source": [
    "data = geemap.read_netcdf(filename)\n",
    "data"
   ]
  },
  {
   "cell_type": "code",
   "execution_count": null,
   "id": "c578ab8b",
   "metadata": {},
   "outputs": [],
   "source": [
    "Map = geemap.Map(layers_control=True)\n",
    "Map.add_netcdf(\n",
    "    filename,\n",
    "    variables=['v_wind'],\n",
    "    palette='coolwarm',\n",
    "    shift_lon=True,\n",
    "    layer_name='v_wind',\n",
    ")\n",
    "\n",
    "geojson = 'https://github.com/giswqs/geemap/raw/master/examples/data/countries.geojson'\n",
    "Map.add_geojson(geojson, layer_name='Countries')\n",
    "Map"
   ]
  },
  {
   "cell_type": "code",
   "execution_count": null,
   "id": "f3916f70",
   "metadata": {},
   "outputs": [],
   "source": [
    "Map = geemap.Map(layers_control=True)\n",
    "Map.add_basemap('CartoDB.DarkMatter')\n",
    "Map.add_velocity(filename, zonal_speed='u_wind', meridional_speed='v_wind')\n",
    "Map"
   ]
  },
  {
   "cell_type": "markdown",
   "id": "057fe584",
   "metadata": {},
   "source": [
    "## Visualizing LiDAR data"
   ]
  },
  {
   "cell_type": "code",
   "execution_count": null,
   "id": "abdfc086",
   "metadata": {},
   "outputs": [],
   "source": [
    "import os\n",
    "\n",
    "url = 'https://drive.google.com/file/d/1H_X1190vL63BoFYa_cVBDxtIa8rG-Usb/view?usp=sharing'\n",
    "filename = 'madison.las'\n",
    "\n",
    "if not os.path.exists(filename):\n",
    "    geemap.download_file(url, 'madison.zip', unzip=True)"
   ]
  },
  {
   "cell_type": "code",
   "execution_count": null,
   "id": "fd088516",
   "metadata": {},
   "outputs": [],
   "source": [
    "las = geemap.read_lidar(filename)"
   ]
  },
  {
   "cell_type": "code",
   "execution_count": null,
   "id": "77f6192a",
   "metadata": {},
   "outputs": [],
   "source": [
    "las.header"
   ]
  },
  {
   "cell_type": "code",
   "execution_count": null,
   "id": "7a72ab5c",
   "metadata": {},
   "outputs": [],
   "source": [
    "las.header.point_count"
   ]
  },
  {
   "cell_type": "code",
   "execution_count": null,
   "id": "289b8aa6",
   "metadata": {},
   "outputs": [],
   "source": [
    "list(las.point_format.dimension_names)"
   ]
  },
  {
   "cell_type": "code",
   "execution_count": null,
   "id": "da6a4119",
   "metadata": {},
   "outputs": [],
   "source": [
    "las.X"
   ]
  },
  {
   "cell_type": "code",
   "execution_count": null,
   "id": "1f92e634",
   "metadata": {},
   "outputs": [],
   "source": [
    "las.intensity"
   ]
  },
  {
   "cell_type": "code",
   "execution_count": null,
   "id": "20301984",
   "metadata": {},
   "outputs": [],
   "source": [
    "geemap.view_lidar(filename, cmap='terrain', backend='pyvista')"
   ]
  },
  {
   "cell_type": "code",
   "execution_count": null,
   "id": "87b8c062",
   "metadata": {},
   "outputs": [],
   "source": [
    "geemap.view_lidar(filename, backend='ipygany', background='white')"
   ]
  },
  {
   "cell_type": "markdown",
   "id": "0b0a81d2",
   "metadata": {},
   "source": [
    "## Visualizing raster data in 3D"
   ]
  },
  {
   "cell_type": "code",
   "execution_count": null,
   "id": "eb4b42cc",
   "metadata": {},
   "outputs": [],
   "source": [
    "url = 'https://github.com/giswqs/data/raw/main/raster/srtm90.tif'\n",
    "image = 'srtm90.tif'\n",
    "if not os.path.exists(image):\n",
    "    geemap.download_file(url, image)"
   ]
  },
  {
   "cell_type": "code",
   "execution_count": null,
   "id": "456f94ca",
   "metadata": {},
   "outputs": [],
   "source": [
    "geemap.plot_raster(image, cmap='terrain', figsize=(15, 10))"
   ]
  },
  {
   "cell_type": "code",
   "execution_count": null,
   "id": "53a2c601",
   "metadata": {},
   "outputs": [],
   "source": [
    "geemap.plot_raster_3d('srtm90.tif', factor=2, cmap='terrain', background='gray')"
   ]
  },
  {
   "cell_type": "markdown",
   "id": "71e53449",
   "metadata": {},
   "source": [
    "## Creating choropleth maps"
   ]
  },
  {
   "cell_type": "code",
   "execution_count": null,
   "id": "61e23094",
   "metadata": {},
   "outputs": [],
   "source": [
    "data = geemap.examples.datasets.countries_geojson"
   ]
  },
  {
   "cell_type": "code",
   "execution_count": null,
   "id": "d836c321",
   "metadata": {},
   "outputs": [],
   "source": [
    "Map = geemap.Map()\n",
    "Map.add_data(\n",
    "    data, column='POP_EST', scheme='Quantiles', cmap='Blues', legend_title='Population'\n",
    ")\n",
    "Map"
   ]
  },
  {
   "cell_type": "code",
   "execution_count": null,
   "id": "e23b1892",
   "metadata": {},
   "outputs": [],
   "source": [
    "Map = geemap.Map()\n",
    "Map.add_data(\n",
    "    data,\n",
    "    column='POP_EST',\n",
    "    scheme='EqualInterval',\n",
    "    cmap='Blues',\n",
    "    legend_title='Population',\n",
    ")\n",
    "Map"
   ]
  },
  {
   "cell_type": "code",
   "execution_count": null,
   "id": "8ef86b55",
   "metadata": {},
   "outputs": [],
   "source": [
    "Map = geemap.Map()\n",
    "Map.add_data(\n",
    "    data,\n",
    "    column='POP_EST',\n",
    "    scheme='FisherJenks',\n",
    "    cmap='Blues',\n",
    "    legend_title='Population',\n",
    ")\n",
    "Map"
   ]
  },
  {
   "cell_type": "code",
   "execution_count": null,
   "id": "9d60e255",
   "metadata": {},
   "outputs": [],
   "source": [
    "Map = geemap.Map()\n",
    "Map.add_data(\n",
    "    data,\n",
    "    column='POP_EST',\n",
    "    scheme='JenksCaspall',\n",
    "    cmap='Blues',\n",
    "    legend_title='Population',\n",
    ")\n",
    "Map"
   ]
  },
  {
   "cell_type": "markdown",
   "id": "4d637de2",
   "metadata": {},
   "source": [
    "## Summary\n",
    "\n",
    "## References"
   ]
  }
 ],
 "metadata": {
  "jupytext": {
   "text_representation": {
    "extension": ".md",
    "format_name": "myst",
    "format_version": 0.13,
    "jupytext_version": "1.11.5"
   }
  },
  "kernelspec": {
   "display_name": "Python 3",
   "language": "python",
   "name": "python3"
  },
  "source_map": [
   12,
   23,
   44,
   49,
   51,
   55,
   78,
   82,
   86,
   104,
   110,
   122,
   131,
   135,
   148,
   152,
   159,
   163,
   170,
   176,
   182,
   186,
   196,
   200,
   213,
   245,
   249,
   276,
   280,
   294,
   298,
   304,
   314,
   318,
   326,
   338,
   342,
   348,
   360,
   364,
   372,
   376,
   382,
   389,
   393,
   401,
   405,
   411,
   415,
   428,
   432,
   467,
   473,
   481,
   492,
   496,
   500,
   505,
   510,
   515,
   520,
   526,
   560,
   564,
   583,
   587,
   602,
   606,
   625,
   631,
   640,
   644,
   648,
   656,
   662,
   666,
   670,
   676,
   681,
   696,
   703,
   707,
   717,
   721,
   725,
   729,
   733,
   737,
   741,
   745,
   747,
   751,
   758,
   762,
   764,
   768,
   772,
   780,
   792,
   804,
   816
  ]
 },
 "nbformat": 4,
 "nbformat_minor": 5
}